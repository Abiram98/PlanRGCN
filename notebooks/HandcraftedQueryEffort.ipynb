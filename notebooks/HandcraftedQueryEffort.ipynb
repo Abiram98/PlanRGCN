{
 "cells": [
  {
   "cell_type": "markdown",
   "id": "1a3199be-5879-458b-9d9b-5e5db68d4d00",
   "metadata": {},
   "source": [
    "The idea is that we sample existing queries and sample entities and relation with similar characteristics in the dataset that is not found in training set."
   ]
  },
  {
   "cell_type": "code",
   "execution_count": 1,
   "id": "330b2c14-9444-4b3d-a1c5-f4eb544cfa86",
   "metadata": {},
   "outputs": [],
   "source": [
    "import pandas as pd\n",
    "import pathlib\n",
    "from inductive_query.utils import UnseenQueryExtractor,CompletelyUnseenQueryExtractor\n",
    "import os\n",
    "import json, json5\n",
    "data_path = '/data/PlanRGCN_ent_rel_relFreq'"
   ]
  },
  {
   "cell_type": "code",
   "execution_count": 2,
   "id": "3f78992b-d5c6-4cd0-92e1-e62a0bcac27b",
   "metadata": {},
   "outputs": [],
   "source": [
    "\n",
    "dataset_path='/data/wikidata_3_class_full'\n",
    "#ext = UnseenQueryExtractor(dataset_path)\n",
    "com = CompletelyUnseenQueryExtractor(dataset_path)"
   ]
  },
  {
   "cell_type": "code",
   "execution_count": 3,
   "id": "1eccd203-1dd4-4fc7-9a33-0447c786473e",
   "metadata": {},
   "outputs": [],
   "source": [
    "\n",
    "path = '/data/wikidata_3_class_full'\n",
    "rel_freq_p = '/data/metaKGStat/wikidata'\n",
    "split_path = f\"{path}/test_sampled.tsv\"\n",
    "name_dict = {\n",
    "    0: '0s to 1s',\n",
    "    1: '1s to 10s',\n",
    "    2: '$>$ 10s',\n",
    "}"
   ]
  },
  {
   "cell_type": "code",
   "execution_count": 4,
   "id": "0ea356fe-ffbd-477f-b581-33f855b71d6b",
   "metadata": {},
   "outputs": [],
   "source": [
    "def load_freq_dict(metaKG_dir_path, sort_descending = False):\n",
    "    pred_freq_path = os.path.join(metaKG_dir_path, 'predicate/pred_stat/batches_response_stats/freq')\n",
    "    pred_freq = {}\n",
    "    freq_pred = {}\n",
    "    for i in os.listdir(pred_freq_path):\n",
    "        with open(os.path.join(pred_freq_path, i),'r') as f:\n",
    "            try:\n",
    "                data = json.load(f)\n",
    "            except:\n",
    "                try:\n",
    "                    data = json5.load(f)\n",
    "                except:\n",
    "                    continue\n",
    "            data = data['results']['bindings']\n",
    "            for v in data:\n",
    "                pred_freq[v['p1']['value']] = int(v['triples']['value'])\n",
    "                try:\n",
    "                    freq_pred[int(v['triples']['value'])].append(v['p1']['value'])\n",
    "                except:\n",
    "                    freq_pred[int(v['triples']['value'])] = [v['p1']['value']]\n",
    "    \n",
    "    if sort_descending:\n",
    "        pred_freq_keys = sorted(pred_freq.keys(), key=lambda x: pred_freq[x], reverse=True)\n",
    "        pred_freq2 = {}\n",
    "        for i in pred_freq_keys:\n",
    "            pred_freq2[i] = pred_freq[i]\n",
    "        pred_freq = pred_freq2\n",
    "    return pred_freq\n",
    "\n",
    "def remove_rels_freq_dict(freq_dict: dict, rels: list):\n",
    "    for r in rels:\n",
    "        try:\n",
    "            del freq_dict[r]\n",
    "        except KeyError:\n",
    "            continue\n",
    "    return freq_dict"
   ]
  },
  {
   "cell_type": "code",
   "execution_count": 5,
   "id": "f74b36c1-26ed-4251-b996-f959c1fbdd03",
   "metadata": {},
   "outputs": [],
   "source": [
    "rel_freq = load_freq_dict(rel_freq_p,sort_descending = True)"
   ]
  },
  {
   "cell_type": "code",
   "execution_count": 6,
   "id": "7ef8d1ad-4e9f-4fa2-8e1e-1147cfc13097",
   "metadata": {},
   "outputs": [],
   "source": [
    "def load_ent_pred_ext(path):\n",
    "    ext = UnseenQueryExtractor(path)\n",
    "    ext.set_train_pred_ents()\n",
    "    ext.set_train_pred_queryIDs()\n",
    "    ext.set_train_ent_queryIDs()\n",
    "    ext.set_val_pred_ents()\n",
    "    ext.set_val_pred_queryIDs()\n",
    "    ext.set_val_ent_queryIDs()\n",
    "    \n",
    "    ext.set_test_pred_ents()\n",
    "    ext.set_test_pred_queryIDs()\n",
    "    ext.set_test_ent_queryIDs()\n",
    "    return ext\n",
    "    \n",
    "ext = load_ent_pred_ext(path)"
   ]
  },
  {
   "cell_type": "code",
   "execution_count": 7,
   "id": "15192189-8a94-4ca9-9294-39ad7b0063ae",
   "metadata": {},
   "outputs": [],
   "source": [
    "\n",
    "def save_train_ents_rels(ext, path,  rel_freq,dir_name='wikidata'):\n",
    "    ext.train_ents\n",
    "    sorted_train_ents = sorted(ext.train_ents.keys(), key=lambda x: len(ext.train_ents[x]), reverse=True)\n",
    "    sorted_train_preds = sorted(ext.train_preds.keys(), key=lambda x: len(ext.train_preds[x]), reverse=True)\n",
    "    \n",
    "    sorted_val_ents = sorted(ext.val_ents.keys(), key=lambda x: len(ext.val_ents[x]), reverse=True)\n",
    "    sorted_val_preds = sorted(ext.val_preds.keys(), key=lambda x: len(ext.val_preds[x]), reverse=True)\n",
    "\n",
    "    rel_freq = remove_rels_freq_dict(rel_freq, sorted_train_preds)\n",
    "    rel_freq = remove_rels_freq_dict(rel_freq, sorted_val_preds)\n",
    "    \n",
    "    dir_path = os.path.join(path, dir_name)\n",
    "    os.makedirs(dir_path, exist_ok=True)\n",
    "    for p in ['train_ents.json','train_preds.json', 'val_ents.json','val_preds.json', 'rels_sorted.json']:\n",
    "        f_p = os.path.join(dir_path, p)\n",
    "        with open(f_p, 'w') as ffp:\n",
    "            if 'train' in p:\n",
    "                if 'ents' in p:\n",
    "                    json.dump(sorted_train_ents, ffp)\n",
    "                elif 'pred' in p:\n",
    "                    json.dump(sorted_train_preds, ffp)\n",
    "            elif 'val' in p:\n",
    "                if 'ents' in p:\n",
    "                    json.dump(sorted_val_ents, ffp)\n",
    "                    print(f_p)\n",
    "                elif 'pred' in p:\n",
    "                    json.dump(sorted_val_preds, ffp)\n",
    "            elif 'rels_sorted' in p:\n",
    "                json.dump(rel_freq, ffp)\n",
    "    "
   ]
  },
  {
   "cell_type": "code",
   "execution_count": 8,
   "id": "9d075ea3-abd2-49d3-9d80-2c1f9cc32555",
   "metadata": {},
   "outputs": [
    {
     "name": "stdout",
     "output_type": "stream",
     "text": [
      "/data/PlanRGCN_ent_rel_relFreq/wikidata/val_ents.json\n"
     ]
    }
   ],
   "source": [
    "save_train_ents_rels(ext, data_path,rel_freq, dir_name='wikidata')"
   ]
  },
  {
   "cell_type": "code",
   "execution_count": 9,
   "id": "78d3eee3-fdff-4d7d-8e56-7fcabb3ba6da",
   "metadata": {},
   "outputs": [],
   "source": [
    "from inductive_query.utils import UnseenQueryExtractor,CompletelyUnseenQueryExtractor\n",
    "dataset_path='/data/DBpedia_3_class_full'\n",
    "rel_freq_p = '/data/metaKGStat/dbpedia'\n",
    "#ext = UnseenQueryExtractor(dataset_path)\n",
    "com = CompletelyUnseenQueryExtractor(dataset_path)"
   ]
  },
  {
   "cell_type": "code",
   "execution_count": 10,
   "id": "84c39bf5-b9a1-444c-8cc5-d45320587459",
   "metadata": {},
   "outputs": [],
   "source": [
    "import pathlib\n",
    "path = '/data/DBpedia_3_class_full'\n",
    "split_path = f\"{path}/test_sampled.tsv\"\n",
    "name_dict = {\n",
    "    0: '0s to 1s',\n",
    "    1: '1s to 10s',\n",
    "    2: '$>$ 10s',\n",
    "}\n",
    "ext = load_ent_pred_ext(path)\n",
    "rel_freq = load_freq_dict(rel_freq_p,sort_descending = True)"
   ]
  },
  {
   "cell_type": "code",
   "execution_count": 11,
   "id": "f406ed3a-fc0f-4cd1-967f-eb18e51488f7",
   "metadata": {},
   "outputs": [
    {
     "name": "stdout",
     "output_type": "stream",
     "text": [
      "/data/PlanRGCN_ent_rel_relFreq/DBpedia/val_ents.json\n"
     ]
    }
   ],
   "source": [
    "save_train_ents_rels(ext, data_path, rel_freq, dir_name='DBpedia')"
   ]
  }
 ],
 "metadata": {
  "kernelspec": {
   "display_name": "Python 3 (ipykernel)",
   "language": "python",
   "name": "python3"
  },
  "language_info": {
   "codemirror_mode": {
    "name": "ipython",
    "version": 3
   },
   "file_extension": ".py",
   "mimetype": "text/x-python",
   "name": "python",
   "nbconvert_exporter": "python",
   "pygments_lexer": "ipython3",
   "version": "3.10.12"
  }
 },
 "nbformat": 4,
 "nbformat_minor": 5
}
