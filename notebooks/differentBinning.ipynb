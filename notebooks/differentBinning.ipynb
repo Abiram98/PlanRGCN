{
 "cells": [
  {
   "cell_type": "code",
   "execution_count": 1,
   "metadata": {
    "collapsed": true,
    "ExecuteTime": {
     "start_time": "2024-08-22T16:05:42.202191Z",
     "end_time": "2024-08-22T16:05:42.814606Z"
    }
   },
   "outputs": [],
   "source": [
    "import scipy\n",
    "import pandas as pd\n",
    "import numpy as np"
   ]
  },
  {
   "cell_type": "code",
   "execution_count": 2,
   "outputs": [],
   "source": [
    "dbepdia = pd.read_csv('/data/DBpedia_3_class_full/all.tsv', sep='\\t')\n",
    "wikidata = pd.read_csv('/data/wikidata_3_class_full/all.tsv', sep='\\t')"
   ],
   "metadata": {
    "collapsed": false,
    "ExecuteTime": {
     "start_time": "2024-08-22T16:07:34.657842Z",
     "end_time": "2024-08-22T16:07:35.660059Z"
    }
   }
  },
  {
   "cell_type": "code",
   "execution_count": 4,
   "outputs": [
    {
     "data": {
      "text/plain": "                                                      id  \\\n0      http://lsq.aksw.org/lsqQuery-cMojQbi34ctqDovih...   \n1      http://lsq.aksw.org/lsqQuery-fCyu4WsbtbD8ISzBN...   \n2      http://lsq.aksw.org/lsqQuery-HyyXZkhGvOBg4VUpK...   \n3      http://lsq.aksw.org/lsqQuery-S0g2dVkDVwtyR7_nj...   \n4      http://lsq.aksw.org/lsqQuery-BUjznweAPS_rzY7Lp...   \n...                                                  ...   \n18078  http://lsq.aksw.org/lsqQuery-nwTfhUk2DQZKPGSPw...   \n18079  http://lsq.aksw.org/lsqQuery-AYwyZz_hBVu3oCLUF...   \n18080  http://lsq.aksw.org/lsqQuery-MbVji3flufA2-O25J...   \n18081  http://lsq.aksw.org/lsqQuery-RK_gK6vipuC9f2HuJ...   \n18082  http://lsq.aksw.org/lsqQuery-8NLYdBaI1dbSgycEv...   \n\n                                             queryString  \\\n0      PREFIX rdf: <http://www.w3.org/1999/02/22-rdf-...   \n1      PREFIX xsd: <http://www.w3.org/2001/XMLSchema#...   \n2      PREFIX xsd: <http://www.w3.org/2001/XMLSchema#...   \n3      PREFIX xsd: <http://www.w3.org/2001/XMLSchema#...   \n4      PREFIX dbpr: <http://dbpedia.org/resource/> PR...   \n...                                                  ...   \n18078  SELECT ?redirected WHERE { <http://dbpedia.org...   \n18079  SELECT ?redirected WHERE { <http://dbpedia.org...   \n18080  PREFIX planet: <http://dbpedia.org/> PREFIX db...   \n18081  SELECT ?redirected WHERE { <http://dbpedia.org...   \n18082  PREFIX planet: <http://dbpedia.org/> PREFIX db...   \n\n                                          query_string_0  latency_0  \\\n0      PREFIX rdf: <http://www.w3.org/1999/02/22-rdf-...   0.039463   \n1      PREFIX xsd: <http://www.w3.org/2001/XMLSchema#...   3.833987   \n2      PREFIX xsd: <http://www.w3.org/2001/XMLSchema#...   0.945466   \n3      PREFIX xsd: <http://www.w3.org/2001/XMLSchema#...   1.462394   \n4      PREFIX dbpr: <http://dbpedia.org/resource/> PR...   0.021661   \n...                                                  ...        ...   \n18078  SELECT ?redirected WHERE { <http://dbpedia.org...   0.004066   \n18079  SELECT ?redirected WHERE { <http://dbpedia.org...   0.003859   \n18080  PREFIX planet: <http://dbpedia.org/> PREFIX db...   0.004743   \n18081  SELECT ?redirected WHERE { <http://dbpedia.org...   0.004685   \n18082  PREFIX planet: <http://dbpedia.org/> PREFIX db...   0.003977   \n\n       resultset_0                                     query_string_1  \\\n0              0.0  PREFIX rdf: <http://www.w3.org/1999/02/22-rdf-...   \n1              NaN  PREFIX xsd: <http://www.w3.org/2001/XMLSchema#...   \n2              NaN  PREFIX xsd: <http://www.w3.org/2001/XMLSchema#...   \n3              NaN  PREFIX xsd: <http://www.w3.org/2001/XMLSchema#...   \n4              0.0  PREFIX dbpr: <http://dbpedia.org/resource/> PR...   \n...            ...                                                ...   \n18078          0.0  SELECT ?redirected WHERE { <http://dbpedia.org...   \n18079          0.0  SELECT ?redirected WHERE { <http://dbpedia.org...   \n18080          0.0  PREFIX planet: <http://dbpedia.org/> PREFIX db...   \n18081          0.0  SELECT ?redirected WHERE { <http://dbpedia.org...   \n18082          0.0  PREFIX planet: <http://dbpedia.org/> PREFIX db...   \n\n       latency_1  resultset_1  \\\n0       0.011020          0.0   \n1       3.727595          NaN   \n2       0.876621          NaN   \n3       1.355471          NaN   \n4       0.034688          0.0   \n...          ...          ...   \n18078   0.002405          0.0   \n18079   0.003280          0.0   \n18080   0.002488          0.0   \n18081   0.003056          0.0   \n18082   0.002574          0.0   \n\n                                          query_string_2  latency_2  ...  \\\n0      PREFIX rdf: <http://www.w3.org/1999/02/22-rdf-...   0.010479  ...   \n1      PREFIX xsd: <http://www.w3.org/2001/XMLSchema#...   3.724324  ...   \n2      PREFIX xsd: <http://www.w3.org/2001/XMLSchema#...   1.062303  ...   \n3      PREFIX xsd: <http://www.w3.org/2001/XMLSchema#...   1.153743  ...   \n4      PREFIX dbpr: <http://dbpedia.org/resource/> PR...   0.018396  ...   \n...                                                  ...        ...  ...   \n18078  SELECT ?redirected WHERE { <http://dbpedia.org...   0.003040  ...   \n18079  SELECT ?redirected WHERE { <http://dbpedia.org...   0.003085  ...   \n18080  PREFIX planet: <http://dbpedia.org/> PREFIX db...   0.002415  ...   \n18081  SELECT ?redirected WHERE { <http://dbpedia.org...   0.002386  ...   \n18082  PREFIX planet: <http://dbpedia.org/> PREFIX db...   0.003895  ...   \n\n       Alternative  ComplexPath  MoreThanOnePredicate  \\\n0                0            0                     0   \n1                0            0                     0   \n2                0            0                     0   \n3                0            0                     0   \n4                0            0                     0   \n...            ...          ...                   ...   \n18078            0            0                     0   \n18079            0            0                     0   \n18080            0            0                     0   \n18081            0            0                     0   \n18082            0            0                     0   \n\n                                                 queryID  Queries with 1 TP  \\\n0      http://lsq.aksw.org/lsqQuery-cMojQbi34ctqDovih...                  1   \n1      http://lsq.aksw.org/lsqQuery-fCyu4WsbtbD8ISzBN...                  0   \n2      http://lsq.aksw.org/lsqQuery-HyyXZkhGvOBg4VUpK...                  1   \n3      http://lsq.aksw.org/lsqQuery-S0g2dVkDVwtyR7_nj...                  0   \n4      http://lsq.aksw.org/lsqQuery-BUjznweAPS_rzY7Lp...                  1   \n...                                                  ...                ...   \n18078  http://lsq.aksw.org/lsqQuery-nwTfhUk2DQZKPGSPw...                  1   \n18079  http://lsq.aksw.org/lsqQuery-AYwyZz_hBVu3oCLUF...                  1   \n18080  http://lsq.aksw.org/lsqQuery-MbVji3flufA2-O25J...                  1   \n18081  http://lsq.aksw.org/lsqQuery-RK_gK6vipuC9f2HuJ...                  1   \n18082  http://lsq.aksw.org/lsqQuery-8NLYdBaI1dbSgycEv...                  1   \n\n       Queries with 2 TP  Queries with more TP  S-P Concrete  P-O Concrete  \\\n0                      0                     0             0             0   \n1                      0                     1             0             0   \n2                      0                     0             0             0   \n3                      0                     1             0             0   \n4                      0                     0             0             0   \n...                  ...                   ...           ...           ...   \n18078                  0                     0             0             0   \n18079                  0                     0             0             0   \n18080                  0                     0             0             0   \n18081                  0                     0             0             0   \n18082                  0                     0             0             0   \n\n       S-O Concrete  \n0                 0  \n1                 0  \n2                 0  \n3                 0  \n4                 0  \n...             ...  \n18078             0  \n18079             0  \n18080             0  \n18081             0  \n18082             0  \n\n[18083 rows x 42 columns]",
      "text/html": "<div>\n<style scoped>\n    .dataframe tbody tr th:only-of-type {\n        vertical-align: middle;\n    }\n\n    .dataframe tbody tr th {\n        vertical-align: top;\n    }\n\n    .dataframe thead th {\n        text-align: right;\n    }\n</style>\n<table border=\"1\" class=\"dataframe\">\n  <thead>\n    <tr style=\"text-align: right;\">\n      <th></th>\n      <th>id</th>\n      <th>queryString</th>\n      <th>query_string_0</th>\n      <th>latency_0</th>\n      <th>resultset_0</th>\n      <th>query_string_1</th>\n      <th>latency_1</th>\n      <th>resultset_1</th>\n      <th>query_string_2</th>\n      <th>latency_2</th>\n      <th>...</th>\n      <th>Alternative</th>\n      <th>ComplexPath</th>\n      <th>MoreThanOnePredicate</th>\n      <th>queryID</th>\n      <th>Queries with 1 TP</th>\n      <th>Queries with 2 TP</th>\n      <th>Queries with more TP</th>\n      <th>S-P Concrete</th>\n      <th>P-O Concrete</th>\n      <th>S-O Concrete</th>\n    </tr>\n  </thead>\n  <tbody>\n    <tr>\n      <th>0</th>\n      <td>http://lsq.aksw.org/lsqQuery-cMojQbi34ctqDovih...</td>\n      <td>PREFIX rdf: &lt;http://www.w3.org/1999/02/22-rdf-...</td>\n      <td>PREFIX rdf: &lt;http://www.w3.org/1999/02/22-rdf-...</td>\n      <td>0.039463</td>\n      <td>0.0</td>\n      <td>PREFIX rdf: &lt;http://www.w3.org/1999/02/22-rdf-...</td>\n      <td>0.011020</td>\n      <td>0.0</td>\n      <td>PREFIX rdf: &lt;http://www.w3.org/1999/02/22-rdf-...</td>\n      <td>0.010479</td>\n      <td>...</td>\n      <td>0</td>\n      <td>0</td>\n      <td>0</td>\n      <td>http://lsq.aksw.org/lsqQuery-cMojQbi34ctqDovih...</td>\n      <td>1</td>\n      <td>0</td>\n      <td>0</td>\n      <td>0</td>\n      <td>0</td>\n      <td>0</td>\n    </tr>\n    <tr>\n      <th>1</th>\n      <td>http://lsq.aksw.org/lsqQuery-fCyu4WsbtbD8ISzBN...</td>\n      <td>PREFIX xsd: &lt;http://www.w3.org/2001/XMLSchema#...</td>\n      <td>PREFIX xsd: &lt;http://www.w3.org/2001/XMLSchema#...</td>\n      <td>3.833987</td>\n      <td>NaN</td>\n      <td>PREFIX xsd: &lt;http://www.w3.org/2001/XMLSchema#...</td>\n      <td>3.727595</td>\n      <td>NaN</td>\n      <td>PREFIX xsd: &lt;http://www.w3.org/2001/XMLSchema#...</td>\n      <td>3.724324</td>\n      <td>...</td>\n      <td>0</td>\n      <td>0</td>\n      <td>0</td>\n      <td>http://lsq.aksw.org/lsqQuery-fCyu4WsbtbD8ISzBN...</td>\n      <td>0</td>\n      <td>0</td>\n      <td>1</td>\n      <td>0</td>\n      <td>0</td>\n      <td>0</td>\n    </tr>\n    <tr>\n      <th>2</th>\n      <td>http://lsq.aksw.org/lsqQuery-HyyXZkhGvOBg4VUpK...</td>\n      <td>PREFIX xsd: &lt;http://www.w3.org/2001/XMLSchema#...</td>\n      <td>PREFIX xsd: &lt;http://www.w3.org/2001/XMLSchema#...</td>\n      <td>0.945466</td>\n      <td>NaN</td>\n      <td>PREFIX xsd: &lt;http://www.w3.org/2001/XMLSchema#...</td>\n      <td>0.876621</td>\n      <td>NaN</td>\n      <td>PREFIX xsd: &lt;http://www.w3.org/2001/XMLSchema#...</td>\n      <td>1.062303</td>\n      <td>...</td>\n      <td>0</td>\n      <td>0</td>\n      <td>0</td>\n      <td>http://lsq.aksw.org/lsqQuery-HyyXZkhGvOBg4VUpK...</td>\n      <td>1</td>\n      <td>0</td>\n      <td>0</td>\n      <td>0</td>\n      <td>0</td>\n      <td>0</td>\n    </tr>\n    <tr>\n      <th>3</th>\n      <td>http://lsq.aksw.org/lsqQuery-S0g2dVkDVwtyR7_nj...</td>\n      <td>PREFIX xsd: &lt;http://www.w3.org/2001/XMLSchema#...</td>\n      <td>PREFIX xsd: &lt;http://www.w3.org/2001/XMLSchema#...</td>\n      <td>1.462394</td>\n      <td>NaN</td>\n      <td>PREFIX xsd: &lt;http://www.w3.org/2001/XMLSchema#...</td>\n      <td>1.355471</td>\n      <td>NaN</td>\n      <td>PREFIX xsd: &lt;http://www.w3.org/2001/XMLSchema#...</td>\n      <td>1.153743</td>\n      <td>...</td>\n      <td>0</td>\n      <td>0</td>\n      <td>0</td>\n      <td>http://lsq.aksw.org/lsqQuery-S0g2dVkDVwtyR7_nj...</td>\n      <td>0</td>\n      <td>0</td>\n      <td>1</td>\n      <td>0</td>\n      <td>0</td>\n      <td>0</td>\n    </tr>\n    <tr>\n      <th>4</th>\n      <td>http://lsq.aksw.org/lsqQuery-BUjznweAPS_rzY7Lp...</td>\n      <td>PREFIX dbpr: &lt;http://dbpedia.org/resource/&gt; PR...</td>\n      <td>PREFIX dbpr: &lt;http://dbpedia.org/resource/&gt; PR...</td>\n      <td>0.021661</td>\n      <td>0.0</td>\n      <td>PREFIX dbpr: &lt;http://dbpedia.org/resource/&gt; PR...</td>\n      <td>0.034688</td>\n      <td>0.0</td>\n      <td>PREFIX dbpr: &lt;http://dbpedia.org/resource/&gt; PR...</td>\n      <td>0.018396</td>\n      <td>...</td>\n      <td>0</td>\n      <td>0</td>\n      <td>0</td>\n      <td>http://lsq.aksw.org/lsqQuery-BUjznweAPS_rzY7Lp...</td>\n      <td>1</td>\n      <td>0</td>\n      <td>0</td>\n      <td>0</td>\n      <td>0</td>\n      <td>0</td>\n    </tr>\n    <tr>\n      <th>...</th>\n      <td>...</td>\n      <td>...</td>\n      <td>...</td>\n      <td>...</td>\n      <td>...</td>\n      <td>...</td>\n      <td>...</td>\n      <td>...</td>\n      <td>...</td>\n      <td>...</td>\n      <td>...</td>\n      <td>...</td>\n      <td>...</td>\n      <td>...</td>\n      <td>...</td>\n      <td>...</td>\n      <td>...</td>\n      <td>...</td>\n      <td>...</td>\n      <td>...</td>\n      <td>...</td>\n    </tr>\n    <tr>\n      <th>18078</th>\n      <td>http://lsq.aksw.org/lsqQuery-nwTfhUk2DQZKPGSPw...</td>\n      <td>SELECT ?redirected WHERE { &lt;http://dbpedia.org...</td>\n      <td>SELECT ?redirected WHERE { &lt;http://dbpedia.org...</td>\n      <td>0.004066</td>\n      <td>0.0</td>\n      <td>SELECT ?redirected WHERE { &lt;http://dbpedia.org...</td>\n      <td>0.002405</td>\n      <td>0.0</td>\n      <td>SELECT ?redirected WHERE { &lt;http://dbpedia.org...</td>\n      <td>0.003040</td>\n      <td>...</td>\n      <td>0</td>\n      <td>0</td>\n      <td>0</td>\n      <td>http://lsq.aksw.org/lsqQuery-nwTfhUk2DQZKPGSPw...</td>\n      <td>1</td>\n      <td>0</td>\n      <td>0</td>\n      <td>0</td>\n      <td>0</td>\n      <td>0</td>\n    </tr>\n    <tr>\n      <th>18079</th>\n      <td>http://lsq.aksw.org/lsqQuery-AYwyZz_hBVu3oCLUF...</td>\n      <td>SELECT ?redirected WHERE { &lt;http://dbpedia.org...</td>\n      <td>SELECT ?redirected WHERE { &lt;http://dbpedia.org...</td>\n      <td>0.003859</td>\n      <td>0.0</td>\n      <td>SELECT ?redirected WHERE { &lt;http://dbpedia.org...</td>\n      <td>0.003280</td>\n      <td>0.0</td>\n      <td>SELECT ?redirected WHERE { &lt;http://dbpedia.org...</td>\n      <td>0.003085</td>\n      <td>...</td>\n      <td>0</td>\n      <td>0</td>\n      <td>0</td>\n      <td>http://lsq.aksw.org/lsqQuery-AYwyZz_hBVu3oCLUF...</td>\n      <td>1</td>\n      <td>0</td>\n      <td>0</td>\n      <td>0</td>\n      <td>0</td>\n      <td>0</td>\n    </tr>\n    <tr>\n      <th>18080</th>\n      <td>http://lsq.aksw.org/lsqQuery-MbVji3flufA2-O25J...</td>\n      <td>PREFIX planet: &lt;http://dbpedia.org/&gt; PREFIX db...</td>\n      <td>PREFIX planet: &lt;http://dbpedia.org/&gt; PREFIX db...</td>\n      <td>0.004743</td>\n      <td>0.0</td>\n      <td>PREFIX planet: &lt;http://dbpedia.org/&gt; PREFIX db...</td>\n      <td>0.002488</td>\n      <td>0.0</td>\n      <td>PREFIX planet: &lt;http://dbpedia.org/&gt; PREFIX db...</td>\n      <td>0.002415</td>\n      <td>...</td>\n      <td>0</td>\n      <td>0</td>\n      <td>0</td>\n      <td>http://lsq.aksw.org/lsqQuery-MbVji3flufA2-O25J...</td>\n      <td>1</td>\n      <td>0</td>\n      <td>0</td>\n      <td>0</td>\n      <td>0</td>\n      <td>0</td>\n    </tr>\n    <tr>\n      <th>18081</th>\n      <td>http://lsq.aksw.org/lsqQuery-RK_gK6vipuC9f2HuJ...</td>\n      <td>SELECT ?redirected WHERE { &lt;http://dbpedia.org...</td>\n      <td>SELECT ?redirected WHERE { &lt;http://dbpedia.org...</td>\n      <td>0.004685</td>\n      <td>0.0</td>\n      <td>SELECT ?redirected WHERE { &lt;http://dbpedia.org...</td>\n      <td>0.003056</td>\n      <td>0.0</td>\n      <td>SELECT ?redirected WHERE { &lt;http://dbpedia.org...</td>\n      <td>0.002386</td>\n      <td>...</td>\n      <td>0</td>\n      <td>0</td>\n      <td>0</td>\n      <td>http://lsq.aksw.org/lsqQuery-RK_gK6vipuC9f2HuJ...</td>\n      <td>1</td>\n      <td>0</td>\n      <td>0</td>\n      <td>0</td>\n      <td>0</td>\n      <td>0</td>\n    </tr>\n    <tr>\n      <th>18082</th>\n      <td>http://lsq.aksw.org/lsqQuery-8NLYdBaI1dbSgycEv...</td>\n      <td>PREFIX planet: &lt;http://dbpedia.org/&gt; PREFIX db...</td>\n      <td>PREFIX planet: &lt;http://dbpedia.org/&gt; PREFIX db...</td>\n      <td>0.003977</td>\n      <td>0.0</td>\n      <td>PREFIX planet: &lt;http://dbpedia.org/&gt; PREFIX db...</td>\n      <td>0.002574</td>\n      <td>0.0</td>\n      <td>PREFIX planet: &lt;http://dbpedia.org/&gt; PREFIX db...</td>\n      <td>0.003895</td>\n      <td>...</td>\n      <td>0</td>\n      <td>0</td>\n      <td>0</td>\n      <td>http://lsq.aksw.org/lsqQuery-8NLYdBaI1dbSgycEv...</td>\n      <td>1</td>\n      <td>0</td>\n      <td>0</td>\n      <td>0</td>\n      <td>0</td>\n      <td>0</td>\n    </tr>\n  </tbody>\n</table>\n<p>18083 rows × 42 columns</p>\n</div>"
     },
     "execution_count": 4,
     "metadata": {},
     "output_type": "execute_result"
    }
   ],
   "source": [
    "dbepdia\n"
   ],
   "metadata": {
    "collapsed": false,
    "ExecuteTime": {
     "start_time": "2024-08-22T16:07:52.276217Z",
     "end_time": "2024-08-22T16:07:52.403082Z"
    }
   }
  },
  {
   "cell_type": "code",
   "execution_count": 5,
   "outputs": [],
   "source": [
    "num_bins = 3"
   ],
   "metadata": {
    "collapsed": false,
    "ExecuteTime": {
     "start_time": "2024-08-22T16:08:34.381237Z",
     "end_time": "2024-08-22T16:08:34.419116Z"
    }
   }
  },
  {
   "cell_type": "code",
   "execution_count": 6,
   "outputs": [
    {
     "name": "stdout",
     "output_type": "stream",
     "text": [
      "Bin Edges: [2.33282273e-03 3.00001555e+02 6.00000778e+02 9.00000000e+02]\n",
      "Histogram Counts: [17808    57   218]\n"
     ]
    },
    {
     "data": {
      "text/plain": "array([2.33282273e-03, 3.00001555e+02, 6.00000778e+02, 9.00000000e+02])"
     },
     "execution_count": 6,
     "metadata": {},
     "output_type": "execute_result"
    }
   ],
   "source": [
    "def equi_width_bins(lst, num_bins):\n",
    "    hist, bins = np.histogram(lst, bins=num_bins)\n",
    "    print(\"Bin Edges:\", bins)\n",
    "    print(\"Histogram Counts:\", hist)\n",
    "    return bins\n",
    "\n",
    "equi_width_bins(dbepdia['mean_latency'], num_bins)"
   ],
   "metadata": {
    "collapsed": false,
    "ExecuteTime": {
     "start_time": "2024-08-22T16:10:20.334517Z",
     "end_time": "2024-08-22T16:10:20.369493Z"
    }
   }
  },
  {
   "cell_type": "code",
   "execution_count": 8,
   "outputs": [
    {
     "name": "stdout",
     "output_type": "stream",
     "text": [
      "Bin Edges: [2.33282273e-03 3.00001555e+02 6.00000778e+02 9.00000000e+02]\n",
      "Binned Mean: [239812.86133971  23908.38442222 192677.34998773]\n"
     ]
    },
    {
     "data": {
      "text/plain": "array([2.33282273e-03, 3.00001555e+02, 6.00000778e+02, 9.00000000e+02])"
     },
     "execution_count": 8,
     "metadata": {},
     "output_type": "execute_result"
    }
   ],
   "source": [
    "\n",
    "def binned_mean(lst, num_bins):\n",
    "    result = scipy.stats.binned_statistic(lst, lst, bins=num_bins, statistic='mean')\n",
    "    #'sum for statistics another option\n",
    "    bin_edges = result.bin_edges\n",
    "    bin_means = result.statistic\n",
    "\n",
    "    # Print the result\n",
    "    print(\"Bin Edges:\", bin_edges)\n",
    "    print(\"Binned Mean:\", bin_means)\n",
    "    return bin_edges\n",
    "\n",
    "binned_mean(dbepdia['mean_latency'], num_bins)"
   ],
   "metadata": {
    "collapsed": false,
    "ExecuteTime": {
     "start_time": "2024-08-22T16:14:13.283046Z",
     "end_time": "2024-08-22T16:14:13.388568Z"
    }
   }
  },
  {
   "cell_type": "code",
   "execution_count": 9,
   "outputs": [
    {
     "name": "stdout",
     "output_type": "stream",
     "text": [
      "Bin Edges: [2.33282273e-03 3.00001555e+02 6.00000778e+02 9.00000000e+02]\n",
      "Histogram Counts: [3.28264966e-03 1.05071334e-05 4.01851767e-05]\n"
     ]
    },
    {
     "data": {
      "text/plain": "array([2.33282273e-03, 3.00001555e+02, 6.00000778e+02, 9.00000000e+02])"
     },
     "execution_count": 9,
     "metadata": {},
     "output_type": "execute_result"
    }
   ],
   "source": [
    "\n",
    "\n",
    "density(dbepdia['mean_latency'], num_bins)"
   ],
   "metadata": {
    "collapsed": false,
    "ExecuteTime": {
     "start_time": "2024-08-22T16:17:53.507226Z",
     "end_time": "2024-08-22T16:17:53.687774Z"
    }
   }
  },
  {
   "cell_type": "code",
   "execution_count": 12,
   "outputs": [
    {
     "name": "stdout",
     "output_type": "stream",
     "text": [
      "Bin Edges: [2.33282273e-03 1.49723140e-02 1.93104452e+00 9.00000000e+02]\n",
      "Frequency: [6028. 6028. 6027.]\n"
     ]
    },
    {
     "data": {
      "text/plain": "array([2.33282273e-03, 1.49723140e-02, 1.93104452e+00, 9.00000000e+02])"
     },
     "execution_count": 12,
     "metadata": {},
     "output_type": "execute_result"
    },
    {
     "data": {
      "text/plain": "<Figure size 640x480 with 1 Axes>",
      "image/png": "[encoded data removed]"
     },
     "metadata": {},
     "output_type": "display_data"
    }
   ],
   "source": [
    "import matplotlib.pyplot as plt\n",
    "def equalObs(x, nbin):\n",
    "    nlen = len(x)\n",
    "    return np.interp(np.linspace(0, nlen, nbin + 1),\n",
    "                     np.arange(nlen),\n",
    "                     np.sort(x))\n",
    "\n",
    "def equi_freq_bins(lst, num_bins):\n",
    "    n, bins, patches = plt.hist(lst, equalObs(lst, num_bins), edgecolor='black')\n",
    "    print(\"Bin Edges:\", bins)\n",
    "    print(\"Frequency:\", n)\n",
    "\n",
    "    return bins\n",
    "\n",
    "equi_freq_bins(dbepdia['mean_latency'], num_bins)"
   ],
   "metadata": {
    "collapsed": false,
    "ExecuteTime": {
     "start_time": "2024-08-22T16:29:48.526070Z",
     "end_time": "2024-08-22T16:29:48.695316Z"
    }
   }
  },
  {
   "cell_type": "code",
   "execution_count": null,
   "outputs": [],
   "source": [],
   "metadata": {
    "collapsed": false
   }
  }
 ],
 "metadata": {
  "kernelspec": {
   "display_name": "Python 3",
   "language": "python",
   "name": "python3"
  },
  "language_info": {
   "codemirror_mode": {
    "name": "ipython",
    "version": 2
   },
   "file_extension": ".py",
   "mimetype": "text/x-python",
   "name": "python",
   "nbconvert_exporter": "python",
   "pygments_lexer": "ipython2",
   "version": "2.7.6"
  }
 },
 "nbformat": 4,
 "nbformat_minor": 0
}
