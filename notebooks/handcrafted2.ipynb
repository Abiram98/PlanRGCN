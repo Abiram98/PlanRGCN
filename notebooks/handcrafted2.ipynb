{
 "cells": [
  {
   "cell_type": "markdown",
   "id": "142141f8-cddd-49cc-ae73-c0f28ca8b8e6",
   "metadata": {},
   "source": [
    "Unseen query to templatize:\n",
    "1.\n",
    "SELECT DISTINCT ?var1 WHERE { ?var2 ?var1 ?var3 . ?var2 <http://www.wikidata.org/prop/direct/P705> ?var4 . }\n",
    "\n",
    "2.\n",
    "PREFIX wdt: <http://www.wikidata.org/prop/direct/> SELECT ?var1 ?var2 WHERE { ?var1 wdt:P982 ?var2 }\n",
    "\n",
    "3.\n",
    "SELECT DISTINCT ?var1 WHERE { ?var2 ?var1 ?var3 . ?var2 <http://www.wikidata.org/prop/direct/P682> ?var4 . }\n",
    "\n",
    "4.\n",
    "PREFIX wdt: <http://www.wikidata.org/prop/direct/> SELECT * WHERE { ?var1 wdt:P3230 ?var2 }\n",
    "\n",
    "5.\n",
    "SELECT * WHERE { ?var1 ?var2 ?var3 . FILTER ( ( REGEX ( ?var3 , \"caledfwlch\", \"i\" ) ) ) . } \n",
    "Also with \"P1559\"\n",
    "\n",
    "6.\n",
    "SELECT ?var1 ?var2 ?var3 WHERE { ?var1 ?var2 ?var3 . FILTER ( ( REGEX ( STR ( ?var1 ) , \"alice\" ) ) ) . }\n"
   ]
  },
  {
   "cell_type": "code",
   "execution_count": null,
   "id": "cde4deac-dcc5-4e76-a77d-2a53cdce0c9f",
   "metadata": {},
   "outputs": [],
   "source": [
    "import json\n",
    "import json5\n",
    "import os\n",
    "pred_freq_path = '/PlanRGCN/data/wikidata/predicate/pred_stat/batches_response_stats/freq'\n",
    "pred_freq = {}\n",
    "freq_pred = {}\n",
    "for i in os.listdir(pred_freq_path):\n",
    "    with open(os.path.join(pred_freq_path, i),'r') as f:\n",
    "        try:\n",
    "            data = json.load(f)\n",
    "        except:\n",
    "            try:\n",
    "                data = json5.load(f)\n",
    "            except:\n",
    "                continue\n",
    "        data = data['results']['bindings']\n",
    "        for v in data:\n",
    "            pred_freq[v['p1']['value']] = int(v['triples']['value'])\n",
    "            try:\n",
    "                freq_pred[int(v['triples']['value'])].append(v['p1']['value'])\n",
    "            except:\n",
    "                freq_pred[int(v['triples']['value'])] = [v['p1']['value']]\n",
    "                \n",
    "    "
   ]
  },
  {
   "cell_type": "code",
   "execution_count": null,
   "id": "2b80ba1a-7d44-40cf-a51a-9723940db3f7",
   "metadata": {},
   "outputs": [],
   "source": [
    "q1 = f'''\n",
    "SELECT DISTINCT ?var1 WHERE \n",
    "{{ ?var2 ?var1 ?var3 . \n",
    "    ?var2 <http://www.wikidata.org/prop/direct/P705> ?var4 . \n",
    "}}\n",
    "'''\n",
    "\n",
    "q2 = f'''\n",
    "PREFIX wdt: <http://www.wikidata.org/prop/direct/> \n",
    "SELECT ?var1 ?var2 WHERE {{ ?var1 wdt:P982 ?var2 }}\n",
    "'''\n",
    "\n",
    "q4 = f'''\n",
    "PREFIX wdt: <http://www.wikidata.org/prop/direct/> \n",
    "SELECT * WHERE {{ ?var1 wdt:P3230 ?var2 }}\n",
    "'''\n",
    "\n",
    "q5 = f'''\n",
    "SELECT * WHERE {{ \n",
    "?var1 ?var2 ?var3 . \n",
    "FILTER ( ( REGEX ( ?var3 , \"caledfwlch\", \"i\" ) ) ) . }} \n",
    "'''\n",
    "q6 = f'''\n",
    "SELECT ?var1 ?var2 ?var3 \n",
    "WHERE {{ ?var1 ?var2 ?var3 . \n",
    "FILTER ( ( REGEX ( STR ( ?var1 ) , \"alice\" ) ) ) . }}\n",
    "'''"
   ]
  },
  {
   "cell_type": "markdown",
   "id": "8d631cc7-1d44-49ca-83c8-9952cca15098",
   "metadata": {},
   "source": [
    "Analysis using isql"
   ]
  },
  {
   "cell_type": "markdown",
   "id": "4a181259-c14f-4018-812d-a71b61671ebb",
   "metadata": {},
   "source": [
    "## Model Inference"
   ]
  },
  {
   "cell_type": "code",
   "execution_count": 6,
   "id": "6115f3cb-f4c3-4b6b-a8e0-eb6deda1dbee",
   "metadata": {},
   "outputs": [
    {
     "name": "stdout",
     "output_type": "stream",
     "text": [
      "(bgp (triple ?s ?p ?o))\n"
     ]
    },
    {
     "data": {
      "text/plain": [
       "0"
      ]
     },
     "execution_count": 6,
     "metadata": {},
     "output_type": "execute_result"
    }
   ],
   "source": [
    "import os\n",
    "query = \"SELECT * WHERE {?s ?p ?o}\"\n",
    "jarfile = '/PlanRGCN/PlanRGCN/qpe/target/qpe-1.0-SNAPSHOT.jar'\n",
    "tempf = '/tmp/q.json'\n",
    "cmd = f'java -jar {jarfile} extract-single \\\"{query}\\\" {tempf}'\n",
    "os.system(cmd)"
   ]
  },
  {
   "cell_type": "code",
   "execution_count": 26,
   "id": "b01546b1-07ca-4c96-b776-21756733169a",
   "metadata": {},
   "outputs": [],
   "source": [
    "import pickle as p\n",
    "prep_path ='/data/wikidata_0_1_10_v3_path_weight_loss/planrgcn/prepper.pcl'\n",
    "prep_path ='/prepper.pcl'\n",
    "with open(prep_path,'rb') as f:\n",
    "    prep = p.load(f)"
   ]
  },
  {
   "cell_type": "code",
   "execution_count": 27,
   "id": "a13f78b5-e88b-4daa-9a03-e753a70fbfa4",
   "metadata": {},
   "outputs": [],
   "source": [
    "featurizer = prep.feat"
   ]
  },
  {
   "cell_type": "code",
   "execution_count": 8,
   "id": "147a1e79-eccb-44a1-9a30-cfe5a79d20a7",
   "metadata": {},
   "outputs": [],
   "source": [
    "import torch\n",
    "model_path = '/data/wikidata_0_1_10_v3_path_weight_loss/planrgcn_binner_litplan/best_model.pt'\n",
    "model =torch.load(model_path)"
   ]
  },
  {
   "cell_type": "code",
   "execution_count": 24,
   "id": "102a8986-7dbf-47ac-8960-4f33b7ac1aa4",
   "metadata": {},
   "outputs": [
    {
     "data": {
      "text/plain": [
       "<All keys matched successfully>"
      ]
     },
     "execution_count": 24,
     "metadata": {},
     "output_type": "execute_result"
    }
   ],
   "source": [
    "from trainer.model import Classifier2RGCN\n",
    "inputd = 415\n",
    "l1=2048\n",
    "l2=4096\n",
    "dropout= 0.0\n",
    "n = 3\n",
    "model = Classifier2RGCN(inputd, l1, l2,dropout, n)\n",
    "model.load_state_dict(torch.load(model_path)['model_state'])"
   ]
  },
  {
   "cell_type": "code",
   "execution_count": null,
   "id": "04e5df0b-9161-4f1c-90b9-bacfab74c5c0",
   "metadata": {},
   "outputs": [],
   "source": [
    "model"
   ]
  },
  {
   "cell_type": "code",
   "execution_count": 28,
   "id": "a36979ed-29f6-46cf-b70c-570e301fc434",
   "metadata": {},
   "outputs": [
    {
     "name": "stdout",
     "output_type": "stream",
     "text": [
      "mat1 and mat2 shapes cannot be multiplied (0x438 and 415x2048)\n"
     ]
    }
   ],
   "source": [
    "import json\n",
    "from graph_construction.qp.query_plan_path import QueryPlanPath\n",
    "try:\n",
    "    data = json.load(open(tempf,'r'))\n",
    "    qp = QueryPlanPath(data)\n",
    "    qp.feature(featurizer)\n",
    "    dgl_graph = qp.to_dgl()\n",
    "    feats = dgl_graph.ndata[\"node_features\"]\n",
    "    edge_types = dgl_graph.edata[\"rel_type\"]\n",
    "    pred = model(dgl_graph, feats, edge_types)\n",
    "    #print(pred)\n",
    "except Exception as e:\n",
    "    print(e)"
   ]
  },
  {
   "cell_type": "code",
   "execution_count": null,
   "id": "ab63ebee-dbd5-45d9-95cd-0aa5ab755e26",
   "metadata": {},
   "outputs": [],
   "source": [
    "prep_path ='/data/wikidata_0_1_10_v3_path_weight_loss/planrgcn/prepper.pcl'\n",
    "with open(prep_path\n",
    "featurizer = # load featurizer\n",
    "model = #load model\n",
    "try:\n",
    "    data = json.load(open(tempf,'r'))\n",
    "    qp = QueryPlanPath(data)\n",
    "    qp.feature(featurizer)\n",
    "    dgl_graph = qp.to_dgl()\n",
    "    feats = dgl_graph.ndata[\"node_features\"]\n",
    "    edge_types = dgl_graph.edata[\"rel_type\"]\n",
    "    pred = model(dgl_graph, feats, edge_types)\n",
    "    print(pred)\n",
    "except:\n",
    "    pass"
   ]
  }
 ],
 "metadata": {
  "kernelspec": {
   "display_name": "Python 3 (ipykernel)",
   "language": "python",
   "name": "python3"
  },
  "language_info": {
   "codemirror_mode": {
    "name": "ipython",
    "version": 3
   },
   "file_extension": ".py",
   "mimetype": "text/x-python",
   "name": "python",
   "nbconvert_exporter": "python",
   "pygments_lexer": "ipython3",
   "version": "3.10.12"
  }
 },
 "nbformat": 4,
 "nbformat_minor": 5
}
