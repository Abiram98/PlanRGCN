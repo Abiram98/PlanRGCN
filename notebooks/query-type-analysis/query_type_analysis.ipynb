{
 "cells": [
  {
   "cell_type": "code",
   "execution_count": 1,
   "id": "1a122050-abe7-4ed6-858f-727d37004bd3",
   "metadata": {},
   "outputs": [],
   "source": [
    "%load_ext autoreload\n",
    "%autoreload 2\n",
    "import json\n",
    "import dgl\n",
    "from sklearn.metrics import f1_score\n",
    "import torch as th\n",
    "import dgl.nn.pytorch as dglnn\n",
    "import torch.nn as nn\n",
    "from dgl.dataloading import GraphDataLoader\n",
    "import torch.nn.functional as F\n",
    "import networkx as nx\n",
    "import warnings\n",
    "from feature_extraction.base_featurizer import BaseFeaturizer\n",
    "import torch\n",
    "from graph_construction.tps_graph import create_dummy_dgl_graph, tps_graph\n",
    "import numpy as np\n",
    "\n",
    "from dgl_classifier.trainer import GraphDataset,snap_pred, tps_to_dgl, get_clasification_vec,\\\n",
    "tps_graph_const, extract_data, runner\n",
    "\n",
    "\n",
    "import warnings\n",
    "\n",
    "from preprocessing.utils import load_BGPS_from_json\n",
    "warnings.filterwarnings('ignore', category=UserWarning, message='TypedStorage is deprecated')"
   ]
  },
  {
   "cell_type": "code",
   "execution_count": 2,
   "id": "342fa62f-7795-4899-8406-edd79f0e804f",
   "metadata": {},
   "outputs": [],
   "source": [
    "path = '/work/data/data_files/all_data.json'\n",
    "data = json.load(open(path,'r'))"
   ]
  },
  {
   "cell_type": "code",
   "execution_count": 3,
   "id": "5cf71370-22fe-42c9-bcd0-2e8d3b94bce6",
   "metadata": {},
   "outputs": [
    {
     "data": {
      "text/plain": [
       "3316"
      ]
     },
     "execution_count": 3,
     "metadata": {},
     "output_type": "execute_result"
    }
   ],
   "source": [
    "len(data)"
   ]
  },
  {
   "cell_type": "code",
   "execution_count": 4,
   "id": "1fbfb457-b9fc-4b75-aaef-e84ea399cd64",
   "metadata": {},
   "outputs": [],
   "source": [
    "from preprocessing.utils_script import relative_error_v2\n",
    "#function consider pred, actual runtimes\n",
    "data_filt = []\n",
    "data_timeout = []\n",
    "for i in data:\n",
    "    try:\n",
    "        i['speedup'] = relative_error_v2(i['bloom_runtime'],i['jena_runtime'])\n",
    "        data_filt.append(i)\n",
    "    except TypeError:\n",
    "        data_timeout.append(i)\n",
    "del data\n",
    "data = data_filt\n",
    "del data_filt"
   ]
  },
  {
   "cell_type": "code",
   "execution_count": 5,
   "id": "2267885e-b47c-41f3-91f0-fb3c2c9e06fd",
   "metadata": {},
   "outputs": [
    {
     "data": {
      "text/plain": [
       "(1537, 1779)"
      ]
     },
     "execution_count": 5,
     "metadata": {},
     "output_type": "execute_result"
    }
   ],
   "source": [
    "len(data),len(data_timeout)"
   ]
  },
  {
   "cell_type": "code",
   "execution_count": 6,
   "id": "6f618b11-6725-4313-89bd-78de51dfa5bc",
   "metadata": {},
   "outputs": [],
   "source": [
    "speedup = [x['speedup']*100 for x in data if x['speedup'] > 0]"
   ]
  },
  {
   "cell_type": "code",
   "execution_count": 7,
   "id": "29cbb177-7a83-480e-a0d0-b880042a9df2",
   "metadata": {},
   "outputs": [],
   "source": [
    "def print_stat(lst):\n",
    "    print(\"Mean \", np.mean(lst))\n",
    "    print(\"STD \", np.std(lst))\n",
    "    print(\"Min \", np.min(lst))\n",
    "    print(\"25% \", np.quantile(lst,q=0.25))\n",
    "    print(\"50% \", np.quantile(lst,q=0.5))\n",
    "    print(\"75% \", np.quantile(lst,q=0.75))\n",
    "    print(\"Max \", np.max(lst))"
   ]
  },
  {
   "cell_type": "code",
   "execution_count": 8,
   "id": "32ba959f-be5a-46cc-91f2-1d57d2556210",
   "metadata": {},
   "outputs": [],
   "source": [
    "import matplotlib.pyplot as plt"
   ]
  },
  {
   "cell_type": "code",
   "execution_count": 9,
   "id": "2be3bf07-6f89-45c7-b6e5-f3119d1c3512",
   "metadata": {},
   "outputs": [
    {
     "data": {
      "image/png": "[encoded data removed]",
      "text/plain": [
       "<Figure size 640x480 with 1 Axes>"
      ]
     },
     "metadata": {},
     "output_type": "display_data"
    },
    {
     "data": {
      "text/plain": [
       "<Figure size 640x480 with 0 Axes>"
      ]
     },
     "metadata": {},
     "output_type": "display_data"
    }
   ],
   "source": [
    "#plt.figure(figsize=(3,6))\n",
    "plt.ylabel('speedup')\n",
    "plt.title('Jena RunTimes')\n",
    "plt.boxplot(speedup)\n",
    "plt.show()\n",
    "plt.clf()"
   ]
  },
  {
   "cell_type": "code",
   "execution_count": 10,
   "id": "5b4854d1-4073-484c-87b3-4edc439d1849",
   "metadata": {},
   "outputs": [
    {
     "name": "stdout",
     "output_type": "stream",
     "text": [
      "Mean  7.057220694162157\n",
      "STD  7.642237299277555\n",
      "Min  0.08169414844601076\n",
      "25%  2.065228578555907\n",
      "50%  4.874480871178017\n",
      "75%  9.59468446656652\n",
      "Max  74.43859551545917\n"
     ]
    }
   ],
   "source": [
    "print_stat(speedup)"
   ]
  },
  {
   "cell_type": "code",
   "execution_count": 11,
   "id": "9d1a2fc4-b060-43da-9c98-81abdd336f49",
   "metadata": {},
   "outputs": [
    {
     "data": {
      "text/plain": [
       "457"
      ]
     },
     "execution_count": 11,
     "metadata": {},
     "output_type": "execute_result"
    }
   ],
   "source": [
    "len(speedup)"
   ]
  },
  {
   "cell_type": "code",
   "execution_count": 12,
   "id": "1d750f7b-9735-44fd-b86d-b1ae1f17d8cc",
   "metadata": {},
   "outputs": [],
   "source": [
    "def query_gen_speedup(speedup, dur_diff):\n",
    "    for i in data:\n",
    "        i['speedup'] = relative_error_v2(i['bloom_runtime'],i['jena_runtime'])*100\n",
    "        i['dur_diff'] = (i['jena_runtime'] - i['bloom_runtime']) *1e-6 #difference in ms\n",
    "        if i['speedup'] > speedup and i['dur_diff'] >= dur_diff:\n",
    "            yield i"
   ]
  },
  {
   "cell_type": "code",
   "execution_count": 13,
   "id": "c0a8b735-3f35-41e2-96e6-692d346e56f3",
   "metadata": {},
   "outputs": [],
   "source": [
    "gen = query_gen_speedup(5, 1)"
   ]
  },
  {
   "cell_type": "code",
   "execution_count": 65,
   "id": "483dc239-68cd-4fd8-adf4-ef05122e3be9",
   "metadata": {},
   "outputs": [],
   "source": []
  },
  {
   "cell_type": "code",
   "execution_count": 16,
   "id": "7138ac17-9824-4988-856d-ad60cc443df9",
   "metadata": {},
   "outputs": [
    {
     "data": {
      "text/plain": [
       "{'query': 'SELECT (COUNT(*) AS ?count) WHERE { <http://www.wikidata.org/entity/Q22803914> ?p ?x2 . ?x2 <http://www.wikidata.org/prop/direct/P264> ?x3 . ?x3 <http://www.wikidata.org/prop/direct/P750> ?x4 } LIMIT 10000',\n",
       " 'bloom_runtime': 947926044,\n",
       " 'jena_runtime': 1018656015,\n",
       " 'leapfrog': 25854905,\n",
       " 'path': '/leapfrog-rdf-benchmark/results/modified_bgps/MP3',\n",
       " 'speedup': 6.943459809639468,\n",
       " 'dur_diff': 70.72997099999999}"
      ]
     },
     "execution_count": 16,
     "metadata": {},
     "output_type": "execute_result"
    }
   ],
   "source": [
    "query = next(gen)\n",
    "query"
   ]
  },
  {
   "cell_type": "code",
   "execution_count": 17,
   "id": "4358c260-eec5-4c23-8d4f-a96bc75263dd",
   "metadata": {},
   "outputs": [],
   "source": [
    "pred_freq = json.load(open('/work/data/extracted_statistics/pred_freq.json','r'))"
   ]
  },
  {
   "cell_type": "code",
   "execution_count": 18,
   "id": "05273415-194b-405a-bfd6-d9eaca08df2d",
   "metadata": {},
   "outputs": [],
   "source": [
    "preds = list(pred_freq.keys())\n",
    "freqs = list(pred_freq.values())"
   ]
  },
  {
   "cell_type": "code",
   "execution_count": 19,
   "id": "f9491ed3-eb06-4293-a15b-b5b049f7c84b",
   "metadata": {},
   "outputs": [],
   "source": [
    "def sort_lists(list1, list2):\n",
    "    zipped_pairs = zip(list2, list1)\n",
    "    z = [x for _, x in sorted(zipped_pairs, reverse=True)]\n",
    "    list2.sort(reverse=True)\n",
    "    return z, list2\n",
    "preds,freqs =  sort_lists(preds, freqs)"
   ]
  },
  {
   "cell_type": "code",
   "execution_count": 22,
   "id": "b8b54f87-74ac-4e91-941f-5f780ed77612",
   "metadata": {},
   "outputs": [
    {
     "name": "stdout",
     "output_type": "stream",
     "text": [
      "http://www.wikidata.org/prop/direct/P793 423,349\n",
      "http://www.wikidata.org/prop/direct/P497 422,583\n",
      "http://www.wikidata.org/prop/direct/P2163 416,898\n",
      "http://www.wikidata.org/prop/direct-normalized/P2163 416,898\n",
      "http://www.wikidata.org/prop/direct/P691 413,963\n",
      "http://www.wikidata.org/prop/direct/P6224 413,701\n",
      "http://www.wikidata.org/prop/direct/P1132 412,666\n",
      "http://www.wikidata.org/prop/direct/P613 406,153\n",
      "http://www.wikidata.org/prop/direct/P1216 399,822\n",
      "http://www.wikidata.org/prop/direct/P413 396,919\n",
      "http://www.wikidata.org/prop/direct/P1070 396,638\n",
      "http://www.wikidata.org/prop/direct/P819 391,011\n",
      "http://www.wikidata.org/prop/direct/P159 390,194\n",
      "http://www.wikidata.org/prop/direct/P140 377,097\n",
      "http://www.wikidata.org/prop/direct/P710 372,914\n",
      "http://www.wikidata.org/prop/direct/P3373 365,568\n",
      "http://www.wikidata.org/prop/direct/P463 362,037\n",
      "http://www.wikidata.org/prop/direct/P3098 352,526\n",
      "http://www.wikidata.org/prop/direct/P818 346,841\n",
      "http://www.wikidata.org/prop/direct/P8363 345,482\n",
      "http://www.wikidata.org/prop/direct/P123 337,243\n",
      "http://www.wikidata.org/prop/direct/P881 330,019\n",
      "http://www.wikidata.org/prop/direct/P7763 329,642\n",
      "http://www.wikidata.org/prop/direct/P2017 328,406\n",
      "http://www.wikidata.org/prop/direct/P2094 328,325\n",
      "http://www.wikidata.org/prop/direct/P128 326,530\n",
      "http://www.wikidata.org/prop/direct/P364 324,534\n",
      "http://www.wikidata.org/prop/direct/P2868 321,837\n",
      "http://www.wikidata.org/prop/direct/P264 320,893\n",
      "http://www.wikidata.org/prop/direct/P2899 316,944\n",
      "http://www.wikidata.org/prop/direct/P138 312,049\n",
      "http://www.wikidata.org/prop/direct/P126 308,826\n",
      "http://www.wikidata.org/prop/direct/P2067 307,946\n",
      "http://www.wikidata.org/prop/direct/P57 307,858\n",
      "http://www.wikidata.org/prop/direct/P7293 298,545\n",
      "http://www.wikidata.org/prop/direct/P184 294,579\n",
      "http://www.wikidata.org/prop/direct/P937 293,913\n",
      "http://www.wikidata.org/prop/direct/P185 289,526\n",
      "http://www.wikidata.org/prop/direct/P6366 278,677\n",
      "http://www.wikidata.org/prop/direct-normalized/P6366 278,677\n",
      "http://www.wikidata.org/prop/direct/P2002 277,712\n",
      "http://www.wikidata.org/prop/direct/P2031 276,680\n",
      "http://www.wikidata.org/prop/direct/P1436 267,671\n",
      "http://www.wikidata.org/prop/direct/P838 265,798\n",
      "http://www.wikidata.org/prop/direct/P6153 265,387\n",
      "http://www.wikidata.org/prop/direct/P549 260,772\n",
      "http://www.wikidata.org/prop/direct/P460 260,126\n",
      "http://www.wikidata.org/prop/direct/P1053 258,244\n",
      "http://www.wikidata.org/prop/direct/P648 254,245\n",
      "http://www.wikidata.org/prop/direct-normalized/P648 254,245\n"
     ]
    }
   ],
   "source": [
    "i=200\n",
    "query_preds = []\n",
    "for i in range(200,250):\n",
    "    print(preds[i], f\"{freqs[i]:,}\")\n",
    "    query_preds.append(preds[i])"
   ]
  },
  {
   "cell_type": "code",
   "execution_count": 138,
   "id": "277bb463-e1a8-428f-bb18-98aee0a92ecb",
   "metadata": {},
   "outputs": [
    {
     "name": "stdout",
     "output_type": "stream",
     "text": [
      "SELECT ?p (COUNT(*) AS ?count) WHERE { ?x1 ?p ?x2 .\n",
      "             ?x2 <http://www.wikidata.org/prop/direct/P640> ?x3 .\n",
      "            } GROUPBY ?p \n",
      "            LIMIT 10 \n"
     ]
    }
   ],
   "source": [
    "def query_gen(preds):\n",
    "    s = f\"\"\"SELECT ?p (COUNT(*) AS ?count) WHERE {{ ?x1 ?p ?x2 .\n",
    "             ?x2 <http://www.wikidata.org/prop/direct/P640> ?x3 .\n",
    "            }} GROUPBY ?p \n",
    "            LIMIT 10 \"\"\"\n",
    "    print(s)\n",
    "query_gen(1)"
   ]
  },
  {
   "cell_type": "code",
   "execution_count": 139,
   "id": "7090bdb3-b6ca-494d-94b5-c11188060db9",
   "metadata": {},
   "outputs": [
    {
     "name": "stdout",
     "output_type": "stream",
     "text": [
      "Requirement already satisfied: sparqlwrapper in /usr/local/lib/python3.10/dist-packages (2.0.0)\n",
      "Requirement already satisfied: rdflib>=6.1.1 in /usr/local/lib/python3.10/dist-packages (from sparqlwrapper) (6.3.1)\n",
      "Requirement already satisfied: pyparsing<4,>=2.1.0 in /usr/local/lib/python3.10/dist-packages (from rdflib>=6.1.1->sparqlwrapper) (3.0.9)\n",
      "Requirement already satisfied: isodate<0.7.0,>=0.6.0 in /usr/local/lib/python3.10/dist-packages (from rdflib>=6.1.1->sparqlwrapper) (0.6.1)\n",
      "Requirement already satisfied: six in /usr/local/lib/python3.10/dist-packages (from isodate<0.7.0,>=0.6.0->rdflib>=6.1.1->sparqlwrapper) (1.16.0)\n",
      "\u001b[33mWARNING: Running pip as the 'root' user can result in broken permissions and conflicting behaviour with the system package manager. It is recommended to use a virtual environment instead: https://pip.pypa.io/warnings/venv\u001b[0m\u001b[33m\n",
      "\u001b[0m"
     ]
    }
   ],
   "source": [
    "!pip install sparqlwrapper"
   ]
  },
  {
   "cell_type": "code",
   "execution_count": 152,
   "id": "611430cf-980a-40a8-b01d-fd277ec60ba3",
   "metadata": {},
   "outputs": [
    {
     "name": "stdout",
     "output_type": "stream",
     "text": [
      "{'head': {'vars': ['p', 'count']}, 'results': {'bindings': [{'p': {'type': 'uri', 'value': 'http://www.wikidata.org/prop/direct/P8289'}, 'count': {'type': 'literal', 'datatype': 'http://www.w3.org/2001/XMLSchema#integer', 'value': '255'}}, {'p': {'type': 'uri', 'value': 'http://www.wikidata.org/prop/direct/P8047'}, 'count': {'type': 'literal', 'datatype': 'http://www.w3.org/2001/XMLSchema#integer', 'value': '458521'}}, {'p': {'type': 'uri', 'value': 'http://www.wikidata.org/prop/direct/P2515'}, 'count': {'type': 'literal', 'datatype': 'http://www.w3.org/2001/XMLSchema#integer', 'value': '39'}}, {'p': {'type': 'uri', 'value': 'http://www.wikidata.org/prop/direct/P1080'}, 'count': {'type': 'literal', 'datatype': 'http://www.w3.org/2001/XMLSchema#integer', 'value': '48'}}, {'p': {'type': 'uri', 'value': 'http://www.wikidata.org/prop/direct/P4900'}, 'count': {'type': 'literal', 'datatype': 'http://www.w3.org/2001/XMLSchema#integer', 'value': '1'}}, {'p': {'type': 'uri', 'value': 'http://www.wikidata.org/prop/direct/P180'}, 'count': {'type': 'literal', 'datatype': 'http://www.w3.org/2001/XMLSchema#integer', 'value': '72047'}}, {'p': {'type': 'uri', 'value': 'http://www.wikidata.org/prop/direct/P2975'}, 'count': {'type': 'literal', 'datatype': 'http://www.w3.org/2001/XMLSchema#integer', 'value': '10'}}, {'p': {'type': 'uri', 'value': 'http://www.wikidata.org/prop/direct/P8929'}, 'count': {'type': 'literal', 'datatype': 'http://www.w3.org/2001/XMLSchema#integer', 'value': '1'}}, {'p': {'type': 'uri', 'value': 'http://www.wikidata.org/prop/direct/P58'}, 'count': {'type': 'literal', 'datatype': 'http://www.w3.org/2001/XMLSchema#integer', 'value': '1749'}}, {'p': {'type': 'uri', 'value': 'http://www.wikidata.org/prop/direct/P1429'}, 'count': {'type': 'literal', 'datatype': 'http://www.w3.org/2001/XMLSchema#integer', 'value': '1'}}]}}\n"
     ]
    }
   ],
   "source": [
    "from SPARQLWrapper import SPARQLWrapper, JSON\n",
    "class QueryGenerator:\n",
    "    def __init__(self, url):\n",
    "        self.sparql = SPARQLWrapper( url )\n",
    "        self.sparql.setReturnFormat(JSON)\n",
    "\n",
    "    def query(self, query):\n",
    "        self.sparql.setQuery(query)\n",
    "        try:\n",
    "            ret = self.sparql.queryAndConvert()\n",
    "            return ret\n",
    "        except Exception as e:\n",
    "            print(e)\n",
    "    def get_other_pred(self, pred):\n",
    "        q = f\"\"\"\n",
    "            SELECT ?p (COUNT(*) AS ?count) WHERE {{ \n",
    "            ?x1 ?p ?x2 .\n",
    "             ?x2 {'<'+pred+'>'} ?x3 .\n",
    "            }} GROUPBY ?p \n",
    "            LIMIT 10\n",
    "        \"\"\"\n",
    "        return self.query(q)\n",
    "queryier = QueryGenerator('http://172.21.233.23:83/wikidata/sparql')\n",
    "#r = queryier.query('select * where { ?s ?p ?o} LIMIT 1')\n",
    "r = queryier.get_other_pred('http://www.wikidata.org/prop/direct/P793')\n",
    "print(r)"
   ]
  },
  {
   "cell_type": "code",
   "execution_count": null,
   "id": "3620b780-4052-4375-aa08-ac35af60560d",
   "metadata": {},
   "outputs": [],
   "source": [
    "from SPARQLWrapper import SPARQLWrapper, JSON\n",
    "\n",
    "def generate_cyclic_sparql_queries(predicates, endpoint_url):\n",
    "    sparql = SPARQLWrapper(endpoint_url)\n",
    "    sparql.setReturnFormat(JSON)\n",
    "\n",
    "    # Generate cyclic SPARQL queries with 3 triple patterns\n",
    "    queries = []\n",
    "    for p in predicates:\n",
    "        connected_preds = []\n",
    "        sparql.setQuery(f\"\"\"\n",
    "            SELECT DISTINCT ?p WHERE {{\n",
    "                ?s <{p}> ?o .\n",
    "                ?o ?p ?o1 .\n",
    "            }} LIMIT 100\n",
    "        \"\"\")\n",
    "        results = sparql.query().convert()\n",
    "        for result in results['results']['bindings']:\n",
    "            connected_preds.append(result['p']['value'])\n",
    "        for p1 in connected_preds:\n",
    "            sparql.setQuery(f\"\"\"\n",
    "                SELECT (COUNT(*) AS ?count) WHERE {{\n",
    "                    ?x1 <{p1}> ?x .\n",
    "                }}\n",
    "            \"\"\")\n",
    "            results = sparql.query().convert()\n",
    "            count1 = int(results['results']['bindings'][0]['count']['value'])\n",
    "            if count1 > 1000:\n",
    "                connected_preds2 = []\n",
    "                sparql.setQuery(f\"\"\"\n",
    "                    SELECT DISTINCT ?p WHERE {{\n",
    "                        ?s <{p1}> ?o .\n",
    "                        ?o ?p ?o1 .\n",
    "                    }} LIMIT 100\n",
    "                \"\"\")\n",
    "                results = sparql.query().convert()\n",
    "                for result in results['results']['bindings']:\n",
    "                    connected_preds2.append(result['p']['value'])\n",
    "                \n",
    "\n",
    "                for p2 in connected_preds2:\n",
    "                    sparql.setQuery(f\"\"\"\n",
    "                        SELECT (COUNT(*) AS ?count) WHERE {{\n",
    "                            ?x1 <{p2}> ?x .\n",
    "                        }}\n",
    "                    \"\"\")\n",
    "                    results = sparql.query().convert()\n",
    "                    count2 = int(results['results']['bindings'][0]['count']['value'])\n",
    "                    if count2 > 1000:\n",
    "                        queries.append(f\"\"\"\n",
    "                        SELECT (COUNT(*) AS ?count) WHERE {{\n",
    "                            ?x1 <{p}> ?x .\n",
    "                            x?  {p1} ?x2 .\n",
    "                            ?x2 {p2} ?x1 .\n",
    "                        }}LIMIT 10000\n",
    "                        \"\"\")\n",
    "                        print(f\"\"\"\n",
    "                        SELECT (COUNT(*) AS ?count) WHERE {{\n",
    "                            ?x1 <{p}> ?x .\n",
    "                            x?  {p1} ?x2 .\n",
    "                            ?x2 {p2} ?x1 .\n",
    "                        }}LIMIT 10000\n",
    "                        \"\"\")\n",
    "    return queries\n",
    "new_queries = generate_cyclic_sparql_queries(query_preds, 'http://172.21.233.23:83/wikidata/sparql')"
   ]
  },
  {
   "cell_type": "markdown",
   "id": "ff09d5d7-ca40-43c0-8ba5-951c8fa60901",
   "metadata": {},
   "source": [
    "Observations is that the BF triple pattern (the one with only bounded variable, we make an illogical triple pattern (this would require a lot of existence checks that return negative)\n",
    "For queries with 3 triple patterns."
   ]
  },
  {
   "cell_type": "code",
   "execution_count": null,
   "id": "92aaa1c9-a1fe-41ee-8a3a-f055aa807503",
   "metadata": {},
   "outputs": [],
   "source": [
    "from SPARQLWrapper import SPARQLWrapper, JSON\n",
    "\n",
    "def check_queries\n",
    "\n",
    "def generate_cyclic_sparql_queries_3tp(predicates, endpoint_url):\n",
    "    sparql = SPARQLWrapper(endpoint_url)\n",
    "    sparql.setReturnFormat(JSON)\n",
    "\n",
    "    # Generate cyclic SPARQL queries with 3 triple patterns\n",
    "    queries = []\n",
    "    for p in predicates:\n",
    "        connected_preds = []\n",
    "        sparql.setQuery(f\"\"\"\n",
    "            SELECT DISTINCT ?p WHERE {{\n",
    "                ?s <{p}> ?o .\n",
    "                ?o ?p ?o1 .\n",
    "            }} LIMIT 100\n",
    "        \"\"\")\n",
    "        results = sparql.query().convert()\n",
    "        for result in results['results']['bindings']:\n",
    "            connected_preds.append(result['p']['value'])\n",
    "        for p1 in connected_preds:\n",
    "            sparql.setQuery(f\"\"\"\n",
    "                SELECT (COUNT(*) AS ?count) WHERE {{\n",
    "                    ?x1 <{p1}> ?x .\n",
    "                }}\n",
    "            \"\"\")\n",
    "            results = sparql.query().convert()\n",
    "            count1 = int(results['results']['bindings'][0]['count']['value'])\n",
    "            if count1 > 1000:\n",
    "                connected_preds2 = []\n",
    "                sparql.setQuery(f\"\"\"\n",
    "                    SELECT DISTINCT ?p WHERE {{\n",
    "                        ?s <{p1}> ?o .\n",
    "                        ?o ?p ?o1 .\n",
    "                    }} LIMIT 100\n",
    "                \"\"\")\n",
    "                results = sparql.query().convert()\n",
    "                for result in results['results']['bindings']:\n",
    "                    connected_preds2.append(result['p']['value'])\n",
    "                \n",
    "\n",
    "                for p2 in connected_preds2:\n",
    "                    sparql.setQuery(f\"\"\"\n",
    "                        SELECT (COUNT(*) AS ?count) WHERE {{\n",
    "                            ?x1 <{p2}> ?x .\n",
    "                        }}\n",
    "                    \"\"\")\n",
    "                    results = sparql.query().convert()\n",
    "                    count2 = int(results['results']['bindings'][0]['count']['value'])\n",
    "                    if count2 > 1000:\n",
    "                        queries.append(f\"\"\"\n",
    "                        SELECT (COUNT(*) AS ?count) WHERE {{\n",
    "                            ?x1 <{p}> ?x .\n",
    "                            x?  {p1} ?x2 .\n",
    "                            ?x2 {p2} ?x1 .\n",
    "                        }}LIMIT 10000\n",
    "                        \"\"\")\n",
    "                        print(f\"\"\"\n",
    "                        SELECT (COUNT(*) AS ?count) WHERE {{\n",
    "                            ?x1 <{p}> ?x .\n",
    "                            x?  {p1} ?x2 .\n",
    "                            ?x2 {p2} ?x1 .\n",
    "                        }}LIMIT 10000\n",
    "                        \"\"\")\n",
    "    return queries\n",
    "new_queries = generate_cyclic_sparql_queries(query_preds, 'http://172.21.233.23:83/wikidata/sparql')\n",
    "json.dump(new_queries, open('/work/new_queries.json'))"
   ]
  }
 ],
 "metadata": {
  "kernelspec": {
   "display_name": "Python 3 (ipykernel)",
   "language": "python",
   "name": "python3"
  },
  "language_info": {
   "codemirror_mode": {
    "name": "ipython",
    "version": 3
   },
   "file_extension": ".py",
   "mimetype": "text/x-python",
   "name": "python",
   "nbconvert_exporter": "python",
   "pygments_lexer": "ipython3",
   "version": "3.10.7"
  }
 },
 "nbformat": 4,
 "nbformat_minor": 5
}
