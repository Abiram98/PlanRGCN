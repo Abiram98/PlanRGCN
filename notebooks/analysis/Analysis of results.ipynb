{
 "cells": [
  {
   "cell_type": "code",
   "execution_count": 4,
   "id": "80ce217e-3fe0-497e-8a32-67dd6d35758e",
   "metadata": {},
   "outputs": [],
   "source": [
    "%load_ext autoreload\n",
    "%autoreload 2\n",
    "import json\n",
    "import dgl\n",
    "from sklearn.metrics import f1_score\n",
    "import torch as th\n",
    "import dgl.nn.pytorch as dglnn\n",
    "import torch.nn as nn\n",
    "from dgl.dataloading import GraphDataLoader\n",
    "import torch.nn.functional as F\n",
    "import networkx as nx\n",
    "import warnings\n",
    "from feature_extraction.base_featurizer import BaseFeaturizer\n",
    "import torch\n",
    "from graph_construction.tps_graph import create_dummy_dgl_graph, tps_graph\n",
    "import numpy as np\n",
    "\n",
    "from dgl_classifier.trainer import GraphDataset,snap_pred, tps_to_dgl, get_clasification_vec,\\\n",
    "tps_graph_const, extract_data, runner\n",
    "\n",
    "\n",
    "import warnings\n",
    "\n",
    "from preprocessing.utils import load_BGPS_from_json\n",
    "warnings.filterwarnings('ignore', category=UserWarning, message='TypedStorage is deprecated')"
   ]
  },
  {
   "cell_type": "code",
   "execution_count": 1,
   "id": "41f4c956-53a3-4d33-994b-a93fb33aaf42",
   "metadata": {},
   "outputs": [],
   "source": [
    "import json\n",
    "path_to_res = '/work/data/results/7_6_2023_tp_graph_5re.txt'\n",
    "results = json.load(open(path_to_res))"
   ]
  },
  {
   "cell_type": "code",
   "execution_count": 33,
   "id": "6168544a-7a88-4962-bc9c-c29062d84254",
   "metadata": {},
   "outputs": [],
   "source": [
    "save_figs = '/work/files/'"
   ]
  },
  {
   "cell_type": "code",
   "execution_count": 5,
   "id": "006c6299-533b-4b73-8a56-30dcc1ba4c7e",
   "metadata": {},
   "outputs": [
    {
     "data": {
      "text/plain": [
       "Classifier(\n",
       "  (conv1): RelGraphConv(\n",
       "    (linear_r): TypedLinear(in_size=113, out_size=32, num_types=8)\n",
       "    (dropout): Dropout(p=0.0, inplace=False)\n",
       "  )\n",
       "  (conv2): RelGraphConv(\n",
       "    (linear_r): TypedLinear(in_size=32, out_size=32, num_types=8)\n",
       "    (dropout): Dropout(p=0.0, inplace=False)\n",
       "  )\n",
       "  (classify): Linear(in_features=32, out_features=2, bias=True)\n",
       ")"
      ]
     },
     "execution_count": 5,
     "metadata": {},
     "output_type": "execute_result"
    }
   ],
   "source": [
    "import torch\n",
    "class Classifier(nn.Module):\n",
    "    def __init__(self, in_dim, hidden_dim, n_classes):\n",
    "        super(Classifier, self).__init__()\n",
    "        self.conv1 = dglnn.RelGraphConv(in_dim, hidden_dim, 8)\n",
    "        #self.conv1 = dglnn.GraphConv(in_dim, hidden_ˇdim)\n",
    "        self.conv2 = dglnn.RelGraphConv(hidden_dim, hidden_dim, 8)\n",
    "        #self.conv2 = dglnn.GraphConv(hidden_dim, hidden_dim)\n",
    "        self.classify = nn.Linear(hidden_dim, n_classes)\n",
    "\n",
    "    def forward(self, g, h, rel_types):\n",
    "        # Apply graph convolution and activation.\n",
    "        h = F.relu(self.conv1(g, h, rel_types))\n",
    "        h = F.relu(self.conv2(g, h, rel_types))\n",
    "        with g.local_scope():\n",
    "            g.ndata['node_features'] = h\n",
    "            # Calculate graph representation by average readout.\n",
    "            hg = dgl.mean_nodes(g, 'node_features')\n",
    "            return F.softmax( self.classify(hg), dim=1)\n",
    "            #return F.sigmoid( self.classify(hg))\n",
    "#model = Classifier(113, 20, 1)\n",
    "best_model_path = '/work/data/models7_6/best_f1_model_287.pt'\n",
    "model = torch.load(best_model_path)\n",
    "model.eval()\n",
    "model"
   ]
  },
  {
   "cell_type": "code",
   "execution_count": 7,
   "id": "ddc47f55-8548-4c6d-82f9-69f1e28b4cc1",
   "metadata": {
    "editable": true,
    "slideshow": {
     "slide_type": ""
    },
    "tags": []
   },
   "outputs": [
    {
     "name": "stderr",
     "output_type": "stream",
     "text": [
      "/usr/local/lib/python3.10/dist-packages/dgl/backend/pytorch/tensor.py:52: UserWarning: Creating a tensor from a list of numpy.ndarrays is extremely slow. Please consider converting the list to a single numpy.ndarray with numpy.array() before converting to a tensor. (Triggered internally at ../torch/csrc/utils/tensor_new.cpp:245.)\n",
      "  return th.as_tensor(data, dtype=dtype)\n"
     ]
    }
   ],
   "source": [
    "from dgl_classifier. trainer import predict2samples\n",
    "train_file = '/work/data/splits/splits_0.050/train.json'\n",
    "val_file = '/work/data/splits/splits_0.050/val.json'\n",
    "test_file = '/work/data/splits/splits_0.050/test.json'\n",
    "train_data, val_data,test_data = predict2samples(model,train_file, val_file, test_file, community_no=10, verbose=True, clust_verbose=False, clust_load_path='/work/data/confs/May2/pred_clust.json')"
   ]
  },
  {
   "cell_type": "code",
   "execution_count": 9,
   "id": "30cbc58a-2b48-4986-9f0c-146f410bb590",
   "metadata": {
    "editable": true,
    "slideshow": {
     "slide_type": ""
    },
    "tags": []
   },
   "outputs": [],
   "source": [
    "from dgl_classifier.post import *\n",
    "JB_train_rt, oracle_rt_train = get_runtime(train_data)\n",
    "J_train_rt, B_train_rt = get_runtimes_wo_pred(train_data)\n",
    "\n",
    "JB_val_rt, oracle_rt_val = get_runtime(val_data)\n",
    "J_val_rt, B_val_rt = get_runtimes_wo_pred(val_data)\n",
    "\n",
    "JB_test_rt, oracle_rt_test = get_runtime(test_data)\n",
    "J_test_rt, B_test_rt = get_runtimes_wo_pred(test_data)"
   ]
  },
  {
   "cell_type": "code",
   "execution_count": 10,
   "id": "8a3e7661-b648-4fab-8042-15cb08605d98",
   "metadata": {
    "editable": true,
    "slideshow": {
     "slide_type": ""
    },
    "tags": []
   },
   "outputs": [
    {
     "name": "stdout",
     "output_type": "stream",
     "text": [
      "Train\n",
      " \tWith Predictions  7.419 , Jena:  7.434 , Bloom Filter 8.161 , Oracle 7.407\n",
      "Validation\n",
      " \tWith Predictions  8.624 , Jena:  8.627 , Bloom Filter 9.019 , Oracle 8.466\n",
      "Test\n",
      " \tWith Predictions  4.183 , Jena:  4.189 , Bloom Filter 4.637 , Oracle 4.179\n"
     ]
    }
   ],
   "source": [
    "print('Train\\n','\\tWith Predictions ',round(np.mean(JB_train_rt),3),', Jena: ', round(np.mean(J_train_rt),3), ', Bloom Filter',round(np.mean(B_train_rt),3),', Oracle',round(np.mean(oracle_rt_train),3))\n",
    "print('Validation\\n','\\tWith Predictions ',round(np.mean(JB_val_rt),3),', Jena: ', round(np.mean(J_val_rt),3), ', Bloom Filter',round(np.mean(B_val_rt),3), ', Oracle',round(np.mean(oracle_rt_val),3))\n",
    "print('Test\\n','\\tWith Predictions ',round(np.mean(JB_test_rt),3),', Jena: ', round(np.mean(J_test_rt),3), ', Bloom Filter',round(np.mean(B_test_rt),3),', Oracle',round(np.mean(oracle_rt_test),3))"
   ]
  },
  {
   "cell_type": "markdown",
   "id": "2b241104-8120-410f-adb8-7311cdba4ad2",
   "metadata": {
    "editable": true,
    "slideshow": {
     "slide_type": ""
    },
    "tags": []
   },
   "source": [
    "Relative Errors"
   ]
  },
  {
   "cell_type": "code",
   "execution_count": 16,
   "id": "d7fe64e5-fe7d-4705-b414-ac07cabde7e6",
   "metadata": {
    "editable": true,
    "slideshow": {
     "slide_type": ""
    },
    "tags": []
   },
   "outputs": [],
   "source": [
    "def relative_improvements(JB_rt, J):\n",
    "    return [(( j-jb)/j)*100 for jb, j in zip(JB_rt, J)] \n",
    "train_re_im = relative_improvements(JB_train_rt,J_train_rt)\n",
    "val_re_im = relative_improvements(JB_val_rt,J_val_rt)\n",
    "test_re_im = relative_improvements(JB_test_rt,J_test_rt)"
   ]
  },
  {
   "cell_type": "code",
   "execution_count": 13,
   "id": "4f519f71-dd87-4fc5-9d0d-adc8cb0ec496",
   "metadata": {
    "editable": true,
    "slideshow": {
     "slide_type": ""
    },
    "tags": []
   },
   "outputs": [
    {
     "name": "stdout",
     "output_type": "stream",
     "text": [
      "Relative Improvement  17.005  JenaBloom RT  0.026  Jena RT  0.031 Absolute difference in MS 5.242\n",
      "Relative Improvement  10.751  JenaBloom RT  0.192  Jena RT  0.215 Absolute difference in MS 23.152\n",
      "Relative Improvement  42.866  JenaBloom RT  0.028  Jena RT  0.048 Absolute difference in MS 20.636\n",
      "Relative Improvement  22.282  JenaBloom RT  0.007  Jena RT  0.01 Absolute difference in MS 2.127\n",
      "Relative Improvement  26.28  JenaBloom RT  0.024  Jena RT  0.033 Absolute difference in MS 8.58\n",
      "Relative Improvement  10.721  JenaBloom RT  0.005  Jena RT  0.006 Absolute difference in MS 0.641\n",
      "Relative Improvement  11.749  JenaBloom RT  0.01  Jena RT  0.011 Absolute difference in MS 1.314\n",
      "Relative Improvement  11.692  JenaBloom RT  0.07  Jena RT  0.08 Absolute difference in MS 9.322\n",
      "Relative Improvement  10.121  JenaBloom RT  0.007  Jena RT  0.008 Absolute difference in MS 0.762\n",
      "Relative Improvement  27.187  JenaBloom RT  0.226  Jena RT  0.31 Absolute difference in MS 84.343\n",
      "Relative Improvement  11.197  JenaBloom RT  0.012  Jena RT  0.014 Absolute difference in MS 1.537\n",
      "Relative Improvement  16.487  JenaBloom RT  0.076  Jena RT  0.091 Absolute difference in MS 15.072\n",
      "Relative Improvement  10.734  JenaBloom RT  0.167  Jena RT  0.188 Absolute difference in MS 20.136\n"
     ]
    }
   ],
   "source": [
    "\n",
    "for idx,x in enumerate(val_re_im):\n",
    "    if x > 9.5:\n",
    "        print('Relative Improvement ',round(x,3),' JenaBloom RT ', round(JB_val_rt[idx],3),' Jena RT ', round(J_val_rt[idx],3), 'Absolute difference in MS',round((J_val_rt[idx] -JB_val_rt[idx] )*1e3,3))"
   ]
  },
  {
   "cell_type": "code",
   "execution_count": 17,
   "id": "5c2d29b9-bffe-4769-84e7-92cadaa96078",
   "metadata": {},
   "outputs": [],
   "source": [
    "def print_stat(re_s):\n",
    "    print(\"Mean \", round(np.mean(re_s),3))\n",
    "    print(\"STD \", round(np.std(re_s),3))\n",
    "    print(\"Min \", round(np.min(re_s),3))\n",
    "    print(\"25% \", round(np.quantile(re_s,q=0.25),3))\n",
    "    print(\"50% \", round(np.quantile(re_s,q=0.5),3))\n",
    "    print(\"75% \", round(np.quantile(re_s,q=0.75),3))\n",
    "    print(\"Max \", round(np.max(re_s),3))"
   ]
  },
  {
   "cell_type": "code",
   "execution_count": 18,
   "id": "11ba1dc3-8cde-4e77-abdf-488b3c09e22e",
   "metadata": {
    "editable": true,
    "slideshow": {
     "slide_type": ""
    },
    "tags": []
   },
   "outputs": [
    {
     "name": "stdout",
     "output_type": "stream",
     "text": [
      "Mean  3.096\n",
      "STD  9.235\n",
      "Min  -34.161\n",
      "25%  0.0\n",
      "50%  0.0\n",
      "75%  6.144\n",
      "Max  74.439\n"
     ]
    }
   ],
   "source": [
    "print_stat(train_re_im)"
   ]
  },
  {
   "cell_type": "code",
   "execution_count": 19,
   "id": "a53ccc76-1cbe-4e9d-8f9e-b79a5a2687f9",
   "metadata": {},
   "outputs": [
    {
     "name": "stdout",
     "output_type": "stream",
     "text": [
      "Mean  3.218\n",
      "STD  9.991\n",
      "Min  -41.818\n",
      "25%  0.0\n",
      "50%  0.0\n",
      "75%  6.604\n",
      "Max  42.866\n"
     ]
    }
   ],
   "source": [
    "print_stat(val_re_im)"
   ]
  },
  {
   "cell_type": "code",
   "execution_count": 20,
   "id": "df2e650a-b115-4e05-a67b-b53fd6690d32",
   "metadata": {
    "editable": true,
    "slideshow": {
     "slide_type": ""
    },
    "tags": []
   },
   "outputs": [
    {
     "name": "stdout",
     "output_type": "stream",
     "text": [
      "Mean  1.392\n",
      "STD  8.871\n",
      "Min  -46.525\n",
      "25%  0.0\n",
      "50%  0.0\n",
      "75%  5.015\n",
      "Max  23.677\n"
     ]
    }
   ],
   "source": [
    "print_stat(test_re_im)"
   ]
  },
  {
   "cell_type": "markdown",
   "id": "a6590434-a8cc-4069-aa5a-21c5b5b446e9",
   "metadata": {},
   "source": [
    "Hoe many cases can we improve on our test dataset"
   ]
  },
  {
   "cell_type": "code",
   "execution_count": 21,
   "id": "a299a5aa-23c0-4201-89bd-9a6fb356d563",
   "metadata": {},
   "outputs": [
    {
     "data": {
      "text/plain": [
       "32.55813953488372"
      ]
     },
     "execution_count": 21,
     "metadata": {},
     "output_type": "execute_result"
    }
   ],
   "source": [
    "(len([x for x in test_re_im if x > 0]) / len(test_re_im))*100"
   ]
  },
  {
   "cell_type": "code",
   "execution_count": null,
   "id": "acfbe0ff-9a9e-46e5-a3c2-7f9f62319d43",
   "metadata": {},
   "outputs": [],
   "source": [
    "round( np.mean(J_train_rt)- np.mean(JB_train_rt),3),', Jena: ', round(np.mean(J_train_rt),3), ', Bloom Filter',round(np.mean(B_train_rt),3),', Oracle',round(np.mean(oracle_rt_train),3))"
   ]
  },
  {
   "cell_type": "code",
   "execution_count": 28,
   "id": "19ba5c46-707a-4175-8714-0b047669d223",
   "metadata": {
    "editable": true,
    "slideshow": {
     "slide_type": ""
    },
    "tags": []
   },
   "outputs": [
    {
     "data": {
      "text/plain": [
       "0.21037709064211668"
      ]
     },
     "execution_count": 28,
     "metadata": {},
     "output_type": "execute_result"
    }
   ],
   "source": [
    "((np.mean(J_train_rt)- np.mean(JB_train_rt))/np.mean(J_train_rt))*100"
   ]
  },
  {
   "cell_type": "code",
   "execution_count": 36,
   "id": "dbd8573d-51b3-4fa0-b795-389edae1f492",
   "metadata": {},
   "outputs": [],
   "source": [
    "import matplotlib.pyplot as plt\n",
    "\n",
    "def bxp_rel_impr(re, title, save=None):\n",
    "    plt.clf()\n",
    "    plt.figure(figsize=(3,6))\n",
    "    plt.ylabel('Relative Improvement (%)')\n",
    "    plt.title(title)\n",
    "    plt.boxplot(re)\n",
    "    if save != None:\n",
    "        plt.savefig(f'{save_figs}{save}.png')\n",
    "    plt.show()"
   ]
  },
  {
   "cell_type": "code",
   "execution_count": 121,
   "id": "438e2758-7baa-465b-80ec-fb2e5320ebde",
   "metadata": {},
   "outputs": [
    {
     "data": {
      "text/plain": [
       "<Figure size 640x480 with 0 Axes>"
      ]
     },
     "metadata": {},
     "output_type": "display_data"
    },
    {
     "data": {
      "image/png": "[encoded data removed]",
      "text/plain": [
       "<Figure size 200x500 with 1 Axes>"
      ]
     },
     "metadata": {},
     "output_type": "display_data"
    }
   ],
   "source": [
    "def bxp_rel_impr_w_both(re_val,re_test, title, save=None):\n",
    "    plt.clf()\n",
    "    #plt.figure()\n",
    "    fig, ax = plt.subplots(figsize=(2,5))\n",
    "    data = {'Validation': re_val, 'Test': re_test}\n",
    "    ax.boxplot(data.values())\n",
    "    ax.set_xticklabels(data.keys())\n",
    "    plt.ylabel('Relative Improvement (%)')\n",
    "    plt.title(title)\n",
    "    if save != None:\n",
    "        plt.savefig(f'{save_figs}{save}.png', bbox_inches='tight')\n",
    "    plt.show()\n",
    "bxp_rel_impr_w_both(val_re_im,test_re_im, 'Relative Improvement in Runtime', save='rel_impro_rt')"
   ]
  },
  {
   "cell_type": "code",
   "execution_count": 38,
   "id": "061209d8-edbd-4a59-97e0-aab56d0d6835",
   "metadata": {},
   "outputs": [
    {
     "data": {
      "text/plain": [
       "<Figure size 640x480 with 0 Axes>"
      ]
     },
     "metadata": {},
     "output_type": "display_data"
    },
    {
     "data": {
      "image/png": "[encoded data removed]",
      "text/plain": [
       "<Figure size 300x600 with 1 Axes>"
      ]
     },
     "metadata": {},
     "output_type": "display_data"
    }
   ],
   "source": [
    "bxp_rel_impr(test_re_im, \"Improvement on Test Split\",save='test_re_impr_bxp')"
   ]
  },
  {
   "cell_type": "code",
   "execution_count": 37,
   "id": "a5bbcb70-7f40-4f9a-8f2c-4ebe545df3c2",
   "metadata": {},
   "outputs": [
    {
     "data": {
      "text/plain": [
       "<Figure size 640x480 with 0 Axes>"
      ]
     },
     "metadata": {},
     "output_type": "display_data"
    },
    {
     "data": {
      "image/png": "[encoded data removed]",
      "text/plain": [
       "<Figure size 300x600 with 1 Axes>"
      ]
     },
     "metadata": {},
     "output_type": "display_data"
    }
   ],
   "source": [
    "bxp_rel_impr(val_re_im, \"Improvement on Val Split\",save='val_re_impr_bxp')"
   ]
  },
  {
   "cell_type": "code",
   "execution_count": 124,
   "id": "0bbe881d-0c1c-4eb9-85f5-a310d90bddb9",
   "metadata": {},
   "outputs": [
    {
     "name": "stdout",
     "output_type": "stream",
     "text": [
      "Relative Decline  -38.772  JenaBloom RT  0.086  Jena RT  0.062 Absolute difference in MS -23.976\n",
      "Relative Decline  -41.818  JenaBloom RT  0.139  Jena RT  0.098 Absolute difference in MS -40.85\n"
     ]
    }
   ],
   "source": [
    "for idx,x in enumerate(val_re_im):\n",
    "    if x <0:\n",
    "        print('Relative Decline ',round(x,3),' JenaBloom RT ', round(JB_val_rt[idx],3),' Jena RT ', round(J_val_rt[idx],3), 'Absolute difference in MS',round((J_val_rt[idx] -JB_val_rt[idx] )*1e3,3))"
   ]
  },
  {
   "cell_type": "code",
   "execution_count": 123,
   "id": "6d8148d6-4dfd-4db7-b517-681d94f31f15",
   "metadata": {},
   "outputs": [
    {
     "name": "stdout",
     "output_type": "stream",
     "text": [
      "Relative Decline  -10.372  JenaBloom RT  0.013  Jena RT  0.012 Absolute difference in MS -1.245\n",
      "Relative Decline  -3.107  JenaBloom RT  0.035  Jena RT  0.034 Absolute difference in MS -1.062\n",
      "Relative Decline  -18.426  JenaBloom RT  0.003  Jena RT  0.003 Absolute difference in MS -0.514\n",
      "Relative Decline  -46.525  JenaBloom RT  0.067  Jena RT  0.046 Absolute difference in MS -21.386\n",
      "Relative Decline  -38.396  JenaBloom RT  0.085  Jena RT  0.061 Absolute difference in MS -23.533\n"
     ]
    }
   ],
   "source": [
    "for idx,x in enumerate(test_re_im):\n",
    "    if x <0:\n",
    "        print('Relative Decline ',round(x,3),' JenaBloom RT ', round(JB_test_rt[idx],3),' Jena RT ', round(J_test_rt[idx],3), 'Absolute difference in MS',round((J_test_rt[idx] -JB_test_rt[idx] )*1e3,3))"
   ]
  },
  {
   "cell_type": "markdown",
   "id": "b84c1e94-eb8d-4794-9283-d758075ef512",
   "metadata": {},
   "source": [
    "# Runtime Statistics"
   ]
  },
  {
   "cell_type": "code",
   "execution_count": 42,
   "id": "c650d1a3-7d37-41c7-ad79-175a4ffd2076",
   "metadata": {},
   "outputs": [
    {
     "name": "stdout",
     "output_type": "stream",
     "text": [
      "261.6357780000002 508.8141750000006\n"
     ]
    }
   ],
   "source": [
    "def differences_in_MS(J_rt, JB_rt):\n",
    "    return [(j-jb)*1e3 for j, jb in zip(J_rt, JB_rt)]\n",
    "val_dif = differences_in_MS(J_val_rt, JB_val_rt)\n",
    "test_dif = differences_in_MS(J_test_rt, JB_test_rt)\n",
    "print(np.sum(val_dif), np.sum(test_dif))"
   ]
  },
  {
   "cell_type": "code",
   "execution_count": 50,
   "id": "47aa6263-5adb-4844-a2d3-8265f43e0b3e",
   "metadata": {},
   "outputs": [
    {
     "data": {
      "text/html": [
       "<div>\n",
       "<style scoped>\n",
       "    .dataframe tbody tr th:only-of-type {\n",
       "        vertical-align: middle;\n",
       "    }\n",
       "\n",
       "    .dataframe tbody tr th {\n",
       "        vertical-align: top;\n",
       "    }\n",
       "\n",
       "    .dataframe thead th {\n",
       "        text-align: right;\n",
       "    }\n",
       "</style>\n",
       "<table border=\"1\" class=\"dataframe\">\n",
       "  <thead>\n",
       "    <tr style=\"text-align: right;\">\n",
       "      <th></th>\n",
       "      <th>0</th>\n",
       "    </tr>\n",
       "  </thead>\n",
       "  <tbody>\n",
       "    <tr>\n",
       "      <th>0</th>\n",
       "      <td>0.000000</td>\n",
       "    </tr>\n",
       "    <tr>\n",
       "      <th>1</th>\n",
       "      <td>2.184073</td>\n",
       "    </tr>\n",
       "    <tr>\n",
       "      <th>2</th>\n",
       "      <td>0.000000</td>\n",
       "    </tr>\n",
       "    <tr>\n",
       "      <th>3</th>\n",
       "      <td>5.241712</td>\n",
       "    </tr>\n",
       "    <tr>\n",
       "      <th>4</th>\n",
       "      <td>23.151874</td>\n",
       "    </tr>\n",
       "    <tr>\n",
       "      <th>...</th>\n",
       "      <td>...</td>\n",
       "    </tr>\n",
       "    <tr>\n",
       "      <th>79</th>\n",
       "      <td>0.761667</td>\n",
       "    </tr>\n",
       "    <tr>\n",
       "      <th>80</th>\n",
       "      <td>20.135561</td>\n",
       "    </tr>\n",
       "    <tr>\n",
       "      <th>81</th>\n",
       "      <td>0.000000</td>\n",
       "    </tr>\n",
       "    <tr>\n",
       "      <th>82</th>\n",
       "      <td>0.000000</td>\n",
       "    </tr>\n",
       "    <tr>\n",
       "      <th>83</th>\n",
       "      <td>0.000000</td>\n",
       "    </tr>\n",
       "  </tbody>\n",
       "</table>\n",
       "<p>84 rows × 1 columns</p>\n",
       "</div>"
      ],
      "text/plain": [
       "            0\n",
       "0    0.000000\n",
       "1    2.184073\n",
       "2    0.000000\n",
       "3    5.241712\n",
       "4   23.151874\n",
       "..        ...\n",
       "79   0.761667\n",
       "80  20.135561\n",
       "81   0.000000\n",
       "82   0.000000\n",
       "83   0.000000\n",
       "\n",
       "[84 rows x 1 columns]"
      ]
     },
     "execution_count": 50,
     "metadata": {},
     "output_type": "execute_result"
    }
   ],
   "source": [
    "import pandas as pd\n",
    "pd.DataFrame(val_dif)"
   ]
  },
  {
   "cell_type": "code",
   "execution_count": 49,
   "id": "7903ad10-093c-43b7-91e4-66b273301681",
   "metadata": {},
   "outputs": [
    {
     "data": {
      "text/plain": [
       "[-50, -40, -30, -20, -10, 0, 10, 20, 30, 40, 50, 60, 70, 80, 90]"
      ]
     },
     "execution_count": 49,
     "metadata": {},
     "output_type": "execute_result"
    }
   ],
   "source": [
    "list(range(-50,100,10))"
   ]
  },
  {
   "cell_type": "code",
   "execution_count": 122,
   "id": "652d5ee8-4111-46c3-b169-1518954d5e07",
   "metadata": {},
   "outputs": [
    {
     "name": "stdout",
     "output_type": "stream",
     "text": [
      "0\n",
      "(-45.0, -40.0]     1\n",
      "(-25.0, -20.0]     1\n",
      "(-0.1, 0.0]       50\n",
      "(0.0, 5.0]        20\n",
      "(5.0, 10.0]        5\n",
      "(15.0, 20.0]       1\n",
      "(20.0, 25.0]       4\n",
      "(75.0, 80.0]       1\n",
      "(80.0, 85.0]       1\n",
      "Name: count, dtype: int64\n"
     ]
    },
    {
     "data": {
      "image/png": "[encoded data removed]",
      "text/plain": [
       "<Figure size 600x400 with 1 Axes>"
      ]
     },
     "metadata": {},
     "output_type": "display_data"
    },
    {
     "name": "stdout",
     "output_type": "stream",
     "text": [
      "0\n",
      "(-25.0, -20.0]     2\n",
      "(-5.0, -0.1]       3\n",
      "(-0.1, 0.0]       53\n",
      "(0.0, 5.0]        18\n",
      "(5.0, 10.0]        3\n",
      "(10.0, 15.0]       3\n",
      "(20.0, 25.0]       1\n",
      "(25.0, 30.0]       1\n",
      "(50.0, 55.0]       1\n",
      "Name: count, dtype: int64\n"
     ]
    },
    {
     "data": {
      "image/png": "[encoded data removed]",
      "text/plain": [
       "<Figure size 600x400 with 1 Axes>"
      ]
     },
     "metadata": {},
     "output_type": "display_data"
    }
   ],
   "source": [
    "import pandas as pd\n",
    "def difference_in_bar(diffs, title, save = None):\n",
    "    s = pd.DataFrame(diffs)\n",
    "    bins = list(range(-50,100,5))\n",
    "    bins.append(-0.1)\n",
    "    bins = sorted(bins)\n",
    "    out = pd.cut(s[0], bins=bins, include_lowest=True)\n",
    "    out = out.cat.remove_unused_categories()\n",
    "    value_counts = out.value_counts(sort=False)\n",
    "    print(value_counts)\n",
    "    ys = [value_counts.iloc[x] for x in range(len(value_counts))]\n",
    "    ax = out.value_counts(sort=False).plot.bar(rot=0, color=\"b\", figsize=(6,4))\n",
    "    ax.set_xticklabels([f\"{int(c.left)} to {int(c.right)}\" for c in out.cat.categories],rotation = 45, ha=\"right\")\n",
    "    plt.title(title)\n",
    "    plt.xlabel('Intervals (MS)')\n",
    "    plt.ylabel('Queries')\n",
    "    if save != None:\n",
    "        plt.savefig(f'{save_figs}{save}.png', bbox_inches='tight')\n",
    "    plt.show()\n",
    "difference_in_bar(val_dif, 'Validation Runtime Improvements', save='no_improvements_val')\n",
    "difference_in_bar(test_dif, 'Test Runtime Improvements', save='no_improvements_test')"
   ]
  }
 ],
 "metadata": {
  "kernelspec": {
   "display_name": "Python 3 (ipykernel)",
   "language": "python",
   "name": "python3"
  },
  "language_info": {
   "codemirror_mode": {
    "name": "ipython",
    "version": 3
   },
   "file_extension": ".py",
   "mimetype": "text/x-python",
   "name": "python",
   "nbconvert_exporter": "python",
   "pygments_lexer": "ipython3",
   "version": "3.10.7"
  }
 },
 "nbformat": 4,
 "nbformat_minor": 5
}
