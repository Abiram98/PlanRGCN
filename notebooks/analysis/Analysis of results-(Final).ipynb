{
 "cells": [
  {
   "cell_type": "code",
   "execution_count": 1,
   "id": "80ce217e-3fe0-497e-8a32-67dd6d35758e",
   "metadata": {},
   "outputs": [],
   "source": [
    "%load_ext autoreload\n",
    "%autoreload 2\n",
    "import json\n",
    "import dgl\n",
    "from sklearn.metrics import f1_score\n",
    "import torch as th\n",
    "import dgl.nn.pytorch as dglnn\n",
    "import torch.nn as nn\n",
    "from dgl.dataloading import GraphDataLoader\n",
    "import torch.nn.functional as F\n",
    "import networkx as nx\n",
    "import warnings\n",
    "from feature_extraction.base_featurizer import BaseFeaturizer\n",
    "import torch\n",
    "from graph_construction.tps_graph import create_dummy_dgl_graph, tps_graph\n",
    "import numpy as np\n",
    "\n",
    "from dgl_classifier.trainer import GraphDataset,snap_pred, tps_to_dgl, get_clasification_vec,\\\n",
    "tps_graph_const, extract_data, runner\n",
    "\n",
    "\n",
    "import warnings\n",
    "\n",
    "from preprocessing.utils import load_BGPS_from_json\n",
    "warnings.filterwarnings('ignore', category=UserWarning, message='TypedStorage is deprecated')"
   ]
  },
  {
   "cell_type": "code",
   "execution_count": 2,
   "id": "41f4c956-53a3-4d33-994b-a93fb33aaf42",
   "metadata": {},
   "outputs": [],
   "source": [
    "import json\n",
    "path_to_res = '/work/data/results/8_6_2023_tp_graph_5re.txt'\n",
    "path_to_res = '/work/data/results/8_6_2023_tp_graph_5re.txt'\n",
    "results = json.load(open(path_to_res))"
   ]
  },
  {
   "cell_type": "code",
   "execution_count": 3,
   "id": "6168544a-7a88-4962-bc9c-c29062d84254",
   "metadata": {},
   "outputs": [],
   "source": [
    "save_figs = '/work/files/'"
   ]
  },
  {
   "cell_type": "code",
   "execution_count": 4,
   "id": "006c6299-533b-4b73-8a56-30dcc1ba4c7e",
   "metadata": {},
   "outputs": [
    {
     "data": {
      "text/plain": [
       "Classifier(\n",
       "  (dropout): Dropout(p=0.2, inplace=False)\n",
       "  (conv1): RelGraphConv(\n",
       "    (linear_r): TypedLinear(in_size=113, out_size=64, num_types=8)\n",
       "    (dropout): Dropout(p=0.0, inplace=False)\n",
       "  )\n",
       "  (conv2): RelGraphConv(\n",
       "    (linear_r): TypedLinear(in_size=64, out_size=64, num_types=8)\n",
       "    (dropout): Dropout(p=0.0, inplace=False)\n",
       "  )\n",
       "  (classify): Linear(in_features=64, out_features=2, bias=True)\n",
       ")"
      ]
     },
     "execution_count": 4,
     "metadata": {},
     "output_type": "execute_result"
    }
   ],
   "source": [
    "import torch\n",
    "class Classifier(nn.Module):\n",
    "    def __init__(self, in_dim, hidden_dim, n_classes):\n",
    "        super(Classifier, self).__init__()\n",
    "        self.conv1 = dglnn.RelGraphConv(in_dim, hidden_dim, 8)\n",
    "        #self.conv1 = dglnn.GraphConv(in_dim, hidden_ˇdim)\n",
    "        self.conv2 = dglnn.RelGraphConv(hidden_dim, hidden_dim, 8)\n",
    "        #self.conv2 = dglnn.GraphConv(hidden_dim, hidden_dim)\n",
    "        self.classify = nn.Linear(hidden_dim, n_classes)\n",
    "\n",
    "    def forward(self, g, h, rel_types):\n",
    "        # Apply graph convolution and activation.\n",
    "        h = F.relu(self.conv1(g, h, rel_types))\n",
    "        h = F.relu(self.conv2(g, h, rel_types))\n",
    "        with g.local_scope():\n",
    "            g.ndata['node_features'] = h\n",
    "            # Calculate graph representation by average readout.\n",
    "            hg = dgl.mean_nodes(g, 'node_features')\n",
    "            return F.softmax( self.classify(hg), dim=1)\n",
    "            #return F.sigmoid( self.classify(hg))\n",
    "class Classifier(nn.Module):\n",
    "    def __init__(self, in_dim, hidden_dim, n_classes):\n",
    "        super(Classifier, self).__init__()\n",
    "        self.dropout = torch.nn.Dropout(.2)\n",
    "        self.conv1 = dglnn.RelGraphConv(in_dim, hidden_dim, 8)\n",
    "        #self.conv1 = dglnn.GraphConv(in_dim, hidden_ˇdim)\n",
    "        self.conv2 = dglnn.RelGraphConv(hidden_dim, hidden_dim, 8)\n",
    "        #self.conv2 = dglnn.GraphConv(hidden_dim, hidden_dim)\n",
    "        self.classify = nn.Linear(hidden_dim, n_classes)\n",
    "\n",
    "    def forward(self, g, h, rel_types):\n",
    "        # Apply graph convolution and activation.\n",
    "        h = self.dropout(h)\n",
    "        h = F.relu(self.conv1(g, h, rel_types))\n",
    "        h = self.dropout(h)\n",
    "        h = F.relu(self.conv2(g, h, rel_types))\n",
    "        h = self.dropout(h)\n",
    "        with g.local_scope():\n",
    "            g.ndata['node_features'] = h\n",
    "            # Calculate graph representation by average readout.\n",
    "            hg = dgl.mean_nodes(g, 'node_features')\n",
    "            return F.softmax( self.classify(hg), dim=1)\n",
    "#model = Classifier(113, 20, 1)\n",
    "best_model_path = '/work/data/models8_6/best_f1_model_178.pt'\n",
    "#best_model_path = '/work/data/models8_6/model_107.pt'\n",
    "model = torch.load(best_model_path)\n",
    "model.eval()\n",
    "model"
   ]
  },
  {
   "cell_type": "code",
   "execution_count": 5,
   "id": "ddc47f55-8548-4c6d-82f9-69f1e28b4cc1",
   "metadata": {
    "editable": true,
    "slideshow": {
     "slide_type": ""
    },
    "tags": []
   },
   "outputs": [
    {
     "name": "stderr",
     "output_type": "stream",
     "text": [
      "/usr/local/lib/python3.10/dist-packages/dgl/backend/pytorch/tensor.py:52: UserWarning: Creating a tensor from a list of numpy.ndarrays is extremely slow. Please consider converting the list to a single numpy.ndarray with numpy.array() before converting to a tensor. (Triggered internally at ../torch/csrc/utils/tensor_new.cpp:245.)\n",
      "  return th.as_tensor(data, dtype=dtype)\n"
     ]
    }
   ],
   "source": [
    "from dgl_classifier. trainer import predict2samples\n",
    "train_file = '/work/data/splits/splits_0.050/train.json'\n",
    "val_file = '/work/data/splits/splits_0.050/val.json'\n",
    "test_file = '/work/data/splits/splits_0.050/test.json'\n",
    "train_data, val_data,test_data = predict2samples(model,train_file, val_file, test_file, community_no=10, verbose=True, clust_verbose=False, clust_load_path='/work/data/confs/May2/pred_clust.json')"
   ]
  },
  {
   "cell_type": "code",
   "execution_count": 6,
   "id": "30cbc58a-2b48-4986-9f0c-146f410bb590",
   "metadata": {
    "editable": true,
    "slideshow": {
     "slide_type": ""
    },
    "tags": []
   },
   "outputs": [],
   "source": [
    "from dgl_classifier.post import *\n",
    "JB_train_rt, oracle_rt_train = get_runtime(train_data)\n",
    "J_train_rt, B_train_rt = get_runtimes_wo_pred(train_data)\n",
    "\n",
    "JB_val_rt, oracle_rt_val = get_runtime(val_data)\n",
    "J_val_rt, B_val_rt = get_runtimes_wo_pred(val_data)\n",
    "\n",
    "JB_test_rt, oracle_rt_test = get_runtime(test_data)\n",
    "J_test_rt, B_test_rt = get_runtimes_wo_pred(test_data)"
   ]
  },
  {
   "cell_type": "markdown",
   "id": "21236640-9859-460f-b5ee-2a29569b4bf6",
   "metadata": {},
   "source": [
    "Here, we investigate what the average runtime with JenaBloom (Prediction), Jena, BF and Oracle (perfect classifier). The metric is in S, here."
   ]
  },
  {
   "cell_type": "code",
   "execution_count": 7,
   "id": "8a3e7661-b648-4fab-8042-15cb08605d98",
   "metadata": {
    "editable": true,
    "slideshow": {
     "slide_type": ""
    },
    "tags": []
   },
   "outputs": [
    {
     "name": "stdout",
     "output_type": "stream",
     "text": [
      "Train\n",
      " \tWith Predictions  7.421 , Jena:  7.434 , Bloom Filter 8.161 , Oracle 7.407\n",
      "Validation\n",
      " \tWith Predictions  8.47 , Jena:  8.627 , Bloom Filter 9.019 , Oracle 8.466\n",
      "Test\n",
      " \tWith Predictions  4.183 , Jena:  4.189 , Bloom Filter 4.637 , Oracle 4.179\n"
     ]
    }
   ],
   "source": [
    "print('Train\\n','\\tWith Predictions ',round(np.mean(JB_train_rt),3),', Jena: ', round(np.mean(J_train_rt),3), ', Bloom Filter',round(np.mean(B_train_rt),3),', Oracle',round(np.mean(oracle_rt_train),3))\n",
    "print('Validation\\n','\\tWith Predictions ',round(np.mean(JB_val_rt),3),', Jena: ', round(np.mean(J_val_rt),3), ', Bloom Filter',round(np.mean(B_val_rt),3), ', Oracle',round(np.mean(oracle_rt_val),3))\n",
    "print('Test\\n','\\tWith Predictions ',round(np.mean(JB_test_rt),3),', Jena: ', round(np.mean(J_test_rt),3), ', Bloom Filter',round(np.mean(B_test_rt),3),', Oracle',round(np.mean(oracle_rt_test),3))"
   ]
  },
  {
   "cell_type": "markdown",
   "id": "2b241104-8120-410f-adb8-7311cdba4ad2",
   "metadata": {
    "editable": true,
    "slideshow": {
     "slide_type": ""
    },
    "tags": []
   },
   "source": [
    "Now, we look into the relative improvements that we make possible with our model.\n",
    "So these a wrt. to the Jena runtimes, (Jena runtimes are the \"true\", runtimes)"
   ]
  },
  {
   "cell_type": "code",
   "execution_count": 8,
   "id": "d7fe64e5-fe7d-4705-b414-ac07cabde7e6",
   "metadata": {
    "editable": true,
    "slideshow": {
     "slide_type": ""
    },
    "tags": []
   },
   "outputs": [],
   "source": [
    "def relative_improvements(JB_rt, J):\n",
    "    return [(( j-jb)/j)*100 for jb, j in zip(JB_rt, J)] \n",
    "train_re_im = relative_improvements(JB_train_rt,J_train_rt)\n",
    "val_re_im = relative_improvements(JB_val_rt,J_val_rt)\n",
    "test_re_im = relative_improvements(JB_test_rt,J_test_rt)"
   ]
  },
  {
   "cell_type": "code",
   "execution_count": 9,
   "id": "37dee134-3e46-4143-a91f-897a10b4a40a",
   "metadata": {},
   "outputs": [],
   "source": [
    "o_train_re_im = relative_improvements(oracle_rt_train,J_train_rt)\n",
    "o_val_re_im = relative_improvements(oracle_rt_val,J_val_rt)\n",
    "o_test_re_im = relative_improvements(oracle_rt_val,J_test_rt)"
   ]
  },
  {
   "cell_type": "code",
   "execution_count": 10,
   "id": "5c2d29b9-bffe-4769-84e7-92cadaa96078",
   "metadata": {},
   "outputs": [],
   "source": [
    "def print_stat(re_s):\n",
    "    print(\"Mean \", round(np.mean(re_s),3))\n",
    "    print(\"STD \", round(np.std(re_s),3))\n",
    "    print(\"Min \", round(np.min(re_s),3))\n",
    "    print(\"25% \", round(np.quantile(re_s,q=0.25),3))\n",
    "    print(\"50% \", round(np.quantile(re_s,q=0.5),3))\n",
    "    print(\"75% \", round(np.quantile(re_s,q=0.75),3))\n",
    "    print(\"Max \", round(np.max(re_s),3))"
   ]
  },
  {
   "cell_type": "code",
   "execution_count": 11,
   "id": "11ba1dc3-8cde-4e77-abdf-488b3c09e22e",
   "metadata": {
    "editable": true,
    "slideshow": {
     "slide_type": ""
    },
    "tags": []
   },
   "outputs": [
    {
     "name": "stdout",
     "output_type": "stream",
     "text": [
      "Mean  3.235\n",
      "STD  9.187\n",
      "Min  -34.161\n",
      "25%  0.0\n",
      "50%  0.0\n",
      "75%  6.161\n",
      "Max  74.439\n"
     ]
    }
   ],
   "source": [
    "print_stat(train_re_im)"
   ]
  },
  {
   "cell_type": "code",
   "execution_count": 12,
   "id": "a53ccc76-1cbe-4e9d-8f9e-b79a5a2687f9",
   "metadata": {},
   "outputs": [
    {
     "name": "stdout",
     "output_type": "stream",
     "text": [
      "Mean  3.049\n",
      "STD  9.932\n",
      "Min  -41.818\n",
      "25%  0.0\n",
      "50%  0.0\n",
      "75%  6.377\n",
      "Max  42.866\n"
     ]
    }
   ],
   "source": [
    "print_stat(val_re_im)"
   ]
  },
  {
   "cell_type": "code",
   "execution_count": 13,
   "id": "df2e650a-b115-4e05-a67b-b53fd6690d32",
   "metadata": {
    "editable": true,
    "slideshow": {
     "slide_type": ""
    },
    "tags": []
   },
   "outputs": [
    {
     "name": "stdout",
     "output_type": "stream",
     "text": [
      "Mean  1.096\n",
      "STD  8.638\n",
      "Min  -46.525\n",
      "25%  0.0\n",
      "50%  0.0\n",
      "75%  4.307\n",
      "Max  23.677\n"
     ]
    }
   ],
   "source": [
    "print_stat(test_re_im)"
   ]
  },
  {
   "cell_type": "markdown",
   "id": "04a4ac2f-88a7-4ebf-a625-311219691c7d",
   "metadata": {},
   "source": [
    "The improvements in the upper Quantile of validation"
   ]
  },
  {
   "cell_type": "code",
   "execution_count": 14,
   "id": "4d4877fe-a928-419d-a65b-156d0f86f3b5",
   "metadata": {},
   "outputs": [
    {
     "name": "stdout",
     "output_type": "stream",
     "text": [
      "Validation AVG (upper tier 13.504\n",
      "Test AVG (upper tier 9.418\n"
     ]
    }
   ],
   "source": [
    "#average in upper quantile:\n",
    "temp = []\n",
    "for idx,x in enumerate(val_re_im):\n",
    "    if x > 6.36:\n",
    "        temp.append(x)\n",
    "print('Validation AVG (upper tier', round(np.mean(temp),3))\n",
    "temp = []\n",
    "for idx,x in enumerate(test_re_im):\n",
    "    if x > 4.3:\n",
    "        temp.append(x)\n",
    "print('Test AVG (upper tier', round(np.mean(temp),3))"
   ]
  },
  {
   "cell_type": "code",
   "execution_count": 15,
   "id": "4f519f71-dd87-4fc5-9d0d-adc8cb0ec496",
   "metadata": {
    "editable": true,
    "slideshow": {
     "slide_type": ""
    },
    "tags": []
   },
   "outputs": [
    {
     "name": "stdout",
     "output_type": "stream",
     "text": [
      "Relative Improvement  9.158  JenaBloom RT  0.022  Jena RT  0.024 Absolute difference in MS 2.184\n",
      "Relative Improvement  17.005  JenaBloom RT  0.026  Jena RT  0.031 Absolute difference in MS 5.242\n",
      "Relative Improvement  10.751  JenaBloom RT  0.192  Jena RT  0.215 Absolute difference in MS 23.152\n",
      "Relative Improvement  6.208  JenaBloom RT  0.011  Jena RT  0.012 Absolute difference in MS 0.736\n",
      "Relative Improvement  42.866  JenaBloom RT  0.028  Jena RT  0.048 Absolute difference in MS 20.636\n",
      "Relative Improvement  22.282  JenaBloom RT  0.007  Jena RT  0.01 Absolute difference in MS 2.127\n",
      "Relative Improvement  8.819  JenaBloom RT  0.038  Jena RT  0.042 Absolute difference in MS 3.686\n",
      "Relative Improvement  6.967  JenaBloom RT  0.014  Jena RT  0.016 Absolute difference in MS 1.084\n",
      "Relative Improvement  26.28  JenaBloom RT  0.024  Jena RT  0.033 Absolute difference in MS 8.58\n",
      "Relative Improvement  7.232  JenaBloom RT  0.053  Jena RT  0.057 Absolute difference in MS 4.125\n",
      "Relative Improvement  11.692  JenaBloom RT  0.07  Jena RT  0.08 Absolute difference in MS 9.322\n",
      "Relative Improvement  6.729  JenaBloom RT  1.044  Jena RT  1.12 Absolute difference in MS 75.354\n",
      "Relative Improvement  6.562  JenaBloom RT  0.021  Jena RT  0.022 Absolute difference in MS 1.445\n",
      "Relative Improvement  8.157  JenaBloom RT  0.055  Jena RT  0.06 Absolute difference in MS 4.909\n",
      "Relative Improvement  6.059  JenaBloom RT  0.024  Jena RT  0.026 Absolute difference in MS 1.566\n",
      "Relative Improvement  15.973  JenaBloom RT  0.135  Jena RT  0.161 Absolute difference in MS 25.748\n",
      "Relative Improvement  7.799  JenaBloom RT  0.012  Jena RT  0.014 Absolute difference in MS 1.055\n",
      "Relative Improvement  10.121  JenaBloom RT  0.007  Jena RT  0.008 Absolute difference in MS 0.762\n",
      "Relative Improvement  27.187  JenaBloom RT  0.226  Jena RT  0.31 Absolute difference in MS 84.343\n",
      "Relative Improvement  6.316  JenaBloom RT  0.012  Jena RT  0.013 Absolute difference in MS 0.837\n",
      "Relative Improvement  7.452  JenaBloom RT  0.03  Jena RT  0.033 Absolute difference in MS 2.442\n",
      "Relative Improvement  11.197  JenaBloom RT  0.012  Jena RT  0.014 Absolute difference in MS 1.537\n",
      "Relative Improvement  8.617  JenaBloom RT  0.027  Jena RT  0.029 Absolute difference in MS 2.542\n",
      "Relative Improvement  10.734  JenaBloom RT  0.167  Jena RT  0.188 Absolute difference in MS 20.136\n"
     ]
    }
   ],
   "source": [
    "for idx,x in enumerate(val_re_im):\n",
    "    if x > 6:\n",
    "        print('Relative Improvement ',round(x,3),' JenaBloom RT ', round(JB_val_rt[idx],3),' Jena RT ', round(J_val_rt[idx],3), 'Absolute difference in MS',round((J_val_rt[idx] -JB_val_rt[idx] )*1e3,3))"
   ]
  },
  {
   "cell_type": "markdown",
   "id": "d0fac6d8-a89c-4fa0-bc06-6eae755df3e4",
   "metadata": {},
   "source": [
    "Same with Test instead."
   ]
  },
  {
   "cell_type": "code",
   "execution_count": 16,
   "id": "b4b291e9-60ec-433b-aae7-8462393f2b69",
   "metadata": {},
   "outputs": [
    {
     "name": "stdout",
     "output_type": "stream",
     "text": [
      "Relative Improvement  11.458  JenaBloom RT  0.005  Jena RT  0.005 Absolute difference in MS 0.617\n",
      "Relative Improvement  13.352  JenaBloom RT  0.192  Jena RT  0.222 Absolute difference in MS 29.655\n",
      "Relative Improvement  5.236  JenaBloom RT  0.174  Jena RT  0.183 Absolute difference in MS 9.588\n",
      "Relative Improvement  6.555  JenaBloom RT  0.02  Jena RT  0.021 Absolute difference in MS 1.384\n",
      "Relative Improvement  6.334  JenaBloom RT  0.037  Jena RT  0.039 Absolute difference in MS 2.476\n",
      "Relative Improvement  13.542  JenaBloom RT  0.014  Jena RT  0.017 Absolute difference in MS 2.269\n",
      "Relative Improvement  6.373  JenaBloom RT  0.027  Jena RT  0.029 Absolute difference in MS 1.832\n",
      "Relative Improvement  7.784  JenaBloom RT  0.28  Jena RT  0.304 Absolute difference in MS 23.659\n",
      "Relative Improvement  8.653  JenaBloom RT  0.005  Jena RT  0.005 Absolute difference in MS 0.473\n",
      "Relative Improvement  14.795  JenaBloom RT  0.06  Jena RT  0.07 Absolute difference in MS 10.407\n",
      "Relative Improvement  10.469  JenaBloom RT  0.073  Jena RT  0.082 Absolute difference in MS 8.584\n",
      "Relative Improvement  14.949  JenaBloom RT  0.043  Jena RT  0.05 Absolute difference in MS 7.507\n",
      "Relative Improvement  5.703  JenaBloom RT  0.013  Jena RT  0.014 Absolute difference in MS 0.778\n",
      "Relative Improvement  5.859  JenaBloom RT  0.009  Jena RT  0.01 Absolute difference in MS 0.583\n",
      "Relative Improvement  5.803  JenaBloom RT  0.869  Jena RT  0.923 Absolute difference in MS 53.55\n",
      "Relative Improvement  23.677  JenaBloom RT  0.034  Jena RT  0.045 Absolute difference in MS 10.571\n",
      "Relative Improvement  9.708  JenaBloom RT  0.007  Jena RT  0.007 Absolute difference in MS 0.704\n",
      "Relative Improvement  4.176  JenaBloom RT  8.4  Jena RT  8.766 Absolute difference in MS 366.089\n",
      "Relative Improvement  4.351  JenaBloom RT  0.053  Jena RT  0.055 Absolute difference in MS 2.395\n",
      "Relative Improvement  7.7  JenaBloom RT  0.034  Jena RT  0.037 Absolute difference in MS 2.857\n",
      "Relative Improvement  9.15  JenaBloom RT  0.022  Jena RT  0.024 Absolute difference in MS 2.17\n",
      "Relative Improvement  5.504  JenaBloom RT  0.024  Jena RT  0.026 Absolute difference in MS 1.425\n",
      "Relative Improvement  10.238  JenaBloom RT  0.015  Jena RT  0.016 Absolute difference in MS 1.66\n"
     ]
    }
   ],
   "source": [
    "for idx,x in enumerate(test_re_im):\n",
    "    if x > 4:\n",
    "        print('Relative Improvement ',round(x,3),' JenaBloom RT ', round(JB_test_rt[idx],3),' Jena RT ', round(J_test_rt[idx],3), 'Absolute difference in MS',round((J_test_rt[idx] -JB_test_rt[idx] )*1e3,3))"
   ]
  },
  {
   "cell_type": "markdown",
   "id": "a6590434-a8cc-4069-aa5a-21c5b5b446e9",
   "metadata": {},
   "source": [
    "How many cases can we improve on our test dataset?"
   ]
  },
  {
   "cell_type": "code",
   "execution_count": 78,
   "id": "a299a5aa-23c0-4201-89bd-9a6fb356d563",
   "metadata": {},
   "outputs": [
    {
     "data": {
      "text/plain": [
       "31.395"
      ]
     },
     "execution_count": 78,
     "metadata": {},
     "output_type": "execute_result"
    }
   ],
   "source": [
    "round((len([x for x in test_re_im if x > 0]) / len(test_re_im))*100,3)"
   ]
  },
  {
   "cell_type": "code",
   "execution_count": 77,
   "id": "c8417a3f-f437-49d0-936c-4d7078af8ca9",
   "metadata": {},
   "outputs": [
    {
     "data": {
      "text/plain": [
       "34.94"
      ]
     },
     "execution_count": 77,
     "metadata": {},
     "output_type": "execute_result"
    }
   ],
   "source": [
    "round((len([x for x in train_re_im if x > 0]) / len(train_re_im))*100,3)"
   ]
  },
  {
   "cell_type": "markdown",
   "id": "94bfe799-fc73-43bc-8949-2d4e7f162709",
   "metadata": {},
   "source": [
    "How many cases can we improve on our Validation dataset?"
   ]
  },
  {
   "cell_type": "code",
   "execution_count": 76,
   "id": "cf678d8e-7801-444c-98bb-6be908966b7b",
   "metadata": {},
   "outputs": [
    {
     "data": {
      "text/plain": [
       "38.095"
      ]
     },
     "execution_count": 76,
     "metadata": {},
     "output_type": "execute_result"
    }
   ],
   "source": [
    "round((len([x for x in val_re_im if x > 0]) / len(val_re_im))*100,3)"
   ]
  },
  {
   "cell_type": "markdown",
   "id": "72c4c6a0-77bf-4187-bd93-9fd44681f425",
   "metadata": {},
   "source": [
    "For train, RT gain for train, jena runtime, BF runtime, and JenaBloom"
   ]
  },
  {
   "cell_type": "code",
   "execution_count": 19,
   "id": "acfbe0ff-9a9e-46e5-a3c2-7f9f62319d43",
   "metadata": {},
   "outputs": [
    {
     "data": {
      "text/plain": [
       "(0.014,\n",
       " ', Jena: ',\n",
       " 7.434,\n",
       " ', Bloom Filter',\n",
       " 8.161,\n",
       " ', Oracle',\n",
       " 7.407,\n",
       " ', JenaBloom',\n",
       " 7.421)"
      ]
     },
     "execution_count": 19,
     "metadata": {},
     "output_type": "execute_result"
    }
   ],
   "source": [
    "round( np.mean(J_train_rt)- np.mean(JB_train_rt),3), ', Jena: ', round(np.mean(J_train_rt),3), ', Bloom Filter', round(np.mean(B_train_rt),3), ', Oracle', round(np.mean(oracle_rt_train),3),', JenaBloom', round(np.mean(JB_train_rt),3)"
   ]
  },
  {
   "cell_type": "markdown",
   "id": "abd59c39-9912-40d0-9bbb-ab726321fa92",
   "metadata": {},
   "source": [
    "Improvement in terms of the runtime in MS."
   ]
  },
  {
   "cell_type": "code",
   "execution_count": 20,
   "id": "04ec1f86-e167-4c96-a1d0-98e9a472beac",
   "metadata": {},
   "outputs": [
    {
     "name": "stdout",
     "output_type": "stream",
     "text": [
      "3395.106\n",
      "13169.743\n",
      "485.186\n"
     ]
    },
    {
     "data": {
      "text/plain": [
       "485.1863370001083"
      ]
     },
     "execution_count": 20,
     "metadata": {},
     "output_type": "execute_result"
    }
   ],
   "source": [
    "def improvement(J, JB):\n",
    "    J = [x*1e3 for x in J]\n",
    "    JB = [x*1e3 for x in JB]\n",
    "    sum_J = np.sum(J)\n",
    "    sum_JB = np.sum(JB)\n",
    "    print(round(((sum_J-sum_JB)),3))\n",
    "    return ((sum_J-sum_JB))\n",
    "improvement(J_train_rt, JB_train_rt)\n",
    "improvement(J_val_rt, JB_val_rt)\n",
    "improvement(J_test_rt, JB_test_rt)"
   ]
  },
  {
   "cell_type": "markdown",
   "id": "820e8068-70fa-4598-8e58-fdb6dbc2bb2f",
   "metadata": {},
   "source": [
    "The average RT improvement over Jena"
   ]
  },
  {
   "cell_type": "code",
   "execution_count": 21,
   "id": "cdc8a43a-4c77-4af3-b933-d8003dec5410",
   "metadata": {},
   "outputs": [
    {
     "name": "stdout",
     "output_type": "stream",
     "text": [
      "0.183\n",
      "1.817\n",
      "0.135\n"
     ]
    },
    {
     "data": {
      "text/plain": [
       "0.13468653640312844"
      ]
     },
     "execution_count": 21,
     "metadata": {},
     "output_type": "execute_result"
    }
   ],
   "source": [
    "def rt_improvement(J, JB):\n",
    "    sum_J = np.sum(J)\n",
    "    sum_JB = np.sum(JB)\n",
    "    print(round( ((sum_J-sum_JB)/sum_J)*100,3))\n",
    "    return ((sum_J-sum_JB)/sum_J)*100\n",
    "rt_improvement(J_train_rt, JB_train_rt)\n",
    "rt_improvement(J_val_rt, JB_val_rt)\n",
    "rt_improvement(J_test_rt, JB_test_rt)"
   ]
  },
  {
   "cell_type": "markdown",
   "id": "a00b6b2c-f4cd-4cb1-92f4-94f3c539861e",
   "metadata": {},
   "source": [
    "Workload speedup"
   ]
  },
  {
   "cell_type": "code",
   "execution_count": 22,
   "id": "824d819f-dc84-4ac1-8de2-4e6c410ce1ce",
   "metadata": {},
   "outputs": [
    {
     "name": "stdout",
     "output_type": "stream",
     "text": [
      "1.0018374312374008\n",
      "1.018510177976745\n",
      "1.0013486818569115\n"
     ]
    }
   ],
   "source": [
    "def speedup(J, JB):\n",
    "    sum_J = np.sum(J)\n",
    "    sum_JB = np.sum(JB)\n",
    "    print(sum_J/sum_JB)\n",
    "speedup(J_train_rt, JB_train_rt)\n",
    "speedup(J_val_rt, JB_val_rt)\n",
    "speedup(J_test_rt, JB_test_rt)"
   ]
  },
  {
   "cell_type": "code",
   "execution_count": 23,
   "id": "d835bd4b-1a30-41a1-b315-378be8307b88",
   "metadata": {},
   "outputs": [
    {
     "name": "stdout",
     "output_type": "stream",
     "text": [
      "1.0036463247311769\n",
      "1.018975711138944\n",
      "1.0024136072241754\n"
     ]
    }
   ],
   "source": [
    "speedup(J_train_rt, oracle_rt_train)\n",
    "speedup(J_val_rt, oracle_rt_val)\n",
    "speedup(J_test_rt, oracle_rt_test)"
   ]
  },
  {
   "cell_type": "markdown",
   "id": "a88e5021-8319-493a-bcd7-325295652400",
   "metadata": {},
   "source": [
    "This is a macro average, which means that outliers (few bad predictions) can dominate these numbers.\n",
    "This is also what happens."
   ]
  },
  {
   "cell_type": "code",
   "execution_count": 24,
   "id": "dbd8573d-51b3-4fa0-b795-389edae1f492",
   "metadata": {},
   "outputs": [],
   "source": [
    "import matplotlib.pyplot as plt\n",
    "\n",
    "def bxp_rel_impr(re, title, save=None):\n",
    "    plt.clf()\n",
    "    plt.figure(figsize=(3,6))\n",
    "    plt.ylabel('Relative Improvement (%)')\n",
    "    plt.title(title)\n",
    "    plt.boxplot(re)\n",
    "    if save != None:\n",
    "        plt.savefig(f'{save_figs}{save}.png')\n",
    "    plt.show()"
   ]
  },
  {
   "cell_type": "markdown",
   "id": "06f36bf0-9f71-45d1-a690-cc6725553152",
   "metadata": {},
   "source": [
    "We plot the Relative Improvements for validation and test dataset"
   ]
  },
  {
   "cell_type": "code",
   "execution_count": 65,
   "id": "438e2758-7baa-465b-80ec-fb2e5320ebde",
   "metadata": {},
   "outputs": [
    {
     "data": {
      "text/plain": [
       "<Figure size 640x480 with 0 Axes>"
      ]
     },
     "metadata": {},
     "output_type": "display_data"
    },
    {
     "data": {
      "image/png": "[encoded data removed]",
      "text/plain": [
       "<Figure size 500x600 with 1 Axes>"
      ]
     },
     "metadata": {},
     "output_type": "display_data"
    }
   ],
   "source": [
    "import pandas as pd\n",
    "\n",
    "def bxp_rel_impr_w_both(re_val,re_test, title, save=None):\n",
    "    for col_name,rel_impr  in zip(['Val Speedup','Test Speedup'], [re_val,re_test]):\n",
    "        d = {col_name:rel_impr}\n",
    "        df = pd.DataFrame(d)\n",
    "        df.to_csv(f'{save_figs}{save}_{col_name}.csv', index = False)\n",
    "    plt.clf()\n",
    "    #plt.figure()\n",
    "    fig, ax = plt.subplots(figsize=(5,6))\n",
    "    data = {'Validation': re_val, 'Test': re_test}\n",
    "    ax.boxplot(data.values())\n",
    "    ax.set_xticklabels(data.keys())\n",
    "    plt.ylabel('Relative Improvement (%)')\n",
    "    plt.title(title)\n",
    "    if save != None:\n",
    "        plt.savefig(f'{save_figs}{save}.png', bbox_inches='tight')\n",
    "    plt.show()\n",
    "bxp_rel_impr_w_both(val_re_im,test_re_im, 'Relative Improvement in Runtime', save='rel_impro_rt')"
   ]
  },
  {
   "cell_type": "markdown",
   "id": "aac39f1b-00e9-4b22-aa3a-40d7d6ba89bf",
   "metadata": {},
   "source": [
    "So as observable, we have few bad classifications, 2 for validation and 5\n",
    "These are the ones that dominate the macro average."
   ]
  },
  {
   "cell_type": "code",
   "execution_count": 26,
   "id": "b05a7624-266a-46a5-bf7a-e9ebad95d621",
   "metadata": {},
   "outputs": [],
   "source": [
    "#print(val_re_im)\n",
    "#print(test_re_im)"
   ]
  },
  {
   "cell_type": "code",
   "execution_count": 27,
   "id": "061209d8-edbd-4a59-97e0-aab56d0d6835",
   "metadata": {},
   "outputs": [
    {
     "data": {
      "text/plain": [
       "<Figure size 640x480 with 0 Axes>"
      ]
     },
     "metadata": {},
     "output_type": "display_data"
    },
    {
     "data": {
      "image/png": "[encoded data removed]",
      "text/plain": [
       "<Figure size 300x600 with 1 Axes>"
      ]
     },
     "metadata": {},
     "output_type": "display_data"
    }
   ],
   "source": [
    "bxp_rel_impr(test_re_im, \"Improvement on Test Split\",save='test_re_impr_bxp')"
   ]
  },
  {
   "cell_type": "code",
   "execution_count": 28,
   "id": "a5bbcb70-7f40-4f9a-8f2c-4ebe545df3c2",
   "metadata": {},
   "outputs": [],
   "source": [
    "#bxp_rel_impr(val_re_im, \"Improvement on Val Split\",save='val_re_impr_bxp')"
   ]
  },
  {
   "cell_type": "code",
   "execution_count": 29,
   "id": "5a7bc40c-9e43-48cd-a1b1-d59ca13c787e",
   "metadata": {},
   "outputs": [
    {
     "name": "stdout",
     "output_type": "stream",
     "text": [
      "Relative Decline  -38.772  JenaBloom RT  0.086  Jena RT  0.062 Absolute difference in MS -23.976\n",
      "Relative Decline  -41.818  JenaBloom RT  0.139  Jena RT  0.098 Absolute difference in MS -40.85\n",
      "Relative Decline  -2.327  JenaBloom RT  0.034  Jena RT  0.033 Absolute difference in MS -0.775\n"
     ]
    }
   ],
   "source": [
    "for idx,x in enumerate(val_re_im):\n",
    "    if x <0:\n",
    "        print('Relative Decline ',round(x,3),' JenaBloom RT ', round(JB_val_rt[idx],3),' Jena RT ', round(J_val_rt[idx],3), 'Absolute difference in MS',round((J_val_rt[idx] -JB_val_rt[idx] )*1e3,3))"
   ]
  },
  {
   "cell_type": "markdown",
   "id": "1fc28dfd-0de4-42ac-ad77-62ba8bbe0571",
   "metadata": {},
   "source": []
  },
  {
   "cell_type": "code",
   "execution_count": 30,
   "id": "1f33835f-8465-41b2-8027-bdd3f247e604",
   "metadata": {},
   "outputs": [
    {
     "name": "stdout",
     "output_type": "stream",
     "text": [
      "Relative Decline  -10.372  JenaBloom RT  0.013  Jena RT  0.012 Absolute difference in MS -1.245\n",
      "Relative Decline  -3.107  JenaBloom RT  0.035  Jena RT  0.034 Absolute difference in MS -1.062\n",
      "Relative Decline  -18.426  JenaBloom RT  0.003  Jena RT  0.003 Absolute difference in MS -0.514\n",
      "Relative Decline  -46.525  JenaBloom RT  0.067  Jena RT  0.046 Absolute difference in MS -21.386\n",
      "Relative Decline  -4.277  JenaBloom RT  0.228  Jena RT  0.219 Absolute difference in MS -9.36\n",
      "Relative Decline  -38.396  JenaBloom RT  0.085  Jena RT  0.061 Absolute difference in MS -23.533\n"
     ]
    }
   ],
   "source": [
    "for idx,x in enumerate(test_re_im):\n",
    "    if x <0:\n",
    "        print('Relative Decline ',round(x,3),' JenaBloom RT ', round(JB_test_rt[idx],3),' Jena RT ', round(J_test_rt[idx],3), 'Absolute difference in MS',round((J_test_rt[idx] -JB_test_rt[idx] )*1e3,3))"
   ]
  },
  {
   "cell_type": "markdown",
   "id": "b84c1e94-eb8d-4794-9283-d758075ef512",
   "metadata": {},
   "source": [
    "# Runtime Statistics"
   ]
  },
  {
   "cell_type": "code",
   "execution_count": 31,
   "id": "c650d1a3-7d37-41c7-ad79-175a4ffd2076",
   "metadata": {},
   "outputs": [
    {
     "name": "stdout",
     "output_type": "stream",
     "text": [
      "13169.743378000014 485.18633700000055\n"
     ]
    }
   ],
   "source": [
    "def differences_in_MS(J_rt, JB_rt):\n",
    "    return [(j-jb)*1e3 for j, jb in zip(J_rt, JB_rt)]\n",
    "val_dif = differences_in_MS(J_val_rt, JB_val_rt)\n",
    "test_dif = differences_in_MS(J_test_rt, JB_test_rt)\n",
    "print(np.sum(val_dif), np.sum(test_dif))"
   ]
  },
  {
   "cell_type": "code",
   "execution_count": 32,
   "id": "47aa6263-5adb-4844-a2d3-8265f43e0b3e",
   "metadata": {},
   "outputs": [
    {
     "data": {
      "text/html": [
       "<div>\n",
       "<style scoped>\n",
       "    .dataframe tbody tr th:only-of-type {\n",
       "        vertical-align: middle;\n",
       "    }\n",
       "\n",
       "    .dataframe tbody tr th {\n",
       "        vertical-align: top;\n",
       "    }\n",
       "\n",
       "    .dataframe thead th {\n",
       "        text-align: right;\n",
       "    }\n",
       "</style>\n",
       "<table border=\"1\" class=\"dataframe\">\n",
       "  <thead>\n",
       "    <tr style=\"text-align: right;\">\n",
       "      <th></th>\n",
       "      <th>0</th>\n",
       "    </tr>\n",
       "  </thead>\n",
       "  <tbody>\n",
       "    <tr>\n",
       "      <th>0</th>\n",
       "      <td>0.000000</td>\n",
       "    </tr>\n",
       "    <tr>\n",
       "      <th>1</th>\n",
       "      <td>2.184073</td>\n",
       "    </tr>\n",
       "    <tr>\n",
       "      <th>2</th>\n",
       "      <td>0.000000</td>\n",
       "    </tr>\n",
       "    <tr>\n",
       "      <th>3</th>\n",
       "      <td>5.241712</td>\n",
       "    </tr>\n",
       "    <tr>\n",
       "      <th>4</th>\n",
       "      <td>23.151874</td>\n",
       "    </tr>\n",
       "    <tr>\n",
       "      <th>...</th>\n",
       "      <td>...</td>\n",
       "    </tr>\n",
       "    <tr>\n",
       "      <th>79</th>\n",
       "      <td>0.761667</td>\n",
       "    </tr>\n",
       "    <tr>\n",
       "      <th>80</th>\n",
       "      <td>20.135561</td>\n",
       "    </tr>\n",
       "    <tr>\n",
       "      <th>81</th>\n",
       "      <td>0.000000</td>\n",
       "    </tr>\n",
       "    <tr>\n",
       "      <th>82</th>\n",
       "      <td>0.000000</td>\n",
       "    </tr>\n",
       "    <tr>\n",
       "      <th>83</th>\n",
       "      <td>0.000000</td>\n",
       "    </tr>\n",
       "  </tbody>\n",
       "</table>\n",
       "<p>84 rows × 1 columns</p>\n",
       "</div>"
      ],
      "text/plain": [
       "            0\n",
       "0    0.000000\n",
       "1    2.184073\n",
       "2    0.000000\n",
       "3    5.241712\n",
       "4   23.151874\n",
       "..        ...\n",
       "79   0.761667\n",
       "80  20.135561\n",
       "81   0.000000\n",
       "82   0.000000\n",
       "83   0.000000\n",
       "\n",
       "[84 rows x 1 columns]"
      ]
     },
     "execution_count": 32,
     "metadata": {},
     "output_type": "execute_result"
    }
   ],
   "source": [
    "import pandas as pd\n",
    "pd.DataFrame(val_dif)"
   ]
  },
  {
   "cell_type": "code",
   "execution_count": 33,
   "id": "7903ad10-093c-43b7-91e4-66b273301681",
   "metadata": {},
   "outputs": [
    {
     "data": {
      "text/plain": [
       "[-50, -40, -30, -20, -10, 0, 10, 20, 30, 40, 50, 60, 70, 80, 90]"
      ]
     },
     "execution_count": 33,
     "metadata": {},
     "output_type": "execute_result"
    }
   ],
   "source": [
    "list(range(-50,100,10))"
   ]
  },
  {
   "cell_type": "code",
   "execution_count": 34,
   "id": "652d5ee8-4111-46c3-b169-1518954d5e07",
   "metadata": {},
   "outputs": [
    {
     "name": "stdout",
     "output_type": "stream",
     "text": [
      "0\n",
      "(-45.0, -40.0]     1\n",
      "(-25.0, -20.0]     1\n",
      "(-5.0, -0.1]       1\n",
      "(-0.1, 0.0]       49\n",
      "(0.0, 5.0]        19\n",
      "(5.0, 10.0]        5\n",
      "(20.0, 25.0]       4\n",
      "(25.0, 30.0]       1\n",
      "(75.0, 80.0]       1\n",
      "(80.0, 85.0]       1\n",
      "Name: count, dtype: int64\n"
     ]
    },
    {
     "data": {
      "image/png": "[encoded data removed]",
      "text/plain": [
       "<Figure size 600x400 with 1 Axes>"
      ]
     },
     "metadata": {},
     "output_type": "display_data"
    },
    {
     "name": "stdout",
     "output_type": "stream",
     "text": [
      "0\n",
      "(-25.0, -20.0]     2\n",
      "(-10.0, -5.0]      1\n",
      "(-5.0, -0.1]       3\n",
      "(-0.1, 0.0]       53\n",
      "(0.0, 5.0]        18\n",
      "(5.0, 10.0]        3\n",
      "(10.0, 15.0]       2\n",
      "(20.0, 25.0]       1\n",
      "(25.0, 30.0]       1\n",
      "(50.0, 55.0]       1\n",
      "Name: count, dtype: int64\n"
     ]
    },
    {
     "data": {
      "image/png": "[encoded data removed]",
      "text/plain": [
       "<Figure size 600x400 with 1 Axes>"
      ]
     },
     "metadata": {},
     "output_type": "display_data"
    }
   ],
   "source": [
    "import pandas as pd\n",
    "def difference_in_bar(diffs, title, save = None):\n",
    "    s = pd.DataFrame(diffs)\n",
    "    bins = list(range(-50,100,5))\n",
    "    bins.append(-0.1)\n",
    "    bins = sorted(bins)\n",
    "    out = pd.cut(s[0], bins=bins, include_lowest=True)\n",
    "    out = out.cat.remove_unused_categories()\n",
    "    value_counts = out.value_counts(sort=False)\n",
    "    print(value_counts)\n",
    "    ys = [value_counts.iloc[x] for x in range(len(value_counts))]\n",
    "    ax = out.value_counts(sort=False).plot.bar(rot=0, color=\"b\", figsize=(6,4))\n",
    "    ax.set_xticklabels([f\"{int(c.left)} to {int(c.right)}\" for c in out.cat.categories],rotation = 45, ha=\"right\")\n",
    "    plt.title(title)\n",
    "    plt.xlabel('Intervals (MS)')\n",
    "    plt.ylabel('Queries')\n",
    "    if save != None:\n",
    "        plt.savefig(f'{save_figs}{save}.png', bbox_inches='tight')\n",
    "    plt.show()\n",
    "difference_in_bar(val_dif, 'Validation Runtime Improvements', save='no_improvements_val')\n",
    "difference_in_bar(test_dif, 'Test Runtime Improvements', save='no_improvements_test')"
   ]
  },
  {
   "cell_type": "markdown",
   "id": "94cf1b53-486b-4d25-bb57-1853f450d061",
   "metadata": {},
   "source": [
    "# How good are our \"positive\" prediction?"
   ]
  },
  {
   "cell_type": "code",
   "execution_count": 35,
   "id": "d33bcfee-3860-4057-a9ab-8498050cdb46",
   "metadata": {},
   "outputs": [
    {
     "data": {
      "text/plain": [
       "dict_keys(['bloom_runtime', 'jena_runtime', 'leapfrog', 'path', 'gt', 'bgp_construction_duration', 'tps_const_duration', 'prediction', 'inference_time'])"
      ]
     },
     "execution_count": 35,
     "metadata": {},
     "output_type": "execute_result"
    }
   ],
   "source": [
    "list(train_data.values())[0].keys()"
   ]
  },
  {
   "cell_type": "code",
   "execution_count": 36,
   "id": "0067ffd9-894e-4a51-93aa-56166c24113b",
   "metadata": {},
   "outputs": [],
   "source": [
    "from dgl_classifier.post import get_BF_run_times\n",
    "\n",
    "t_train_BF_runtimes, t_train_BF_oracle, t_train_BF_jena = get_BF_run_times(train_data)\n",
    "t_val_BF_runtimes, t_val_BF_oracle, t_val_BF_jena = get_BF_run_times(val_data)\n",
    "t_test_BF_runtimes, t_test_BF_oracle, t_test_BF_jena = get_BF_run_times(test_data)"
   ]
  },
  {
   "cell_type": "code",
   "execution_count": 37,
   "id": "9cfb6d1d-187e-492d-8701-2ea4e9493add",
   "metadata": {},
   "outputs": [
    {
     "name": "stdout",
     "output_type": "stream",
     "text": [
      "Amount Predicted As Use BF\n",
      "Val: 47\n",
      "Test: 38\n",
      "Train: 106\n"
     ]
    }
   ],
   "source": [
    "print('Amount Predicted As Use BF')\n",
    "print('Val: ', end = '')\n",
    "print(len(t_val_BF_runtimes))\n",
    "print('Test: ', end = '')\n",
    "print(len(t_test_BF_runtimes))\n",
    "print('Train: ', end = '')\n",
    "print(len(t_train_BF_runtimes))"
   ]
  },
  {
   "cell_type": "code",
   "execution_count": 61,
   "id": "0d394c83-e10c-4464-9ef4-74107c4afa43",
   "metadata": {},
   "outputs": [
    {
     "name": "stdout",
     "output_type": "stream",
     "text": [
      "Improvement in Validation\n",
      "JenaBloom: \n",
      "Improvement in ms: 591.454\n",
      "Relative Improvement (%): 8.653\n",
      "Oracle: \n",
      "Improvement in ms: 591.454\n",
      "Relative Improvement (%): 8.653\n",
      "Improvement in Test\n",
      "JenaBloom: \n",
      "Improvement in ms: 467.715\n",
      "Relative Improvement (%): 7.89\n",
      "Oracle: \n",
      "Improvement in ms: 591.454\n",
      "Relative Improvement (%): 8.653\n"
     ]
    },
    {
     "data": {
      "text/plain": [
       "8.652686621240262"
      ]
     },
     "execution_count": 61,
     "metadata": {},
     "output_type": "execute_result"
    }
   ],
   "source": [
    "print('Improvement in Validation')\n",
    "print('JenaBloom: ')\n",
    "print('Improvement in ms:', end= ' ')\n",
    "improvement(t_val_BF_jena,t_val_BF_runtimes)\n",
    "print('Relative Improvement (%):', end= ' ')\n",
    "rt_improvement(t_val_BF_jena,t_val_BF_runtimes)\n",
    "print('Oracle: ')\n",
    "print('Improvement in ms:', end= ' ')\n",
    "improvement(t_val_BF_jena,t_val_BF_oracle)\n",
    "print('Relative Improvement (%):', end= ' ')\n",
    "rt_improvement(t_val_BF_jena,t_val_BF_oracle)\n",
    "\n",
    "\n",
    "print('Improvement in Test')\n",
    "print('JenaBloom: ')\n",
    "print('Improvement in ms:', end= ' ')\n",
    "improvement(t_test_BF_jena,t_test_BF_runtimes)\n",
    "print('Relative Improvement (%):', end= ' ')\n",
    "rt_improvement(t_test_BF_jena,t_test_BF_runtimes)\n",
    "print('Oracle: ')\n",
    "print('Improvement in ms:', end= ' ')\n",
    "improvement(t_val_BF_jena,t_val_BF_oracle)\n",
    "print('Relative Improvement (%):', end= ' ')\n",
    "rt_improvement(t_val_BF_jena,t_val_BF_oracle)"
   ]
  },
  {
   "cell_type": "code",
   "execution_count": 39,
   "id": "43bbfa85-d637-4a26-88bd-697941124104",
   "metadata": {},
   "outputs": [],
   "source": [
    "#Improvement of oracle improvement\n"
   ]
  },
  {
   "cell_type": "markdown",
   "id": "97f523df-51bf-4541-9815-7cea5785ea91",
   "metadata": {},
   "source": [
    "So we improve quite a bit on the queries where we use BF with our model.\n",
    "The implication here is that our bad queries are only when we do not use BFs.\n"
   ]
  },
  {
   "cell_type": "code",
   "execution_count": 66,
   "id": "e1db6924-f56a-492d-9b05-e565f2caa946",
   "metadata": {},
   "outputs": [
    {
     "name": "stdout",
     "output_type": "stream",
     "text": [
      "[[True, False, False, False, False, True, False, True, True, True, True, False, False, True, True, True, True, True, False, False, False, True, False, False, True, False, True, True, True, True, True, False, True, False, False, False, True, True, True, False, True, True, True, True, True, True, False, False, True, False, True, False, False, False, False, False, False, False, False, False, True, True, True, False, True, False, True, True, False, True, True, True, False, False, False, False, True, True, True, True, True, False, False, True, True, True], [False, True, True, False, False, False, True, True, True, True, False, False, False, True, False, True, False, False, True, False, True, True, False, True, False, True, True, False, True, False, True, False, True, True, False, True, False, False, False, False, False, True, False, True, True, False, True, True, False, False, True, False, False, False, True, True, True, True, False, True, True, True, False, True, True, True, False, True, False, False, False, False, True, True, True, True, False, True, True, True, True, False, False, True, False, True], [True, False, False, True, True, False, True, False, False, False, True, True, False, False, False, True, True, False, True, False, True, False, False, True, True, True, False, True, False, False, False, False, True, True, True, True, False, True, True, False, False, False, False, True, False, False, False, False, True, True, True, False, True, False, False, True, False, False, True, False, False, False, False, False, True, True, False, True, False, False, True, True, True, True, False, False, False, True, True, False, True, False, False, True, False, True], [True, False, False, True, True, True, False, False, True, False, False, False, False, False, False, True, False, False, True, True, True, True, False, False, True, True, True, False, False, False, True, True, True, True, False, True, False, False, True, False, True, True, False, True, False, True, False, False, True, True, False, True, True, True, False, True, True, True, False, False, False, False, True, False, True, False, False, False, True, True, True, True, True, True, False, False, False, True, True, True, False, False, False, True, True, True], [True, False, False, False, True, True, False, True, False, True, True, True, False, True, True, False, False, False, True, False, True, False, True, True, True, False, False, True, False, False, True, False, True, False, True, False, True, True, False, True, True, False, False, False, True, True, False, True, False, False, True, True, False, True, True, True, True, False, False, True, True, True, False, False, False, True, True, False, True, False, False, True, False, False, False, True, False, True, True, False, False, False, True, True, True, False], [True, False, True, True, False, False, True, False, True, False, True, True, False, True, False, False, False, False, False, False, True, False, True, False, False, False, True, True, False, True, False, True, True, True, False, True, False, True, True, True, False, False, True, True, False, False, True, True, True, False, True, False, False, True, True, True, True, False, False, False, False, True, False, True, False, False, False, False, True, False, True, True, False, True, True, False, False, True, True, True, False, False, False, False, True, True], [False, True, True, True, True, True, True, True, True, True, True, False, True, True, True, True, True, True, True, True, True, True, True, False, True, False, False, False, False, False, True, False, True, False, False, True, True, True, False, False, False, True, False, False, False, False, False, False, False, True, True, False, True, False, False, True, True, False, False, False, True, False, False, True, True, False, False, True, False, True, False, True, True, False, False, False, False, True, True, False, True, True, True, True, True, True], [False, True, True, False, True, False, False, True, False, True, False, False, True, False, False, True, False, True, True, True, False, False, False, True, False, True, False, False, True, True, True, True, True, False, True, False, True, True, False, False, False, True, False, True, True, True, True, True, False, True, False, True, True, False, True, True, False, False, False, False, False, True, False, False, True, False, False, False, False, False, False, True, False, False, True, True, True, False, True, True, False, True, True, False, True, True], [True, True, True, False, True, True, False, True, True, True, True, False, False, False, False, True, False, False, False, True, True, False, False, True, False, False, True, True, False, False, True, True, False, True, False, False, True, False, True, True, True, True, False, True, True, True, False, True, False, False, False, False, False, False, True, False, True, False, True, True, True, False, False, False, False, False, True, False, True, True, True, True, False, False, False, False, True, False, False, True, False, False, False, False, True, False], [True, True, True, True, True, False, False, False, False, True, False, True, True, False, True, True, True, True, True, False, False, False, False, True, False, True, True, False, False, False, True, False, False, False, False, True, True, False, False, False, False, False, True, False, True, True, True, True, False, True, True, True, False, True, True, True, False, True, True, False, False, False, False, True, True, True, True, False, False, True, False, False, False, True, True, True, True, True, False, True, True, False, False, False, False, False], [True, False, True, False, True, False, False, True, False, True, False, False, False, False, False, False, True, False, True, True, False, True, False, False, False, False, True, False, False, False, True, False, False, False, False, False, True, True, False, True, True, False, False, False, False, False, False, True, False, True, True, True, True, True, False, False, False, False, True, True, True, False, False, True, False, True, True, False, True, True, True, True, True, False, False, True, True, False, False, True, False, True, True, False, False, False], [False, True, False, False, False, True, True, True, True, False, False, False, False, True, False, True, False, False, False, True, True, True, True, True, False, True, False, True, True, True, False, False, True, False, False, False, False, False, True, False, False, True, False, True, True, True, False, False, True, True, True, False, False, True, True, True, False, True, True, True, False, True, True, False, False, False, True, True, True, False, False, False, False, False, False, False, False, True, True, False, True, False, True, False, False, True], [False, False, True, True, True, True, False, True, False, False, False, True, False, False, True, True, True, False, False, True, False, False, False, False, True, False, True, False, True, False, False, True, True, False, False, False, False, False, True, False, False, False, True, True, True, False, True, False, True, True, False, True, False, False, False, False, False, True, True, False, False, True, True, False, False, False, False, True, True, True, False, False, False, True, True, True, True, True, True, False, True, False, True, True, True, False], [True, True, False, False, True, True, False, False, True, True, True, True, False, True, True, False, True, False, True, False, False, False, True, False, False, False, False, True, False, True, True, True, False, False, False, True, False, False, False, True, True, False, True, False, False, False, True, False, True, True, False, False, True, True, False, False, True, False, False, True, True, False, True, True, True, True, True, False, False, True, False, False, True, True, True, False, True, False, True, False, False, False, True, True, False, True], [False, False, True, False, False, True, False, True, False, True, False, False, True, False, False, True, False, False, False, True, True, True, False, False, False, False, True, False, True, False, True, True, True, True, True, True, False, True, False, True, False, True, True, False, False, True, False, False, True, False, True, True, False, True, False, True, False, True, True, True, True, True, False, False, True, False, False, True, True, True, False, True, False, True, False, True, False, False, True, False, True, True, False, True, True, False], [True, True, True, True, False, False, False, False, True, True, False, False, False, True, False, True, False, False, False, True, False, True, False, False, True, False, False, False, False, True, True, True, True, True, True, True, True, True, False, False, False, False, False, False, False, True, True, True, True, True, True, False, False, True, True, True, True, True, False, True, False, False, True, True, False, False, True, True, True, False, False, True, True, True, True, True, False, False, True, True, False, True, False, True, False, True], [True, True, True, True, False, False, False, True, True, True, True, False, False, False, False, False, True, False, False, False, False, False, False, True, True, True, False, True, False, False, True, False, False, True, True, False, True, False, False, False, False, True, True, True, True, False, True, False, True, True, False, False, False, False, True, False, True, True, False, False, True, False, True, False, False, True, True, True, True, True, True, True, False, False, True, True, False, False, False, True, True, False, True, True, False, False], [True, False, True, True, False, True, False, True, True, True, False, True, True, False, True, True, False, True, True, False, True, False, False, False, True, True, True, True, True, False, False, False, True, False, True, True, False, True, False, True, False, False, False, True, True, False, False, True, True, True, True, False, True, False, True, True, False, False, True, True, True, True, False, True, True, False, True, True, True, False, True, True, True, True, False, False, True, False, False, False, True, True, False, True, True, True], [True, True, False, False, True, False, True, False, True, False, False, False, False, False, True, False, True, False, True, False, False, False, False, False, False, True, True, True, True, False, True, True, False, False, True, True, True, False, True, True, True, True, False, True, True, True, False, False, True, False, False, True, True, True, False, False, False, False, True, False, True, False, True, True, False, True, False, False, True, True, True, False, True, False, False, False, True, False, True, False, True, True, False, False, True, False], [False, True, True, True, True, False, True, False, True, False, False, False, True, False, True, True, True, True, False, False, False, False, True, True, True, True, False, True, False, True, False, False, False, False, True, False, True, False, True, False, True, True, False, True, False, True, False, False, False, True, False, False, False, False, False, False, True, False, False, False, True, True, True, True, False, True, True, True, False, False, True, True, False, True, False, True, True, True, True, False, True, False, False, False, True, True]]\n",
      "[[True, True, False, True, True, False, False, True, False, True, False, True, True, True, False, False, True, False, False, False, True, True, False, True, False, False, True, True, False, False, False, True, False, False, True, True, False, True, False, True, False, True, False, True, False, True, True, False, True, False, True, False, False, False, False, True, True, True, False, False, True, True, False, False, True, True, True, True, True, True, False, False, False, True, True, False, False, True, True, False, False, False, True, False], [False, False, True, True, False, False, False, True, False, True, True, False, False, False, False, True, False, False, False, False, False, False, False, True, True, True, True, True, False, False, True, True, True, True, False, True, True, False, False, True, False, False, True, False, False, True, False, False, True, True, True, False, False, True, True, False, True, True, False, True, False, False, True, True, False, True, True, False, False, True, False, True, False, True, True, False, True, True, False, False, True, False, True, True], [True, True, True, False, True, True, False, False, False, True, False, False, True, False, False, True, False, False, False, True, True, True, True, False, False, True, False, False, True, True, True, True, False, True, False, True, True, True, True, False, True, False, True, True, True, False, False, False, True, False, True, False, False, True, False, True, True, False, True, False, False, True, True, True, False, True, False, True, False, True, False, True, False, False, False, False, True, True, True, True, False, True, False, True], [False, True, True, False, False, True, True, True, True, False, False, True, False, True, True, True, False, True, True, False, True, False, False, True, False, False, True, True, False, False, False, False, True, False, False, False, False, False, True, False, True, False, False, False, True, True, False, False, False, False, False, False, True, False, True, True, True, False, False, False, False, False, False, True, False, True, True, True, True, False, False, False, False, False, False, True, True, True, True, False, True, True, False, False], [True, False, False, True, False, True, False, True, True, False, False, True, True, True, True, False, False, True, False, False, True, True, True, False, True, False, False, True, True, True, True, True, True, True, True, True, True, True, True, False, True, True, False, True, True, False, False, True, False, False, False, False, False, True, False, False, True, False, True, True, True, False, True, False, True, False, True, True, False, False, False, True, False, True, True, False, True, False, True, False, True, False, True, True], [False, False, True, True, False, False, False, False, True, False, False, True, False, True, False, True, False, True, True, True, False, True, False, False, True, False, True, False, False, True, False, False, False, False, True, False, False, True, True, True, False, False, True, True, False, False, True, True, True, True, True, True, False, True, True, True, False, True, True, True, False, False, True, False, True, True, True, False, False, True, True, True, True, True, False, True, False, False, False, True, False, True, False, False], [False, True, True, True, False, False, True, False, True, False, False, False, False, True, True, True, True, True, True, False, True, False, True, False, True, True, False, False, True, True, True, True, False, False, True, False, True, True, False, False, False, False, False, False, False, True, False, True, False, True, False, False, False, True, False, False, False, False, True, True, False, True, False, True, False, False, False, False, True, True, True, False, True, True, True, True, False, True, True, False, True, True, True, True], [True, True, False, False, False, True, True, False, False, True, False, True, True, True, True, False, True, False, False, True, True, False, False, True, False, False, True, True, False, True, True, False, False, False, False, False, True, False, True, False, False, False, False, False, True, True, True, True, False, False, True, False, True, True, False, False, False, True, True, False, False, False, False, True, False, False, True, True, False, True, True, False, False, False, False, False, False, False, True, True, True, True, True, True], [True, False, False, False, False, False, True, True, False, False, True, True, True, True, False, False, False, False, True, True, False, False, False, True, True, False, False, True, False, False, False, True, False, True, True, True, True, True, True, False, True, False, True, False, True, True, False, True, True, False, True, True, False, False, False, False, False, True, True, False, False, False, False, False, False, False, False, False, False, True, True, False, False, False, False, True, False, True, True, True, False, False, True, False], [True, False, False, False, True, False, False, False, True, True, False, True, False, False, True, False, False, True, True, True, True, True, True, False, True, False, True, True, True, True, True, False, True, False, True, False, True, True, False, True, False, False, True, False, False, True, False, True, True, False, False, False, False, True, False, True, False, False, True, True, True, False, True, False, False, True, True, True, True, True, False, False, False, True, True, False, False, False, True, True, True, True, True, False], [True, True, False, False, True, False, True, True, False, True, False, False, True, True, True, False, True, False, False, False, False, False, False, True, True, True, False, False, True, True, True, False, False, False, True, False, True, True, True, True, False, True, True, False, True, False, True, False, False, True, True, True, False, True, True, True, True, True, True, False, False, False, True, False, False, True, True, True, True, True, True, False, False, False, False, False, False, False, False, True, False, False, False, True], [True, True, False, True, True, True, False, False, True, True, True, False, True, True, False, False, False, False, False, True, False, False, True, False, True, False, True, True, True, True, True, True, True, False, True, False, False, False, False, False, False, False, True, False, True, True, False, True, True, False, False, False, True, True, False, False, False, True, False, True, True, True, False, True, False, False, False, True, False, False, True, False, True, False, False, False, True, True, True, True, False, True, False, False], [True, False, True, True, False, True, True, False, True, True, True, True, True, True, False, True, True, False, True, True, True, True, True, True, True, False, False, True, True, False, True, False, True, True, False, True, True, False, True, True, False, False, False, True, False, True, False, True, True, False, False, False, False, False, False, False, False, False, True, True, False, True, False, False, True, False, False, False, False, True, True, False, False, True, True, False, True, False, True, False, True, True, True, True], [False, True, True, False, True, False, True, True, True, False, True, False, True, True, False, True, False, False, True, True, True, True, False, False, False, False, True, True, True, True, False, False, False, False, False, False, True, False, True, False, False, True, False, True, False, False, False, False, False, False, False, True, False, False, False, True, True, True, False, False, False, False, False, True, True, False, True, True, False, False, False, True, True, False, False, False, False, True, False, True, True, True, False, True], [True, True, True, True, True, False, False, True, False, True, True, True, True, True, True, False, False, False, True, False, True, True, True, True, True, True, True, False, False, False, True, True, False, False, True, False, True, True, False, True, True, False, True, False, False, False, True, True, True, True, False, True, True, False, False, True, True, True, True, True, False, False, True, False, True, True, True, True, True, False, False, True, False, True, False, False, True, True, True, True, True, False, True, True], [True, True, True, False, False, False, False, False, False, False, False, False, False, False, False, False, False, False, True, False, True, False, False, False, True, True, False, False, False, False, True, False, True, False, False, True, False, False, True, False, False, True, False, False, False, True, False, True, True, True, False, True, False, True, True, True, True, False, True, True, True, False, True, False, True, False, False, True, False, True, False, True, False, True, False, False, False, True, False, True, True, False, False, False], [False, True, False, False, False, True, False, True, True, False, True, True, False, False, False, True, False, False, False, False, False, True, False, False, True, False, False, False, True, False, False, True, True, True, False, True, False, False, False, True, True, False, True, False, False, False, False, True, True, True, True, False, False, True, True, True, True, True, True, True, True, True, False, True, False, True, True, True, True, False, False, True, False, False, True, True, False, True, False, False, True, True, True, True], [False, False, False, False, True, False, False, False, True, True, False, True, True, False, False, True, True, True, False, False, True, False, False, False, False, False, False, True, False, True, True, False, True, True, True, False, True, False, False, False, True, True, False, False, False, False, False, False, False, True, False, False, False, False, False, False, False, True, False, True, False, False, False, False, True, False, False, False, False, True, True, True, False, False, False, True, True, False, True, True, True, False, True, True], [True, False, True, True, False, False, False, True, False, True, False, True, False, False, False, True, False, True, False, True, False, True, True, False, True, True, True, True, True, False, False, True, True, True, True, True, False, True, False, True, False, False, True, True, True, True, False, True, True, False, False, False, True, True, False, True, False, False, True, False, True, False, False, True, True, False, False, True, True, False, False, False, True, False, False, False, False, True, False, False, False, True, False, True], [False, False, True, True, False, False, False, False, False, False, False, True, False, True, False, False, False, False, False, False, False, False, True, True, False, True, False, True, True, False, False, True, False, True, False, False, False, True, False, True, True, False, False, False, False, False, False, True, False, True, False, False, False, True, False, True, True, True, False, False, False, True, True, True, False, True, True, True, False, False, False, False, True, False, True, True, True, False, True, False, True, True, True, True]]\n"
     ]
    }
   ],
   "source": [
    "#results['test_prec'][np.argmin(results['val_loss'])]\n",
    "import random\n",
    "random.seed(21)\n",
    "def make_random_bool_list(n):\n",
    "  bool_list = []\n",
    "  for i in range(n):\n",
    "    bool_value = random.choice([True, False])\n",
    "    bool_list.append(bool_value)\n",
    "  return bool_list\n",
    "\n",
    "def random_bool_list(data, runs = 20):\n",
    "    runtimes = 0\n",
    "    for x in data.keys():\n",
    "        if not 'prediction' in data[x].keys():\n",
    "            continue\n",
    "        #if data[x]['gt']:\n",
    "        runtimes+=1\n",
    "    bool_lists = []\n",
    "    for i in range(runs):\n",
    "        bool_lists.append(make_random_bool_list(runtimes))\n",
    "    return bool_lists\n",
    "    \n",
    "test_bools = random_bool_list(test_data)\n",
    "print(test_bools)\n",
    "val_bools = random_bool_list(val_data)\n",
    "print(val_bools)"
   ]
  },
  {
   "cell_type": "code",
   "execution_count": 67,
   "id": "c4dbafdd-12a3-42b6-85bb-17723d102f7c",
   "metadata": {},
   "outputs": [
    {
     "name": "stdout",
     "output_type": "stream",
     "text": [
      "-10.267\n",
      "-10.668\n",
      "-7.124\n",
      "-7.787\n",
      "-0.132\n",
      "-7.589\n",
      "-7.576\n",
      "-9.734\n",
      "-0.784\n",
      "-0.114\n",
      "-0.018\n",
      "-10.403\n",
      "-3.127\n",
      "-7.706\n",
      "-3.004\n",
      "-7.65\n",
      "-1.01\n",
      "-10.416\n",
      "-3.704\n",
      "-7.542\n",
      "Mean Rel Improvement -5.817740902589742\n"
     ]
    }
   ],
   "source": [
    "def get_random_predictor_runtime(data, preds):\n",
    "    runtimes = []\n",
    "    idx = 0\n",
    "    jena_rt_random = []\n",
    "    for x in data.keys():\n",
    "        if not 'prediction' in data[x].keys():\n",
    "            continue\n",
    "        jena_rt_random.append(data[x]['jena_runtime'])\n",
    "        if preds[idx]:\n",
    "            runtimes.append(data[x]['bloom_runtime'])\n",
    "        else:\n",
    "            runtimes.append(data[x]['jena_runtime'])\n",
    "        idx += 1\n",
    "    return runtimes, jena_rt_random\n",
    "rel_improve = []\n",
    "for x in test_bools:\n",
    "    test_random_bf, jena_rt_random = get_random_predictor_runtime(test_data, x)\n",
    "    rel_improve.append(rt_improvement(jena_rt_random,test_random_bf))\n",
    "print('Mean Rel Improvement',np.mean(rel_improve))"
   ]
  },
  {
   "cell_type": "code",
   "execution_count": 68,
   "id": "8f2fe949-f525-4a95-a375-dc7fa0dc2eb6",
   "metadata": {},
   "outputs": [
    {
     "name": "stdout",
     "output_type": "stream",
     "text": [
      "-4.966\n",
      "-5.339\n",
      "-0.355\n",
      "-0.604\n",
      "-2.641\n",
      "-1.588\n",
      "-1.261\n",
      "-1.336\n",
      "-3.474\n",
      "-3.423\n",
      "-0.916\n",
      "0.81\n",
      "-4.196\n",
      "0.211\n",
      "-6.056\n",
      "-1.427\n",
      "-5.77\n",
      "-1.85\n",
      "-2.743\n",
      "-4.777\n",
      "Mean Rel Improvement -2.5851307634715113\n"
     ]
    }
   ],
   "source": [
    "rel_improve = []\n",
    "for x in val_bools:\n",
    "    val_random_bf, jena_rt_random_val = get_random_predictor_runtime(val_data, x)\n",
    "    rel_improve.append(rt_improvement(jena_rt_random_val,val_random_bf))\n",
    "print('Mean Rel Improvement',np.mean(rel_improve))"
   ]
  },
  {
   "cell_type": "code",
   "execution_count": 42,
   "id": "f9234db4-db88-47ea-8833-29c06c39e75e",
   "metadata": {},
   "outputs": [
    {
     "name": "stdout",
     "output_type": "stream",
     "text": [
      "Relative Improvement (%): -6435.064\n",
      "-6435.063702861839\n"
     ]
    }
   ],
   "source": [
    "print('Relative Improvement (%):', end= ' ')\n",
    "t = rt_improvement(t_test_BF_jena,test_random_bf)\n",
    "print(t)\n"
   ]
  },
  {
   "cell_type": "code",
   "execution_count": 69,
   "id": "a348ff1c-d15a-4498-9d16-ba56cfcf08f7",
   "metadata": {},
   "outputs": [
    {
     "name": "stdout",
     "output_type": "stream",
     "text": [
      "-10.695\n",
      "-4.542\n"
     ]
    }
   ],
   "source": [
    "def get_always_true(data):\n",
    "    runtimes = []\n",
    "    jena_rt_random = []\n",
    "    for x in data.keys():\n",
    "        if not 'prediction' in data[x].keys():\n",
    "            continue\n",
    "        jena_rt_random.append(data[x]['jena_runtime'])\n",
    "        runtimes.append(data[x]['bloom_runtime'])\n",
    "    return runtimes, jena_rt_random\n",
    "test_always_t_bf, jena_rt_test_always_t = get_always_true(test_data)\n",
    "#1. Jena runtime 2. predictor runtime\n",
    "impor = rt_improvement(jena_rt_test_always_t,test_always_t_bf)\n",
    "val_always_t_bf, jena_rt_val_always_t = get_always_true(val_data)\n",
    "#1. Jena runtime 2. predictor runtime\n",
    "impor = rt_improvement(jena_rt_val_always_t,val_always_t_bf)"
   ]
  },
  {
   "cell_type": "code",
   "execution_count": 59,
   "id": "09106873-fae9-41ee-b790-0798f2e1c76e",
   "metadata": {},
   "outputs": [
    {
     "name": "stdout",
     "output_type": "stream",
     "text": [
      "Validation\n",
      "JenaBloom: \n",
      "Effective Precision: 1.0\n",
      "Oracle: \n",
      "Effective Precision): 1.0\n",
      "\n",
      "\n",
      "\n",
      "Test\n",
      "JenaBloom: \n",
      "Effective Precision: 1.0\n",
      "Oracle: \n",
      "Effective Precision: 1.0\n"
     ]
    }
   ],
   "source": [
    "def effective_precision(jena_runtimes, prediction_runtimes):\n",
    "    tps = 0.0\n",
    "    fps = 0.0\n",
    "    for jena, pred in zip(jena_runtimes, prediction_runtimes):\n",
    "        if ((jena-pred)/jena) > 0:\n",
    "            tps += 1\n",
    "        else: \n",
    "            fps += 1\n",
    "    return tps/(tps+fps)\n",
    "#def single_rt_improvement(J, JB):\n",
    "    \n",
    "#    sum_J = np.sum(J)\n",
    "#    sum_JB = np.sum(JB)\n",
    "#    print(round( ((sum_J-sum_JB)/sum_J)*100,3))\n",
    "#    return ((sum_J-sum_JB)/sum_J)*100\n",
    "#t_test_BF_runtimes, t_test_BF_oracle, t_test_BF_jena\n",
    "print('Validation')\n",
    "print('JenaBloom: ')\n",
    "print('Effective Precision:', end= ' ')\n",
    "print(effective_precision(t_val_BF_jena, t_val_BF_runtimes))\n",
    "#print(effective_precision(t_val_BF_jena, t_val_BF_runtimes))\n",
    "print('Oracle: ')\n",
    "print('Effective Precision):', end= ' ')\n",
    "print(effective_precision(t_val_BF_jena,t_val_BF_oracle))\n",
    "\n",
    "print('\\n\\n')\n",
    "print('Test')\n",
    "print('JenaBloom: ')\n",
    "print('Effective Precision:', end= ' ')\n",
    "print(effective_precision(t_test_BF_jena,t_test_BF_runtimes))\n",
    "print('Oracle: ')\n",
    "print('Effective Precision:', end= ' ')\n",
    "print(effective_precision(t_test_BF_jena,t_test_BF_oracle))"
   ]
  }
 ],
 "metadata": {
  "kernelspec": {
   "display_name": "Python 3 (ipykernel)",
   "language": "python",
   "name": "python3"
  },
  "language_info": {
   "codemirror_mode": {
    "name": "ipython",
    "version": 3
   },
   "file_extension": ".py",
   "mimetype": "text/x-python",
   "name": "python",
   "nbconvert_exporter": "python",
   "pygments_lexer": "ipython3",
   "version": "3.10.7"
  }
 },
 "nbformat": 4,
 "nbformat_minor": 5
}
