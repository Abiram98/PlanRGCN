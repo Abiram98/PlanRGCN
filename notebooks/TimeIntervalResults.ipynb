{
 "cells": [
  {
   "cell_type": "code",
   "execution_count": 1,
   "id": "5fef711e-520b-493c-bcfb-80c92cfaf6aa",
   "metadata": {},
   "outputs": [],
   "source": [
    "import json\n",
    "import pandas as pd\n",
    "import os\n",
    "import json5\n",
    "from graph_construction.qp.visitor.DefaultVisitor import DefaultVisitor\n",
    "from graph_construction.qp.visitor.AbstractVisitor import dispatch\n",
    "from inductive_query.utils import *\n",
    "from inductive_query.result_processor import *\n",
    "import pathlib\n",
    "from inductive_query.res_proc_helper import *\n",
    "import importlib\n",
    "import inductive_query.utils as ih\n",
    "importlib.reload(ih)\n",
    "CompletelyUnseenQueryExtractor = ih.CompletelyUnseenQueryExtractor\n",
    "\n",
    "import inductive_query.res_proc_helper as help\n",
    "importlib.reload(help)\n",
    "import inductive_query.result_processor as res_proc\n",
    "importlib.reload(res_proc)\n",
    "ResultProcessor = res_proc.ResultProcessor\n",
    "from inductive_query.res_proc_helper import *\n",
    "import importlib\n",
    "import inductive_query.res_proc_helper as indH\n",
    "importlib.reload(indH)\n",
    "get_result_processor = indH.get_result_processor\n",
    "import seaborn as sns\n",
    "import matplotlib.pyplot as plt\n",
    "import matplotlib\n",
    "sns.set_theme(font='serif')\n",
    "\n",
    "class MultiResultProcessor:\n",
    "    def __init__(self, *resultProcessors:ResultProcessor, ground_truth_label_order=['0s-1s','1s-10s','10s-∞']) -> None:\n",
    "        self.ground_truth_label_order = ground_truth_label_order\n",
    "        self.resProcessor :list[ResultProcessor]= []\n",
    "        for x in resultProcessors:\n",
    "            self.resProcessor.append(x)\n",
    "        \n",
    "    def get_metrics_dict(self):\n",
    "        met_dict = {\"Approach\": [], \"metric_val\":[], \"Metric\": [], \"Time Interval\": []}\n",
    "        for x in self.resProcessor:\n",
    "            dct = x.get_class_wise_metrics()\n",
    "            for k in dct.keys():\n",
    "                met_dict[k].extend(dct[k])\n",
    "        return met_dict\n",
    "    def sort_met_dict(self, metrics_dict):\n",
    "        print(metrics_dict)\n",
    "    def metric_table(self):\n",
    "        met_dict = {}\n",
    "        cols = None\n",
    "        for i in self.resProcessor:\n",
    "            i_met_dct, t_cols = i.class_wise_metrics_for_table()\n",
    "            cols = t_cols\n",
    "            met_lst = [i_met_dct[x] for x in self.ground_truth_label_order]\n",
    "            met_dict[i.approach_name] = met_lst\n",
    "            \n",
    "        df = pd.DataFrame.from_dict(met_dict, orient='index', columns = self.ground_truth_label_order)\n",
    "        return df\n",
    "    \n",
    "    def scatter_metrics(self, fig_size= (4,4), rotation = 20):\n",
    "        metrics_dict = self.get_metrics_dict()\n",
    "        \n",
    "        self.sort_met_dict(metrics_dict)\n",
    "        df = pd.DataFrame(metrics_dict)\n",
    "        fig, ax = plt.subplots(figsize=fig_size)\n",
    "        markers = ['o', '^','s']\n",
    "        sns.scatterplot(data=df, x= \"Approach\", y=\"metric_val\", hue='Metric', ax=ax, style='Metric',markers=markers)\n",
    "        plt.legend(loc=4)\n",
    "        plt.xticks(rotation=rotation)\n",
    "        plt.xlabel(\"\")\n",
    "        ax.set_ylabel(\"Metric Values\")\n",
    "from inductive_query.res_proc_helper import get_unseen_result_processor\n",
    "from graph_construction.query_graph import snap_lat2onehotv2\n",
    "cls_func = lambda x: np.argmax(snap_lat2onehotv2(x))\n",
    "\n",
    "name_dict = {\n",
    "    0: '0s to 1s',\n",
    "    1: '1s to 10s',\n",
    "    2: '$>$ 10s',\n",
    "}\n",
    "\n",
    "\n",
    "from inductive_query.result_processor import ResultProcessor\n",
    "import inductive_query.pp_qextr as pp_qextr\n",
    "importlib.reload(pp_qextr)\n",
    "PPQueryExtractor = pp_qextr.PPQueryExtractor\n",
    "\n",
    "def get_PP_result_processor(dataset_path, pred_path, split_path, name_dict, approach_name,apply_cls_func=None, split_type='test'):\n",
    "    ext = PPQueryExtractor(dataset_path)\n",
    "    #ext.set_test_pp()\n",
    "    match split_type:\n",
    "        case 'test':\n",
    "            unseen_pred_queryID =[pathlib.Path(x).name for x in ext.get_test_PP_files()]\n",
    "        case 'train':\n",
    "            unseen_pred_queryID =[pathlib.Path(x).name for x in ext.get_train_PP_files()]\n",
    "        case 'val':\n",
    "            unseen_pred_queryID =[pathlib.Path(x).name for x in ext.get_val_PP_files()]\n",
    "    p = ResultProcessor(pred_path, approach_name=approach_name,apply_cls_func=apply_cls_func)\n",
    "    p.retain_path(split_path)\n",
    "    p.retain_ids(unseen_pred_queryID)\n",
    "    print(\"PP predicate\")\n",
    "    print(p.confusion_matrix_to_latex_row_wise(name_dict=name_dict))\n",
    "    print(p.confusion_matrix_to_latex(row_percentage=False,name_dict=name_dict))\n",
    "    return p\n",
    "def merge_mean_latency(resultProcessor, path):\n",
    "    df = pd.read_csv(path, sep='\\t')\n",
    "    df['id'] = df['id'].apply(lambda x: x[20:])\n",
    "    return pd.merge(resultProcessor.df, df[['id', 'mean_latency']], on='id', how='left')\n",
    "\n",
    "import numpy as np\n",
    "import matplotlib.pyplot as plt\n",
    "def plot_cdf(df, col='mean_latency'):\n",
    "    values = df[col]\n",
    "    cumulative= np.linspace(0,1,len(values))\n",
    "    sorted_data = np.sort(values)\n",
    "    cumulative_data = np.cumsum(sorted_data) / np.sum(sorted_data)\n",
    "    plt.plot(sorted_data, cumulative_data)\n",
    "    plt.xlabel(\"Cumulative \"+col)\n",
    "    plt.ylabel(\"Cumulative Proportion\")\n",
    "    plt.title(\"Cumulative Distribution Function (CDF) of \"+col)\n",
    "    plt.show()\n",
    "    print(sorted_data)\n",
    "\n",
    "import importlib\n",
    "import inductive_query.res_proc_helper as help\n",
    "importlib.reload(help)\n",
    "import inductive_query.result_processor as res_proc\n",
    "importlib.reload(res_proc)\n",
    "import inductive_query.utils as ih\n",
    "importlib.reload(ih)\n",
    "CompletelyUnseenQueryExtractor = ih.CompletelyUnseenQueryExtractor\n",
    "ResultProcessor = res_proc.ResultProcessor\n",
    "get_completely_unseen_r_processor = help.get_completely_unseen_r_processor"
   ]
  },
  {
   "cell_type": "markdown",
   "id": "23592914-0032-4557-9be4-767a059efaa9",
   "metadata": {},
   "source": [
    "# Non-PP Query Logs"
   ]
  },
  {
   "cell_type": "markdown",
   "id": "8dcfc150-3b5a-4c0f-a6c1-36745858af3c",
   "metadata": {},
   "source": [
    "### DBpedia"
   ]
  },
  {
   "cell_type": "code",
   "execution_count": 2,
   "id": "51b5d584-e80c-4f7e-9351-3b9211557d17",
   "metadata": {},
   "outputs": [],
   "source": [
    "name_dict = {\n",
    "    0: '0s to 1s',\n",
    "    1: '1s to 10s',\n",
    "    2: '$>$ 10s',\n",
    "}\n",
    "\n",
    "\n",
    "\n",
    "\n",
    "#p_all = get_unseen_result_processor(path, pred_path, split_path, \"\",name_dict, \"PlanRGCN Unseen All\")\n",
    "#p_p = get_unseen_result_processor(path, pred_path, split_path, \"pred\",name_dict, \"PlanRGCN Unseen Predicate\")\n",
    "#p_e = get_unseen_result_processor(path, pred_path, split_path, \"entity\",name_dict, \"PlanRGCN Unseen Entity\")"
   ]
  },
  {
   "cell_type": "code",
   "execution_count": 3,
   "id": "7f020d67-7ac8-423b-9b65-c62754167abb",
   "metadata": {},
   "outputs": [
    {
     "name": "stdout",
     "output_type": "stream",
     "text": [
      "PlanRGCN\n",
      "No unseen\n",
      "\\begin{tabular}{lrrr}\n",
      "\\toprule\n",
      "Predicted & 0s to 1s & 1s to 10s & $>$ 10s \\\\\n",
      "Actual &  &  &  \\\\\n",
      "\\midrule\n",
      "0s to 1s & 95.56 & 2.13 & 2.31 \\\\\n",
      "1s to 10s & 6.79 & 88.82 & 4.39 \\\\\n",
      "$>$ 10s & 2.17 & 29.85 & 67.98 \\\\\n",
      "\\bottomrule\n",
      "\\end{tabular}\n",
      "\n",
      "\\begin{tabular}{lrrr}\n",
      "\\toprule\n",
      "Predicted & 0s to 1s & 1s to 10s & $>$ 10s \\\\\n",
      "Actual &  &  &  \\\\\n",
      "\\midrule\n",
      "0s to 1s & 1613 & 36 & 39 \\\\\n",
      "1s to 10s & 34 & 445 & 22 \\\\\n",
      "$>$ 10s & 16 & 220 & 501 \\\\\n",
      "\\bottomrule\n",
      "\\end{tabular}\n",
      "\n",
      "Neural Network-based QPP\n",
      "No unseen\n",
      "\\begin{tabular}{lrrr}\n",
      "\\toprule\n",
      "Predicted & 0s to 1s & 1s to 10s & $>$ 10s \\\\\n",
      "Actual &  &  &  \\\\\n",
      "\\midrule\n",
      "0s to 1s & 95.56 & 2.90 & 1.54 \\\\\n",
      "1s to 10s & 8.18 & 86.83 & 4.99 \\\\\n",
      "$>$ 10s & 5.83 & 30.39 & 63.77 \\\\\n",
      "\\bottomrule\n",
      "\\end{tabular}\n",
      "\n",
      "\\begin{tabular}{lrrr}\n",
      "\\toprule\n",
      "Predicted & 0s to 1s & 1s to 10s & $>$ 10s \\\\\n",
      "Actual &  &  &  \\\\\n",
      "\\midrule\n",
      "0s to 1s & 1613 & 49 & 26 \\\\\n",
      "1s to 10s & 41 & 435 & 25 \\\\\n",
      "$>$ 10s & 43 & 224 & 470 \\\\\n",
      "\\bottomrule\n",
      "\\end{tabular}\n",
      "\n",
      "SVM-based QPP\n",
      "No unseen\n",
      "\\begin{tabular}{lrrr}\n",
      "\\toprule\n",
      "Predicted & 0s to 1s & 1s to 10s & $>$ 10s \\\\\n",
      "Actual &  &  &  \\\\\n",
      "\\midrule\n",
      "0s to 1s & 56.64 & 42.48 & 0.89 \\\\\n",
      "1s to 10s & 0.60 & 98.20 & 1.20 \\\\\n",
      "$>$ 10s & 1.90 & 63.64 & 34.46 \\\\\n",
      "\\bottomrule\n",
      "\\end{tabular}\n",
      "\n",
      "\\begin{tabular}{lrrr}\n",
      "\\toprule\n",
      "Predicted & 0s to 1s & 1s to 10s & $>$ 10s \\\\\n",
      "Actual &  &  &  \\\\\n",
      "\\midrule\n",
      "0s to 1s & 956 & 717 & 15 \\\\\n",
      "1s to 10s & 3 & 492 & 6 \\\\\n",
      "$>$ 10s & 14 & 469 & 254 \\\\\n",
      "\\bottomrule\n",
      "\\end{tabular}\n",
      "\n"
     ]
    }
   ],
   "source": [
    "from graph_construction.query_graph import snap_lat2onehotv2\n",
    "cls_func = lambda x: np.argmax(snap_lat2onehotv2(x))\n",
    "\n",
    "name_dict = {\n",
    "    0: '0s to 1s',\n",
    "    1: '1s to 10s',\n",
    "    2: '$>$ 10s',\n",
    "}\n",
    "print(\"PlanRGCN\")\n",
    "path = '/data/DBpedia2016_0_1_10_weight_loss'\n",
    "pred_path = '/data/DBpedia2016_0_1_10_weight_loss/planrgcn_binner_litplan/test_pred.csv'\n",
    "split_path = f\"{path}/test_sampled.tsv\"\n",
    "dbpedia_base = get_result_processor(pred_path, split_path, name_dict, \"PlanRGCN DBpedia\")\n",
    "\n",
    "\n",
    "path = '/data/DBpedia2016_0_1_10_weight_loss'\n",
    "split_path = f\"{path}/test_sampled.tsv\"\n",
    "#pred_path = '/data/DBpedia2016_0_1_10_weight_loss/planrgcn_binner_litplan/test_pred.csv'\n",
    "dbpedia_bl = [dbpedia_base]\n",
    "for name, pred_path in zip([\"Neural Network-based QPP\", \"SVM-based QPP\"],[f\"{path}/nn/k25/nn_test_pred.csv\",f\"{path}/svm/test_pred.csv\"]):\n",
    "    print(name)\n",
    "    dbpedia_bl.append( get_result_processor(pred_path, split_path, name_dict, name,apply_cls_func=cls_func))\n"
   ]
  },
  {
   "cell_type": "code",
   "execution_count": null,
   "id": "dec9b062-6a10-43d4-9c87-eedf9cca8234",
   "metadata": {},
   "outputs": [],
   "source": []
  },
  {
   "cell_type": "markdown",
   "id": "40439d38-0687-4ea1-a5db-1c3e0a42bdc5",
   "metadata": {},
   "source": [
    "### Wikipedia"
   ]
  },
  {
   "cell_type": "code",
   "execution_count": 4,
   "id": "2c3f638c-85b8-4e1e-9ee5-b2aaa773b088",
   "metadata": {},
   "outputs": [
    {
     "name": "stdout",
     "output_type": "stream",
     "text": [
      "PlanRGCN\n",
      "No unseen\n",
      "\\begin{tabular}{lrrr}\n",
      "\\toprule\n",
      "Predicted & 0s to 1s & 1s to 10s & $>$ 10s \\\\\n",
      "Actual &  &  &  \\\\\n",
      "\\midrule\n",
      "0s to 1s & 86.62 & 6.88 & 6.50 \\\\\n",
      "1s to 10s & 10.34 & 62.07 & 27.59 \\\\\n",
      "$>$ 10s & 4.56 & 12.98 & 82.46 \\\\\n",
      "\\bottomrule\n",
      "\\end{tabular}\n",
      "\n",
      "\\begin{tabular}{lrrr}\n",
      "\\toprule\n",
      "Predicted & 0s to 1s & 1s to 10s & $>$ 10s \\\\\n",
      "Actual &  &  &  \\\\\n",
      "\\midrule\n",
      "0s to 1s & 3172 & 252 & 238 \\\\\n",
      "1s to 10s & 12 & 72 & 32 \\\\\n",
      "$>$ 10s & 13 & 37 & 235 \\\\\n",
      "\\bottomrule\n",
      "\\end{tabular}\n",
      "\n",
      "No unseen\n",
      "\\begin{tabular}{lrrr}\n",
      "\\toprule\n",
      "Predicted & 0s to 1s & 1s to 10s & $>$ 10s \\\\\n",
      "Actual &  &  &  \\\\\n",
      "\\midrule\n",
      "0s to 1s & 98.20 & 0.98 & 0.82 \\\\\n",
      "1s to 10s & 84.48 & 8.62 & 6.90 \\\\\n",
      "$>$ 10s & 31.58 & 13.68 & 54.74 \\\\\n",
      "\\bottomrule\n",
      "\\end{tabular}\n",
      "\n",
      "\\begin{tabular}{lrrr}\n",
      "\\toprule\n",
      "Predicted & 0s to 1s & 1s to 10s & $>$ 10s \\\\\n",
      "Actual &  &  &  \\\\\n",
      "\\midrule\n",
      "0s to 1s & 3596 & 36 & 30 \\\\\n",
      "1s to 10s & 98 & 10 & 8 \\\\\n",
      "$>$ 10s & 90 & 39 & 156 \\\\\n",
      "\\bottomrule\n",
      "\\end{tabular}\n",
      "\n",
      "No unseen\n",
      "\\begin{tabular}{lrrr}\n",
      "\\toprule\n",
      "Predicted & 0s to 1s & 1s to 10s & $>$ 10s \\\\\n",
      "Actual &  &  &  \\\\\n",
      "\\midrule\n",
      "0s to 1s & 98.01 & 1.99 & 0.00 \\\\\n",
      "1s to 10s & 88.79 & 11.21 & 0.00 \\\\\n",
      "$>$ 10s & 37.89 & 62.11 & 0.00 \\\\\n",
      "\\bottomrule\n",
      "\\end{tabular}\n",
      "\n",
      "\\begin{tabular}{lrrr}\n",
      "\\toprule\n",
      "Predicted & 0s to 1s & 1s to 10s & $>$ 10s \\\\\n",
      "Actual &  &  &  \\\\\n",
      "\\midrule\n",
      "0s to 1s & 3589 & 73 & 0 \\\\\n",
      "1s to 10s & 103 & 13 & 0 \\\\\n",
      "$>$ 10s & 108 & 177 & 0 \\\\\n",
      "\\bottomrule\n",
      "\\end{tabular}\n",
      "\n"
     ]
    }
   ],
   "source": [
    "print(\"PlanRGCN\")\n",
    "path = '/data/wikidata_0_1_10_v2_weight_loss'\n",
    "pred_path = '/data/wikidata_0_1_10_v2_weight_loss/planrgcn_binner_litplan/test_pred.csv'\n",
    "split_path = f\"{path}/test_sampled.tsv\"\n",
    "wikidata_base = get_result_processor(pred_path, split_path, name_dict, \"PlanRGCN Wikidata\")\n",
    "\n",
    "path = '/data/wikidata_0_1_10_v2_weight_loss'\n",
    "split_path = f\"{path}/test_sampled.tsv\"\n",
    "wikidata_bl = [wikidata_base]\n",
    "for name, pred_path in zip([\"Neural Network-based QPP\", \"SVM-based QPP\"],[f\"{path}/nn/k25/nn_test_pred.csv\",f\"{path}/svm/test_pred.csv\"]):\n",
    "    wikidata_bl.append( get_result_processor(pred_path, split_path, name_dict, name,apply_cls_func=cls_func))"
   ]
  },
  {
   "cell_type": "markdown",
   "id": "7640e70d-55c1-4333-a2e9-747c6e318bf8",
   "metadata": {},
   "source": [
    "# Query Logs with Property Path"
   ]
  },
  {
   "cell_type": "markdown",
   "id": "ac035130-6c4b-4071-b3f0-f30828534e5b",
   "metadata": {},
   "source": [
    "## DBpedia"
   ]
  },
  {
   "cell_type": "markdown",
   "id": "b0e290ee-f98d-45de-b7ed-485501fa453f",
   "metadata": {},
   "source": [
    "### Overall Performance"
   ]
  },
  {
   "cell_type": "code",
   "execution_count": 5,
   "id": "33d03bf8-7eb7-44d1-85c9-fd3e3ecbbc3e",
   "metadata": {},
   "outputs": [
    {
     "name": "stdout",
     "output_type": "stream",
     "text": [
      "PlanRCN\n",
      "No unseen\n",
      "\\begin{tabular}{lrrr}\n",
      "\\toprule\n",
      "Predicted & 0s to 1s & 1s to 10s & $>$ 10s \\\\\n",
      "Actual &  &  &  \\\\\n",
      "\\midrule\n",
      "0s to 1s & 98.61 & 0.69 & 0.69 \\\\\n",
      "1s to 10s & 7.96 & 83.52 & 8.52 \\\\\n",
      "$>$ 10s & 3.86 & 27.03 & 69.11 \\\\\n",
      "\\bottomrule\n",
      "\\end{tabular}\n",
      "\n",
      "\\begin{tabular}{lrrr}\n",
      "\\toprule\n",
      "Predicted & 0s to 1s & 1s to 10s & $>$ 10s \\\\\n",
      "Actual &  &  &  \\\\\n",
      "\\midrule\n",
      "0s to 1s & 2271 & 16 & 16 \\\\\n",
      "1s to 10s & 43 & 451 & 46 \\\\\n",
      "$>$ 10s & 30 & 210 & 537 \\\\\n",
      "\\bottomrule\n",
      "\\end{tabular}\n",
      "\n"
     ]
    },
    {
     "data": {
      "text/plain": [
       "({'0s-1s': '0.98/0.97/0.99',\n",
       "  '1s-10s': '0.74/0.67/0.84',\n",
       "  '10s-∞': '0.78/0.90/0.69'},\n",
       " ['F1', 'Precision', 'Recall'])"
      ]
     },
     "execution_count": 5,
     "metadata": {},
     "output_type": "execute_result"
    }
   ],
   "source": [
    "name_dict = {\n",
    "    0: '0s to 1s',\n",
    "    1: '1s to 10s',\n",
    "    2: '$>$ 10s',\n",
    "}\n",
    "path = '/data/DBpedia2016_0_1_10_path_v3_weight_loss'\n",
    "pred_path = '/data/DBpedia2016_0_1_10_path_v3_weight_loss/planrgcn_binner_litplan/test_pred.csv'\n",
    "split_path = f\"{path}/test_sampled.tsv\"\n",
    "print(\"PlanRCN\")\n",
    "DBpedia_PP = get_result_processor(pred_path, split_path, name_dict, \"PlanRGCN DBpedia\")\n",
    "DBpedia_PP.class_wise_metrics_for_table()\n"
   ]
  },
  {
   "cell_type": "markdown",
   "id": "cffd2e81-a1aa-48da-91f5-c57f232d8a0e",
   "metadata": {},
   "source": [
    "### Performance on PP query alone\n",
    "Note theses queries contains at least one of *, + or {} but | an / are omitted because they are treated as regular triple patterns due to rewrite rules specified in SPARQL Standard."
   ]
  },
  {
   "cell_type": "code",
   "execution_count": 6,
   "id": "e19dce4e-6775-4dfd-b7c8-24e9e5444f40",
   "metadata": {},
   "outputs": [],
   "source": [
    "import pathlib\n",
    "import importlib\n",
    "from inductive_query.result_processor import ResultProcessor\n",
    "import inductive_query.pp_qextr as pp_qextr\n",
    "importlib.reload(pp_qextr)\n",
    "PPQueryExtractor = pp_qextr.PPQueryExtractor\n",
    "\n",
    "def get_PP_result_processor(dataset_path, pred_path, split_path, name_dict, approach_name,apply_cls_func=None, split_type='test'):\n",
    "    ext = PPQueryExtractor(dataset_path)\n",
    "    #ext.set_test_pp()\n",
    "    match split_type:\n",
    "        case 'test':\n",
    "            unseen_pred_queryID =[pathlib.Path(x).name for x in ext.get_test_PP_files()]\n",
    "        case 'train':\n",
    "            unseen_pred_queryID =[pathlib.Path(x).name for x in ext.get_train_PP_files()]\n",
    "        case 'val':\n",
    "            unseen_pred_queryID =[pathlib.Path(x).name for x in ext.get_val_PP_files()]\n",
    "    p = ResultProcessor(pred_path, approach_name=approach_name,apply_cls_func=apply_cls_func)\n",
    "    p.retain_path(split_path, remove_prefix=20)\n",
    "    p.retain_ids(unseen_pred_queryID)\n",
    "    print(\"PP predicate\")\n",
    "    print(p.confusion_matrix_to_latex_row_wise(name_dict=name_dict))\n",
    "    print(p.confusion_matrix_to_latex(row_percentage=False,name_dict=name_dict))\n",
    "    return p"
   ]
  },
  {
   "cell_type": "code",
   "execution_count": 7,
   "id": "368739c5-020c-4dc7-8951-522dd5a4723f",
   "metadata": {},
   "outputs": [
    {
     "name": "stdout",
     "output_type": "stream",
     "text": [
      "PP predicate\n",
      "\\begin{tabular}{lrrr}\n",
      "\\toprule\n",
      "Predicted & 0s to 1s & 1s to 10s & $>$ 10s \\\\\n",
      "Actual &  &  &  \\\\\n",
      "\\midrule\n",
      "0s to 1s & 99.68 & 0.32 & 0.00 \\\\\n",
      "1s to 10s & 33.33 & 55.56 & 11.11 \\\\\n",
      "$>$ 10s & 81.82 & 9.09 & 9.09 \\\\\n",
      "\\bottomrule\n",
      "\\end{tabular}\n",
      "\n",
      "\\begin{tabular}{lrrr}\n",
      "\\toprule\n",
      "Predicted & 0s to 1s & 1s to 10s & $>$ 10s \\\\\n",
      "Actual &  &  &  \\\\\n",
      "\\midrule\n",
      "0s to 1s & 623 & 2 & 0 \\\\\n",
      "1s to 10s & 3 & 5 & 1 \\\\\n",
      "$>$ 10s & 9 & 1 & 1 \\\\\n",
      "\\bottomrule\n",
      "\\end{tabular}\n",
      "\n"
     ]
    },
    {
     "data": {
      "text/plain": [
       "({'0s-1s': '0.99/0.98/1.00',\n",
       "  '1s-10s': '0.59/0.62/0.56',\n",
       "  '10s-∞': '0.15/0.50/0.09'},\n",
       " ['F1', 'Precision', 'Recall'])"
      ]
     },
     "execution_count": 7,
     "metadata": {},
     "output_type": "execute_result"
    }
   ],
   "source": [
    "path = '/data/DBpedia2016_0_1_10_path_v3_weight_loss'\n",
    "pred_path = '/data/DBpedia2016_0_1_10_path_v3_weight_loss/planrgcn_binner_litplan/test_pred.csv'\n",
    "split_path = f\"{path}/test_sampled.tsv\"\n",
    "DBpedia_PP = get_PP_result_processor(path, pred_path, split_path, name_dict, \"PlanRGCN DBpedia\", split_type='test')\n",
    "DBpedia_PP.class_wise_metrics_for_table()"
   ]
  },
  {
   "cell_type": "markdown",
   "id": "1baf83b9-c3b4-46c9-b38f-bacddf5933ad",
   "metadata": {},
   "source": [
    "## Wikidata"
   ]
  },
  {
   "cell_type": "markdown",
   "id": "b1bf31cf-b9a0-486f-a2bb-eaf0fcd5d21f",
   "metadata": {},
   "source": [
    "### Overall Performance"
   ]
  },
  {
   "cell_type": "code",
   "execution_count": 8,
   "id": "0fca62b8-34cf-4b1a-b40a-fa97d4721072",
   "metadata": {},
   "outputs": [
    {
     "name": "stdout",
     "output_type": "stream",
     "text": [
      "No unseen\n",
      "\\begin{tabular}{lrrr}\n",
      "\\toprule\n",
      "Predicted & 0s to 1s & 1s to 10s & $>$ 10s \\\\\n",
      "Actual &  &  &  \\\\\n",
      "\\midrule\n",
      "0s to 1s & 86.09 & 8.92 & 4.99 \\\\\n",
      "1s to 10s & 5.73 & 75.52 & 18.75 \\\\\n",
      "$>$ 10s & 5.14 & 23.14 & 71.71 \\\\\n",
      "\\bottomrule\n",
      "\\end{tabular}\n",
      "\n",
      "\\begin{tabular}{lrrr}\n",
      "\\toprule\n",
      "Predicted & 0s to 1s & 1s to 10s & $>$ 10s \\\\\n",
      "Actual &  &  &  \\\\\n",
      "\\midrule\n",
      "0s to 1s & 4914 & 509 & 285 \\\\\n",
      "1s to 10s & 11 & 145 & 36 \\\\\n",
      "$>$ 10s & 18 & 81 & 251 \\\\\n",
      "\\bottomrule\n",
      "\\end{tabular}\n",
      "\n"
     ]
    }
   ],
   "source": [
    "\n",
    "path = '/data/wikidata_0_1_10_v3_path_weight_loss'\n",
    "pred_path = '/data/wikidata_0_1_10_v3_path_weight_loss/planrgcn_binner_litplan/test_pred.csv'\n",
    "split_path = f\"{path}/test_sampled.tsv\"\n",
    "DBpedia_PP = get_result_processor(pred_path, split_path, name_dict, \"PlanRGCN DBpedia\")"
   ]
  },
  {
   "cell_type": "markdown",
   "id": "d10aa8d6-9651-43de-b9ba-428bbc70b3fe",
   "metadata": {},
   "source": [
    "### Performance on PP query alone\n",
    "Note theses queries contains at least one of *, + or {} but | an / are omitted because they are treated as regular triple patterns due to rewrite rules specified in SPARQL Standard."
   ]
  },
  {
   "cell_type": "code",
   "execution_count": 9,
   "id": "ba75e158-7fa3-46fe-a232-ddc94eff941b",
   "metadata": {},
   "outputs": [
    {
     "name": "stdout",
     "output_type": "stream",
     "text": [
      "PP predicate\n",
      "\\begin{tabular}{lrrr}\n",
      "\\toprule\n",
      "Predicted & 0s to 1s & 1s to 10s & $>$ 10s \\\\\n",
      "Actual &  &  &  \\\\\n",
      "\\midrule\n",
      "0s to 1s & 76.80 & 21.89 & 1.31 \\\\\n",
      "1s to 10s & 2.41 & 96.39 & 1.20 \\\\\n",
      "$>$ 10s & 7.04 & 74.65 & 18.31 \\\\\n",
      "\\bottomrule\n",
      "\\end{tabular}\n",
      "\n",
      "\\begin{tabular}{lrrr}\n",
      "\\toprule\n",
      "Predicted & 0s to 1s & 1s to 10s & $>$ 10s \\\\\n",
      "Actual &  &  &  \\\\\n",
      "\\midrule\n",
      "0s to 1s & 821 & 234 & 14 \\\\\n",
      "1s to 10s & 2 & 80 & 1 \\\\\n",
      "$>$ 10s & 5 & 53 & 13 \\\\\n",
      "\\bottomrule\n",
      "\\end{tabular}\n",
      "\n"
     ]
    }
   ],
   "source": [
    "path = '/data/wikidata_0_1_10_v3_path_weight_loss'\n",
    "pred_path = '/data/wikidata_0_1_10_v3_path_weight_loss/planrgcn_binner_litplan/test_pred.csv'\n",
    "split_path = f\"{path}/test_sampled.tsv\"\n",
    "Wikidata_PP= get_PP_result_processor(path, pred_path, split_path, name_dict, \"PlanRGCN Wikidata\", split_type='test')"
   ]
  },
  {
   "cell_type": "code",
   "execution_count": 10,
   "id": "8f91cf97-ad36-4aa2-b103-58c4d939742a",
   "metadata": {},
   "outputs": [
    {
     "data": {
      "image/png": "[encoded data removed]",
      "text/plain": [
       "<Figure size 640x480 with 1 Axes>"
      ]
     },
     "metadata": {},
     "output_type": "display_data"
    },
    {
     "name": "stdout",
     "output_type": "stream",
     "text": [
      "[ 10.17137233  10.2345262   10.38467944  10.8541009   11.27663149\n",
      "  12.45018089  12.54806454  12.68623732  12.80590672  12.87975233\n",
      "  12.99302078  13.16646905  14.51955359  17.88597347  18.668564\n",
      "  19.16615667  19.53080558  19.71450985  20.78312873  22.0942122\n",
      "  22.50278269  24.45489102  25.54437806  27.70271759  28.27061972\n",
      "  28.60163423  28.70381829  31.04734461  31.28113351  32.42469913\n",
      "  32.9641922   33.7243763   34.85120739  35.78461798  40.11967672\n",
      "  40.7233588   42.36916703  42.49508716  43.39977637  43.48209011\n",
      "  43.63899298  50.38271648  51.69570221  57.32369299  75.79776167\n",
      "  92.46622699  98.71037127 118.05977156 122.13382722 131.40748611\n",
      " 663.87051557 900.         900.        ]\n"
     ]
    }
   ],
   "source": [
    "Wikidata_PP_df =merge_mean_latency(Wikidata_PP, split_path)\n",
    "Wikidata_slow_as_med = Wikidata_PP_df[(Wikidata_PP_df['time_cls']==2)&(Wikidata_PP_df['planrgcn_prediction']==1)]\n",
    "plot_cdf(  Wikidata_slow_as_med)"
   ]
  },
  {
   "cell_type": "markdown",
   "id": "18f4296d-247d-40d7-b9a4-8af2fbd440d9",
   "metadata": {},
   "source": [
    "# Completely Unseen (Wikidata Query Logs without property path)"
   ]
  },
  {
   "cell_type": "code",
   "execution_count": 11,
   "id": "f7c1db9c-65dc-4e0e-80b1-89c129ba9145",
   "metadata": {},
   "outputs": [
    {
     "name": "stdout",
     "output_type": "stream",
     "text": [
      "PlanRGCN\n",
      "\\begin{tabular}{lrrr}\n",
      "\\toprule\n",
      "Predicted & 0s to 1s & 1s to 10s & $>$ 10s \\\\\n",
      "Actual &  &  &  \\\\\n",
      "\\midrule\n",
      "0s to 1s & 98.50 & 0.19 & 1.31 \\\\\n",
      "1s to 10s & 40.00 & 50.00 & 10.00 \\\\\n",
      "$>$ 10s & 16.67 & 0.00 & 83.33 \\\\\n",
      "\\bottomrule\n",
      "\\end{tabular}\n",
      "\n",
      "\\begin{tabular}{lrrr}\n",
      "\\toprule\n",
      "Predicted & 0s to 1s & 1s to 10s & $>$ 10s \\\\\n",
      "Actual &  &  &  \\\\\n",
      "\\midrule\n",
      "0s to 1s & 525 & 1 & 7 \\\\\n",
      "1s to 10s & 4 & 5 & 1 \\\\\n",
      "$>$ 10s & 1 & 0 & 5 \\\\\n",
      "\\bottomrule\n",
      "\\end{tabular}\n",
      "\n"
     ]
    }
   ],
   "source": [
    "import importlib\n",
    "import inductive_query.res_proc_helper as help\n",
    "importlib.reload(help)\n",
    "import inductive_query.result_processor as res_proc\n",
    "importlib.reload(res_proc)\n",
    "import inductive_query.utils as ih\n",
    "importlib.reload(ih)\n",
    "CompletelyUnseenQueryExtractor = ih.CompletelyUnseenQueryExtractor\n",
    "ResultProcessor = res_proc.ResultProcessor\n",
    "get_completely_unseen_r_processor = help.get_completely_unseen_r_processor\n",
    "path = '/data/wikidata_0_1_10_v2_weight_loss'\n",
    "\n",
    "split_path = f\"{path}/test_sampled.tsv\"\n",
    "c = CompletelyUnseenQueryExtractor(path)\n",
    "q_files = c.run()\n",
    "\n",
    "\n",
    "print('PlanRGCN')\n",
    "pred_path = '/data/wikidata_0_1_10_v2_weight_loss/planrgcn_binner_litplan/test_pred.csv'\n",
    "wikidata_completely_base = get_completely_unseen_r_processor(path, pred_path, split_path, name_dict, \"PlanRGCN Completely unseen\", q_files,apply_cls_func=None, pred_col='planrgcn_prediction')"
   ]
  },
  {
   "cell_type": "code",
   "execution_count": 12,
   "id": "611df80f-b744-45a4-a398-5252b2391bcf",
   "metadata": {},
   "outputs": [
    {
     "name": "stdout",
     "output_type": "stream",
     "text": [
      "NN-based QPP\n",
      "\\begin{tabular}{lrrr}\n",
      "\\toprule\n",
      "Predicted & 0s to 1s & 1s to 10s & $>$ 10s \\\\\n",
      "Actual &  &  &  \\\\\n",
      "\\midrule\n",
      "0s to 1s & 99.44 & 0.56 & 0.00 \\\\\n",
      "1s to 10s & 80.00 & 20.00 & 0.00 \\\\\n",
      "$>$ 10s & 100.00 & 0.00 & 0.00 \\\\\n",
      "\\bottomrule\n",
      "\\end{tabular}\n",
      "\n",
      "\\begin{tabular}{lrrr}\n",
      "\\toprule\n",
      "Predicted & 0s to 1s & 1s to 10s & $>$ 10s \\\\\n",
      "Actual &  &  &  \\\\\n",
      "\\midrule\n",
      "0s to 1s & 530 & 3 & 0 \\\\\n",
      "1s to 10s & 8 & 2 & 0 \\\\\n",
      "$>$ 10s & 6 & 0 & 0 \\\\\n",
      "\\bottomrule\n",
      "\\end{tabular}\n",
      "\n"
     ]
    }
   ],
   "source": [
    "print('NN-based QPP')\n",
    "pred_path = '/data/wikidata_0_1_10_v2_weight_loss/nn/test_pred.csv'\n",
    "wikidata_completely_base = get_completely_unseen_r_processor(path, pred_path, split_path, name_dict, \"PlanRGCN Completely unseen\", q_files,apply_cls_func=None, pred_col='nn_prediction')"
   ]
  },
  {
   "cell_type": "code",
   "execution_count": 13,
   "id": "f271ac6b-a01f-40a0-a29f-4d0aa6b6a7a6",
   "metadata": {},
   "outputs": [
    {
     "name": "stdout",
     "output_type": "stream",
     "text": [
      "SVM\n",
      "\\begin{tabular}{lrrr}\n",
      "\\toprule\n",
      "Predicted & 0s to 1s & 1s to 10s & $>$ 10s \\\\\n",
      "Actual &  &  &  \\\\\n",
      "\\midrule\n",
      "0s to 1s & 99.81 & 0.00 & 0.19 \\\\\n",
      "1s to 10s & 90.00 & 0.00 & 10.00 \\\\\n",
      "$>$ 10s & 100.00 & 0.00 & 0.00 \\\\\n",
      "\\bottomrule\n",
      "\\end{tabular}\n",
      "\n",
      "\\begin{tabular}{lrrr}\n",
      "\\toprule\n",
      "Predicted & 0s to 1s & 1s to 10s & $>$ 10s \\\\\n",
      "Actual &  &  &  \\\\\n",
      "\\midrule\n",
      "0s to 1s & 532 & 0 & 1 \\\\\n",
      "1s to 10s & 9 & 0 & 1 \\\\\n",
      "$>$ 10s & 6 & 0 & 0 \\\\\n",
      "\\bottomrule\n",
      "\\end{tabular}\n",
      "\n"
     ]
    }
   ],
   "source": [
    "print('SVM')\n",
    "pred_path = '/data/wikidata_0_1_10_v2_weight_loss/svm/test_pred.csv'\n",
    "wikidata_completely_base = get_completely_unseen_r_processor(path, pred_path, split_path, name_dict, \"PlanRGCN Completely unseen\", q_files,apply_cls_func=None, pred_col='svm_prediction')"
   ]
  },
  {
   "cell_type": "markdown",
   "id": "b69ae7e7-ea5b-4d55-95cb-69f0ae10250a",
   "metadata": {},
   "source": [
    "# Partially Unseen Performance - (see other notebook)"
   ]
  },
  {
   "cell_type": "code",
   "execution_count": 14,
   "id": "98b0dda0-7ef6-41bc-9835-ba96de69ee51",
   "metadata": {},
   "outputs": [
    {
     "name": "stdout",
     "output_type": "stream",
     "text": [
      "Unseen All\n",
      "\\begin{tabular}{l}\n",
      "\\toprule\n",
      "Actual \\\\\n",
      "\\midrule\n",
      "\\bottomrule\n",
      "\\end{tabular}\n",
      "\n",
      "\\begin{tabular}{l}\n",
      "\\toprule\n",
      "Actual \\\\\n",
      "\\midrule\n",
      "\\bottomrule\n",
      "\\end{tabular}\n",
      "\n"
     ]
    }
   ],
   "source": [
    "path = '/data/wikidata_0_1_10_v2_weight_loss'\n",
    "pred_path = '/data/wikidata_0_1_10_v2_weight_loss/planrgcn_binner_litplan/test_pred.csv'\n",
    "split_path = f\"{path}/test_sampled.tsv\"\n",
    "wikidata_base = get_unseen_result_processor(path, pred_path, split_path, \"all\",name_dict, \"PlanRGCN Wikidata\",remove_prefix=0)"
   ]
  },
  {
   "cell_type": "code",
   "execution_count": 15,
   "id": "7cff2bd7-03e7-4138-961f-0202d4279767",
   "metadata": {},
   "outputs": [
    {
     "name": "stdout",
     "output_type": "stream",
     "text": [
      "Neural Network-based QPP\n",
      "Unseen All\n",
      "\\begin{tabular}{l}\n",
      "\\toprule\n",
      "Actual \\\\\n",
      "\\midrule\n",
      "\\bottomrule\n",
      "\\end{tabular}\n",
      "\n",
      "\\begin{tabular}{l}\n",
      "\\toprule\n",
      "Actual \\\\\n",
      "\\midrule\n",
      "\\bottomrule\n",
      "\\end{tabular}\n",
      "\n",
      "SVM-based QPP\n",
      "Unseen All\n",
      "\\begin{tabular}{l}\n",
      "\\toprule\n",
      "Actual \\\\\n",
      "\\midrule\n",
      "\\bottomrule\n",
      "\\end{tabular}\n",
      "\n",
      "\\begin{tabular}{l}\n",
      "\\toprule\n",
      "Actual \\\\\n",
      "\\midrule\n",
      "\\bottomrule\n",
      "\\end{tabular}\n",
      "\n"
     ]
    }
   ],
   "source": [
    "for name, pred_path in zip([\"Neural Network-based QPP\", \"SVM-based QPP\"],[f\"{path}/nn/k25/nn_test_pred.csv\",f\"{path}/svm/test_pred.csv\"]):\n",
    "    print(name)\n",
    "    get_unseen_result_processor(path,pred_path, split_path,'all', name_dict, name,apply_cls_func=cls_func)"
   ]
  }
 ],
 "metadata": {
  "kernelspec": {
   "display_name": "Python 3 (ipykernel)",
   "language": "python",
   "name": "python3"
  },
  "language_info": {
   "codemirror_mode": {
    "name": "ipython",
    "version": 3
   },
   "file_extension": ".py",
   "mimetype": "text/x-python",
   "name": "python",
   "nbconvert_exporter": "python",
   "pygments_lexer": "ipython3",
   "version": "3.10.12"
  }
 },
 "nbformat": 4,
 "nbformat_minor": 5
}
