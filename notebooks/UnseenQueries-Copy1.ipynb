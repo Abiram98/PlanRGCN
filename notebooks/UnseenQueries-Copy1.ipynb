{
 "cells": [
  {
   "cell_type": "code",
   "execution_count": 3,
   "id": "fabce8eb-3ae6-41b4-abae-8fa4115c819d",
   "metadata": {},
   "outputs": [],
   "source": [
    "import json\n",
    "import pandas as pd\n",
    "import os\n",
    "import json5\n",
    "from graph_construction.qp.visitor.DefaultVisitor import DefaultVisitor\n",
    "from graph_construction.qp.visitor.AbstractVisitor import dispatch"
   ]
  },
  {
   "cell_type": "code",
   "execution_count": 4,
   "id": "38c30313-9e7c-4679-91c6-5767516da252",
   "metadata": {},
   "outputs": [],
   "source": [
    "from inductive_query.utils import *\n",
    "from inductive_query.result_processor import *"
   ]
  },
  {
   "cell_type": "code",
   "execution_count": 5,
   "id": "0f3f4250",
   "metadata": {},
   "outputs": [],
   "source": [
    "import pathlib\n",
    "name_dict = {\n",
    "    0: '0s to 1s',\n",
    "    1: '1s to 10s',\n",
    "    2: '$>$ 10s',\n",
    "}"
   ]
  },
  {
   "cell_type": "code",
   "execution_count": 6,
   "id": "5ef67eb4-c4fe-4b4f-892a-016b6bd45afd",
   "metadata": {},
   "outputs": [],
   "source": [
    "\n",
    "from inductive_query.res_proc_helper import *\n",
    "import importlib\n",
    "import inductive_query.utils as ih\n",
    "importlib.reload(ih)\n",
    "CompletelyUnseenQueryExtractor = ih.CompletelyUnseenQueryExtractor\n"
   ]
  },
  {
   "cell_type": "code",
   "execution_count": 7,
   "id": "7341ef89-c6c8-4fc2-ba09-399f2919d0ee",
   "metadata": {
    "scrolled": true
   },
   "outputs": [],
   "source": [
    "import inductive_query.res_proc_helper as help\n",
    "importlib.reload(help)\n",
    "name_dict = {\n",
    "    0: '0s to 1s',\n",
    "    1: '1s to 10s',\n",
    "    2: '$>$ 10s',\n",
    "}\n",
    "get_completely_unseen_r_processor= help.get_completely_unseen_r_processor"
   ]
  },
  {
   "cell_type": "markdown",
   "id": "65570aee-99fa-48a5-8356-5ae0347cdc98",
   "metadata": {},
   "source": [
    "# Property Path (PP) Alone"
   ]
  },
  {
   "cell_type": "code",
   "execution_count": 8,
   "id": "6903477f-69e9-4eba-a770-6b8afb5046e5",
   "metadata": {},
   "outputs": [],
   "source": [
    "import pathlib\n",
    "import importlib\n",
    "from inductive_query.result_processor import ResultProcessor\n",
    "import inductive_query.pp_qextr as pp_qextr\n",
    "importlib.reload(pp_qextr)\n",
    "PPQueryExtractor = pp_qextr.PPQueryExtractor\n",
    "\n",
    "def get_PP_result_processor(dataset_path, pred_path, split_path, name_dict, approach_name,apply_cls_func=None, split_type='test', remove_lsq=20):\n",
    "    ext = PPQueryExtractor(dataset_path)\n",
    "    #ext.set_test_pp()\n",
    "    match split_type:\n",
    "        case 'test':\n",
    "            unseen_pred_queryID =[pathlib.Path(x).name for x in ext.get_test_PP_files()]\n",
    "        case 'train':\n",
    "            unseen_pred_queryID =[pathlib.Path(x).name for x in ext.get_train_PP_files()]\n",
    "        case 'val':\n",
    "            unseen_pred_queryID =[pathlib.Path(x).name for x in ext.get_val_PP_files()]\n",
    "    p = ResultProcessor(pred_path, approach_name=approach_name,apply_cls_func=apply_cls_func)\n",
    "    p.retain_path(split_path, remove_prefix=20)\n",
    "    p.retain_ids(unseen_pred_queryID)\n",
    "    print(\"PP predicate\")\n",
    "    print(p.confusion_matrix_to_latex_row_wise(name_dict=name_dict))\n",
    "    print(p.confusion_matrix_to_latex(row_percentage=False,name_dict=name_dict))\n",
    "    return p"
   ]
  },
  {
   "cell_type": "code",
   "execution_count": 115,
   "id": "7566ea77-1b51-43b3-a2b5-bc143078583d",
   "metadata": {},
   "outputs": [
    {
     "name": "stdout",
     "output_type": "stream",
     "text": [
      "PP predicate\n",
      "\\begin{tabular}{lrrr}\n",
      "\\toprule\n",
      "Predicted & 0s to 1s & 1s to 10s & $>$ 10s \\\\\n",
      "Actual &  &  &  \\\\\n",
      "\\midrule\n",
      "0s to 1s & 73.15 & 25.54 & 1.31 \\\\\n",
      "1s to 10s & 2.41 & 97.59 & 0.00 \\\\\n",
      "$>$ 10s & 7.04 & 80.28 & 12.68 \\\\\n",
      "\\bottomrule\n",
      "\\end{tabular}\n",
      "\n",
      "\\begin{tabular}{lrrr}\n",
      "\\toprule\n",
      "Predicted & 0s to 1s & 1s to 10s & $>$ 10s \\\\\n",
      "Actual &  &  &  \\\\\n",
      "\\midrule\n",
      "0s to 1s & 782 & 273 & 14 \\\\\n",
      "1s to 10s & 2 & 81 & 0 \\\\\n",
      "$>$ 10s & 5 & 57 & 9 \\\\\n",
      "\\bottomrule\n",
      "\\end{tabular}\n",
      "\n"
     ]
    },
    {
     "data": {
      "text/plain": [
       "({'0s-1s': '0.84/0.99/0.73',\n",
       "  '1s-10s': '0.33/0.20/0.98',\n",
       "  '10s-∞': '0.19/0.39/0.13'},\n",
       " ['F1', 'Precision', 'Recall'])"
      ]
     },
     "execution_count": 115,
     "metadata": {},
     "output_type": "execute_result"
    }
   ],
   "source": [
    "name_dict = {\n",
    "    0: '0s to 1s',\n",
    "    1: '1s to 10s',\n",
    "    2: '$>$ 10s',\n",
    "}\n",
    "path = '/data/wikidata_0_1_10_v3_path_weight_loss_retrain'\n",
    "path = '/data/wikidata_0_1_10_v3_path_weight_loss_PPSynth'\n",
    "path = '/data/wikidatav3_path_PPrepV2'\n",
    "pred_path = '/data/wikidatav3_path_PPrepV2/planrgcn9_4_2024/test_pred.csv'\n",
    "pred_path = '/data/wikidatav3_path_PPrepV2/planrgcn10_4_2024/test_pred.csv'\n",
    "split_path = f\"{path}/test_sampled.tsv\"\n",
    "#DBpedia_PP = get_result_processor(pred_path, split_path, name_dict, \"PlanRGCN Wikidata\")\n",
    "DBpedia_PP = get_PP_result_processor(path, pred_path, split_path, name_dict, \"PlanRGCN Wikidata\", remove_lsq=-1)\n",
    "DBpedia_PP.class_wise_metrics_for_table()"
   ]
  },
  {
   "cell_type": "code",
   "execution_count": 10,
   "id": "5fb16aad-8840-416d-a4bb-f06340617bfc",
   "metadata": {},
   "outputs": [
    {
     "data": {
      "text/html": [
       "<div>\n",
       "<style scoped>\n",
       "    .dataframe tbody tr th:only-of-type {\n",
       "        vertical-align: middle;\n",
       "    }\n",
       "\n",
       "    .dataframe tbody tr th {\n",
       "        vertical-align: top;\n",
       "    }\n",
       "\n",
       "    .dataframe thead th {\n",
       "        text-align: right;\n",
       "    }\n",
       "</style>\n",
       "<table border=\"1\" class=\"dataframe\">\n",
       "  <thead>\n",
       "    <tr style=\"text-align: right;\">\n",
       "      <th></th>\n",
       "      <th>id</th>\n",
       "      <th>time_cls</th>\n",
       "      <th>planrgcn_prediction</th>\n",
       "    </tr>\n",
       "  </thead>\n",
       "  <tbody>\n",
       "    <tr>\n",
       "      <th>0</th>\n",
       "      <td>lsqQuery-1UKvMdn6rcrVI7xh35Hx3uf-1Gd_MkCRpksna...</td>\n",
       "      <td>0</td>\n",
       "      <td>0</td>\n",
       "    </tr>\n",
       "    <tr>\n",
       "      <th>1</th>\n",
       "      <td>additionalWikidata18142zeroOrMore</td>\n",
       "      <td>2</td>\n",
       "      <td>1</td>\n",
       "    </tr>\n",
       "    <tr>\n",
       "      <th>2</th>\n",
       "      <td>lsqQuery-FghYsaJkRwKckopveSkgh2GH4nx2yoCj9qadY...</td>\n",
       "      <td>0</td>\n",
       "      <td>0</td>\n",
       "    </tr>\n",
       "    <tr>\n",
       "      <th>3</th>\n",
       "      <td>lsqQuery-quQumK5nODAkz72zCWZ1fnAm0f29gLRvAlg-Z...</td>\n",
       "      <td>0</td>\n",
       "      <td>0</td>\n",
       "    </tr>\n",
       "    <tr>\n",
       "      <th>4</th>\n",
       "      <td>lsqQuery-f9HGEJppGmZyIFdG7CfC9H7ZmtqTfmtkt2Mqy...</td>\n",
       "      <td>0</td>\n",
       "      <td>1</td>\n",
       "    </tr>\n",
       "    <tr>\n",
       "      <th>...</th>\n",
       "      <td>...</td>\n",
       "      <td>...</td>\n",
       "      <td>...</td>\n",
       "    </tr>\n",
       "    <tr>\n",
       "      <th>1218</th>\n",
       "      <td>lsqQuery-Io4PAxL0f7hvBrWtzclsw8YRqfZYhfXGhxGfA...</td>\n",
       "      <td>0</td>\n",
       "      <td>0</td>\n",
       "    </tr>\n",
       "    <tr>\n",
       "      <th>1219</th>\n",
       "      <td>lsqQuery-O3uEyenf1Omnjkr_6yo0MsVFB8oJSRFfL5pAl...</td>\n",
       "      <td>0</td>\n",
       "      <td>0</td>\n",
       "    </tr>\n",
       "    <tr>\n",
       "      <th>1220</th>\n",
       "      <td>lsqQuery-7JToqp1PmEy-35kgtNGxt8957WHy5C1L2eSrp...</td>\n",
       "      <td>0</td>\n",
       "      <td>0</td>\n",
       "    </tr>\n",
       "    <tr>\n",
       "      <th>1221</th>\n",
       "      <td>lsqQuery-KbXqo9tZzdcChUx7lFW2045mhqEYO92rbFfA7...</td>\n",
       "      <td>0</td>\n",
       "      <td>0</td>\n",
       "    </tr>\n",
       "    <tr>\n",
       "      <th>1222</th>\n",
       "      <td>lsqQuery-Tsk6Afzly2CIWJy4G5ximQdpOmN6gbyltYyZa...</td>\n",
       "      <td>0</td>\n",
       "      <td>0</td>\n",
       "    </tr>\n",
       "  </tbody>\n",
       "</table>\n",
       "<p>1223 rows × 3 columns</p>\n",
       "</div>"
      ],
      "text/plain": [
       "                                                     id  time_cls  \\\n",
       "0     lsqQuery-1UKvMdn6rcrVI7xh35Hx3uf-1Gd_MkCRpksna...         0   \n",
       "1                     additionalWikidata18142zeroOrMore         2   \n",
       "2     lsqQuery-FghYsaJkRwKckopveSkgh2GH4nx2yoCj9qadY...         0   \n",
       "3     lsqQuery-quQumK5nODAkz72zCWZ1fnAm0f29gLRvAlg-Z...         0   \n",
       "4     lsqQuery-f9HGEJppGmZyIFdG7CfC9H7ZmtqTfmtkt2Mqy...         0   \n",
       "...                                                 ...       ...   \n",
       "1218  lsqQuery-Io4PAxL0f7hvBrWtzclsw8YRqfZYhfXGhxGfA...         0   \n",
       "1219  lsqQuery-O3uEyenf1Omnjkr_6yo0MsVFB8oJSRFfL5pAl...         0   \n",
       "1220  lsqQuery-7JToqp1PmEy-35kgtNGxt8957WHy5C1L2eSrp...         0   \n",
       "1221  lsqQuery-KbXqo9tZzdcChUx7lFW2045mhqEYO92rbFfA7...         0   \n",
       "1222  lsqQuery-Tsk6Afzly2CIWJy4G5ximQdpOmN6gbyltYyZa...         0   \n",
       "\n",
       "      planrgcn_prediction  \n",
       "0                       0  \n",
       "1                       1  \n",
       "2                       0  \n",
       "3                       0  \n",
       "4                       1  \n",
       "...                   ...  \n",
       "1218                    0  \n",
       "1219                    0  \n",
       "1220                    0  \n",
       "1221                    0  \n",
       "1222                    0  \n",
       "\n",
       "[1223 rows x 3 columns]"
      ]
     },
     "execution_count": 10,
     "metadata": {},
     "output_type": "execute_result"
    }
   ],
   "source": [
    "DBpedia_PP.df"
   ]
  },
  {
   "cell_type": "code",
   "execution_count": 78,
   "id": "840a5bda-e02b-4bbd-b4d5-52b52118fbe8",
   "metadata": {},
   "outputs": [
    {
     "data": {
      "text/plain": [
       "count                                                  1223\n",
       "unique                                                 1223\n",
       "top       lsqQuery-1UKvMdn6rcrVI7xh35Hx3uf-1Gd_MkCRpksna...\n",
       "freq                                                      1\n",
       "Name: id, dtype: object"
      ]
     },
     "execution_count": 78,
     "metadata": {},
     "output_type": "execute_result"
    }
   ],
   "source": [
    "DBpedia_PP.df['id'].describe()"
   ]
  },
  {
   "cell_type": "code",
   "execution_count": 141,
   "id": "e8958cdc-b0c4-4ec5-9962-5bb8f274a46a",
   "metadata": {},
   "outputs": [],
   "source": [
    "wikidata_slow = DBpedia_PP.df[(DBpedia_PP.df['time_cls'] == 2)]\n",
    "wikidata_med = DBpedia_PP.df[(DBpedia_PP.df['time_cls'] == 1)]"
   ]
  },
  {
   "cell_type": "code",
   "execution_count": 79,
   "id": "549fd7ea-b1fb-423b-b9fa-ae3a705274da",
   "metadata": {},
   "outputs": [],
   "source": [
    "wikidata_slow_as_med = DBpedia_PP.df[(DBpedia_PP.df['time_cls'] == 2) & (DBpedia_PP.df['planrgcn_prediction'] ==1)]"
   ]
  },
  {
   "cell_type": "code",
   "execution_count": 12,
   "id": "f89acb6f-8c20-4059-93a4-141f8f11258d",
   "metadata": {},
   "outputs": [
    {
     "data": {
      "text/plain": [
       "['additionalWikidata18142zeroOrMore',\n",
       " 'lsqQuery-Ss8vd7s1BOkCEObxvlUyhkaGOfFy9k13u-985opDbQ4zeroOrMore',\n",
       " 'lsqQuery-JB5bmByHSTKeR1N1xe-OrSf18An6inbK2qVmUIOnou4',\n",
       " 'additionalWikidata15894',\n",
       " 'lsqQuery-dLebv07PSe93U4Lb7OEIzBL-53law0oPt094p411Hdk',\n",
       " 'lsqQuery-vEsjGHvLsRcXk_JaPoGlgwhP2sRyZaJ2nuGIEzuX8xkzeroOrMore',\n",
       " 'lsqQuery-yp8yaz3f9mS9SX9bFPxwO_raOy9l9nADanmm48KyIwkzeroOrMore',\n",
       " 'additionalWikidata16979zeroOrMore',\n",
       " 'lsqQuery-Bora93f3jDzVUWuV-8ITcEf3fz0X1OeAsLXCwFChhRAzeroOrMore',\n",
       " 'lsqQuery-Qmag8tG9Hhw1CYNHVSkRg1uza07QqL_TXyifuXCTo18zeroOrMore',\n",
       " 'additionalWikidata16855zeroOrMore',\n",
       " 'lsqQuery-l-la-UzTB1VQKQBKZ-wrFvjXEcP_Ch_HF8E26oRu0s0zeroOrMore',\n",
       " 'additionalWikidata15328',\n",
       " 'lsqQuery-Liauec2mZPstc0Y2PgVB8HHmowD_ObGq_QF92LciKXszeroOrMore',\n",
       " 'lsqQuery-3rfzvlzvT1UbiQQsh1KLryennG2ZacuGhLX3kZa464U',\n",
       " 'additionalWikidata18085',\n",
       " 'lsqQuery-HFrCR7vOUZrfQeM3QTGQJa7qu6AZk61CUb_Nht84660',\n",
       " 'lsqQuery-GpgYREGwSo6PR8OTUhPYA-yb2_WA2dt488NY9VpfX3czeroOrMore',\n",
       " 'lsqQuery-MrjkzMrjazsUfwzv3Y9_GJghA2sJAxN3skmBejbfChszeroOrMore',\n",
       " 'lsqQuery-HjnZ7yhFn6ax7B3rdTxv252S4tN8xjf0xVaL0IDwxC4zeroOrMore',\n",
       " 'lsqQuery-dLebv07PSe93U4Lb7OEIzBL-53law0oPt094p411HdkzeroOrMore',\n",
       " 'additionalWikidata16859',\n",
       " 'additionalWikidata99469zeroOrMore',\n",
       " 'additionalWikidata15817zeroOrMore',\n",
       " 'lsqQuery-g-cF9J0CxdajxvPHebplYOT_cvpEcWFA8kpwV-s3LVEzeroOrMore',\n",
       " 'additionalWikidata16984',\n",
       " 'additionalWikidata80722zeroOrMore',\n",
       " 'additionalWikidata78915zeroOrMore',\n",
       " 'additionalWikidata7589',\n",
       " 'lsqQuery-XdHCkRJdYLc1xZcO-npY0hfSyhQnzPiOu2r-EcpH9JYzeroOrMore',\n",
       " 'lsqQuery-Jh_chKquRDnLYT0sfgGDydGdWHTt9ndOO5ZcwTWuODs',\n",
       " 'lsqQuery-cx9BBWYmszuwZVht6O5e6Bv_rilAnTBUwfx_TAyqbWA',\n",
       " 'lsqQuery-kmu9DTtNhq2eH0lDV-YKxkIyRr4EeShgANvUgUzm_7kmanual_process',\n",
       " 'additionalWikidata15328zeroOrMore',\n",
       " 'additionalWikidata37378zeroOrMore',\n",
       " 'additionalWikidata16855',\n",
       " 'lsqQuery-RJXKA-UaJy3DasLrSvYPvh8M5JxXA-KiFtcdyIjEeGszeroOrMore',\n",
       " 'additionalWikidata42315zeroOrMore',\n",
       " 'additionalWikidata25611',\n",
       " 'additionalWikidata16827',\n",
       " 'lsqQuery-d4aldJJgm9EzZB40RfDwqRnzVp5TYyVk_FPsrcrnnCo',\n",
       " 'lsqQuery-RJXKA-UaJy3DasLrSvYPvh8M5JxXA-KiFtcdyIjEeGs',\n",
       " 'lsqQuery-kolSrtB_S6dCT5cdM6qPcx_uzw-dCWdYmlURNFejKgY',\n",
       " 'additionalWikidata18197zeroOrMore',\n",
       " 'lsqQuery-Jh_chKquRDnLYT0sfgGDydGdWHTt9ndOO5ZcwTWuODszeroOrMore',\n",
       " 'lsqQuery-3DXz1SbkrwHCwCYRXldilL1WBnkfSLVKtQjycOpEIHk',\n",
       " 'lsqQuery-wiDFDTIG6SldtLGhkpRtfkztqYatJSMwThzMdrHh-IwzeroOrMore',\n",
       " 'additionalWikidata18197',\n",
       " 'lsqQuery-kI4ZO79inespYT9QnWvrXxoc3-DF7uUrY68Wdck-XDE',\n",
       " 'lsqQuery-AAdYsegNppaQiPfldd65ma8ZIRMZqBxKzDw17iBiNPIzeroOrMore',\n",
       " 'additionalWikidata17080oneOrMore',\n",
       " 'lsqQuery-yMVlofVxJ2_FbWSdhkqOUIEpPnMh8gmr5r8OHY8YL-ozeroOrMore',\n",
       " 'lsqQuery-KXiY9j6djjcy9BhO0c2vWz30Ur-v_dsDF61ahvFSdqEzeroOrMore',\n",
       " 'lsqQuery-Y4SKKZjHEOnlwxrwkKshgXf7PEiHsJEubJYAItl5cEsmanual_process']"
      ]
     },
     "execution_count": 12,
     "metadata": {},
     "output_type": "execute_result"
    }
   ],
   "source": [
    "list(wikidata_slow_as_med['id'])"
   ]
  },
  {
   "cell_type": "code",
   "execution_count": 80,
   "id": "772bf1e6-d88e-4462-916e-a5615222dcb9",
   "metadata": {},
   "outputs": [],
   "source": [
    "wikidata_slow_as_slow = DBpedia_PP.df[(DBpedia_PP.df['time_cls'] == 2) & (DBpedia_PP.df['planrgcn_prediction'] ==2)]"
   ]
  },
  {
   "cell_type": "code",
   "execution_count": 81,
   "id": "05922a5c-2cf7-4697-a5a1-8821a5656f2d",
   "metadata": {},
   "outputs": [
    {
     "data": {
      "text/plain": [
       "set()"
      ]
     },
     "execution_count": 81,
     "metadata": {},
     "output_type": "execute_result"
    }
   ],
   "source": [
    "set(wikidata_slow_as_slow['id']).intersection(set(wikidata_slow_as_med['id']))"
   ]
  },
  {
   "cell_type": "code",
   "execution_count": 82,
   "id": "8e6c3d10-562a-4a40-b23a-4789d72de8ea",
   "metadata": {},
   "outputs": [
    {
     "data": {
      "text/plain": [
       "['additionalWikidata12599',\n",
       " 'lsqQuery-dl7fh0eFQ-xynyqrYIMcgqwcjJ4V2B6TbbtFYCLwIwgzeroOrMore',\n",
       " 'additionalWikidata17192',\n",
       " 'additionalWikidata31482zeroOrMore',\n",
       " 'additionalWikidata8784',\n",
       " 'additionalWikidata40109zeroOrMore',\n",
       " 'additionalWikidata108216oneOrMore',\n",
       " 'lsqQuery-XGiEdAkmMikm0Ox7dYnlNhEENRuJgrxKIBBSYRrNYYQzeroOrMore',\n",
       " 'additionalWikidata117689zeroOrMore',\n",
       " 'additionalWikidata11356zeroOrMore',\n",
       " 'additionalWikidata40109',\n",
       " 'additionalWikidata32226']"
      ]
     },
     "execution_count": 82,
     "metadata": {},
     "output_type": "execute_result"
    }
   ],
   "source": [
    "list(wikidata_slow_as_slow['id'])"
   ]
  },
  {
   "cell_type": "code",
   "execution_count": 84,
   "id": "7850e467-c879-48c7-b1a2-e6eb01e0a095",
   "metadata": {},
   "outputs": [
    {
     "data": {
      "text/plain": [
       "['additionalWikidata17274zeroOrMore',\n",
       " 'lsqQuery-XK_b3tqa1Oyn2BK2g93igeExmYoLDXUTkg3_HjK6ISc',\n",
       " 'lsqQuery-stAEcF72vTSMdqB-n6cTC-k5yr_CMSrHZBLqdi96Vo0',\n",
       " 'additionalWikidata13373zeroOrMore',\n",
       " 'lsqQuery-gqn1hVsOO9o9ed-fZtMn2q5FMhfoHvfVUqjDFLguYY8',\n",
       " 'lsqQuery-ww00qeGg5FZAG1o9Vk9tiCnDV4dUi71IRjbb5STeY8cmanual_process',\n",
       " 'lsqQuery-Ysiq9RhljTxOWVE0wfIXWzAKNJau0utnqeEF8jds9BE',\n",
       " 'additionalWikidata17136',\n",
       " 'lsqQuery-JfXoEGaiKAm8Ip3h0J0apruEZmdvSk8nFSt4Jne-JqozeroOrMore',\n",
       " 'additionalWikidata80750zeroOrMore',\n",
       " 'lsqQuery-7Dyk66K2QX6EJ5BCIkQ_376qUguXnyBRRmKfd-VUuIEzeroOrMore',\n",
       " 'additionalWikidata15690zeroOrMore',\n",
       " 'lsqQuery-CvRKR-F2bi80GxxFI8BDMX2ABDubTotoEG0sAwDcEN4',\n",
       " 'additionalWikidata15861',\n",
       " 'additionalWikidata18693zeroOrMore',\n",
       " 'lsqQuery-ioYLAFNVUtbBnqyczAy7mRRYnok1X9waztr7wAGszPMzeroOrMore',\n",
       " 'lsqQuery-NWaUSG4kT9vidCqF5oax8rNsbmO0f8oNRQ0YYoHzzA8',\n",
       " 'lsqQuery-x8VcqNJStUZz3NtIDk1DKY8oRnnad7Y1WT0lRWX2XJEmanual_process',\n",
       " 'lsqQuery-DScRBD6FfCIVpjB6Khj9YoVMMV-_vdsvYVH_ApwhG6omanual_process',\n",
       " 'lsqQuery-K87wD74roCajnklqOIgJ45TXts6smg43HIlw39BKiHUzeroOrMore',\n",
       " 'lsqQuery-WenMbOTdmb6XQZ7ZGPHLKyUnyufV1PyRuDAhsfv2IPk',\n",
       " 'additionalWikidata16689',\n",
       " 'lsqQuery-c9MRRzYYxHSh8gPavAfrNiDLzdN1alXeIGyukKA_pVs',\n",
       " 'lsqQuery-HruauWfuZQWL6ksc4wd4j7Fmjp7i7ckSpwZ2hqstyOo',\n",
       " 'additionalWikidata17162',\n",
       " 'lsqQuery-tu8q4ACClfmyHbOjzfiA3YelRxdc2B4NgafeCWXI2qU',\n",
       " 'additionalWikidata16829',\n",
       " 'lsqQuery-w7qbvvPsGgOn195b5pl-FyacmSZO5I5gBQwhxcNRKoYzeroOrMore',\n",
       " 'lsqQuery-lFdldNFWtNHXd0x2VcoooUceZBJBESoBl82K6VilD-AzeroOrMore',\n",
       " 'lsqQuery-zLonjW38dNFk9cdkLgWGvRoheMoqPfxPiOqwnuCmRDY',\n",
       " 'lsqQuery-HOEC4u1dr6EuIx7LbIdvuze3AztTj2RLtR4gvFa4d2E',\n",
       " 'lsqQuery-TazExRGkfHBdApytNuF8Q4aDX5nNc_2KF2GbYiQ_Scg',\n",
       " 'additionalWikidata122100oneOrMore',\n",
       " 'lsqQuery-ebYqh9k1C8t_zoJa7GLGEUiJHKaBDSLC5McCxr84J5soneOrMore',\n",
       " 'lsqQuery-FJAqyWy0GnUun7s9YXyg0ZTRfgZv34iEPcWmGMSpgGU',\n",
       " 'lsqQuery-b_amtaedfjfD5bhiXVgTDq9JlnJXcroAJpwpbvUaPCU',\n",
       " 'lsqQuery-o5ked-U0x75efYuz5pEoASQAppaHVJFNiqEt1B_EK2U',\n",
       " 'lsqQuery-J4lO9oHMsrF9zwkb56HSSPtmM_7SS_NRU4auFGG6ILg',\n",
       " 'lsqQuery-4A7e1g2G6Ag7UUeyTYz4Qoy3WwZ0ZSrXaPT46VL5rW4',\n",
       " 'additionalWikidata321',\n",
       " 'lsqQuery-qr-p4yIhzyZkBjPwQCwN4ATdCvXrW4FEyhCzt0TtSIkzeroOrMore',\n",
       " 'lsqQuery-xmqp15Xk-nHOLJEbpgctE3W080JLP0HUSbuGbg2lNokzeroOrMore',\n",
       " 'lsqQuery-JfXoEGaiKAm8Ip3h0J0apruEZmdvSk8nFSt4Jne-Jqo',\n",
       " 'lsqQuery-vwlxMP9YJIn5Zxmqvu_3h4XQ3Dq85biWIOsLb6asZfgoneOrMore',\n",
       " 'lsqQuery-Sm9KpYCObsoDAq0pp4HL2PrSg4m4aJbxNLgcuRQOXR4zeroOrMore',\n",
       " 'lsqQuery-Ysiq9RhljTxOWVE0wfIXWzAKNJau0utnqeEF8jds9BEzeroOrMore',\n",
       " 'additionalWikidata108597zeroOrMore',\n",
       " 'lsqQuery-8GarwjIPqd975wyg7WfdMeMsYRrhWCAOin4AXPsc0rc',\n",
       " 'lsqQuery-9r0-ZIfRi6oBmEI2oaMUuitPtfgznr6nJ_flYH-qsVM',\n",
       " 'lsqQuery-vwlxMP9YJIn5Zxmqvu_3h4XQ3Dq85biWIOsLb6asZfg',\n",
       " 'lsqQuery-5XlHjVbMfIFIPCxUnkPHZL2vsXuHKTKbTMQbhD9o1D0manual_process',\n",
       " 'additionalWikidata15690',\n",
       " 'lsqQuery-qNH6AanPrE4L6Qqx3npdS0yJTPMmQuiWWtgnqj1ASMozeroOrMore',\n",
       " 'lsqQuery-GlJQDqIDWtV_8kFyCDCSKxfdE2y7cC-AG5ek-0E-2G8',\n",
       " 'additionalWikidata17274',\n",
       " 'lsqQuery-3rfzvlzvT1UbiQQsh1KLryennG2ZacuGhLX3kZa464Umanual_process',\n",
       " 'lsqQuery-gqn1hVsOO9o9ed-fZtMn2q5FMhfoHvfVUqjDFLguYY8zeroOrMore',\n",
       " 'additionalWikidata18729zeroOrMore',\n",
       " 'lsqQuery-PtDygW-JpaHXIOnv7PX7K2Ju3c_uy-tbIo6R1xlY1TA',\n",
       " 'additionalWikidata53060zeroOrMore',\n",
       " 'lsqQuery-b-HER29_xWBO4U70Tlek2DyaHI0sBzMjvq8bxuzmuwk',\n",
       " 'lsqQuery-GzjfYvqD3kTroUGRZ299ovv9PX1XwmDYTIDuUey4d7U',\n",
       " 'additionalWikidata16506',\n",
       " 'additionalWikidata18729',\n",
       " 'lsqQuery-3RGwoummL5cSprahoRF9mI7BdM-3dpt24bRxkwh7WgQ',\n",
       " 'lsqQuery-1If0LmyDz1RJcwETksxK2A_a-4q9i8xjXxXS8vSAOjM',\n",
       " 'lsqQuery-apXQU5Jhz0mrGoeMc3i4K5RRY8i7LCwKUshHRmTe00c',\n",
       " 'lsqQuery-sGHR581kVLIHgw7_F9MMGa1ws50e3SZgODCTiNBwdwconeOrMore',\n",
       " 'lsqQuery-JbLCVYuO91_m614rJmf3FoUE4ZFl31-o4sfGKUQbeSI',\n",
       " 'lsqQuery-TrCeqbovoeLUQ9hXvAIrC5GGrWctmGRCFkZx7uA3yp4oneOrMore',\n",
       " 'lsqQuery-3Q-P-d42C8a3bfmGN7akjMpHiECVt5ieOnB7wg9rfTwzeroOrMore',\n",
       " 'lsqQuery-ioYLAFNVUtbBnqyczAy7mRRYnok1X9waztr7wAGszPM',\n",
       " 'lsqQuery-sGlAg84hVvKi0RRAA4Zupw_egzSSoO4kza9bAWvAQTM',\n",
       " 'lsqQuery-NAeEjoKx-uMoMBZT09Gqp-qLdnJ8r0DNzuW2TydUZeUzeroOrMore',\n",
       " 'lsqQuery-n253slTAhLJ6GRlLHnnA8JM0YRsLI5DJ5G_qKQKcMGE',\n",
       " 'additionalWikidata19141zeroOrMore',\n",
       " 'lsqQuery-blCMN6JWt87K11QHiABADZzpPoqx0jnOqjjjF-D2LP8zeroOrMore',\n",
       " 'lsqQuery-sGlAg84hVvKi0RRAA4Zupw_egzSSoO4kza9bAWvAQTMmanual_process',\n",
       " 'additionalWikidata19139',\n",
       " 'lsqQuery-mPZ2ISIJgpDrBzpO1jPNcjJuvTa1npQREDMhrFV6djszeroOrMore',\n",
       " 'additionalWikidata16829zeroOrMore']"
      ]
     },
     "execution_count": 84,
     "metadata": {},
     "output_type": "execute_result"
    }
   ],
   "source": [
    "wikidata_med_as_med = DBpedia_PP.df[(DBpedia_PP.df['time_cls'] == 1) & (DBpedia_PP.df['planrgcn_prediction'] ==1)]\n",
    "list(wikidata_med_as_med['id'])"
   ]
  },
  {
   "cell_type": "code",
   "execution_count": 85,
   "id": "b506d8f8-5298-4901-96ea-a6d40489b7d5",
   "metadata": {},
   "outputs": [],
   "source": [
    "def merge_mean_latency(resultProcessor, path):\n",
    "    df = pd.read_csv(path, sep='\\t')\n",
    "    df['id'] = df['id'].apply(lambda x: x[20:])\n",
    "    return pd.merge(resultProcessor.df, df[['id', 'mean_latency']], on='id', how='left')"
   ]
  },
  {
   "cell_type": "code",
   "execution_count": 170,
   "id": "867ecf95-4f23-4417-9635-cc3a0709c406",
   "metadata": {},
   "outputs": [
    {
     "name": "stderr",
     "output_type": "stream",
     "text": [
      "/usr/local/lib/python3.10/dist-packages/sklearn/base.py:376: InconsistentVersionWarning: Trying to unpickle estimator OneHotEncoder from version 1.3.2 when using version 1.4.0. This might lead to breaking code or invalid results. Use at your own risk. For more info please refer to:\n",
      "https://scikit-learn.org/stable/model_persistence.html#security-maintainability-limitations\n",
      "  warnings.warn(\n",
      "/usr/local/lib/python3.10/dist-packages/sklearn/base.py:376: InconsistentVersionWarning: Trying to unpickle estimator KBinsDiscretizer from version 1.3.2 when using version 1.4.0. This might lead to breaking code or invalid results. Use at your own risk. For more info please refer to:\n",
      "https://scikit-learn.org/stable/model_persistence.html#security-maintainability-limitations\n",
      "  warnings.warn(\n"
     ]
    }
   ],
   "source": [
    "import pickle as pcl\n",
    "with open('/data/wikidatav3_path_PPrepV2/planrgcn9_4_2024/prepper.pcl','rb') as f:\n",
    "    prepper = pcl.load(f)"
   ]
  },
  {
   "cell_type": "code",
   "execution_count": 171,
   "id": "d1ae74e7-aca3-4cb8-a4df-ef566b2a4886",
   "metadata": {},
   "outputs": [],
   "source": [
    "ent_freq = prepper.feat.ent_freq\n",
    "pred_freq = prepper.feat.pred_freq"
   ]
  },
  {
   "cell_type": "code",
   "execution_count": 172,
   "id": "bffdbbe8-5367-44b7-9120-7acf8f741c9f",
   "metadata": {},
   "outputs": [
    {
     "data": {
      "text/plain": [
       "<module 'probe.utils' from '/data/probe/probe/utils.py'>"
      ]
     },
     "execution_count": 172,
     "metadata": {},
     "output_type": "execute_result"
    }
   ],
   "source": [
    "import probe.utils as pu\n",
    "import importlib\n",
    "importlib.reload(pu)"
   ]
  },
  {
   "cell_type": "code",
   "execution_count": 173,
   "id": "07e89cd7-3f05-44b5-a956-e8da03e6ba6b",
   "metadata": {},
   "outputs": [
    {
     "data": {
      "text/plain": [
       "(['http://www.wikidata.org/prop/direct/P31',\n",
       "  'http://www.wikidata.org/prop/direct/P279'],\n",
       " ['http://www.wikidata.org/entity/Q223557'])"
      ]
     },
     "execution_count": 173,
     "metadata": {},
     "output_type": "execute_result"
    }
   ],
   "source": [
    "pu.extract_pred_ents('/data/wikidatav3_path_PPrepV2/queryplans/additionalWikidata18142zeroOrMore')"
   ]
  },
  {
   "cell_type": "code",
   "execution_count": 174,
   "id": "b441ef54-3bdb-4c99-96a5-5016d83d7972",
   "metadata": {},
   "outputs": [
    {
     "data": {
      "text/plain": [
       "count                                         247\n",
       "unique                                         40\n",
       "top       http://www.wikidata.org/prop/direct/P31\n",
       "freq                                           74\n",
       "dtype: object"
      ]
     },
     "execution_count": 174,
     "metadata": {},
     "output_type": "execute_result"
    }
   ],
   "source": [
    "med_true_preds = pd.Series(pu.flatten([pu.extract_pred_ents(f'/data/wikidatav3_path_PPrepV2/queryplans/{x}')[0] for x in list(wikidata_med_as_med['id'])]))\n",
    "med_true_preds.describe()"
   ]
  },
  {
   "cell_type": "code",
   "execution_count": 175,
   "id": "17bca1aa-df47-4bf2-a662-2e3ea06405e2",
   "metadata": {
    "scrolled": true
   },
   "outputs": [
    {
     "data": {
      "text/plain": [
       "http://www.wikidata.org/prop/direct/P31       74\n",
       "http://www.wikidata.org/prop/direct/P279      67\n",
       "http://www.wikidata.org/prop/direct/P131      16\n",
       "http://www.wikidata.org/prop/direct/P625      13\n",
       "http://www.w3.org/2000/01/rdf-schema#label    10\n",
       "http://www.wikidata.org/prop/direct/P17        6\n",
       "http://www.wikidata.org/prop/direct/P580       5\n",
       "http://www.wikidata.org/prop/direct/P585       5\n",
       "http://www.wikidata.org/prop/direct/P1566      4\n",
       "http://www.wikidata.org/prop/direct/P106       3\n",
       "http://www.wikidata.org/prop/direct/P27        3\n",
       "http://www.wikidata.org/prop/direct/P171       3\n",
       "http://www.wikidata.org/prop/direct/P1448      2\n",
       "http://www.wikidata.org/prop/direct/P2452      2\n",
       "http://www.wikidata.org/prop/direct/P105       2\n",
       "http://www.wikidata.org/prop/direct/P18        2\n",
       "http://www.wikidata.org/prop/direct/P1549      2\n",
       "http://www.wikidata.org/prop/direct/P94        2\n",
       "http://www.wikidata.org/prop/direct/P856       2\n",
       "http://www.wikidata.org/prop/direct/P509       2\n",
       "http://www.wikidata.org/prop/direct/P21        2\n",
       "http://www.wikidata.org/prop/direct/P374       2\n",
       "http://www.wikidata.org/prop/direct/P1552      1\n",
       "http://www.wikidata.org/prop/direct/P19        1\n",
       "http://www.wikidata.org/prop/direct/P1559      1\n",
       "http://www.wikidata.org/prop/direct/P150       1\n",
       "http://www.wikidata.org/prop/direct/P570       1\n",
       "http://www.wikidata.org/prop/direct/P762       1\n",
       "http://www.wikidata.org/prop/direct/P166       1\n",
       "http://www.wikidata.org/prop/direct/P186       1\n",
       "http://www.wikidata.org/prop/direct/P898       1\n",
       "http://www.wikidata.org/prop/direct/P3917      1\n",
       "http://www.wikidata.org/prop/direct/P460       1\n",
       "http://www.wikidata.org/prop/direct/P461       1\n",
       "http://www.wikidata.org/prop/direct/P921       1\n",
       "http://www.wikidata.org/prop/direct/P364       1\n",
       "http://www.wikidata.org/prop/direct/P971       1\n",
       "http://www.wikidata.org/prop/direct/P213       1\n",
       "http://www.wikidata.org/prop/direct/P1589      1\n",
       "http://www.wikidata.org/prop/direct/P136       1\n",
       "Name: count, dtype: int64"
      ]
     },
     "execution_count": 175,
     "metadata": {},
     "output_type": "execute_result"
    }
   ],
   "source": [
    "med_true_preds.value_counts()"
   ]
  },
  {
   "cell_type": "code",
   "execution_count": 176,
   "id": "c8447022-a6d2-4459-a2ea-e6dd878a6a1e",
   "metadata": {},
   "outputs": [
    {
     "data": {
      "text/plain": [
       "count                                          41\n",
       "unique                                         13\n",
       "top       http://www.wikidata.org/prop/direct/P31\n",
       "freq                                           12\n",
       "dtype: object"
      ]
     },
     "execution_count": 176,
     "metadata": {},
     "output_type": "execute_result"
    }
   ],
   "source": [
    "slow_true_preds = pd.Series(pu.flatten([pu.extract_pred_ents(f'/data/wikidatav3_path_PPrepV2/queryplans/{x}')[0] for x in list(wikidata_slow_as_slow['id'])]))\n",
    "slow_true_preds.describe()"
   ]
  },
  {
   "cell_type": "code",
   "execution_count": 177,
   "id": "f217c60c-36d3-4f52-b9c2-dcfdd4fea3b9",
   "metadata": {},
   "outputs": [
    {
     "data": {
      "text/plain": [
       "http://www.wikidata.org/prop/direct/P31      12\n",
       "http://www.wikidata.org/prop/direct/P279     10\n",
       "http://www.wikidata.org/prop/direct/P18       3\n",
       "http://www.wikidata.org/prop/direct/P180      3\n",
       "http://www.wikidata.org/prop/direct/P921      2\n",
       "http://www.wikidata.org/prop/direct/P1260     2\n",
       "http://www.wikidata.org/prop/direct/P625      2\n",
       "http://www.wikidata.org/prop/direct/P1476     2\n",
       "http://www.wikidata.org/prop/direct/P345      1\n",
       "http://www.wikidata.org/prop/direct/P105      1\n",
       "http://www.wikidata.org/prop/direct/P361      1\n",
       "http://www.wikidata.org/prop/direct/P171      1\n",
       "http://www.wikidata.org/prop/direct/P249      1\n",
       "Name: count, dtype: int64"
      ]
     },
     "execution_count": 177,
     "metadata": {},
     "output_type": "execute_result"
    }
   ],
   "source": [
    "slow_true_preds.value_counts()"
   ]
  },
  {
   "cell_type": "code",
   "execution_count": 178,
   "id": "472dcb62-bbbd-4d12-a4f0-0923727c7413",
   "metadata": {},
   "outputs": [
    {
     "data": {
      "text/plain": [
       "count                                          133\n",
       "unique                                          23\n",
       "top       http://www.wikidata.org/prop/direct/P279\n",
       "freq                                            52\n",
       "dtype: object"
      ]
     },
     "execution_count": 178,
     "metadata": {},
     "output_type": "execute_result"
    }
   ],
   "source": [
    "slow_med_preds = pd.Series(pu.flatten([pu.extract_pred_ents(f'/data/wikidatav3_path_PPrepV2/queryplans/{x}')[0] for x in list(wikidata_slow_as_med['id'])]))\n",
    "slow_med_preds.describe()"
   ]
  },
  {
   "cell_type": "code",
   "execution_count": 179,
   "id": "80b46ccd-1c03-4964-9b69-a06d6355236c",
   "metadata": {
    "scrolled": true
   },
   "outputs": [
    {
     "data": {
      "text/plain": [
       "http://www.wikidata.org/prop/direct/P279      52\n",
       "http://www.wikidata.org/prop/direct/P31       51\n",
       "http://www.wikidata.org/prop/direct/P625       7\n",
       "http://www.wikidata.org/prop/direct/P17        2\n",
       "http://www.wikidata.org/prop/direct/P1448      2\n",
       "http://www.w3.org/2000/01/rdf-schema#label     2\n",
       "http://www.wikidata.org/prop/direct/P585       1\n",
       "http://www.wikidata.org/prop/direct/P1559      1\n",
       "http://www.wikidata.org/prop/direct/P407       1\n",
       "http://www.wikidata.org/prop/direct/P276       1\n",
       "http://www.wikidata.org/prop/direct/P571       1\n",
       "http://www.wikidata.org/prop/direct/P576       1\n",
       "http://www.wikidata.org/prop/direct/P582       1\n",
       "http://www.wikidata.org/prop/direct/P150       1\n",
       "http://www.wikidata.org/prop/direct/P580       1\n",
       "http://www.wikidata.org/prop/direct/P131       1\n",
       "http://www.wikidata.org/prop/direct/P39        1\n",
       "http://www.wikidata.org/prop/direct/P364       1\n",
       "http://www.wikidata.org/prop/direct/P1566      1\n",
       "http://www.wikidata.org/prop/direct/P2452      1\n",
       "http://www.wikidata.org/prop/direct/P379       1\n",
       "http://www.wikidata.org/prop/direct/P2590      1\n",
       "http://www.wikidata.org/prop/direct/P106       1\n",
       "Name: count, dtype: int64"
      ]
     },
     "execution_count": 179,
     "metadata": {},
     "output_type": "execute_result"
    }
   ],
   "source": [
    "slow_med_preds.value_counts()"
   ]
  },
  {
   "cell_type": "code",
   "execution_count": 180,
   "id": "88912c71-eda9-4c65-9d4f-4951d0295785",
   "metadata": {
    "scrolled": true
   },
   "outputs": [
    {
     "data": {
      "text/plain": [
       "['http://www.wikidata.org/prop/direct/P2590',\n",
       " 'http://www.wikidata.org/prop/direct/P379',\n",
       " 'http://www.wikidata.org/prop/direct/P39',\n",
       " 'http://www.wikidata.org/prop/direct/P582',\n",
       " 'http://www.wikidata.org/prop/direct/P576',\n",
       " 'http://www.wikidata.org/prop/direct/P571',\n",
       " 'http://www.wikidata.org/prop/direct/P276',\n",
       " 'http://www.wikidata.org/prop/direct/P407']"
      ]
     },
     "execution_count": 180,
     "metadata": {},
     "output_type": "execute_result"
    }
   ],
   "source": [
    "[x for x in list(slow_med_preds) if x not in list(med_true_preds)]"
   ]
  },
  {
   "cell_type": "code",
   "execution_count": 181,
   "id": "02a1ed8f-20cf-4296-a379-cb240a904df4",
   "metadata": {},
   "outputs": [
    {
     "data": {
      "text/plain": [
       "125"
      ]
     },
     "execution_count": 181,
     "metadata": {},
     "output_type": "execute_result"
    }
   ],
   "source": [
    "len([x for x in list(slow_med_preds) if x in list(med_true_preds)])"
   ]
  },
  {
   "cell_type": "code",
   "execution_count": 182,
   "id": "39f4f02e-e0c9-4734-a28d-ccff05cc2203",
   "metadata": {},
   "outputs": [
    {
     "data": {
      "text/plain": [
       "set()"
      ]
     },
     "execution_count": 182,
     "metadata": {},
     "output_type": "execute_result"
    }
   ],
   "source": [
    "set(wikidata_slow_as_med['id']).intersection(set(list(wikidata_med_as_med['id'])))"
   ]
  },
  {
   "cell_type": "code",
   "execution_count": 183,
   "id": "722a4681-750f-4984-a8d2-7c5caefec346",
   "metadata": {},
   "outputs": [],
   "source": [
    "import probe.utils as pu\n",
    "import importlib\n",
    "importlib.reload(pu)\n",
    "sim_ents, sim_preds = pu.extract_similar_query('/data/wikidatav3_path_PPrepV2/queryplans',list(wikidata_slow_as_med['id']),list(wikidata_med_as_med['id']))"
   ]
  },
  {
   "cell_type": "code",
   "execution_count": 184,
   "id": "0056ec6d-1a94-4bfc-a184-9d2858c29b33",
   "metadata": {},
   "outputs": [
    {
     "data": {
      "text/plain": [
       "1570"
      ]
     },
     "execution_count": 184,
     "metadata": {},
     "output_type": "execute_result"
    }
   ],
   "source": [
    "len(sim_preds)"
   ]
  },
  {
   "cell_type": "code",
   "execution_count": 185,
   "id": "4a6fdb03-9183-4a24-9f6a-9c4c27244f3a",
   "metadata": {
    "scrolled": true
   },
   "outputs": [
    {
     "data": {
      "text/plain": [
       "[('additionalWikidata16855zeroOrMore', 'additionalWikidata18693zeroOrMore'),\n",
       " ('additionalWikidata16855zeroOrMore', 'additionalWikidata18729zeroOrMore'),\n",
       " ('additionalWikidata16855zeroOrMore', 'additionalWikidata18729'),\n",
       " ('additionalWikidata16855zeroOrMore', 'additionalWikidata19141zeroOrMore'),\n",
       " ('additionalWikidata16855zeroOrMore', 'additionalWikidata19139'),\n",
       " ('lsqQuery-l-la-UzTB1VQKQBKZ-wrFvjXEcP_Ch_HF8E26oRu0s0zeroOrMore',\n",
       "  'additionalWikidata18693zeroOrMore'),\n",
       " ('lsqQuery-l-la-UzTB1VQKQBKZ-wrFvjXEcP_Ch_HF8E26oRu0s0zeroOrMore',\n",
       "  'additionalWikidata18729zeroOrMore'),\n",
       " ('lsqQuery-l-la-UzTB1VQKQBKZ-wrFvjXEcP_Ch_HF8E26oRu0s0zeroOrMore',\n",
       "  'additionalWikidata18729'),\n",
       " ('lsqQuery-l-la-UzTB1VQKQBKZ-wrFvjXEcP_Ch_HF8E26oRu0s0zeroOrMore',\n",
       "  'additionalWikidata19141zeroOrMore'),\n",
       " ('lsqQuery-l-la-UzTB1VQKQBKZ-wrFvjXEcP_Ch_HF8E26oRu0s0zeroOrMore',\n",
       "  'additionalWikidata19139'),\n",
       " ('lsqQuery-3rfzvlzvT1UbiQQsh1KLryennG2ZacuGhLX3kZa464U',\n",
       "  'lsqQuery-WenMbOTdmb6XQZ7ZGPHLKyUnyufV1PyRuDAhsfv2IPk'),\n",
       " ('lsqQuery-3rfzvlzvT1UbiQQsh1KLryennG2ZacuGhLX3kZa464U',\n",
       "  'lsqQuery-3rfzvlzvT1UbiQQsh1KLryennG2ZacuGhLX3kZa464Umanual_process'),\n",
       " ('lsqQuery-HFrCR7vOUZrfQeM3QTGQJa7qu6AZk61CUb_Nht84660',\n",
       "  'lsqQuery-HOEC4u1dr6EuIx7LbIdvuze3AztTj2RLtR4gvFa4d2E'),\n",
       " ('additionalWikidata80722zeroOrMore', 'additionalWikidata80750zeroOrMore'),\n",
       " ('additionalWikidata16855', 'additionalWikidata18693zeroOrMore'),\n",
       " ('additionalWikidata16855', 'additionalWikidata18729zeroOrMore'),\n",
       " ('additionalWikidata16855', 'additionalWikidata18729'),\n",
       " ('additionalWikidata16855', 'additionalWikidata19141zeroOrMore'),\n",
       " ('additionalWikidata16855', 'additionalWikidata19139'),\n",
       " ('additionalWikidata17080oneOrMore',\n",
       "  'lsqQuery-sGHR581kVLIHgw7_F9MMGa1ws50e3SZgODCTiNBwdwconeOrMore'),\n",
       " ('additionalWikidata17080oneOrMore',\n",
       "  'lsqQuery-TrCeqbovoeLUQ9hXvAIrC5GGrWctmGRCFkZx7uA3yp4oneOrMore')]"
      ]
     },
     "execution_count": 185,
     "metadata": {},
     "output_type": "execute_result"
    }
   ],
   "source": [
    "sim_ents"
   ]
  },
  {
   "cell_type": "code",
   "execution_count": 186,
   "id": "3207bd77-659b-48c6-802c-d9ba1eab5939",
   "metadata": {},
   "outputs": [
    {
     "data": {
      "text/plain": [
       "{'additionalWikidata108216oneOrMore',\n",
       " 'additionalWikidata11356zeroOrMore',\n",
       " 'additionalWikidata117689zeroOrMore',\n",
       " 'additionalWikidata12599',\n",
       " 'additionalWikidata17192',\n",
       " 'additionalWikidata31482zeroOrMore',\n",
       " 'additionalWikidata32226',\n",
       " 'additionalWikidata40109',\n",
       " 'additionalWikidata40109zeroOrMore',\n",
       " 'additionalWikidata8784',\n",
       " 'lsqQuery-XGiEdAkmMikm0Ox7dYnlNhEENRuJgrxKIBBSYRrNYYQzeroOrMore',\n",
       " 'lsqQuery-dl7fh0eFQ-xynyqrYIMcgqwcjJ4V2B6TbbtFYCLwIwgzeroOrMore'}"
      ]
     },
     "execution_count": 186,
     "metadata": {},
     "output_type": "execute_result"
    }
   ],
   "source": [
    "set(wikidata_slow_as_med['id'])\n",
    "set(wikidata_med_as_med['id'])\n",
    "set(wikidata_slow_as_slow['id'])"
   ]
  },
  {
   "cell_type": "code",
   "execution_count": 187,
   "id": "2395ed6e-a926-4df7-80b9-b574b083ac38",
   "metadata": {},
   "outputs": [
    {
     "name": "stdout",
     "output_type": "stream",
     "text": [
      "Filters in Accurate med interval:  15  of  81\n",
      "Filters in Accurate slow interval:  0  of  12\n",
      "Filters in Slow as Med interval:  4  of  54\n"
     ]
    }
   ],
   "source": [
    "import probe.utils as pu\n",
    "import importlib\n",
    "importlib.reload(pu)\n",
    "basepath='/data/wikidatav3_path_PPrepV2/queryplans'\n",
    "print(\"Filters in Accurate med interval: \", len(pu.extract_filters(basepath,set(wikidata_med_as_med['id']))), \" of \",len(set(wikidata_med_as_med['id'])))\n",
    "print(\"Filters in Accurate slow interval: \", len(pu.extract_filters(basepath,set(wikidata_slow_as_slow['id']))) , \" of \",len(set(wikidata_slow_as_slow['id'])))\n",
    "print(\"Filters in Slow as Med interval: \", len(pu.extract_filters(basepath,set(wikidata_slow_as_med['id']))) , \" of \",len(set(wikidata_slow_as_med['id'])))"
   ]
  },
  {
   "cell_type": "code",
   "execution_count": 188,
   "id": "abec2d89-d518-492f-8e1f-7a1c547046cc",
   "metadata": {
    "scrolled": true
   },
   "outputs": [
    {
     "data": {
      "text/plain": [
       "{'additionalWikidata15328',\n",
       " 'additionalWikidata15328zeroOrMore',\n",
       " 'additionalWikidata15817zeroOrMore',\n",
       " 'additionalWikidata15894',\n",
       " 'additionalWikidata16827',\n",
       " 'additionalWikidata16855',\n",
       " 'additionalWikidata16855zeroOrMore',\n",
       " 'additionalWikidata16859',\n",
       " 'additionalWikidata16979zeroOrMore',\n",
       " 'additionalWikidata16984',\n",
       " 'additionalWikidata17080oneOrMore',\n",
       " 'additionalWikidata18085',\n",
       " 'additionalWikidata18142zeroOrMore',\n",
       " 'additionalWikidata18197',\n",
       " 'additionalWikidata18197zeroOrMore',\n",
       " 'additionalWikidata25611',\n",
       " 'additionalWikidata37378zeroOrMore',\n",
       " 'additionalWikidata42315zeroOrMore',\n",
       " 'additionalWikidata7589',\n",
       " 'additionalWikidata78915zeroOrMore',\n",
       " 'additionalWikidata80722zeroOrMore',\n",
       " 'additionalWikidata99469zeroOrMore',\n",
       " 'lsqQuery-3DXz1SbkrwHCwCYRXldilL1WBnkfSLVKtQjycOpEIHk',\n",
       " 'lsqQuery-3rfzvlzvT1UbiQQsh1KLryennG2ZacuGhLX3kZa464U',\n",
       " 'lsqQuery-AAdYsegNppaQiPfldd65ma8ZIRMZqBxKzDw17iBiNPIzeroOrMore',\n",
       " 'lsqQuery-Bora93f3jDzVUWuV-8ITcEf3fz0X1OeAsLXCwFChhRAzeroOrMore',\n",
       " 'lsqQuery-GpgYREGwSo6PR8OTUhPYA-yb2_WA2dt488NY9VpfX3czeroOrMore',\n",
       " 'lsqQuery-HFrCR7vOUZrfQeM3QTGQJa7qu6AZk61CUb_Nht84660',\n",
       " 'lsqQuery-HjnZ7yhFn6ax7B3rdTxv252S4tN8xjf0xVaL0IDwxC4zeroOrMore',\n",
       " 'lsqQuery-JB5bmByHSTKeR1N1xe-OrSf18An6inbK2qVmUIOnou4',\n",
       " 'lsqQuery-Jh_chKquRDnLYT0sfgGDydGdWHTt9ndOO5ZcwTWuODs',\n",
       " 'lsqQuery-Jh_chKquRDnLYT0sfgGDydGdWHTt9ndOO5ZcwTWuODszeroOrMore',\n",
       " 'lsqQuery-KXiY9j6djjcy9BhO0c2vWz30Ur-v_dsDF61ahvFSdqEzeroOrMore',\n",
       " 'lsqQuery-Liauec2mZPstc0Y2PgVB8HHmowD_ObGq_QF92LciKXszeroOrMore',\n",
       " 'lsqQuery-MrjkzMrjazsUfwzv3Y9_GJghA2sJAxN3skmBejbfChszeroOrMore',\n",
       " 'lsqQuery-Qmag8tG9Hhw1CYNHVSkRg1uza07QqL_TXyifuXCTo18zeroOrMore',\n",
       " 'lsqQuery-RJXKA-UaJy3DasLrSvYPvh8M5JxXA-KiFtcdyIjEeGs',\n",
       " 'lsqQuery-RJXKA-UaJy3DasLrSvYPvh8M5JxXA-KiFtcdyIjEeGszeroOrMore',\n",
       " 'lsqQuery-Ss8vd7s1BOkCEObxvlUyhkaGOfFy9k13u-985opDbQ4zeroOrMore',\n",
       " 'lsqQuery-XdHCkRJdYLc1xZcO-npY0hfSyhQnzPiOu2r-EcpH9JYzeroOrMore',\n",
       " 'lsqQuery-Y4SKKZjHEOnlwxrwkKshgXf7PEiHsJEubJYAItl5cEsmanual_process',\n",
       " 'lsqQuery-cx9BBWYmszuwZVht6O5e6Bv_rilAnTBUwfx_TAyqbWA',\n",
       " 'lsqQuery-d4aldJJgm9EzZB40RfDwqRnzVp5TYyVk_FPsrcrnnCo',\n",
       " 'lsqQuery-dLebv07PSe93U4Lb7OEIzBL-53law0oPt094p411Hdk',\n",
       " 'lsqQuery-dLebv07PSe93U4Lb7OEIzBL-53law0oPt094p411HdkzeroOrMore',\n",
       " 'lsqQuery-g-cF9J0CxdajxvPHebplYOT_cvpEcWFA8kpwV-s3LVEzeroOrMore',\n",
       " 'lsqQuery-kI4ZO79inespYT9QnWvrXxoc3-DF7uUrY68Wdck-XDE',\n",
       " 'lsqQuery-kmu9DTtNhq2eH0lDV-YKxkIyRr4EeShgANvUgUzm_7kmanual_process',\n",
       " 'lsqQuery-kolSrtB_S6dCT5cdM6qPcx_uzw-dCWdYmlURNFejKgY',\n",
       " 'lsqQuery-l-la-UzTB1VQKQBKZ-wrFvjXEcP_Ch_HF8E26oRu0s0zeroOrMore',\n",
       " 'lsqQuery-vEsjGHvLsRcXk_JaPoGlgwhP2sRyZaJ2nuGIEzuX8xkzeroOrMore',\n",
       " 'lsqQuery-wiDFDTIG6SldtLGhkpRtfkztqYatJSMwThzMdrHh-IwzeroOrMore',\n",
       " 'lsqQuery-yMVlofVxJ2_FbWSdhkqOUIEpPnMh8gmr5r8OHY8YL-ozeroOrMore',\n",
       " 'lsqQuery-yp8yaz3f9mS9SX9bFPxwO_raOy9l9nADanmm48KyIwkzeroOrMore'}"
      ]
     },
     "execution_count": 188,
     "metadata": {},
     "output_type": "execute_result"
    }
   ],
   "source": [
    "set(wikidata_slow_as_med['id'])"
   ]
  },
  {
   "cell_type": "code",
   "execution_count": 189,
   "id": "d9f07838-4088-49f4-a24c-1c84d64f7785",
   "metadata": {
    "scrolled": true
   },
   "outputs": [
    {
     "data": {
      "text/plain": [
       "{'additionalWikidata108597zeroOrMore',\n",
       " 'additionalWikidata122100oneOrMore',\n",
       " 'additionalWikidata13373zeroOrMore',\n",
       " 'additionalWikidata15690',\n",
       " 'additionalWikidata15690zeroOrMore',\n",
       " 'additionalWikidata15861',\n",
       " 'additionalWikidata16506',\n",
       " 'additionalWikidata16689',\n",
       " 'additionalWikidata16829',\n",
       " 'additionalWikidata16829zeroOrMore',\n",
       " 'additionalWikidata17136',\n",
       " 'additionalWikidata17162',\n",
       " 'additionalWikidata17274',\n",
       " 'additionalWikidata17274zeroOrMore',\n",
       " 'additionalWikidata18693zeroOrMore',\n",
       " 'additionalWikidata18729',\n",
       " 'additionalWikidata18729zeroOrMore',\n",
       " 'additionalWikidata19139',\n",
       " 'additionalWikidata19141zeroOrMore',\n",
       " 'additionalWikidata321',\n",
       " 'additionalWikidata53060zeroOrMore',\n",
       " 'additionalWikidata80750zeroOrMore',\n",
       " 'lsqQuery-1If0LmyDz1RJcwETksxK2A_a-4q9i8xjXxXS8vSAOjM',\n",
       " 'lsqQuery-3Q-P-d42C8a3bfmGN7akjMpHiECVt5ieOnB7wg9rfTwzeroOrMore',\n",
       " 'lsqQuery-3RGwoummL5cSprahoRF9mI7BdM-3dpt24bRxkwh7WgQ',\n",
       " 'lsqQuery-3rfzvlzvT1UbiQQsh1KLryennG2ZacuGhLX3kZa464Umanual_process',\n",
       " 'lsqQuery-4A7e1g2G6Ag7UUeyTYz4Qoy3WwZ0ZSrXaPT46VL5rW4',\n",
       " 'lsqQuery-5XlHjVbMfIFIPCxUnkPHZL2vsXuHKTKbTMQbhD9o1D0manual_process',\n",
       " 'lsqQuery-7Dyk66K2QX6EJ5BCIkQ_376qUguXnyBRRmKfd-VUuIEzeroOrMore',\n",
       " 'lsqQuery-8GarwjIPqd975wyg7WfdMeMsYRrhWCAOin4AXPsc0rc',\n",
       " 'lsqQuery-9r0-ZIfRi6oBmEI2oaMUuitPtfgznr6nJ_flYH-qsVM',\n",
       " 'lsqQuery-CvRKR-F2bi80GxxFI8BDMX2ABDubTotoEG0sAwDcEN4',\n",
       " 'lsqQuery-DScRBD6FfCIVpjB6Khj9YoVMMV-_vdsvYVH_ApwhG6omanual_process',\n",
       " 'lsqQuery-FJAqyWy0GnUun7s9YXyg0ZTRfgZv34iEPcWmGMSpgGU',\n",
       " 'lsqQuery-GlJQDqIDWtV_8kFyCDCSKxfdE2y7cC-AG5ek-0E-2G8',\n",
       " 'lsqQuery-GzjfYvqD3kTroUGRZ299ovv9PX1XwmDYTIDuUey4d7U',\n",
       " 'lsqQuery-HOEC4u1dr6EuIx7LbIdvuze3AztTj2RLtR4gvFa4d2E',\n",
       " 'lsqQuery-HruauWfuZQWL6ksc4wd4j7Fmjp7i7ckSpwZ2hqstyOo',\n",
       " 'lsqQuery-J4lO9oHMsrF9zwkb56HSSPtmM_7SS_NRU4auFGG6ILg',\n",
       " 'lsqQuery-JbLCVYuO91_m614rJmf3FoUE4ZFl31-o4sfGKUQbeSI',\n",
       " 'lsqQuery-JfXoEGaiKAm8Ip3h0J0apruEZmdvSk8nFSt4Jne-Jqo',\n",
       " 'lsqQuery-JfXoEGaiKAm8Ip3h0J0apruEZmdvSk8nFSt4Jne-JqozeroOrMore',\n",
       " 'lsqQuery-K87wD74roCajnklqOIgJ45TXts6smg43HIlw39BKiHUzeroOrMore',\n",
       " 'lsqQuery-NAeEjoKx-uMoMBZT09Gqp-qLdnJ8r0DNzuW2TydUZeUzeroOrMore',\n",
       " 'lsqQuery-NWaUSG4kT9vidCqF5oax8rNsbmO0f8oNRQ0YYoHzzA8',\n",
       " 'lsqQuery-PtDygW-JpaHXIOnv7PX7K2Ju3c_uy-tbIo6R1xlY1TA',\n",
       " 'lsqQuery-Sm9KpYCObsoDAq0pp4HL2PrSg4m4aJbxNLgcuRQOXR4zeroOrMore',\n",
       " 'lsqQuery-TazExRGkfHBdApytNuF8Q4aDX5nNc_2KF2GbYiQ_Scg',\n",
       " 'lsqQuery-TrCeqbovoeLUQ9hXvAIrC5GGrWctmGRCFkZx7uA3yp4oneOrMore',\n",
       " 'lsqQuery-WenMbOTdmb6XQZ7ZGPHLKyUnyufV1PyRuDAhsfv2IPk',\n",
       " 'lsqQuery-XK_b3tqa1Oyn2BK2g93igeExmYoLDXUTkg3_HjK6ISc',\n",
       " 'lsqQuery-Ysiq9RhljTxOWVE0wfIXWzAKNJau0utnqeEF8jds9BE',\n",
       " 'lsqQuery-Ysiq9RhljTxOWVE0wfIXWzAKNJau0utnqeEF8jds9BEzeroOrMore',\n",
       " 'lsqQuery-apXQU5Jhz0mrGoeMc3i4K5RRY8i7LCwKUshHRmTe00c',\n",
       " 'lsqQuery-b-HER29_xWBO4U70Tlek2DyaHI0sBzMjvq8bxuzmuwk',\n",
       " 'lsqQuery-b_amtaedfjfD5bhiXVgTDq9JlnJXcroAJpwpbvUaPCU',\n",
       " 'lsqQuery-blCMN6JWt87K11QHiABADZzpPoqx0jnOqjjjF-D2LP8zeroOrMore',\n",
       " 'lsqQuery-c9MRRzYYxHSh8gPavAfrNiDLzdN1alXeIGyukKA_pVs',\n",
       " 'lsqQuery-ebYqh9k1C8t_zoJa7GLGEUiJHKaBDSLC5McCxr84J5soneOrMore',\n",
       " 'lsqQuery-gqn1hVsOO9o9ed-fZtMn2q5FMhfoHvfVUqjDFLguYY8',\n",
       " 'lsqQuery-gqn1hVsOO9o9ed-fZtMn2q5FMhfoHvfVUqjDFLguYY8zeroOrMore',\n",
       " 'lsqQuery-ioYLAFNVUtbBnqyczAy7mRRYnok1X9waztr7wAGszPM',\n",
       " 'lsqQuery-ioYLAFNVUtbBnqyczAy7mRRYnok1X9waztr7wAGszPMzeroOrMore',\n",
       " 'lsqQuery-lFdldNFWtNHXd0x2VcoooUceZBJBESoBl82K6VilD-AzeroOrMore',\n",
       " 'lsqQuery-mPZ2ISIJgpDrBzpO1jPNcjJuvTa1npQREDMhrFV6djszeroOrMore',\n",
       " 'lsqQuery-n253slTAhLJ6GRlLHnnA8JM0YRsLI5DJ5G_qKQKcMGE',\n",
       " 'lsqQuery-o5ked-U0x75efYuz5pEoASQAppaHVJFNiqEt1B_EK2U',\n",
       " 'lsqQuery-qNH6AanPrE4L6Qqx3npdS0yJTPMmQuiWWtgnqj1ASMozeroOrMore',\n",
       " 'lsqQuery-qr-p4yIhzyZkBjPwQCwN4ATdCvXrW4FEyhCzt0TtSIkzeroOrMore',\n",
       " 'lsqQuery-sGHR581kVLIHgw7_F9MMGa1ws50e3SZgODCTiNBwdwconeOrMore',\n",
       " 'lsqQuery-sGlAg84hVvKi0RRAA4Zupw_egzSSoO4kza9bAWvAQTM',\n",
       " 'lsqQuery-sGlAg84hVvKi0RRAA4Zupw_egzSSoO4kza9bAWvAQTMmanual_process',\n",
       " 'lsqQuery-stAEcF72vTSMdqB-n6cTC-k5yr_CMSrHZBLqdi96Vo0',\n",
       " 'lsqQuery-tu8q4ACClfmyHbOjzfiA3YelRxdc2B4NgafeCWXI2qU',\n",
       " 'lsqQuery-vwlxMP9YJIn5Zxmqvu_3h4XQ3Dq85biWIOsLb6asZfg',\n",
       " 'lsqQuery-vwlxMP9YJIn5Zxmqvu_3h4XQ3Dq85biWIOsLb6asZfgoneOrMore',\n",
       " 'lsqQuery-w7qbvvPsGgOn195b5pl-FyacmSZO5I5gBQwhxcNRKoYzeroOrMore',\n",
       " 'lsqQuery-ww00qeGg5FZAG1o9Vk9tiCnDV4dUi71IRjbb5STeY8cmanual_process',\n",
       " 'lsqQuery-x8VcqNJStUZz3NtIDk1DKY8oRnnad7Y1WT0lRWX2XJEmanual_process',\n",
       " 'lsqQuery-xmqp15Xk-nHOLJEbpgctE3W080JLP0HUSbuGbg2lNokzeroOrMore',\n",
       " 'lsqQuery-zLonjW38dNFk9cdkLgWGvRoheMoqPfxPiOqwnuCmRDY'}"
      ]
     },
     "execution_count": 189,
     "metadata": {},
     "output_type": "execute_result"
    }
   ],
   "source": [
    "set(wikidata_med_as_med['id'])"
   ]
  },
  {
   "cell_type": "code",
   "execution_count": 210,
   "id": "fff1ce54-0e17-4ea6-97fa-047cdfa65a6b",
   "metadata": {},
   "outputs": [
    {
     "data": {
      "image/png": "[encoded data removed]",
      "text/plain": [
       "<Figure size 1200x600 with 1 Axes>"
      ]
     },
     "metadata": {},
     "output_type": "display_data"
    }
   ],
   "source": [
    "#Plot of frequency of predicate in slow pp query predicated as mediun\n",
    "import seaborn as sns\n",
    "import matplotlib.pyplot as plt\n",
    "#sns.set_theme(rc={'figure.figsize':(11.7,8.27)})\n",
    "fig, ax = plt.subplots(figsize=(12, 6))\n",
    "sns.barplot(x=slow_med_preds.value_counts().index, y=slow_med_preds.value_counts(), ax=ax)\n",
    "ax.tick_params(axis='x', labelrotation=90)\n",
    "plt.title('Predicates in misclassified slow as medium runtime')\n",
    "plt.show()"
   ]
  },
  {
   "cell_type": "code",
   "execution_count": 212,
   "id": "eccd8af9-db5c-405c-8fa9-83fc8d531ae0",
   "metadata": {},
   "outputs": [
    {
     "data": {
      "image/png": "[encoded data removed]",
      "text/plain": [
       "<Figure size 1200x600 with 1 Axes>"
      ]
     },
     "metadata": {},
     "output_type": "display_data"
    }
   ],
   "source": [
    "fig, ax = plt.subplots(figsize=(12, 6))\n",
    "sns.barplot(x=med_true_preds.value_counts().index, y=med_true_preds.value_counts(), ax=ax)\n",
    "ax.tick_params(axis='x', labelrotation=90)\n",
    "plt.title('Predicates in true medium predicted runtime')\n",
    "plt.show()"
   ]
  },
  {
   "cell_type": "markdown",
   "id": "310adf46-8fec-4aaa-b06e-8c08d5b4242f",
   "metadata": {},
   "source": [
    "### Entities"
   ]
  },
  {
   "cell_type": "code",
   "execution_count": 125,
   "id": "d2508b2f-1829-4653-bfa7-d8f06fed62f0",
   "metadata": {},
   "outputs": [
    {
     "data": {
      "text/plain": [
       "count                                    119\n",
       "unique                                    77\n",
       "top       http://www.wikidata.org/entity/Q55\n",
       "freq                                       5\n",
       "dtype: object"
      ]
     },
     "execution_count": 125,
     "metadata": {},
     "output_type": "execute_result"
    }
   ],
   "source": [
    "med_true_ents = pd.Series(pu.flatten([pu.extract_pred_ents(f'/data/wikidatav3_path_PPrepV2/queryplans/{x}')[1] for x in list(wikidata_med_as_med['id'])]))\n",
    "med_true_ents.describe()"
   ]
  },
  {
   "cell_type": "code",
   "execution_count": 126,
   "id": "5d752f5b-e880-4934-b2e5-c078ed7d9d65",
   "metadata": {},
   "outputs": [
    {
     "data": {
      "text/plain": [
       "http://www.wikidata.org/entity/Q55          5\n",
       "http://www.wikidata.org/entity/Q1190554     5\n",
       "http://www.wikidata.org/entity/Q5           4\n",
       "http://www.wikidata.org/entity/Q39715       4\n",
       "http://www.wikidata.org/entity/Q13100073    4\n",
       "                                           ..\n",
       "http://www.wikidata.org/entity/Q860861      1\n",
       "http://www.wikidata.org/entity/Q7397        1\n",
       "http://www.wikidata.org/entity/Q202064      1\n",
       "http://www.wikidata.org/entity/Q21208       1\n",
       "http://www.wikidata.org/entity/Q11348       1\n",
       "Name: count, Length: 77, dtype: int64"
      ]
     },
     "execution_count": 126,
     "metadata": {},
     "output_type": "execute_result"
    }
   ],
   "source": [
    "med_true_ents.value_counts()"
   ]
  },
  {
   "cell_type": "code",
   "execution_count": 128,
   "id": "fc3bf890-d261-435d-afb6-f50a0808c737",
   "metadata": {},
   "outputs": [
    {
     "data": {
      "text/plain": [
       "count                                          14\n",
       "unique                                          8\n",
       "top       http://www.wikidata.org/entity/Q3305213\n",
       "freq                                            3\n",
       "dtype: object"
      ]
     },
     "execution_count": 128,
     "metadata": {},
     "output_type": "execute_result"
    }
   ],
   "source": [
    "slow_true_ents = pd.Series(pu.flatten([pu.extract_pred_ents(f'/data/wikidatav3_path_PPrepV2/queryplans/{x}')[1] for x in list(wikidata_slow_as_slow['id'])]))\n",
    "slow_true_ents.describe()"
   ]
  },
  {
   "cell_type": "code",
   "execution_count": 130,
   "id": "5f17b0e6-f019-47ed-8173-cc39e2312e66",
   "metadata": {},
   "outputs": [
    {
     "data": {
      "text/plain": [
       "http://www.wikidata.org/entity/Q3305213    3\n",
       "http://www.wikidata.org/entity/Q34379      3\n",
       "http://www.wikidata.org/entity/Q732577     2\n",
       "http://www.wikidata.org/entity/Q1055       2\n",
       "http://www.wikidata.org/entity/Q29         1\n",
       "http://www.wikidata.org/entity/Q16521      1\n",
       "http://www.wikidata.org/entity/Q95074      1\n",
       "http://www.wikidata.org/entity/Q5          1\n",
       "Name: count, dtype: int64"
      ]
     },
     "execution_count": 130,
     "metadata": {},
     "output_type": "execute_result"
    }
   ],
   "source": [
    "slow_true_ents.value_counts()"
   ]
  },
  {
   "cell_type": "code",
   "execution_count": 131,
   "id": "af5706a2-4cab-4cff-8b19-cbfdf7153d26",
   "metadata": {},
   "outputs": [
    {
     "data": {
      "text/plain": [
       "count                                        59\n",
       "unique                                       46\n",
       "top       http://www.wikidata.org/entity/Q15284\n",
       "freq                                          3\n",
       "dtype: object"
      ]
     },
     "execution_count": 131,
     "metadata": {},
     "output_type": "execute_result"
    }
   ],
   "source": [
    "slow_med_ents = pd.Series(pu.flatten([pu.extract_pred_ents(f'/data/wikidatav3_path_PPrepV2/queryplans/{x}')[1] for x in list(wikidata_slow_as_med['id'])]))\n",
    "slow_med_ents.describe()"
   ]
  },
  {
   "cell_type": "code",
   "execution_count": 132,
   "id": "4c183a31-ba33-4bd5-a825-90598475b119",
   "metadata": {
    "scrolled": true
   },
   "outputs": [
    {
     "data": {
      "text/plain": [
       "http://www.wikidata.org/entity/Q15284       3\n",
       "http://www.wikidata.org/entity/Q4830453     3\n",
       "http://www.wikidata.org/entity/Q1190554     3\n",
       "http://www.wikidata.org/entity/Q1914636     2\n",
       "http://www.wikidata.org/entity/Q3305213     2\n",
       "http://www.wikidata.org/entity/Q286583      2\n",
       "http://www.wikidata.org/entity/Q5           2\n",
       "http://www.wikidata.org/entity/Q16970       2\n",
       "http://www.wikidata.org/entity/Q8148        2\n",
       "http://www.wikidata.org/entity/Q43229       2\n",
       "http://www.wikidata.org/entity/Q23397       1\n",
       "http://www.wikidata.org/entity/Q2221906     1\n",
       "http://www.wikidata.org/entity/Q2424752     1\n",
       "http://www.wikidata.org/entity/Q729         1\n",
       "http://www.wikidata.org/entity/Q386724      1\n",
       "http://www.wikidata.org/entity/Q223557      1\n",
       "http://www.wikidata.org/entity/Q5358404     1\n",
       "http://www.wikidata.org/entity/Q13442814    1\n",
       "http://www.wikidata.org/entity/Q483501      1\n",
       "http://www.wikidata.org/entity/Q183         1\n",
       "http://www.wikidata.org/entity/Q46622       1\n",
       "http://www.wikidata.org/entity/Q901         1\n",
       "http://www.wikidata.org/entity/Q5341295     1\n",
       "http://www.wikidata.org/entity/Q3947        1\n",
       "http://www.wikidata.org/entity/Q45382       1\n",
       "http://www.wikidata.org/entity/Q79529       1\n",
       "http://www.wikidata.org/entity/Q82794       1\n",
       "http://www.wikidata.org/entity/Q15401930    1\n",
       "http://www.wikidata.org/entity/Q1370598     1\n",
       "http://www.wikidata.org/entity/Q246672      1\n",
       "http://www.wikidata.org/entity/Q40          1\n",
       "http://www.wikidata.org/entity/Q570116      1\n",
       "http://www.wikidata.org/entity/Q7725310     1\n",
       "http://www.wikidata.org/entity/Q17379835    1\n",
       "http://www.wikidata.org/entity/Q252         1\n",
       "http://www.wikidata.org/entity/Q34770       1\n",
       "http://www.wikidata.org/entity/Q486972      1\n",
       "http://www.wikidata.org/entity/Q340169      1\n",
       "http://www.wikidata.org/entity/Q11424       1\n",
       "http://www.wikidata.org/entity/Q82955       1\n",
       "http://www.wikidata.org/entity/Q811979      1\n",
       "http://www.wikidata.org/entity/Q1207505     1\n",
       "http://www.wikidata.org/entity/Q1197        1\n",
       "http://www.wikidata.org/entity/Q15324       1\n",
       "http://www.wikidata.org/entity/Q83620       1\n",
       "http://www.wikidata.org/entity/Q163740      1\n",
       "Name: count, dtype: int64"
      ]
     },
     "execution_count": 132,
     "metadata": {},
     "output_type": "execute_result"
    }
   ],
   "source": [
    "slow_med_ents.value_counts()"
   ]
  },
  {
   "cell_type": "code",
   "execution_count": 135,
   "id": "a4985c93-9f9a-4e15-920e-bd9f88c8d51f",
   "metadata": {},
   "outputs": [
    {
     "name": "stdout",
     "output_type": "stream",
     "text": [
      "{'http://www.wikidata.org/entity/Q40', 'http://www.wikidata.org/entity/Q486972', 'http://www.wikidata.org/entity/Q11424', 'http://www.wikidata.org/entity/Q1197', 'http://www.wikidata.org/entity/Q5', 'http://www.wikidata.org/entity/Q901', 'http://www.wikidata.org/entity/Q82794', 'http://www.wikidata.org/entity/Q1190554', 'http://www.wikidata.org/entity/Q16970'}\n",
      "{'http://www.wikidata.org/entity/Q3305213', 'http://www.wikidata.org/entity/Q5'}\n"
     ]
    }
   ],
   "source": [
    "print(set([x for x in list(slow_med_ents) if x in list(med_true_ents)]))\n",
    "print(set([x for x in list(slow_med_ents) if x in list(slow_true_ents)]))"
   ]
  },
  {
   "cell_type": "code",
   "execution_count": 138,
   "id": "63562d3d-a1a3-4b8c-b810-3396597f6402",
   "metadata": {},
   "outputs": [
    {
     "name": "stdout",
     "output_type": "stream",
     "text": [
      "13\n",
      "4\n",
      "59\n"
     ]
    }
   ],
   "source": [
    "print(len([x for x in list(slow_med_ents) if x in list(med_true_ents)]))\n",
    "print(len([x for x in list(slow_med_ents) if x in list(slow_true_ents)]))\n",
    "print(len(list(slow_med_ents)))"
   ]
  },
  {
   "cell_type": "code",
   "execution_count": 139,
   "id": "2ed93760-7130-4a65-9572-79466e6c26fd",
   "metadata": {},
   "outputs": [
    {
     "data": {
      "text/plain": [
       "0"
      ]
     },
     "execution_count": 139,
     "metadata": {},
     "output_type": "execute_result"
    }
   ],
   "source": [
    "len(set(wikidata_slow_as_med['id']).intersection(set(wikidata_med_as_med['id'])))"
   ]
  },
  {
   "cell_type": "code",
   "execution_count": 140,
   "id": "baf1dc7d-2357-4e4c-9d17-ad76d76aad3d",
   "metadata": {},
   "outputs": [
    {
     "data": {
      "text/plain": [
       "54"
      ]
     },
     "execution_count": 140,
     "metadata": {},
     "output_type": "execute_result"
    }
   ],
   "source": [
    "len(set(wikidata_slow_as_med['id']))"
   ]
  },
  {
   "cell_type": "code",
   "execution_count": 142,
   "id": "cdaf75d8-b7e7-4d1e-9628-4b1500e361d2",
   "metadata": {},
   "outputs": [
    {
     "data": {
      "text/plain": [
       "count                                         253\n",
       "unique                                         40\n",
       "top       http://www.wikidata.org/prop/direct/P31\n",
       "freq                                           76\n",
       "dtype: object"
      ]
     },
     "execution_count": 142,
     "metadata": {},
     "output_type": "execute_result"
    }
   ],
   "source": [
    "act_med_preds = pd.Series(pu.flatten([pu.extract_pred_ents(f'/data/wikidatav3_path_PPrepV2/queryplans/{x}')[0] for x in list(wikidata_med['id'])]))\n",
    "act_med_preds.describe()"
   ]
  },
  {
   "cell_type": "code",
   "execution_count": 144,
   "id": "2c5b753e-2d6b-41bb-af00-f49cd9aaaf70",
   "metadata": {},
   "outputs": [
    {
     "data": {
      "text/plain": [
       "count                                         121\n",
       "unique                                         78\n",
       "top       http://www.wikidata.org/entity/Q1190554\n",
       "freq                                            5\n",
       "dtype: object"
      ]
     },
     "execution_count": 144,
     "metadata": {},
     "output_type": "execute_result"
    }
   ],
   "source": [
    "act_med_ents = pd.Series(pu.flatten([pu.extract_pred_ents(f'/data/wikidatav3_path_PPrepV2/queryplans/{x}')[1] for x in list(wikidata_med['id'])]))\n",
    "act_med_ents.describe()"
   ]
  },
  {
   "cell_type": "code",
   "execution_count": 143,
   "id": "06820752-4ca5-479d-84d8-5d79fdf74d47",
   "metadata": {},
   "outputs": [
    {
     "data": {
      "text/plain": [
       "count                                          191\n",
       "unique                                          38\n",
       "top       http://www.wikidata.org/prop/direct/P279\n",
       "freq                                            67\n",
       "dtype: object"
      ]
     },
     "execution_count": 143,
     "metadata": {},
     "output_type": "execute_result"
    }
   ],
   "source": [
    "act_slow_preds = pd.Series(pu.flatten([pu.extract_pred_ents(f'/data/wikidatav3_path_PPrepV2/queryplans/{x}')[0] for x in list(wikidata_slow['id'])]))\n",
    "act_slow_preds.describe()"
   ]
  },
  {
   "cell_type": "code",
   "execution_count": 146,
   "id": "38b09913-2091-4ce3-8947-6d03e821fb8c",
   "metadata": {},
   "outputs": [
    {
     "data": {
      "text/plain": [
       "count                                          78\n",
       "unique                                         56\n",
       "top       http://www.wikidata.org/entity/Q3305213\n",
       "freq                                            5\n",
       "dtype: object"
      ]
     },
     "execution_count": 146,
     "metadata": {},
     "output_type": "execute_result"
    }
   ],
   "source": [
    "act_slow_ents = pd.Series(pu.flatten([pu.extract_pred_ents(f'/data/wikidatav3_path_PPrepV2/queryplans/{x}')[1] for x in list(wikidata_slow['id'])]))\n",
    "act_slow_ents.describe()"
   ]
  },
  {
   "cell_type": "code",
   "execution_count": 148,
   "id": "6ab8182a-327d-4f03-9629-1cc3234ebe6a",
   "metadata": {},
   "outputs": [
    {
     "name": "stdout",
     "output_type": "stream",
     "text": [
      "slow PP ent in med  10\n"
     ]
    }
   ],
   "source": [
    "print(\"slow PP ent in med \", len(set([x for x in list(act_slow_ents) if x in list(act_med_ents)])))"
   ]
  },
  {
   "cell_type": "code",
   "execution_count": 149,
   "id": "7549f5bc-5c54-41ea-b419-bda9df736f7d",
   "metadata": {},
   "outputs": [
    {
     "name": "stdout",
     "output_type": "stream",
     "text": [
      "med PP ent in slow  10\n"
     ]
    }
   ],
   "source": [
    "print(\"med PP ent in slow \", len(set([x for x in list(act_med_ents) if x in list( act_slow_ents  )])))"
   ]
  },
  {
   "cell_type": "code",
   "execution_count": 150,
   "id": "d6fc84c6-2dcf-4753-905c-0091d74faea5",
   "metadata": {},
   "outputs": [
    {
     "name": "stdout",
     "output_type": "stream",
     "text": [
      "med PP rel in slow  20\n"
     ]
    }
   ],
   "source": [
    "print(\"med PP rel in slow \", len(set([x for x in list(act_med_preds) if x in list( act_slow_preds  )])))"
   ]
  },
  {
   "cell_type": "code",
   "execution_count": 151,
   "id": "dc5a07ce-76be-4fe5-9689-f20769415d86",
   "metadata": {},
   "outputs": [
    {
     "name": "stdout",
     "output_type": "stream",
     "text": [
      "slow PP rel in med  20\n"
     ]
    }
   ],
   "source": [
    "print(\"slow PP rel in med \", len(set([x for x in list(act_slow_preds) if x in list(  act_med_preds )])))"
   ]
  },
  {
   "cell_type": "code",
   "execution_count": 169,
   "id": "3a9b58de-c2ea-43d1-8d59-300d20cb68a5",
   "metadata": {},
   "outputs": [
    {
     "data": {
      "text/plain": [
       "10.012820512820513"
      ]
     },
     "execution_count": 169,
     "metadata": {},
     "output_type": "execute_result"
    }
   ],
   "source": [
    "def get_val(dct, x):\n",
    "    try:\n",
    "        return int(dct[x])\n",
    "    except:\n",
    "        return 0\n",
    "np.sum([get_val(ent_freq,x) for x in set(list(act_med_ents))])/len([get_val(ent_freq,x) for x in set(list(act_med_ents))])"
   ]
  },
  {
   "cell_type": "code",
   "execution_count": 162,
   "id": "44f7b93e-7366-4438-9368-b1e5ef382b2b",
   "metadata": {
    "scrolled": true
   },
   "outputs": [
    {
     "data": {
      "text/plain": [
       "{'http://www.wikidata.org/entity/Q102496',\n",
       " 'http://www.wikidata.org/entity/Q1028181',\n",
       " 'http://www.wikidata.org/entity/Q1030034',\n",
       " 'http://www.wikidata.org/entity/Q108053',\n",
       " 'http://www.wikidata.org/entity/Q11173',\n",
       " 'http://www.wikidata.org/entity/Q11348',\n",
       " 'http://www.wikidata.org/entity/Q11424',\n",
       " 'http://www.wikidata.org/entity/Q1190554',\n",
       " 'http://www.wikidata.org/entity/Q1197',\n",
       " 'http://www.wikidata.org/entity/Q12280',\n",
       " 'http://www.wikidata.org/entity/Q1248784',\n",
       " 'http://www.wikidata.org/entity/Q13100073',\n",
       " 'http://www.wikidata.org/entity/Q142',\n",
       " 'http://www.wikidata.org/entity/Q145',\n",
       " 'http://www.wikidata.org/entity/Q151885',\n",
       " 'http://www.wikidata.org/entity/Q15630906',\n",
       " 'http://www.wikidata.org/entity/Q16970',\n",
       " 'http://www.wikidata.org/entity/Q17',\n",
       " 'http://www.wikidata.org/entity/Q17149090',\n",
       " 'http://www.wikidata.org/entity/Q182060',\n",
       " 'http://www.wikidata.org/entity/Q191067',\n",
       " 'http://www.wikidata.org/entity/Q1931388',\n",
       " 'http://www.wikidata.org/entity/Q19770',\n",
       " 'http://www.wikidata.org/entity/Q202064',\n",
       " 'http://www.wikidata.org/entity/Q2057971',\n",
       " 'http://www.wikidata.org/entity/Q2066131',\n",
       " 'http://www.wikidata.org/entity/Q20926517',\n",
       " 'http://www.wikidata.org/entity/Q2095',\n",
       " 'http://www.wikidata.org/entity/Q21208',\n",
       " 'http://www.wikidata.org/entity/Q2145290',\n",
       " 'http://www.wikidata.org/entity/Q215380',\n",
       " 'http://www.wikidata.org/entity/Q22294683',\n",
       " 'http://www.wikidata.org/entity/Q22698',\n",
       " 'http://www.wikidata.org/entity/Q2309609',\n",
       " 'http://www.wikidata.org/entity/Q2438548',\n",
       " 'http://www.wikidata.org/entity/Q27038993',\n",
       " 'http://www.wikidata.org/entity/Q28319',\n",
       " 'http://www.wikidata.org/entity/Q28728771',\n",
       " 'http://www.wikidata.org/entity/Q30',\n",
       " 'http://www.wikidata.org/entity/Q30139652',\n",
       " 'http://www.wikidata.org/entity/Q3083',\n",
       " 'http://www.wikidata.org/entity/Q31',\n",
       " 'http://www.wikidata.org/entity/Q31192219',\n",
       " 'http://www.wikidata.org/entity/Q327245',\n",
       " 'http://www.wikidata.org/entity/Q33506',\n",
       " 'http://www.wikidata.org/entity/Q35409',\n",
       " 'http://www.wikidata.org/entity/Q35637',\n",
       " 'http://www.wikidata.org/entity/Q362482',\n",
       " 'http://www.wikidata.org/entity/Q39715',\n",
       " 'http://www.wikidata.org/entity/Q40',\n",
       " 'http://www.wikidata.org/entity/Q42196',\n",
       " 'http://www.wikidata.org/entity/Q4610556',\n",
       " 'http://www.wikidata.org/entity/Q47974',\n",
       " 'http://www.wikidata.org/entity/Q484170',\n",
       " 'http://www.wikidata.org/entity/Q486972',\n",
       " 'http://www.wikidata.org/entity/Q5',\n",
       " 'http://www.wikidata.org/entity/Q5113',\n",
       " 'http://www.wikidata.org/entity/Q5127848',\n",
       " 'http://www.wikidata.org/entity/Q515',\n",
       " 'http://www.wikidata.org/entity/Q5153359',\n",
       " 'http://www.wikidata.org/entity/Q55',\n",
       " 'http://www.wikidata.org/entity/Q56061',\n",
       " 'http://www.wikidata.org/entity/Q571',\n",
       " 'http://www.wikidata.org/entity/Q6581072',\n",
       " 'http://www.wikidata.org/entity/Q6581097',\n",
       " 'http://www.wikidata.org/entity/Q7075',\n",
       " 'http://www.wikidata.org/entity/Q7187',\n",
       " 'http://www.wikidata.org/entity/Q7226',\n",
       " 'http://www.wikidata.org/entity/Q7397',\n",
       " 'http://www.wikidata.org/entity/Q7432',\n",
       " 'http://www.wikidata.org/entity/Q794',\n",
       " 'http://www.wikidata.org/entity/Q814610',\n",
       " 'http://www.wikidata.org/entity/Q82794',\n",
       " 'http://www.wikidata.org/entity/Q837766',\n",
       " 'http://www.wikidata.org/entity/Q8502',\n",
       " 'http://www.wikidata.org/entity/Q860861',\n",
       " 'http://www.wikidata.org/entity/Q901',\n",
       " 'http://www.wikidata.org/entity/Q9081'}"
      ]
     },
     "execution_count": 162,
     "metadata": {},
     "output_type": "execute_result"
    }
   ],
   "source": [
    "set(list(act_med_ents))"
   ]
  },
  {
   "cell_type": "code",
   "execution_count": 159,
   "id": "52698ca5-c24d-49c0-9818-72ee0cc2e723",
   "metadata": {
    "scrolled": true
   },
   "outputs": [
    {
     "data": {
      "text/plain": [
       "['1163098',\n",
       " '10596985',\n",
       " '3082525',\n",
       " '127926',\n",
       " '7306278',\n",
       " '8657168',\n",
       " '487',\n",
       " '264237',\n",
       " '2807145',\n",
       " '1417500',\n",
       " '41412',\n",
       " '19178',\n",
       " '13997088',\n",
       " '14675278',\n",
       " '3127958',\n",
       " '3702415',\n",
       " '49936',\n",
       " '1028901',\n",
       " '95752854',\n",
       " '617903',\n",
       " '1323072',\n",
       " '1501028',\n",
       " '8531447',\n",
       " '3092764',\n",
       " '574',\n",
       " '2574835',\n",
       " '4604',\n",
       " '1433403',\n",
       " '328947',\n",
       " '26235',\n",
       " '109280',\n",
       " '820781',\n",
       " '4097492',\n",
       " '3872749',\n",
       " '548938',\n",
       " '1152120',\n",
       " '203',\n",
       " '39177',\n",
       " '2163949',\n",
       " 0]"
      ]
     },
     "execution_count": 159,
     "metadata": {},
     "output_type": "execute_result"
    }
   ],
   "source": [
    "[get_val(pred_freq,x) for x in set(list(act_med_preds))]"
   ]
  },
  {
   "cell_type": "code",
   "execution_count": 160,
   "id": "2942c9ba-3106-49ff-b419-e997c208b7c6",
   "metadata": {
    "scrolled": true
   },
   "outputs": [
    {
     "data": {
      "text/plain": [
       "['1209',\n",
       " '10596985',\n",
       " '577302',\n",
       " '3082525',\n",
       " '3901672',\n",
       " '8657168',\n",
       " 0,\n",
       " '545090',\n",
       " '1417500',\n",
       " '40911614',\n",
       " '13997088',\n",
       " '14675278',\n",
       " '1135',\n",
       " '3127958',\n",
       " '3702415',\n",
       " '13892606',\n",
       " '1028901',\n",
       " '213757',\n",
       " '95752854',\n",
       " '617903',\n",
       " '1501028',\n",
       " '8531447',\n",
       " '3092764',\n",
       " '574',\n",
       " 0,\n",
       " '2123491',\n",
       " '760597',\n",
       " '1118353',\n",
       " 0,\n",
       " '328947',\n",
       " '18900',\n",
       " '820781',\n",
       " '164036',\n",
       " '3872749',\n",
       " '44',\n",
       " '548938',\n",
       " 0,\n",
       " '2281276']"
      ]
     },
     "execution_count": 160,
     "metadata": {},
     "output_type": "execute_result"
    }
   ],
   "source": [
    "[get_val(pred_freq,x) for x in set(list(act_slow_preds))]"
   ]
  },
  {
   "cell_type": "code",
   "execution_count": 161,
   "id": "ae2fafe8-6a2d-4c79-9224-090a9491e640",
   "metadata": {
    "scrolled": true
   },
   "outputs": [
    {
     "data": {
      "text/plain": [
       "{'http://www.wikidata.org/entity/Q30888275': '21',\n",
       " 'http://www.wikidata.org/entity/Q4287131': '19',\n",
       " 'http://www.wikidata.org/entity/Q20113337': '5',\n",
       " 'http://www.wikidata.org/entity/Q508846': '951',\n",
       " 'http://www.wikidata.org/entity/Q24937019': '6',\n",
       " 'http://www.wikidata.org/entity/Q71175129': '10',\n",
       " 'http://www.wikidata.org/entity/Q63344871': '4',\n",
       " 'http://www.wikidata.org/entity/Q1133502': '27',\n",
       " 'http://www.wikidata.org/entity/Q24936786': '15',\n",
       " 'http://www.wikidata.org/entity/Q33231': '54414',\n",
       " 'http://www.wikidata.org/entity/Q176834': '59',\n",
       " 'http://www.wikidata.org/entity/Q4287068': '18',\n",
       " 'http://www.wikidata.org/entity/Q48898139': '13',\n",
       " 'http://www.wikidata.org/entity/Q4287017': '18',\n",
       " 'http://www.wikidata.org/entity/Q5619237': '9',\n",
       " 'http://www.wikidata.org/entity/Q11402769': '9',\n",
       " 'http://www.wikidata.org/entity/Q376834': '50',\n",
       " 'http://www.wikidata.org/entity/Q154590': '154',\n",
       " 'http://www.wikidata.org/entity/Q4286871': '19',\n",
       " 'http://www.wikidata.org/entity/Q42973': '52620',\n",
       " 'http://www.wikidata.org/entity/Q62505651': '89',\n",
       " 'http://www.wikidata.org/entity/Q28408321': '9',\n",
       " 'http://www.wikidata.org/entity/Q1057427': '31',\n",
       " 'http://www.wikidata.org/entity/Q327321': '492',\n",
       " 'http://www.wikidata.org/entity/Q4287106': '19',\n",
       " 'http://www.wikidata.org/entity/Q4286824': '37',\n",
       " 'http://www.wikidata.org/entity/Q4287044': '16',\n",
       " 'http://www.wikidata.org/entity/Q3542795': '138',\n",
       " 'http://www.wikidata.org/entity/Q4287035': '8',\n",
       " 'http://www.wikidata.org/entity/Q1058617': '314',\n",
       " 'http://www.wikidata.org/entity/Q4286980': '148',\n",
       " 'http://www.wikidata.org/entity/Q11973343': '59',\n",
       " 'http://www.wikidata.org/entity/Q4287097': '24',\n",
       " 'http://www.wikidata.org/entity/Q4287082': '214',\n",
       " 'http://www.wikidata.org/entity/Q2815948': '1276',\n",
       " 'http://www.wikidata.org/entity/Q212980': '12493',\n",
       " 'http://www.wikidata.org/entity/Q36180': '279915',\n",
       " 'http://www.wikidata.org/entity/Q16675244': '27',\n",
       " 'http://www.wikidata.org/entity/Q16481642': '96',\n",
       " 'http://www.wikidata.org/entity/Q593644': '21196',\n",
       " 'http://www.wikidata.org/entity/Q1960949': '4',\n",
       " 'http://www.wikidata.org/entity/Q24063579': '84',\n",
       " 'http://www.wikidata.org/entity/Q708135': '63',\n",
       " 'http://www.wikidata.org/entity/Q33999': '287788',\n",
       " 'http://www.wikidata.org/entity/Q16485587': '137',\n",
       " 'http://www.wikidata.org/entity/Q4286823': '13',\n",
       " 'http://www.wikidata.org/entity/Q16675274': '9',\n",
       " 'http://www.wikidata.org/entity/Q4286755': '30',\n",
       " 'http://www.wikidata.org/entity/Q16675218': '28',\n",
       " 'http://www.wikidata.org/entity/Q2310145': '2010',\n",
       " 'http://www.wikidata.org/entity/Q4116439': '7',\n",
       " 'http://www.wikidata.org/entity/Q64755642': '12',\n",
       " 'http://www.wikidata.org/entity/Q3254189': '52',\n",
       " 'http://www.wikidata.org/entity/Q4167470': '10',\n",
       " 'http://www.wikidata.org/entity/Q43305900': '3',\n",
       " 'http://www.wikidata.org/entity/Q11480523': '3',\n",
       " 'http://www.wikidata.org/entity/Q48074274': '7',\n",
       " 'http://www.wikidata.org/entity/Q1650955': '42',\n",
       " 'http://www.wikidata.org/entity/Q88765928': '3',\n",
       " 'http://www.wikidata.org/entity/Q20006267': '701',\n",
       " 'http://www.wikidata.org/entity/Q11365084': '12',\n",
       " 'http://www.wikidata.org/entity/Q1749719': '38',\n",
       " 'http://www.wikidata.org/entity/Q26837312': '197',\n",
       " 'http://www.wikidata.org/entity/Q1095116': '113',\n",
       " 'http://www.wikidata.org/entity/Q64746327': '46',\n",
       " 'http://www.wikidata.org/entity/Q2108424': '12',\n",
       " 'http://www.wikidata.org/entity/Q509737': '78',\n",
       " 'http://www.wikidata.org/entity/Q11508828': '9',\n",
       " 'http://www.wikidata.org/entity/Q11220650': '10',\n",
       " 'http://www.wikidata.org/entity/Q56488739': '5',\n",
       " 'http://www.wikidata.org/entity/Q29349986': '10',\n",
       " 'http://www.wikidata.org/entity/Q26268774': '202',\n",
       " 'http://www.wikidata.org/entity/Q6937543': '24',\n",
       " 'http://www.wikidata.org/entity/Q11336930': '6',\n",
       " 'http://www.wikidata.org/entity/Q64756748': '96',\n",
       " 'http://www.wikidata.org/entity/Q11790172': '6',\n",
       " 'http://www.wikidata.org/entity/Q56016343': '31',\n",
       " 'http://www.wikidata.org/entity/Q64755635': '92',\n",
       " 'http://www.wikidata.org/entity/Q1188707': '16',\n",
       " 'http://www.wikidata.org/entity/Q105685336': '10',\n",
       " 'http://www.wikidata.org/entity/Q6008436': '5',\n",
       " 'http://www.wikidata.org/entity/Q1145999': '25',\n",
       " 'http://www.wikidata.org/entity/Q2312668': '5',\n",
       " 'http://www.wikidata.org/entity/Q55814131': '4',\n",
       " 'http://www.wikidata.org/entity/Q2514512': '53',\n",
       " 'http://www.wikidata.org/entity/Q2156254': '11',\n",
       " 'http://www.wikidata.org/entity/Q22000029': '15',\n",
       " 'http://www.wikidata.org/entity/Q718418': '28',\n",
       " 'http://www.wikidata.org/entity/Q7926863': '91',\n",
       " 'http://www.wikidata.org/entity/Q62067606': '6',\n",
       " 'http://www.wikidata.org/entity/Q17144417': '32',\n",
       " 'http://www.wikidata.org/entity/Q6084529': '6',\n",
       " 'http://www.wikidata.org/entity/Q55721629': '8',\n",
       " 'http://www.wikidata.org/entity/Q100418494': '4',\n",
       " 'http://www.wikidata.org/entity/Q51703037': '4',\n",
       " 'http://www.wikidata.org/entity/Q77002016': '8',\n",
       " 'http://www.wikidata.org/entity/Q64753221': '43',\n",
       " 'http://www.wikidata.org/entity/Q20006210': '18',\n",
       " 'http://www.wikidata.org/entity/Q11365083': '7',\n",
       " 'http://www.wikidata.org/entity/Q48074949': '17',\n",
       " 'http://www.wikidata.org/entity/Q3951674': '7',\n",
       " 'http://www.wikidata.org/entity/Q3951669': '7',\n",
       " 'http://www.wikidata.org/entity/Q3951646': '7',\n",
       " 'http://www.wikidata.org/entity/Q3951659': '10',\n",
       " 'http://www.wikidata.org/entity/Q27825915': '4',\n",
       " 'http://www.wikidata.org/entity/Q3951649': '7',\n",
       " 'http://www.wikidata.org/entity/Q3951645': '7',\n",
       " 'http://www.wikidata.org/entity/Q30908435': '4',\n",
       " 'http://www.wikidata.org/entity/Q3951670': '7',\n",
       " 'http://www.wikidata.org/entity/Q1120174': '8',\n",
       " 'http://www.wikidata.org/entity/Q3951658': '10',\n",
       " 'http://www.wikidata.org/entity/Q3972928': '85',\n",
       " 'http://www.wikidata.org/entity/Q105046680': '5',\n",
       " 'http://www.wikidata.org/entity/Q5732589': '6',\n",
       " 'http://www.wikidata.org/entity/Q3951676': '7',\n",
       " 'http://www.wikidata.org/entity/Q3332311': '2',\n",
       " 'http://www.wikidata.org/entity/Q3853506': '164',\n",
       " 'http://www.wikidata.org/entity/Q3892738': '10',\n",
       " 'http://www.wikidata.org/entity/Q25443688': '4',\n",
       " 'http://www.wikidata.org/entity/Q19847480': '7',\n",
       " 'http://www.wikidata.org/entity/Q3682699': '383',\n",
       " 'http://www.wikidata.org/entity/Q50611151': '15',\n",
       " 'http://www.wikidata.org/entity/Q3951673': '7',\n",
       " 'http://www.wikidata.org/entity/Q2650631': '7',\n",
       " 'http://www.wikidata.org/entity/Q1464749': '7',\n",
       " 'http://www.wikidata.org/entity/Q634368': '7',\n",
       " 'http://www.wikidata.org/entity/Q3951648': '7',\n",
       " 'http://www.wikidata.org/entity/Q3951663': '8',\n",
       " 'http://www.wikidata.org/entity/Q14936336': '14',\n",
       " 'http://www.wikidata.org/entity/Q3951650': '7',\n",
       " 'http://www.wikidata.org/entity/Q15106610': '12',\n",
       " 'http://www.wikidata.org/entity/Q3951654': '7',\n",
       " 'http://www.wikidata.org/entity/Q5732598': '6',\n",
       " 'http://www.wikidata.org/entity/Q105046679': '5',\n",
       " 'http://www.wikidata.org/entity/Q5732592': '6',\n",
       " 'http://www.wikidata.org/entity/Q1961504': '223',\n",
       " 'http://www.wikidata.org/entity/Q2918265': '7',\n",
       " 'http://www.wikidata.org/entity/Q61710125': '9',\n",
       " 'http://www.wikidata.org/entity/Q30898548': '7',\n",
       " 'http://www.wikidata.org/entity/Q66817816': '9',\n",
       " 'http://www.wikidata.org/entity/Q54355464': '4',\n",
       " 'http://www.wikidata.org/entity/Q2236357': '7',\n",
       " 'http://www.wikidata.org/entity/Q2885744': '8',\n",
       " 'http://www.wikidata.org/entity/Q53845652': '8',\n",
       " 'http://www.wikidata.org/entity/Q2855317': '7',\n",
       " 'http://www.wikidata.org/entity/Q105046681': '4',\n",
       " 'http://www.wikidata.org/entity/Q10858725': '95',\n",
       " 'http://www.wikidata.org/entity/Q3951661': '8',\n",
       " 'http://www.wikidata.org/entity/Q2840266': '7',\n",
       " 'http://www.wikidata.org/entity/Q2262375': '7',\n",
       " 'http://www.wikidata.org/entity/Q9062416': '13',\n",
       " 'http://www.wikidata.org/entity/Q54007418': '7',\n",
       " 'http://www.wikidata.org/entity/Q6085176': '15',\n",
       " 'http://www.wikidata.org/entity/Q23498707': '17',\n",
       " 'http://www.wikidata.org/entity/Q10891483': '5',\n",
       " 'http://www.wikidata.org/entity/Q61119614': '4',\n",
       " 'http://www.wikidata.org/entity/Q11468809': '27',\n",
       " 'http://www.wikidata.org/entity/Q6084971': '15',\n",
       " 'http://www.wikidata.org/entity/Q63092103': '6',\n",
       " 'http://www.wikidata.org/entity/Q10632166': '34',\n",
       " 'http://www.wikidata.org/entity/Q63101537': '5',\n",
       " 'http://www.wikidata.org/entity/Q104764299': '20',\n",
       " 'http://www.wikidata.org/entity/Q6008422': '8',\n",
       " 'http://www.wikidata.org/entity/Q10699374': '103',\n",
       " 'http://www.wikidata.org/entity/Q11993519': '66',\n",
       " 'http://www.wikidata.org/entity/Q12040588': '3',\n",
       " 'http://www.wikidata.org/entity/Q81405998': '6',\n",
       " 'http://www.wikidata.org/entity/Q98831688': '31',\n",
       " 'http://www.wikidata.org/entity/Q63092067': '6',\n",
       " 'http://www.wikidata.org/entity/Q5475056': '25',\n",
       " 'http://www.wikidata.org/entity/Q63101539': '5',\n",
       " 'http://www.wikidata.org/entity/Q1163691': '46',\n",
       " 'http://www.wikidata.org/entity/Q63101549': '5',\n",
       " 'http://www.wikidata.org/entity/Q100256304': '4',\n",
       " 'http://www.wikidata.org/entity/Q2465314': '46',\n",
       " 'http://www.wikidata.org/entity/Q78443855': '9',\n",
       " 'http://www.wikidata.org/entity/Q106827048': '5',\n",
       " 'http://www.wikidata.org/entity/Q10859256': '5',\n",
       " 'http://www.wikidata.org/entity/Q63092037': '9',\n",
       " 'http://www.wikidata.org/entity/Q59773287': '9',\n",
       " 'http://www.wikidata.org/entity/Q7941307': '49',\n",
       " 'http://www.wikidata.org/entity/Q106561664': '3',\n",
       " 'http://www.wikidata.org/entity/Q13049918': '11',\n",
       " 'http://www.wikidata.org/entity/Q10330284': '4',\n",
       " 'http://www.wikidata.org/entity/Q11293713': '28',\n",
       " 'http://www.wikidata.org/entity/Q19360313': '11',\n",
       " 'http://www.wikidata.org/entity/Q28685498': '6',\n",
       " 'http://www.wikidata.org/entity/Q10602853': '12',\n",
       " 'http://www.wikidata.org/entity/Q19951437': '9',\n",
       " 'http://www.wikidata.org/entity/Q25345281': '60',\n",
       " 'http://www.wikidata.org/entity/Q18290583': '5',\n",
       " 'http://www.wikidata.org/entity/Q104150098': '7',\n",
       " 'http://www.wikidata.org/entity/Q10726644': '4',\n",
       " 'http://www.wikidata.org/entity/Q63092087': '6',\n",
       " 'http://www.wikidata.org/entity/Q11976804': '7',\n",
       " 'http://www.wikidata.org/entity/Q4286886': '12',\n",
       " 'http://www.wikidata.org/entity/Q11996055': '48',\n",
       " 'http://www.wikidata.org/entity/Q10384952': '8',\n",
       " 'http://www.wikidata.org/entity/Q20102374': '10',\n",
       " 'http://www.wikidata.org/entity/Q94620993': '7',\n",
       " 'http://www.wikidata.org/entity/Q48913240': '5',\n",
       " 'http://www.wikidata.org/entity/Q48913666': '4',\n",
       " 'http://www.wikidata.org/entity/Q48913284': '4',\n",
       " 'http://www.wikidata.org/entity/Q5770886': '10',\n",
       " 'http://www.wikidata.org/entity/Q60176552': '8',\n",
       " 'http://www.wikidata.org/entity/Q58412858': '8',\n",
       " 'http://www.wikidata.org/entity/Q80636393': '4',\n",
       " 'http://www.wikidata.org/entity/Q18907745': '22',\n",
       " 'http://www.wikidata.org/entity/Q18123892': '97',\n",
       " 'http://www.wikidata.org/entity/Q39810884': '8',\n",
       " 'http://www.wikidata.org/entity/Q48912926': '4',\n",
       " 'http://www.wikidata.org/entity/Q48913745': '4',\n",
       " 'http://www.wikidata.org/entity/Q6052093': '10',\n",
       " 'http://www.wikidata.org/entity/Q18822382': '14',\n",
       " 'http://www.wikidata.org/entity/Q36548107': '5',\n",
       " 'http://www.wikidata.org/entity/Q16141142': '16',\n",
       " 'http://www.wikidata.org/entity/Q20108724': '36',\n",
       " 'http://www.wikidata.org/entity/Q18560140': '35',\n",
       " 'http://www.wikidata.org/entity/Q18560175': '50',\n",
       " 'http://www.wikidata.org/entity/Q48913727': '4',\n",
       " 'http://www.wikidata.org/entity/Q48911839': '4',\n",
       " 'http://www.wikidata.org/entity/Q6084414': '27',\n",
       " 'http://www.wikidata.org/entity/Q28828067': '5',\n",
       " 'http://www.wikidata.org/entity/Q48912962': '4',\n",
       " 'http://www.wikidata.org/entity/Q17779378': '7',\n",
       " 'http://www.wikidata.org/entity/Q17750624': '14',\n",
       " 'http://www.wikidata.org/entity/Q98594752': '4',\n",
       " 'http://www.wikidata.org/entity/Q98594709': '6',\n",
       " 'http://www.wikidata.org/entity/Q50589792': '4',\n",
       " 'http://www.wikidata.org/entity/Q48913757': '5',\n",
       " 'http://www.wikidata.org/entity/Q50589856': '5',\n",
       " 'http://www.wikidata.org/entity/Q12041503': '31',\n",
       " 'http://www.wikidata.org/entity/Q1994574': '51',\n",
       " 'http://www.wikidata.org/entity/Q48913298': '4',\n",
       " 'http://www.wikidata.org/entity/Q92969185': '4',\n",
       " 'http://www.wikidata.org/entity/Q28828065': '11',\n",
       " 'http://www.wikidata.org/entity/Q16520161': '9',\n",
       " 'http://www.wikidata.org/entity/Q48913291': '4',\n",
       " 'http://www.wikidata.org/entity/Q48913751': '4',\n",
       " 'http://www.wikidata.org/entity/Q16159205': '22',\n",
       " 'http://www.wikidata.org/entity/Q15966795': '7',\n",
       " 'http://www.wikidata.org/entity/Q18560180': '44',\n",
       " 'http://www.wikidata.org/entity/Q50359321': '13',\n",
       " 'http://www.wikidata.org/entity/Q48913738': '5',\n",
       " 'http://www.wikidata.org/entity/Q27921516': '15',\n",
       " 'http://www.wikidata.org/entity/Q28827906': '13',\n",
       " 'http://www.wikidata.org/entity/Q48913274': '4',\n",
       " 'http://www.wikidata.org/entity/Q48912969': '5',\n",
       " 'http://www.wikidata.org/entity/Q50390875': '8',\n",
       " 'http://www.wikidata.org/entity/Q50940776': '5',\n",
       " 'http://www.wikidata.org/entity/Q1344055': '22',\n",
       " 'http://www.wikidata.org/entity/Q19802323': '4',\n",
       " 'http://www.wikidata.org/entity/Q1936138': '7',\n",
       " 'http://www.wikidata.org/entity/Q78499668': '7',\n",
       " 'http://www.wikidata.org/entity/Q67437631': '5',\n",
       " 'http://www.wikidata.org/entity/Q89565411': '28',\n",
       " 'http://www.wikidata.org/entity/Q28861276': '15',\n",
       " 'http://www.wikidata.org/entity/Q50622425': '5',\n",
       " 'http://www.wikidata.org/entity/Q1316544': '9283',\n",
       " 'http://www.wikidata.org/entity/Q28050481': '5',\n",
       " 'http://www.wikidata.org/entity/Q19801784': '10',\n",
       " 'http://www.wikidata.org/entity/Q24954950': '41',\n",
       " 'http://www.wikidata.org/entity/Q24412906': '39',\n",
       " 'http://www.wikidata.org/entity/Q35804634': '4',\n",
       " 'http://www.wikidata.org/entity/Q58186965': '16',\n",
       " 'http://www.wikidata.org/entity/Q100744696': '4',\n",
       " 'http://www.wikidata.org/entity/Q21762785': '13',\n",
       " 'http://www.wikidata.org/entity/Q28147490': '24',\n",
       " 'http://www.wikidata.org/entity/Q46094870': '6',\n",
       " 'http://www.wikidata.org/entity/Q59874768': '7',\n",
       " 'http://www.wikidata.org/entity/Q25385087': '16',\n",
       " 'http://www.wikidata.org/entity/Q47281768': '11',\n",
       " 'http://www.wikidata.org/entity/Q2882006': '64',\n",
       " 'http://www.wikidata.org/entity/Q17330895': '62',\n",
       " 'http://www.wikidata.org/entity/Q17067229': '16',\n",
       " 'http://www.wikidata.org/entity/Q6515635': '26',\n",
       " 'http://www.wikidata.org/entity/Q2551364': '23',\n",
       " 'http://www.wikidata.org/entity/Q3404463': '16',\n",
       " 'http://www.wikidata.org/entity/Q3540423': '7',\n",
       " 'http://www.wikidata.org/entity/Q4677703': '16',\n",
       " 'http://www.wikidata.org/entity/Q50626563': '7',\n",
       " 'http://www.wikidata.org/entity/Q50417713': '13',\n",
       " 'http://www.wikidata.org/entity/Q1204940': '24',\n",
       " 'http://www.wikidata.org/entity/Q47281790': '15',\n",
       " 'http://www.wikidata.org/entity/Q1427590': '26',\n",
       " 'http://www.wikidata.org/entity/Q1093226': '31',\n",
       " 'http://www.wikidata.org/entity/Q2776640': '34',\n",
       " 'http://www.wikidata.org/entity/Q96622244': '17',\n",
       " 'http://www.wikidata.org/entity/Q48097911': '3',\n",
       " 'http://www.wikidata.org/entity/Q25326590': '16',\n",
       " 'http://www.wikidata.org/entity/Q16909434': '8',\n",
       " 'http://www.wikidata.org/entity/Q18458487': '4',\n",
       " 'http://www.wikidata.org/entity/Q5971528': '18',\n",
       " 'http://www.wikidata.org/entity/Q3404973': '11',\n",
       " 'http://www.wikidata.org/entity/Q48758391': '7',\n",
       " 'http://www.wikidata.org/entity/Q17330862': '20',\n",
       " 'http://www.wikidata.org/entity/Q84078301': '5',\n",
       " 'http://www.wikidata.org/entity/Q1936140': '23',\n",
       " 'http://www.wikidata.org/entity/Q1354050': '5',\n",
       " 'http://www.wikidata.org/entity/Q24936225': '6',\n",
       " 'http://www.wikidata.org/entity/Q55360600': '7',\n",
       " 'http://www.wikidata.org/entity/Q44572696': '5',\n",
       " 'http://www.wikidata.org/entity/Q44573348': '4',\n",
       " 'http://www.wikidata.org/entity/Q44569371': '5',\n",
       " 'http://www.wikidata.org/entity/Q96769717': '9',\n",
       " 'http://www.wikidata.org/entity/Q44572956': '4',\n",
       " 'http://www.wikidata.org/entity/Q104776587': '11',\n",
       " 'http://www.wikidata.org/entity/Q50626258': '11',\n",
       " 'http://www.wikidata.org/entity/Q59124364': '11',\n",
       " 'http://www.wikidata.org/entity/Q20742511': '12',\n",
       " 'http://www.wikidata.org/entity/Q47455270': '10',\n",
       " 'http://www.wikidata.org/entity/Q61981596': '21',\n",
       " 'http://www.wikidata.org/entity/Q370121': '20',\n",
       " 'http://www.wikidata.org/entity/Q61954605': '5',\n",
       " 'http://www.wikidata.org/entity/Q15016684': '10',\n",
       " 'http://www.wikidata.org/entity/Q40053379': '10',\n",
       " 'http://www.wikidata.org/entity/Q104532041': '5',\n",
       " 'http://www.wikidata.org/entity/Q96587375': '8',\n",
       " 'http://www.wikidata.org/entity/Q2706900': '18',\n",
       " 'http://www.wikidata.org/entity/Q3332237': '78',\n",
       " 'http://www.wikidata.org/entity/Q97274796': '6',\n",
       " 'http://www.wikidata.org/entity/Q5844155': '10',\n",
       " 'http://www.wikidata.org/entity/Q59772131': '48',\n",
       " 'http://www.wikidata.org/entity/Q64821978': '3',\n",
       " 'http://www.wikidata.org/entity/Q107183245': '5',\n",
       " 'http://www.wikidata.org/entity/Q6562487': '9',\n",
       " 'http://www.wikidata.org/entity/Q8010631': '33',\n",
       " 'http://www.wikidata.org/entity/Q39609703': '48',\n",
       " 'http://www.wikidata.org/entity/Q44571376': '5',\n",
       " 'http://www.wikidata.org/entity/Q87260181': '10',\n",
       " 'http://www.wikidata.org/entity/Q17521255': '28',\n",
       " 'http://www.wikidata.org/entity/Q7071140': '24',\n",
       " 'http://www.wikidata.org/entity/Q27169769': '5',\n",
       " 'http://www.wikidata.org/entity/Q44569917': '4',\n",
       " 'http://www.wikidata.org/entity/Q44568988': '5',\n",
       " 'http://www.wikidata.org/entity/Q58494668': '15',\n",
       " 'http://www.wikidata.org/entity/Q1951229': '10',\n",
       " 'http://www.wikidata.org/entity/Q68164329': '4',\n",
       " 'http://www.wikidata.org/entity/Q63439486': '4',\n",
       " 'http://www.wikidata.org/entity/Q44572106': '7',\n",
       " 'http://www.wikidata.org/entity/Q56072830': '88',\n",
       " 'http://www.wikidata.org/entity/Q106191911': '4',\n",
       " 'http://www.wikidata.org/entity/Q30067927': '10',\n",
       " 'http://www.wikidata.org/entity/Q1128609': '215',\n",
       " 'http://www.wikidata.org/entity/Q44570891': '39',\n",
       " 'http://www.wikidata.org/entity/Q50619978': '6',\n",
       " 'http://www.wikidata.org/entity/Q44570218': '7',\n",
       " 'http://www.wikidata.org/entity/Q7970020': '31',\n",
       " 'http://www.wikidata.org/entity/Q27983243': '47',\n",
       " 'http://www.wikidata.org/entity/Q2297867': '54',\n",
       " 'http://www.wikidata.org/entity/Q65032446': '8',\n",
       " 'http://www.wikidata.org/entity/Q28797444': '11',\n",
       " 'http://www.wikidata.org/entity/Q58356177': '24',\n",
       " 'http://www.wikidata.org/entity/Q55649258': '8',\n",
       " 'http://www.wikidata.org/entity/Q104530980': '6',\n",
       " 'http://www.wikidata.org/entity/Q66823590': '5',\n",
       " 'http://www.wikidata.org/entity/Q799608': '28',\n",
       " 'http://www.wikidata.org/entity/Q66817175': '7',\n",
       " 'http://www.wikidata.org/entity/Q28797442': '14',\n",
       " 'http://www.wikidata.org/entity/Q2794660': '35',\n",
       " 'http://www.wikidata.org/entity/Q2172254': '28',\n",
       " 'http://www.wikidata.org/entity/Q66793732': '5',\n",
       " 'http://www.wikidata.org/entity/Q30561679': '11',\n",
       " 'http://www.wikidata.org/entity/Q79375912': '4',\n",
       " 'http://www.wikidata.org/entity/Q66825636': '5',\n",
       " 'http://www.wikidata.org/entity/Q531410': '123',\n",
       " 'http://www.wikidata.org/entity/Q66824344': '4',\n",
       " 'http://www.wikidata.org/entity/Q6582306': '14',\n",
       " 'http://www.wikidata.org/entity/Q63507500': '7',\n",
       " 'http://www.wikidata.org/entity/Q107329407': '6',\n",
       " 'http://www.wikidata.org/entity/Q57258961': '7',\n",
       " 'http://www.wikidata.org/entity/Q30527321': '5',\n",
       " 'http://www.wikidata.org/entity/Q66793733': '5',\n",
       " 'http://www.wikidata.org/entity/Q64866585': '4',\n",
       " 'http://www.wikidata.org/entity/Q98762386': '5',\n",
       " 'http://www.wikidata.org/entity/Q73548471': '1352',\n",
       " 'http://www.wikidata.org/entity/Q64995876': '4',\n",
       " 'http://www.wikidata.org/entity/Q60315813': '4',\n",
       " 'http://www.wikidata.org/entity/Q55482884': '24',\n",
       " 'http://www.wikidata.org/entity/Q66793710': '6',\n",
       " 'http://www.wikidata.org/entity/Q64106352': '4',\n",
       " 'http://www.wikidata.org/entity/Q47524398': '7',\n",
       " 'http://www.wikidata.org/entity/Q28797449': '8',\n",
       " 'http://www.wikidata.org/entity/Q65032472': '5',\n",
       " 'http://www.wikidata.org/entity/Q2547038': '10',\n",
       " 'http://www.wikidata.org/entity/Q66793731': '5',\n",
       " 'http://www.wikidata.org/entity/Q30560556': '25',\n",
       " 'http://www.wikidata.org/entity/Q11573446': '33',\n",
       " 'http://www.wikidata.org/entity/Q58356454': '11',\n",
       " 'http://www.wikidata.org/entity/Q7225685': '7',\n",
       " 'http://www.wikidata.org/entity/Q2637278': '71',\n",
       " 'http://www.wikidata.org/entity/Q57268394': '4',\n",
       " 'http://www.wikidata.org/entity/Q71384747': '13',\n",
       " 'http://www.wikidata.org/entity/Q63838268': '14',\n",
       " 'http://www.wikidata.org/entity/Q29367072': '7',\n",
       " 'http://www.wikidata.org/entity/Q28797886': '12',\n",
       " 'http://www.wikidata.org/entity/Q58328656': '5',\n",
       " 'http://www.wikidata.org/entity/Q66823593': '4',\n",
       " 'http://www.wikidata.org/entity/Q29950683': '23',\n",
       " 'http://www.wikidata.org/entity/Q56494487': '16',\n",
       " 'http://www.wikidata.org/entity/Q88072608': '13',\n",
       " 'http://www.wikidata.org/entity/Q22909306': '14',\n",
       " 'http://www.wikidata.org/entity/Q1900720': '7',\n",
       " 'http://www.wikidata.org/entity/Q48816782': '8',\n",
       " 'http://www.wikidata.org/entity/Q55648947': '6',\n",
       " 'http://www.wikidata.org/entity/Q11235314': '12',\n",
       " 'http://www.wikidata.org/entity/Q50378798': '48',\n",
       " 'http://www.wikidata.org/entity/Q6531319': '8',\n",
       " 'http://www.wikidata.org/entity/Q3332320': '231',\n",
       " 'http://www.wikidata.org/entity/Q7914161': '6',\n",
       " 'http://www.wikidata.org/entity/Q105339055': '11',\n",
       " 'http://www.wikidata.org/entity/Q3631327': '427',\n",
       " 'http://www.wikidata.org/entity/Q16355859': '9',\n",
       " 'http://www.wikidata.org/entity/Q61792142': '60',\n",
       " 'http://www.wikidata.org/entity/Q6641233': '21',\n",
       " 'http://www.wikidata.org/entity/Q49802084': '50',\n",
       " 'http://www.wikidata.org/entity/Q63091960': '32',\n",
       " 'http://www.wikidata.org/entity/Q910677': '10',\n",
       " 'http://www.wikidata.org/entity/Q88883747': '9',\n",
       " 'http://www.wikidata.org/entity/Q1762822': '59',\n",
       " 'http://www.wikidata.org/entity/Q4287207': '46',\n",
       " 'http://www.wikidata.org/entity/Q182375': '8',\n",
       " 'http://www.wikidata.org/entity/Q1528088': '34',\n",
       " 'http://www.wikidata.org/entity/Q102348904': '12',\n",
       " 'http://www.wikidata.org/entity/Q1957671': '87',\n",
       " 'http://www.wikidata.org/entity/Q15061759': '19',\n",
       " 'http://www.wikidata.org/entity/Q16131387': '16',\n",
       " 'http://www.wikidata.org/entity/Q105086022': '6',\n",
       " 'http://www.wikidata.org/entity/Q3332287': '319',\n",
       " 'http://www.wikidata.org/entity/Q56577467': '13',\n",
       " 'http://www.wikidata.org/entity/Q89250465': '13',\n",
       " 'http://www.wikidata.org/entity/Q182419': '94',\n",
       " 'http://www.wikidata.org/entity/Q182366': '27',\n",
       " 'http://www.wikidata.org/entity/Q16361766': '35',\n",
       " 'http://www.wikidata.org/entity/Q18400038': '11',\n",
       " 'http://www.wikidata.org/entity/Q1946532': '6',\n",
       " 'http://www.wikidata.org/entity/Q7914160': '6',\n",
       " 'http://www.wikidata.org/entity/Q6797603': '8',\n",
       " 'http://www.wikidata.org/entity/Q21898124': '61',\n",
       " 'http://www.wikidata.org/entity/Q23844475': '8',\n",
       " 'http://www.wikidata.org/entity/Q4836294': '11',\n",
       " 'http://www.wikidata.org/entity/Q3002813': '12',\n",
       " 'http://www.wikidata.org/entity/Q182362': '28',\n",
       " 'http://www.wikidata.org/entity/Q18408210': '15',\n",
       " 'http://www.wikidata.org/entity/Q974736': '74',\n",
       " 'http://www.wikidata.org/entity/Q3332330': '32',\n",
       " 'http://www.wikidata.org/entity/Q728711': '1070',\n",
       " 'http://www.wikidata.org/entity/Q18659440': '13',\n",
       " 'http://www.wikidata.org/entity/Q59334755': '80',\n",
       " 'http://www.wikidata.org/entity/Q6586897': '4',\n",
       " 'http://www.wikidata.org/entity/Q1791814': '5',\n",
       " 'http://www.wikidata.org/entity/Q11463694': '8',\n",
       " 'http://www.wikidata.org/entity/Q11632219': '6',\n",
       " 'http://www.wikidata.org/entity/Q1150306': '212',\n",
       " 'http://www.wikidata.org/entity/Q23014282': '4',\n",
       " 'http://www.wikidata.org/entity/Q104540981': '10',\n",
       " 'http://www.wikidata.org/entity/Q104234370': '3',\n",
       " 'http://www.wikidata.org/entity/Q64153053': '4',\n",
       " 'http://www.wikidata.org/entity/Q37018860': '68',\n",
       " 'http://www.wikidata.org/entity/Q22138529': '19',\n",
       " 'http://www.wikidata.org/entity/Q11632212': '63',\n",
       " 'http://www.wikidata.org/entity/Q11632206': '56',\n",
       " 'http://www.wikidata.org/entity/Q97152442': '4',\n",
       " 'http://www.wikidata.org/entity/Q104842263': '3',\n",
       " 'http://www.wikidata.org/entity/Q67588869': '16',\n",
       " 'http://www.wikidata.org/entity/Q76980145': '6',\n",
       " 'http://www.wikidata.org/entity/Q97611597': '4',\n",
       " 'http://www.wikidata.org/entity/Q3405381': '42',\n",
       " 'http://www.wikidata.org/entity/Q3405815': '148',\n",
       " 'http://www.wikidata.org/entity/Q2327822': '8',\n",
       " 'http://www.wikidata.org/entity/Q11463693': '10',\n",
       " 'http://www.wikidata.org/entity/Q45309809': '31',\n",
       " 'http://www.wikidata.org/entity/Q17213502': '14',\n",
       " 'http://www.wikidata.org/entity/Q576434': '1019',\n",
       " 'http://www.wikidata.org/entity/Q17130759': '17',\n",
       " 'http://www.wikidata.org/entity/Q498339': '11',\n",
       " 'http://www.wikidata.org/entity/Q21856601': '6',\n",
       " 'http://www.wikidata.org/entity/Q17112655': '196',\n",
       " 'http://www.wikidata.org/entity/Q3405795': '18',\n",
       " 'http://www.wikidata.org/entity/Q17093746': '4',\n",
       " 'http://www.wikidata.org/entity/Q3405363': '9',\n",
       " 'http://www.wikidata.org/entity/Q13425783': '5',\n",
       " 'http://www.wikidata.org/entity/Q96203589': '5',\n",
       " 'http://www.wikidata.org/entity/Q67189629': '6',\n",
       " 'http://www.wikidata.org/entity/Q63171279': '4',\n",
       " 'http://www.wikidata.org/entity/Q69476507': '38',\n",
       " 'http://www.wikidata.org/entity/Q63065713': '43',\n",
       " 'http://www.wikidata.org/entity/Q22340941': '12',\n",
       " 'http://www.wikidata.org/entity/Q74628623': '14',\n",
       " 'http://www.wikidata.org/entity/Q59652432': '7',\n",
       " 'http://www.wikidata.org/entity/Q86736852': '8',\n",
       " 'http://www.wikidata.org/entity/Q5311543': '4',\n",
       " 'http://www.wikidata.org/entity/Q106520936': '6',\n",
       " 'http://www.wikidata.org/entity/Q63197597': '7',\n",
       " 'http://www.wikidata.org/entity/Q58006745': '108',\n",
       " 'http://www.wikidata.org/entity/Q11274130': '7',\n",
       " 'http://www.wikidata.org/entity/Q104192722': '110',\n",
       " 'http://www.wikidata.org/entity/Q27530629': '53',\n",
       " 'http://www.wikidata.org/entity/Q283256': '207',\n",
       " 'http://www.wikidata.org/entity/Q5322016': '55',\n",
       " 'http://www.wikidata.org/entity/Q1603326': '18',\n",
       " 'http://www.wikidata.org/entity/Q4287000': '36',\n",
       " 'http://www.wikidata.org/entity/Q196759': '5',\n",
       " 'http://www.wikidata.org/entity/Q286898': '37',\n",
       " 'http://www.wikidata.org/entity/Q57577689': '6',\n",
       " 'http://www.wikidata.org/entity/Q57577730': '8',\n",
       " 'http://www.wikidata.org/entity/Q63072561': '7',\n",
       " 'http://www.wikidata.org/entity/Q4286712': '86',\n",
       " 'http://www.wikidata.org/entity/Q96150760': '15',\n",
       " 'http://www.wikidata.org/entity/Q2719582': '39',\n",
       " 'http://www.wikidata.org/entity/Q10341318': '11',\n",
       " 'http://www.wikidata.org/entity/Q65939075': '27',\n",
       " 'http://www.wikidata.org/entity/Q61826392': '11',\n",
       " 'http://www.wikidata.org/entity/Q59766840': '708',\n",
       " 'http://www.wikidata.org/entity/Q57577888': '9',\n",
       " 'http://www.wikidata.org/entity/Q369412': '55',\n",
       " 'http://www.wikidata.org/entity/Q7314522': '5',\n",
       " 'http://www.wikidata.org/entity/Q12379138': '6',\n",
       " 'http://www.wikidata.org/entity/Q1267697': '18',\n",
       " 'http://www.wikidata.org/entity/Q4558666': '202',\n",
       " 'http://www.wikidata.org/entity/Q4286898': '17',\n",
       " 'http://www.wikidata.org/entity/Q4188046': '44',\n",
       " 'http://www.wikidata.org/entity/Q49000065': '5',\n",
       " 'http://www.wikidata.org/entity/Q1244045': '29',\n",
       " 'http://www.wikidata.org/entity/Q96905612': '10',\n",
       " 'http://www.wikidata.org/entity/Q28030419': '216',\n",
       " 'http://www.wikidata.org/entity/Q11997397': '9',\n",
       " 'http://www.wikidata.org/entity/Q752017': '128',\n",
       " 'http://www.wikidata.org/entity/Q63092230': '6',\n",
       " 'http://www.wikidata.org/entity/Q13823682': '61',\n",
       " 'http://www.wikidata.org/entity/Q3404387': '10',\n",
       " 'http://www.wikidata.org/entity/Q182566': '58',\n",
       " 'http://www.wikidata.org/entity/Q68796930': '16',\n",
       " 'http://www.wikidata.org/entity/Q63092114': '5',\n",
       " 'http://www.wikidata.org/entity/Q88454960': '5',\n",
       " 'http://www.wikidata.org/entity/Q16654237': '33',\n",
       " 'http://www.wikidata.org/entity/Q1320666': '36',\n",
       " 'http://www.wikidata.org/entity/Q10928900': '35',\n",
       " 'http://www.wikidata.org/entity/Q43398898': '16',\n",
       " 'http://www.wikidata.org/entity/Q50807473': '4',\n",
       " 'http://www.wikidata.org/entity/Q65784593': '20',\n",
       " 'http://www.wikidata.org/entity/Q4286913': '28',\n",
       " 'http://www.wikidata.org/entity/Q3114775': '11',\n",
       " 'http://www.wikidata.org/entity/Q28666830': '39',\n",
       " 'http://www.wikidata.org/entity/Q63091998': '16',\n",
       " 'http://www.wikidata.org/entity/Q56759139': '18',\n",
       " 'http://www.wikidata.org/entity/Q5814545': '11',\n",
       " 'http://www.wikidata.org/entity/Q73197407': '16',\n",
       " 'http://www.wikidata.org/entity/Q883370': '23',\n",
       " 'http://www.wikidata.org/entity/Q57577804': '9',\n",
       " 'http://www.wikidata.org/entity/Q639542': '27',\n",
       " 'http://www.wikidata.org/entity/Q98456929': '8',\n",
       " 'http://www.wikidata.org/entity/Q2005201': '36',\n",
       " 'http://www.wikidata.org/entity/Q2018307': '17',\n",
       " 'http://www.wikidata.org/entity/Q185299': '209',\n",
       " 'http://www.wikidata.org/entity/Q87781782': '22',\n",
       " 'http://www.wikidata.org/entity/Q24204611': '62',\n",
       " 'http://www.wikidata.org/entity/Q839677': '57',\n",
       " 'http://www.wikidata.org/entity/Q2442442': '42',\n",
       " 'http://www.wikidata.org/entity/Q1348378': '137',\n",
       " 'http://www.wikidata.org/entity/Q63949553': '6',\n",
       " 'http://www.wikidata.org/entity/Q7821800': '26',\n",
       " 'http://www.wikidata.org/entity/Q55619373': '22',\n",
       " 'http://www.wikidata.org/entity/Q5029968': '5',\n",
       " 'http://www.wikidata.org/entity/Q2442446': '13',\n",
       " 'http://www.wikidata.org/entity/Q1445521': '237',\n",
       " 'http://www.wikidata.org/entity/Q1784838': '29',\n",
       " 'http://www.wikidata.org/entity/Q24204477': '11',\n",
       " 'http://www.wikidata.org/entity/Q377293': '168',\n",
       " 'http://www.wikidata.org/entity/Q1474410': '275',\n",
       " 'http://www.wikidata.org/entity/Q15814460': '11',\n",
       " 'http://www.wikidata.org/entity/Q1780176': '34',\n",
       " 'http://www.wikidata.org/entity/Q28826510': '29',\n",
       " 'http://www.wikidata.org/entity/Q674165': '110',\n",
       " 'http://www.wikidata.org/entity/Q2308234': '29',\n",
       " 'http://www.wikidata.org/entity/Q4356947': '7',\n",
       " 'http://www.wikidata.org/entity/Q38229291': '6',\n",
       " 'http://www.wikidata.org/entity/Q18681105': '6',\n",
       " 'http://www.wikidata.org/entity/Q383290': '9',\n",
       " 'http://www.wikidata.org/entity/Q41695835': '72',\n",
       " 'http://www.wikidata.org/entity/Q1799442': '53',\n",
       " 'http://www.wikidata.org/entity/Q17398148': '7',\n",
       " 'http://www.wikidata.org/entity/Q24204631': '46',\n",
       " 'http://www.wikidata.org/entity/Q59766247': '151',\n",
       " 'http://www.wikidata.org/entity/Q63092006': '8',\n",
       " 'http://www.wikidata.org/entity/Q16985679': '40',\n",
       " 'http://www.wikidata.org/entity/Q1723064': '244',\n",
       " 'http://www.wikidata.org/entity/Q24204630': '47',\n",
       " 'http://www.wikidata.org/entity/Q3404554': '20',\n",
       " 'http://www.wikidata.org/entity/Q627778': '262',\n",
       " 'http://www.wikidata.org/entity/Q7821794': '37',\n",
       " 'http://www.wikidata.org/entity/Q640374': '179',\n",
       " 'http://www.wikidata.org/entity/Q21821442': '7',\n",
       " 'http://www.wikidata.org/entity/Q1537996': '217',\n",
       " 'http://www.wikidata.org/entity/Q85864945': '23',\n",
       " 'http://www.wikidata.org/entity/Q13449461': '136',\n",
       " 'http://www.wikidata.org/entity/Q191874': '182',\n",
       " 'http://www.wikidata.org/entity/Q11888865': '9',\n",
       " 'http://www.wikidata.org/entity/Q945501': '8',\n",
       " 'http://www.wikidata.org/entity/Q7821798': '18',\n",
       " 'http://www.wikidata.org/entity/Q12717714': '11',\n",
       " 'http://www.wikidata.org/entity/Q47484713': '15',\n",
       " 'http://www.wikidata.org/entity/Q388826': '103',\n",
       " 'http://www.wikidata.org/entity/Q11789180': '9',\n",
       " 'http://www.wikidata.org/entity/Q11722782': '5',\n",
       " 'http://www.wikidata.org/entity/Q11722804': '23',\n",
       " 'http://www.wikidata.org/entity/Q18822392': '13',\n",
       " 'http://www.wikidata.org/entity/Q11722810': '4',\n",
       " 'http://www.wikidata.org/entity/Q83543642': '10',\n",
       " 'http://www.wikidata.org/entity/Q65676685': '5',\n",
       " 'http://www.wikidata.org/entity/Q11992475': '10',\n",
       " 'http://www.wikidata.org/entity/Q11722809': '28',\n",
       " 'http://www.wikidata.org/entity/Q11992477': '30',\n",
       " 'http://www.wikidata.org/entity/Q11942598': '23',\n",
       " 'http://www.wikidata.org/entity/Q17775271': '8',\n",
       " 'http://www.wikidata.org/entity/Q20755229': '6',\n",
       " 'http://www.wikidata.org/entity/Q5274271': '12',\n",
       " 'http://www.wikidata.org/entity/Q11973462': '12',\n",
       " 'http://www.wikidata.org/entity/Q11992070': '10',\n",
       " 'http://www.wikidata.org/entity/Q29051985': '15',\n",
       " 'http://www.wikidata.org/entity/Q11980191': '11',\n",
       " 'http://www.wikidata.org/entity/Q98118423': '7',\n",
       " 'http://www.wikidata.org/entity/Q19360314': '8',\n",
       " 'http://www.wikidata.org/entity/Q12041121': '40',\n",
       " 'http://www.wikidata.org/entity/Q106497954': '12',\n",
       " 'http://www.wikidata.org/entity/Q5400832': '18',\n",
       " 'http://www.wikidata.org/entity/Q19384997': '17',\n",
       " 'http://www.wikidata.org/entity/Q12047564': '35',\n",
       " 'http://www.wikidata.org/entity/Q10726698': '17',\n",
       " 'http://www.wikidata.org/entity/Q61081484': '3',\n",
       " 'http://www.wikidata.org/entity/Q12032287': '12',\n",
       " 'http://www.wikidata.org/entity/Q12011576': '14',\n",
       " 'http://www.wikidata.org/entity/Q11981638': '31',\n",
       " 'http://www.wikidata.org/entity/Q21086096': '14',\n",
       " 'http://www.wikidata.org/entity/Q9062344': '16',\n",
       " 'http://www.wikidata.org/entity/Q10498754': '18',\n",
       " 'http://www.wikidata.org/entity/Q19362': '45',\n",
       " 'http://www.wikidata.org/entity/Q65228704': '8',\n",
       " 'http://www.wikidata.org/entity/Q2696834': '58',\n",
       " 'http://www.wikidata.org/entity/Q98101456': '18',\n",
       " 'http://www.wikidata.org/entity/Q11776665': '49',\n",
       " 'http://www.wikidata.org/entity/Q53255874': '7',\n",
       " 'http://www.wikidata.org/entity/Q86183349': '8',\n",
       " 'http://www.wikidata.org/entity/Q18654681': '21',\n",
       " 'http://www.wikidata.org/entity/Q11942661': '255',\n",
       " 'http://www.wikidata.org/entity/Q11966532': '9',\n",
       " 'http://www.wikidata.org/entity/Q11942591': '27',\n",
       " 'http://www.wikidata.org/entity/Q1769608': '51',\n",
       " 'http://www.wikidata.org/entity/Q25428847': '11',\n",
       " 'http://www.wikidata.org/entity/Q4895726': '50',\n",
       " 'http://www.wikidata.org/entity/Q24204635': '36',\n",
       " 'http://www.wikidata.org/entity/Q11640057': '5',\n",
       " 'http://www.wikidata.org/entity/Q18153246': '8',\n",
       " 'http://www.wikidata.org/entity/Q7821797': '16',\n",
       " 'http://www.wikidata.org/entity/Q62786843': '9',\n",
       " 'http://www.wikidata.org/entity/Q15107193': '16',\n",
       " 'http://www.wikidata.org/entity/Q62132504': '5',\n",
       " 'http://www.wikidata.org/entity/Q1478089': '37',\n",
       " 'http://www.wikidata.org/entity/Q249353': '30',\n",
       " 'http://www.wikidata.org/entity/Q96203519': '5',\n",
       " 'http://www.wikidata.org/entity/Q20439665': '17',\n",
       " 'http://www.wikidata.org/entity/Q21061286': '8',\n",
       " 'http://www.wikidata.org/entity/Q55862998': '3',\n",
       " 'http://www.wikidata.org/entity/Q392565': '56',\n",
       " 'http://www.wikidata.org/entity/Q1162061': '42',\n",
       " 'http://www.wikidata.org/entity/Q106464765': '194',\n",
       " 'http://www.wikidata.org/entity/Q63072606': '5',\n",
       " 'http://www.wikidata.org/entity/Q24204634': '41',\n",
       " 'http://www.wikidata.org/entity/Q96203578': '5',\n",
       " 'http://www.wikidata.org/entity/Q20438974': '6',\n",
       " 'http://www.wikidata.org/entity/Q55139818': '11',\n",
       " 'http://www.wikidata.org/entity/Q104778597': '11',\n",
       " 'http://www.wikidata.org/entity/Q7589655': '91',\n",
       " 'http://www.wikidata.org/entity/Q96203559': '5',\n",
       " 'http://www.wikidata.org/entity/Q637399': '1294',\n",
       " 'http://www.wikidata.org/entity/Q16521446': '7',\n",
       " 'http://www.wikidata.org/entity/Q1479190': '23',\n",
       " 'http://www.wikidata.org/entity/Q869109': '8',\n",
       " 'http://www.wikidata.org/entity/Q20979305': '15',\n",
       " 'http://www.wikidata.org/entity/Q49417574': '27',\n",
       " 'http://www.wikidata.org/entity/Q3178702': '18',\n",
       " 'http://www.wikidata.org/entity/Q145017': '4',\n",
       " 'http://www.wikidata.org/entity/Q3087600': '45',\n",
       " 'http://www.wikidata.org/entity/Q88008444': '19',\n",
       " 'http://www.wikidata.org/entity/Q48699181': '29',\n",
       " 'http://www.wikidata.org/entity/Q56507792': '12',\n",
       " 'http://www.wikidata.org/entity/Q7939070': '12',\n",
       " 'http://www.wikidata.org/entity/Q56556271': '7',\n",
       " 'http://www.wikidata.org/entity/Q3405250': '53',\n",
       " 'http://www.wikidata.org/entity/Q7821796': '82',\n",
       " 'http://www.wikidata.org/entity/Q59306809': '76',\n",
       " 'http://www.wikidata.org/entity/Q30057413': '3',\n",
       " 'http://www.wikidata.org/entity/Q96203566': '5',\n",
       " 'http://www.wikidata.org/entity/Q16933520': '36',\n",
       " 'http://www.wikidata.org/entity/Q27969423': '4',\n",
       " 'http://www.wikidata.org/entity/Q24204609': '54',\n",
       " 'http://www.wikidata.org/entity/Q106910608': '58',\n",
       " 'http://www.wikidata.org/entity/Q18149102': '23',\n",
       " 'http://www.wikidata.org/entity/Q2442461': '10',\n",
       " 'http://www.wikidata.org/entity/Q56290332': '5',\n",
       " 'http://www.wikidata.org/entity/Q6794673': '10',\n",
       " 'http://www.wikidata.org/entity/Q58164593': '7',\n",
       " 'http://www.wikidata.org/entity/Q96203597': '5',\n",
       " 'http://www.wikidata.org/entity/Q5584784': '5',\n",
       " 'http://www.wikidata.org/entity/Q63950234': '5',\n",
       " 'http://www.wikidata.org/entity/Q58165122': '8',\n",
       " 'http://www.wikidata.org/entity/Q96203577': '6',\n",
       " 'http://www.wikidata.org/entity/Q348422': '38',\n",
       " 'http://www.wikidata.org/entity/Q16735648': '152',\n",
       " 'http://www.wikidata.org/entity/Q1166881': '61',\n",
       " 'http://www.wikidata.org/entity/Q63077102': '5',\n",
       " 'http://www.wikidata.org/entity/Q63101540': '6',\n",
       " 'http://www.wikidata.org/entity/Q99615136': '10',\n",
       " 'http://www.wikidata.org/entity/Q1469577': '16',\n",
       " 'http://www.wikidata.org/entity/Q20853537': '70',\n",
       " 'http://www.wikidata.org/entity/Q20876191': '12',\n",
       " 'http://www.wikidata.org/entity/Q20876189': '8',\n",
       " 'http://www.wikidata.org/entity/Q97340878': '6',\n",
       " 'http://www.wikidata.org/entity/Q20879923': '7',\n",
       " 'http://www.wikidata.org/entity/Q42309575': '34',\n",
       " 'http://www.wikidata.org/entity/Q104649899': '12',\n",
       " 'http://www.wikidata.org/entity/Q97483969': '31',\n",
       " 'http://www.wikidata.org/entity/Q6554605': '8',\n",
       " 'http://www.wikidata.org/entity/Q86458856': '35',\n",
       " 'http://www.wikidata.org/entity/Q97322216': '6',\n",
       " 'http://www.wikidata.org/entity/Q15918487': '6',\n",
       " 'http://www.wikidata.org/entity/Q50618392': '19',\n",
       " 'http://www.wikidata.org/entity/Q4863634': '32',\n",
       " 'http://www.wikidata.org/entity/Q59771498': '371',\n",
       " 'http://www.wikidata.org/entity/Q59771847': '257',\n",
       " 'http://www.wikidata.org/entity/Q96203549': '5',\n",
       " 'http://www.wikidata.org/entity/Q241257': '154',\n",
       " 'http://www.wikidata.org/entity/Q812306': '28',\n",
       " 'http://www.wikidata.org/entity/Q3885175': '20',\n",
       " 'http://www.wikidata.org/entity/Q5814624': '7',\n",
       " 'http://www.wikidata.org/entity/Q6303776': '12',\n",
       " 'http://www.wikidata.org/entity/Q89253101': '8',\n",
       " 'http://www.wikidata.org/entity/Q96603354': '27',\n",
       " 'http://www.wikidata.org/entity/Q58165406': '8',\n",
       " 'http://www.wikidata.org/entity/Q6128801': '60',\n",
       " 'http://www.wikidata.org/entity/Q18600746': '187',\n",
       " 'http://www.wikidata.org/entity/Q56528430': '38',\n",
       " 'http://www.wikidata.org/entity/Q2572632': '7',\n",
       " 'http://www.wikidata.org/entity/Q28798222': '6',\n",
       " 'http://www.wikidata.org/entity/Q255205': '1004',\n",
       " 'http://www.wikidata.org/entity/Q16880122': '12',\n",
       " 'http://www.wikidata.org/entity/Q2922465': '13',\n",
       " 'http://www.wikidata.org/entity/Q96203567': '5',\n",
       " 'http://www.wikidata.org/entity/Q88566879': '16',\n",
       " 'http://www.wikidata.org/entity/Q24591090': '548',\n",
       " 'http://www.wikidata.org/entity/Q76396003': '14',\n",
       " 'http://www.wikidata.org/entity/Q105246115': '4',\n",
       " 'http://www.wikidata.org/entity/Q6263586': '21',\n",
       " 'http://www.wikidata.org/entity/Q20075201': '8',\n",
       " 'http://www.wikidata.org/entity/Q41942190': '534',\n",
       " 'http://www.wikidata.org/entity/Q20075202': '14',\n",
       " 'http://www.wikidata.org/entity/Q290623': '7',\n",
       " 'http://www.wikidata.org/entity/Q72092894': '8',\n",
       " 'http://www.wikidata.org/entity/Q63126958': '14',\n",
       " 'http://www.wikidata.org/entity/Q1307810': '8',\n",
       " 'http://www.wikidata.org/entity/Q19946848': '9',\n",
       " 'http://www.wikidata.org/entity/Q16982841': '18',\n",
       " 'http://www.wikidata.org/entity/Q889448': '22',\n",
       " 'http://www.wikidata.org/entity/Q30446362': '54',\n",
       " 'http://www.wikidata.org/entity/Q2448223': '18',\n",
       " 'http://www.wikidata.org/entity/Q60620988': '5',\n",
       " 'http://www.wikidata.org/entity/Q19873716': '7',\n",
       " 'http://www.wikidata.org/entity/Q28086602': '27',\n",
       " 'http://www.wikidata.org/entity/Q47068458': '4',\n",
       " 'http://www.wikidata.org/entity/Q971363': '121',\n",
       " 'http://www.wikidata.org/entity/Q104767164': '9',\n",
       " 'http://www.wikidata.org/entity/Q19803114': '4',\n",
       " 'http://www.wikidata.org/entity/Q59411480': '12',\n",
       " 'http://www.wikidata.org/entity/Q11898499': '7',\n",
       " 'http://www.wikidata.org/entity/Q88179211': '8',\n",
       " 'http://www.wikidata.org/entity/Q63641962': '201',\n",
       " 'http://www.wikidata.org/entity/Q166177': '177',\n",
       " 'http://www.wikidata.org/entity/Q63072805': '5',\n",
       " 'http://www.wikidata.org/entity/Q64167531': '59',\n",
       " 'http://www.wikidata.org/entity/Q105436195': '35',\n",
       " 'http://www.wikidata.org/entity/Q4335955': '339',\n",
       " 'http://www.wikidata.org/entity/Q1225180': '7',\n",
       " 'http://www.wikidata.org/entity/Q23700921': '68',\n",
       " 'http://www.wikidata.org/entity/Q2155055': '32',\n",
       " 'http://www.wikidata.org/entity/Q80650331': '10',\n",
       " 'http://www.wikidata.org/entity/Q920638': '26',\n",
       " 'http://www.wikidata.org/entity/Q20075205': '8',\n",
       " 'http://www.wikidata.org/entity/Q1291058': '8',\n",
       " 'http://www.wikidata.org/entity/Q920783': '185',\n",
       " 'http://www.wikidata.org/entity/Q6978051': '7',\n",
       " 'http://www.wikidata.org/entity/Q57083219': '8',\n",
       " 'http://www.wikidata.org/entity/Q314329': '15',\n",
       " 'http://www.wikidata.org/entity/Q68023079': '26',\n",
       " 'http://www.wikidata.org/entity/Q105986282': '13',\n",
       " 'http://www.wikidata.org/entity/Q63442846': '7',\n",
       " 'http://www.wikidata.org/entity/Q1377872': '8',\n",
       " 'http://www.wikidata.org/entity/Q12299216': '25',\n",
       " 'http://www.wikidata.org/entity/Q4693346': '2',\n",
       " 'http://www.wikidata.org/entity/Q59940796': '5',\n",
       " 'http://www.wikidata.org/entity/Q20082097': '7',\n",
       " 'http://www.wikidata.org/entity/Q1912290': '41',\n",
       " 'http://www.wikidata.org/entity/Q51952447': '16',\n",
       " 'http://www.wikidata.org/entity/Q56439754': '4',\n",
       " 'http://www.wikidata.org/entity/Q73216561': '27',\n",
       " 'http://www.wikidata.org/entity/Q12720728': '15',\n",
       " 'http://www.wikidata.org/entity/Q5365969': '44',\n",
       " 'http://www.wikidata.org/entity/Q103982340': '16',\n",
       " 'http://www.wikidata.org/entity/Q1607954': '16',\n",
       " 'http://www.wikidata.org/entity/Q42417362': '49',\n",
       " 'http://www.wikidata.org/entity/Q481443': '18',\n",
       " 'http://www.wikidata.org/entity/Q365446': '45',\n",
       " 'http://www.wikidata.org/entity/Q99931905': '4',\n",
       " 'http://www.wikidata.org/entity/Q7072982': '170',\n",
       " 'http://www.wikidata.org/entity/Q63396684': '41',\n",
       " 'http://www.wikidata.org/entity/Q59555907': '5',\n",
       " 'http://www.wikidata.org/entity/Q17138073': '16',\n",
       " 'http://www.wikidata.org/entity/Q63091803': '25',\n",
       " 'http://www.wikidata.org/entity/Q25491353': '4',\n",
       " 'http://www.wikidata.org/entity/Q18663471': '61',\n",
       " 'http://www.wikidata.org/entity/Q3405462': '74',\n",
       " 'http://www.wikidata.org/entity/Q64859084': '6',\n",
       " 'http://www.wikidata.org/entity/Q1745238': '68',\n",
       " 'http://www.wikidata.org/entity/Q96203594': '5',\n",
       " 'http://www.wikidata.org/entity/Q17041536': '8',\n",
       " 'http://www.wikidata.org/entity/Q58485810': '30',\n",
       " 'http://www.wikidata.org/entity/Q1026396': '19',\n",
       " 'http://www.wikidata.org/entity/Q1883579': '25',\n",
       " 'http://www.wikidata.org/entity/Q58485103': '17',\n",
       " 'http://www.wikidata.org/entity/Q58486074': '11',\n",
       " 'http://www.wikidata.org/entity/Q1452721': '76',\n",
       " 'http://www.wikidata.org/entity/Q477964': '51',\n",
       " 'http://www.wikidata.org/entity/Q836850': '6',\n",
       " 'http://www.wikidata.org/entity/Q25110425': '6',\n",
       " 'http://www.wikidata.org/entity/Q821456': '217',\n",
       " 'http://www.wikidata.org/entity/Q29564013': '11',\n",
       " 'http://www.wikidata.org/entity/Q20203710': '8',\n",
       " 'http://www.wikidata.org/entity/Q7523080': '5',\n",
       " 'http://www.wikidata.org/entity/Q1528092': '19',\n",
       " 'http://www.wikidata.org/entity/Q112197': '1234',\n",
       " 'http://www.wikidata.org/entity/Q63408421': '7',\n",
       " 'http://www.wikidata.org/entity/Q55647923': '5',\n",
       " 'http://www.wikidata.org/entity/Q1064731': '47',\n",
       " 'http://www.wikidata.org/entity/Q15709269': '32',\n",
       " 'http://www.wikidata.org/entity/Q85422666': '27',\n",
       " 'http://www.wikidata.org/entity/Q7448920': '8',\n",
       " 'http://www.wikidata.org/entity/Q28910585': '10',\n",
       " 'http://www.wikidata.org/entity/Q67951120': '22',\n",
       " 'http://www.wikidata.org/entity/Q16209317': '16',\n",
       " 'http://www.wikidata.org/entity/Q43080239': '6',\n",
       " 'http://www.wikidata.org/entity/Q38810578': '58',\n",
       " 'http://www.wikidata.org/entity/Q458338': '242',\n",
       " 'http://www.wikidata.org/entity/Q57753167': '6',\n",
       " 'http://www.wikidata.org/entity/Q1061450': '58',\n",
       " 'http://www.wikidata.org/entity/Q18402723': '11',\n",
       " 'http://www.wikidata.org/entity/Q106626797': '9',\n",
       " 'http://www.wikidata.org/entity/Q28911895': '195',\n",
       " 'http://www.wikidata.org/entity/Q96781938': '14',\n",
       " 'http://www.wikidata.org/entity/Q102121453': '142',\n",
       " 'http://www.wikidata.org/entity/Q7100502': '54',\n",
       " 'http://www.wikidata.org/entity/Q58036889': '6',\n",
       " 'http://www.wikidata.org/entity/Q1381877': '18',\n",
       " 'http://www.wikidata.org/entity/Q47837974': '19',\n",
       " 'http://www.wikidata.org/entity/Q4861212': '4',\n",
       " 'http://www.wikidata.org/entity/Q56907723': '3',\n",
       " 'http://www.wikidata.org/entity/Q207599': '131',\n",
       " 'http://www.wikidata.org/entity/Q96203591': '5',\n",
       " 'http://www.wikidata.org/entity/Q64866077': '9',\n",
       " 'http://www.wikidata.org/entity/Q2932227': '23',\n",
       " 'http://www.wikidata.org/entity/Q5260544': '11',\n",
       " 'http://www.wikidata.org/entity/Q50319805': '4',\n",
       " 'http://www.wikidata.org/entity/Q96203554': '6',\n",
       " 'http://www.wikidata.org/entity/Q2000081': '10',\n",
       " 'http://www.wikidata.org/entity/Q2468095': '7',\n",
       " 'http://www.wikidata.org/entity/Q65952921': '4',\n",
       " 'http://www.wikidata.org/entity/Q15839803': '18',\n",
       " 'http://www.wikidata.org/entity/Q2256423': '12',\n",
       " 'http://www.wikidata.org/entity/Q104418204': '31',\n",
       " 'http://www.wikidata.org/entity/Q96982388': '19',\n",
       " 'http://www.wikidata.org/entity/Q2684629': '64',\n",
       " 'http://www.wikidata.org/entity/Q2983464': '72',\n",
       " 'http://www.wikidata.org/entity/Q59771451': '3',\n",
       " 'http://www.wikidata.org/entity/Q59767330': '63',\n",
       " 'http://www.wikidata.org/entity/Q50618211': '93',\n",
       " 'http://www.wikidata.org/entity/Q4286949': '12',\n",
       " 'http://www.wikidata.org/entity/Q4287015': '11',\n",
       " 'http://www.wikidata.org/entity/Q11958982': '29',\n",
       " 'http://www.wikidata.org/entity/Q360626': '60',\n",
       " 'http://www.wikidata.org/entity/Q569742': '21',\n",
       " 'http://www.wikidata.org/entity/Q488296': '13',\n",
       " 'http://www.wikidata.org/entity/Q22908893': '5',\n",
       " 'http://www.wikidata.org/entity/Q1789030': '331',\n",
       " 'http://www.wikidata.org/entity/Q2233010': '23',\n",
       " 'http://www.wikidata.org/entity/Q632482': '62',\n",
       " 'http://www.wikidata.org/entity/Q50808770': '4',\n",
       " 'http://www.wikidata.org/entity/Q27949892': '8',\n",
       " 'http://www.wikidata.org/entity/Q56612664': '15',\n",
       " 'http://www.wikidata.org/entity/Q31837087': '6',\n",
       " 'http://www.wikidata.org/entity/Q102120385': '5',\n",
       " 'http://www.wikidata.org/entity/Q100908250': '26',\n",
       " 'http://www.wikidata.org/entity/Q4286883': '12',\n",
       " 'http://www.wikidata.org/entity/Q83403038': '6',\n",
       " 'http://www.wikidata.org/entity/Q1139916': '9',\n",
       " 'http://www.wikidata.org/entity/Q78093744': '21',\n",
       " 'http://www.wikidata.org/entity/Q42303748': '13',\n",
       " 'http://www.wikidata.org/entity/Q4375454': '5',\n",
       " 'http://www.wikidata.org/entity/Q20859404': '19',\n",
       " 'http://www.wikidata.org/entity/Q2405995': '7',\n",
       " 'http://www.wikidata.org/entity/Q24008352': '22',\n",
       " 'http://www.wikidata.org/entity/Q17079132': '8',\n",
       " 'http://www.wikidata.org/entity/Q10656994': '17',\n",
       " 'http://www.wikidata.org/entity/Q453745': '142',\n",
       " 'http://www.wikidata.org/entity/Q4892456': '481',\n",
       " 'http://www.wikidata.org/entity/Q96026587': '4',\n",
       " 'http://www.wikidata.org/entity/Q1036432': '36',\n",
       " 'http://www.wikidata.org/entity/Q323396': '44',\n",
       " 'http://www.wikidata.org/entity/Q5480301': '55',\n",
       " 'http://www.wikidata.org/entity/Q6074664': '24',\n",
       " 'http://www.wikidata.org/entity/Q96619805': '5',\n",
       " 'http://www.wikidata.org/entity/Q1299495': '7',\n",
       " 'http://www.wikidata.org/entity/Q2108431': '42',\n",
       " 'http://www.wikidata.org/entity/Q7509288': '21',\n",
       " 'http://www.wikidata.org/entity/Q56637937': '29',\n",
       " 'http://www.wikidata.org/entity/Q19958744': '24',\n",
       " 'http://www.wikidata.org/entity/Q96619694': '18',\n",
       " 'http://www.wikidata.org/entity/Q63922505': '3',\n",
       " 'http://www.wikidata.org/entity/Q5305716': '57',\n",
       " 'http://www.wikidata.org/entity/Q18889267': '14',\n",
       " 'http://www.wikidata.org/entity/Q5188478': '10',\n",
       " 'http://www.wikidata.org/entity/Q15839675': '18',\n",
       " 'http://www.wikidata.org/entity/Q17575033': '24',\n",
       " 'http://www.wikidata.org/entity/Q1455666': '75',\n",
       " 'http://www.wikidata.org/entity/Q5305706': '8',\n",
       " 'http://www.wikidata.org/entity/Q21509433': '31',\n",
       " 'http://www.wikidata.org/entity/Q1300246': '32',\n",
       " 'http://www.wikidata.org/entity/Q567492': '75',\n",
       " 'http://www.wikidata.org/entity/Q3441463': '8',\n",
       " 'http://www.wikidata.org/entity/Q15116837': '24',\n",
       " 'http://www.wikidata.org/entity/Q56667085': '33',\n",
       " 'http://www.wikidata.org/entity/Q1774264': '22',\n",
       " 'http://www.wikidata.org/entity/Q4311793': '37',\n",
       " 'http://www.wikidata.org/entity/Q5305709': '12',\n",
       " 'http://www.wikidata.org/entity/Q5305712': '66',\n",
       " 'http://www.wikidata.org/entity/Q63091758': '22',\n",
       " 'http://www.wikidata.org/entity/Q12011590': '10',\n",
       " 'http://www.wikidata.org/entity/Q465150': '23',\n",
       " 'http://www.wikidata.org/entity/Q16842966': '9',\n",
       " 'http://www.wikidata.org/entity/Q65170684': '6',\n",
       " 'http://www.wikidata.org/entity/Q1412480': '22',\n",
       " 'http://www.wikidata.org/entity/Q19353807': '23',\n",
       " 'http://www.wikidata.org/entity/Q50610776': '37',\n",
       " 'http://www.wikidata.org/entity/Q45205689': '9',\n",
       " 'http://www.wikidata.org/entity/Q28798225': '13',\n",
       " 'http://www.wikidata.org/entity/Q64431597': '9',\n",
       " 'http://www.wikidata.org/entity/Q6052110': '11',\n",
       " 'http://www.wikidata.org/entity/Q68571615': '6',\n",
       " 'http://www.wikidata.org/entity/Q2572540': '91',\n",
       " 'http://www.wikidata.org/entity/Q35449777': '3',\n",
       " 'http://www.wikidata.org/entity/Q28711756': '4',\n",
       " 'http://www.wikidata.org/entity/Q3404624': '7',\n",
       " 'http://www.wikidata.org/entity/Q54371803': '8',\n",
       " 'http://www.wikidata.org/entity/Q16410957': '16',\n",
       " 'http://www.wikidata.org/entity/Q60026337': '5',\n",
       " 'http://www.wikidata.org/entity/Q20105116': '15',\n",
       " 'http://www.wikidata.org/entity/Q612041': '95',\n",
       " 'http://www.wikidata.org/entity/Q28711755': '3',\n",
       " 'http://www.wikidata.org/entity/Q10510496': '5',\n",
       " 'http://www.wikidata.org/entity/Q2580812': '33',\n",
       " 'http://www.wikidata.org/entity/Q18641676': '28',\n",
       " 'http://www.wikidata.org/entity/Q35451792': '5',\n",
       " 'http://www.wikidata.org/entity/Q28711752': '20',\n",
       " 'http://www.wikidata.org/entity/Q56509162': '33',\n",
       " 'http://www.wikidata.org/entity/Q24590727': '267',\n",
       " 'http://www.wikidata.org/entity/Q61971826': '9',\n",
       " 'http://www.wikidata.org/entity/Q105425400': '13',\n",
       " 'http://www.wikidata.org/entity/Q87420770': '5',\n",
       " 'http://www.wikidata.org/entity/Q11942643': '23',\n",
       " 'http://www.wikidata.org/entity/Q4287196': '24',\n",
       " 'http://www.wikidata.org/entity/Q29561306': '19',\n",
       " 'http://www.wikidata.org/entity/Q832424': '205',\n",
       " 'http://www.wikidata.org/entity/Q1574863': '140',\n",
       " 'http://www.wikidata.org/entity/Q7752662': '62',\n",
       " 'http://www.wikidata.org/entity/Q2887042': '18',\n",
       " 'http://www.wikidata.org/entity/Q96203547': '5',\n",
       " 'http://www.wikidata.org/entity/Q48804117': '4',\n",
       " 'http://www.wikidata.org/entity/Q1634098': '113',\n",
       " 'http://www.wikidata.org/entity/Q32788260': '6',\n",
       " 'http://www.wikidata.org/entity/Q50625921': '57',\n",
       " 'http://www.wikidata.org/entity/Q18339421': '5',\n",
       " 'http://www.wikidata.org/entity/Q97584235': '5',\n",
       " 'http://www.wikidata.org/entity/Q3332244': '17',\n",
       " 'http://www.wikidata.org/entity/Q2318822': '70',\n",
       " 'http://www.wikidata.org/entity/Q105425454': '11',\n",
       " 'http://www.wikidata.org/entity/Q66966120': '3',\n",
       " 'http://www.wikidata.org/entity/Q87420922': '7',\n",
       " 'http://www.wikidata.org/entity/Q86232349': '5',\n",
       " 'http://www.wikidata.org/entity/Q35836297': '4',\n",
       " 'http://www.wikidata.org/entity/Q9062347': '26',\n",
       " 'http://www.wikidata.org/entity/Q3404987': '46',\n",
       " 'http://www.wikidata.org/entity/Q98456152': '6',\n",
       " 'http://www.wikidata.org/entity/Q36650354': '4',\n",
       " ...}"
      ]
     },
     "execution_count": 161,
     "metadata": {},
     "output_type": "execute_result"
    }
   ],
   "source": [
    "ent_freq"
   ]
  }
 ],
 "metadata": {
  "kernelspec": {
   "display_name": "Python 3 (ipykernel)",
   "language": "python",
   "name": "python3"
  },
  "language_info": {
   "codemirror_mode": {
    "name": "ipython",
    "version": 3
   },
   "file_extension": ".py",
   "mimetype": "text/x-python",
   "name": "python",
   "nbconvert_exporter": "python",
   "pygments_lexer": "ipython3",
   "version": "3.10.12"
  }
 },
 "nbformat": 4,
 "nbformat_minor": 5
}
