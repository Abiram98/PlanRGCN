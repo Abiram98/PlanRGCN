{
 "cells": [
  {
   "cell_type": "markdown",
   "id": "313113c0",
   "metadata": {},
   "source": [
    "import"
   ]
  },
  {
   "cell_type": "code",
   "execution_count": 1,
   "id": "1e457128",
   "metadata": {},
   "outputs": [],
   "source": [
    "%load_ext autoreload\n",
    "%autoreload 2\n",
    "import json\n",
    "import dgl\n",
    "from sklearn.metrics import f1_score\n",
    "import torch as th\n",
    "import dgl.nn.pytorch as dglnn\n",
    "import torch.nn as nn\n",
    "from dgl.dataloading import GraphDataLoader\n",
    "import torch.nn.functional as F\n",
    "import networkx as nx\n",
    "import warnings\n",
    "from feature_extraction.base_featurizer import BaseFeaturizer\n",
    "import torch\n",
    "from graph_construction.tps_graph import create_dummy_dgl_graph, tps_graph\n",
    "import numpy as np\n",
    "\n",
    "from dgl_classifier.trainer import GraphDataset,snap_pred, tps_to_dgl, get_clasification_vec,\\\n",
    "tps_graph_const, extract_data, runner\n",
    "\n",
    "\n",
    "import warnings\n",
    "\n",
    "from preprocessing.utils import load_BGPS_from_json\n",
    "warnings.filterwarnings('ignore', category=UserWarning, message='TypedStorage is deprecated')"
   ]
  },
  {
   "cell_type": "code",
   "execution_count": 2,
   "id": "88ee7fe0",
   "metadata": {},
   "outputs": [],
   "source": [
    "#seed\n",
    "dgl.seed(1223)"
   ]
  },
  {
   "cell_type": "markdown",
   "id": "0439ecf4",
   "metadata": {},
   "source": [
    "Model"
   ]
  },
  {
   "cell_type": "code",
   "execution_count": 3,
   "id": "52f52381",
   "metadata": {},
   "outputs": [],
   "source": [
    "class Classifier(nn.Module):\n",
    "    def __init__(self, in_dim, hidden_dim, n_classes):\n",
    "        super(Classifier, self).__init__()\n",
    "        self.conv1 = dglnn.RelGraphConv(in_dim, hidden_dim, 8)\n",
    "        #self.conv1 = dglnn.GraphConv(in_dim, hidden_ˇdim)\n",
    "        self.conv2 = dglnn.RelGraphConv(hidden_dim, hidden_dim, 8)\n",
    "        #self.conv2 = dglnn.GraphConv(hidden_dim, hidden_dim)\n",
    "        self.classify = nn.Linear(hidden_dim, n_classes)\n",
    "\n",
    "    def forward(self, g, h, rel_types):\n",
    "        # Apply graph convolution and activation.\n",
    "        h = F.relu(self.conv1(g, h, rel_types))\n",
    "        h = F.relu(self.conv2(g, h, rel_types))\n",
    "        with g.local_scope():\n",
    "            g.ndata['node_features'] = h\n",
    "            # Calculate graph representation by average readout.\n",
    "            hg = dgl.mean_nodes(g, 'node_features')\n",
    "            return F.softmax( self.classify(hg), dim=1)\n",
    "model = Classifier(113, 20, 2)"
   ]
  },
  {
   "cell_type": "markdown",
   "id": "c10098d4",
   "metadata": {},
   "source": [
    "hyperparameters"
   ]
  },
  {
   "cell_type": "code",
   "execution_count": 4,
   "id": "e5812089",
   "metadata": {},
   "outputs": [],
   "source": [
    "early_stop =10\n",
    "model = Classifier(113, 20, 2)\n",
    "lr = 0.01\n",
    "wd = 5e-4\n",
    "epochs = 100"
   ]
  },
  {
   "cell_type": "markdown",
   "id": "59221c9a",
   "metadata": {},
   "source": [
    "file paths"
   ]
  },
  {
   "cell_type": "code",
   "execution_count": 5,
   "id": "90076eec",
   "metadata": {},
   "outputs": [],
   "source": [
    "train_file = '/work/data/splits/splits_median/train.json'\n",
    "val_file = '/work/data/splits/splits_median/val.json'\n",
    "test_file = '/work/data/splits/splits_median/test.json'\n",
    "path_to_save = '/work/data/models'\n",
    "path_to_res = '/work/data/results/26_5_2023_tp_graph_median.txt'"
   ]
  },
  {
   "cell_type": "code",
   "execution_count": 6,
   "id": "f9ae22ea",
   "metadata": {},
   "outputs": [
    {
     "name": "stderr",
     "output_type": "stream",
     "text": [
      "/usr/local/lib/python3.10/dist-packages/dgl/backend/pytorch/tensor.py:52: UserWarning: Creating a tensor from a list of numpy.ndarrays is extremely slow. Please consider converting the list to a single numpy.ndarray with numpy.array() before converting to a tensor. (Triggered internally at ../torch/csrc/utils/tensor_new.cpp:245.)\n",
      "  return th.as_tensor(data, dtype=dtype)\n"
     ]
    },
    {
     "name": "stdout",
     "output_type": "stream",
     "text": [
      "# of Removed: 84\n",
      "# of Removed: 31\n",
      "# of Removed: 27\n",
      "# of predicate feats not in validation 197\n",
      "# of predicate feats not in test 41\n",
      "Training dataset size 1100\n",
      "Validation dataset size 363\n",
      "Test dataset size 367\n"
     ]
    }
   ],
   "source": [
    "train_dataloader, val_dataloader, test_dataloader = extract_data(train_file, val_file, test_file, community_no=30, batch_size = 50, verbose=True)"
   ]
  },
  {
   "cell_type": "code",
   "execution_count": 7,
   "id": "1d542c94",
   "metadata": {},
   "outputs": [],
   "source": [
    "runner(train_dataloader,val_dataloader,test_dataloader,model, early_stop, lr, wd, epochs, path_to_res)"
   ]
  },
  {
   "cell_type": "code",
   "execution_count": 8,
   "id": "71514a10",
   "metadata": {},
   "outputs": [],
   "source": [
    "import json"
   ]
  },
  {
   "cell_type": "code",
   "execution_count": 9,
   "id": "d2b7c830",
   "metadata": {},
   "outputs": [],
   "source": [
    "results = json.load(open(path_to_res))"
   ]
  },
  {
   "cell_type": "code",
   "execution_count": 10,
   "id": "ee8f5fae-abe8-4b99-aab9-ecdd5dd77590",
   "metadata": {},
   "outputs": [
    {
     "name": "stdout",
     "output_type": "stream",
     "text": [
      "best f1 0.7980801187751988 0\n",
      "best f1 val 0.7980801187751988\n",
      "corr f1 train 0.6434533754091392\n",
      "corr f1 test 0.6979420196777933\n",
      "best f1 train 0.7674196068943443 7\n"
     ]
    }
   ],
   "source": [
    "print('best f1', np.max(results['val_f1']), np.argmax(results['val_f1']))\n",
    "print('best f1 val', results['val_f1'][np.argmax(results['val_f1'])])\n",
    "print('corr f1 train', results['train_f1'][np.argmax(results['val_f1'])])\n",
    "print('corr f1 test', results['test_f1'][np.argmax(results['val_f1'])])\n",
    "print('best f1 train', np.max(results['train_f1']), np.argmax(results['train_f1']))"
   ]
  },
  {
   "cell_type": "code",
   "execution_count": 11,
   "id": "565aec1a-5e67-4fc2-8174-5571dc48a949",
   "metadata": {},
   "outputs": [],
   "source": [
    "import matplotlib.pyplot as plt"
   ]
  },
  {
   "cell_type": "code",
   "execution_count": 12,
   "id": "97406397-6835-4eef-b780-3c2d7ed522c1",
   "metadata": {},
   "outputs": [
    {
     "data": {
      "text/plain": [
       "(0.0, 1.0)"
      ]
     },
     "execution_count": 12,
     "metadata": {},
     "output_type": "execute_result"
    },
    {
     "data": {
      "image/png": "[encoded data removed]",
      "text/plain": [
       "<Figure size 640x480 with 1 Axes>"
      ]
     },
     "metadata": {},
     "output_type": "display_data"
    }
   ],
   "source": [
    "plt.title('F1 score plot (Median Threshold)')\n",
    "plt.ylabel('F1')\n",
    "plt.xlabel('Epochs')\n",
    "plt.plot(results['train_f1'],'-g', label='Train F1')\n",
    "plt.plot(results['val_f1'],'-b', label='Val F1')\n",
    "plt.legend(loc='upper left')\n",
    "plt.ylim([0.0,1.0])"
   ]
  },
  {
   "cell_type": "code",
   "execution_count": null,
   "id": "fd752c7e-4851-409c-a60d-a43b639c3884",
   "metadata": {},
   "outputs": [],
   "source": []
  }
 ],
 "metadata": {
  "kernelspec": {
   "display_name": "Python 3 (ipykernel)",
   "language": "python",
   "name": "python3"
  },
  "language_info": {
   "codemirror_mode": {
    "name": "ipython",
    "version": 3
   },
   "file_extension": ".py",
   "mimetype": "text/x-python",
   "name": "python",
   "nbconvert_exporter": "python",
   "pygments_lexer": "ipython3",
   "version": "3.10.7"
  }
 },
 "nbformat": 4,
 "nbformat_minor": 5
}
