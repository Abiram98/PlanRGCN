{
 "cells": [
  {
   "cell_type": "markdown",
   "id": "313113c0",
   "metadata": {},
   "source": [
    "# Training of TP Graph"
   ]
  },
  {
   "cell_type": "markdown",
   "id": "31d1e909-e8b7-41fe-a34e-e2b8150fde68",
   "metadata": {},
   "source": [
    "File paths"
   ]
  },
  {
   "cell_type": "code",
   "execution_count": null,
   "id": "2595d496-595f-4614-bd6e-48ae068d7b9d",
   "metadata": {},
   "outputs": [],
   "source": [
    "train_file = '/work/data/splits/train.json'\n",
    "val_file = '/work/data/splits/val.json'\n",
    "test_file = '/work/data/splits/test.json'\n",
    "path_to_save = '/work/data/models/model.pth'\n",
    "path_to_res = '/work/data/results/25_5_2023_tp_graph_5re.txt'"
   ]
  },
  {
   "cell_type": "code",
   "execution_count": null,
   "id": "4e1218d0-5e66-4004-9432-63109f3a5c77",
   "metadata": {},
   "outputs": [],
   "source": [
    "f1_score_plt_title='F1 score plot 5% RE threshold'"
   ]
  },
  {
   "cell_type": "markdown",
   "id": "c10098d4",
   "metadata": {},
   "source": [
    "hyperparameters"
   ]
  },
  {
   "cell_type": "code",
   "execution_count": null,
   "id": "e5812089",
   "metadata": {},
   "outputs": [],
   "source": [
    "early_stop =10\n",
    "model = Classifier(113, 20, 2)\n",
    "lr = 0.01\n",
    "wd = 5e-4\n",
    "epochs = 100"
   ]
  },
  {
   "cell_type": "code",
   "execution_count": null,
   "id": "1e457128",
   "metadata": {},
   "outputs": [],
   "source": [
    "%load_ext autoreload\n",
    "%autoreload 2\n",
    "import json\n",
    "import dgl\n",
    "from sklearn.metrics import f1_score\n",
    "import torch as th\n",
    "import dgl.nn.pytorch as dglnn\n",
    "import torch.nn as nn\n",
    "from dgl.dataloading import GraphDataLoader\n",
    "import torch.nn.functional as F\n",
    "import networkx as nx\n",
    "import warnings\n",
    "from feature_extraction.base_featurizer import BaseFeaturizer\n",
    "import torch\n",
    "from graph_construction.tps_graph import create_dummy_dgl_graph, tps_graph\n",
    "import numpy as np\n",
    "\n",
    "from dgl_classifier.trainer import GraphDataset,snap_pred, tps_to_dgl, get_clasification_vec,\\\n",
    "tps_graph_const, extract_data, runner\n",
    "\n",
    "\n",
    "import warnings\n",
    "\n",
    "from preprocessing.utils import load_BGPS_from_json\n",
    "warnings.filterwarnings('ignore', category=UserWarning, message='TypedStorage is deprecated')"
   ]
  },
  {
   "cell_type": "code",
   "execution_count": null,
   "id": "88ee7fe0",
   "metadata": {},
   "outputs": [],
   "source": [
    "#seed\n",
    "dgl.seed(1223)"
   ]
  },
  {
   "cell_type": "markdown",
   "id": "0439ecf4",
   "metadata": {},
   "source": [
    "## Model Definition"
   ]
  },
  {
   "cell_type": "code",
   "execution_count": null,
   "id": "52f52381",
   "metadata": {},
   "outputs": [],
   "source": [
    "class Classifier(nn.Module):\n",
    "    def __init__(self, in_dim, hidden_dim, n_classes):\n",
    "        super(Classifier, self).__init__()\n",
    "        self.conv1 = dglnn.RelGraphConv(in_dim, hidden_dim, 8)\n",
    "        #self.conv1 = dglnn.GraphConv(in_dim, hidden_ˇdim)\n",
    "        self.conv2 = dglnn.RelGraphConv(hidden_dim, hidden_dim, 8)\n",
    "        #self.conv2 = dglnn.GraphConv(hidden_dim, hidden_dim)\n",
    "        self.classify = nn.Linear(hidden_dim, n_classes)\n",
    "\n",
    "    def forward(self, g, h, rel_types):\n",
    "        # Apply graph convolution and activation.\n",
    "        h = F.relu(self.conv1(g, h, rel_types))\n",
    "        h = F.relu(self.conv2(g, h, rel_types))\n",
    "        with g.local_scope():\n",
    "            g.ndata['node_features'] = h\n",
    "            # Calculate graph representation by average readout.\n",
    "            hg = dgl.mean_nodes(g, 'node_features')\n",
    "            return F.softmax( self.classify(hg), dim=1)\n",
    "model = Classifier(113, 20, 2)"
   ]
  },
  {
   "cell_type": "markdown",
   "id": "afd38920-6a70-4254-adf3-89385e8e8ce8",
   "metadata": {},
   "source": [
    "If the communtity numbers are changed ensure that the implementation also has changes this appropriately"
   ]
  },
  {
   "cell_type": "code",
   "execution_count": null,
   "id": "f9ae22ea",
   "metadata": {},
   "outputs": [],
   "source": [
    "train_dataloader, val_dataloader, test_dataloader = extract_data(train_file, val_file, test_file, community_no=30, batch_size = 50, verbose=True)"
   ]
  },
  {
   "cell_type": "code",
   "execution_count": null,
   "id": "1d542c94",
   "metadata": {},
   "outputs": [],
   "source": [
    "runner(train_dataloader,val_dataloader,test_dataloader,model, early_stop, lr, wd, epochs, path_to_res)"
   ]
  },
  {
   "cell_type": "code",
   "execution_count": null,
   "id": "71514a10",
   "metadata": {},
   "outputs": [],
   "source": [
    "import json"
   ]
  },
  {
   "cell_type": "code",
   "execution_count": null,
   "id": "d2b7c830",
   "metadata": {},
   "outputs": [],
   "source": [
    "plt.title(f1_score_plt_title)\n",
    "plt.ylabel('F1')\n",
    "plt.xlabel('Epochs')\n",
    "plt.plot(results['train_f1'],'-g', label='Train F1')\n",
    "plt.plot(results['val_f1'],'-b', label='Val F1')\n",
    "plt.legend(loc='upper left')\n",
    "plt.ylim([0.0,1.0])"
   ]
  }
 ],
 "metadata": {
  "kernelspec": {
   "display_name": "Python 3 (ipykernel)",
   "language": "python",
   "name": "python3"
  },
  "language_info": {
   "codemirror_mode": {
    "name": "ipython",
    "version": 3
   },
   "file_extension": ".py",
   "mimetype": "text/x-python",
   "name": "python",
   "nbconvert_exporter": "python",
   "pygments_lexer": "ipython3",
   "version": "3.10.7"
  }
 },
 "nbformat": 4,
 "nbformat_minor": 5
}
