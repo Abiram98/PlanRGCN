{
 "cells": [
  {
   "cell_type": "markdown",
   "id": "59221c9a",
   "metadata": {},
   "source": [
    "file paths"
   ]
  },
  {
   "cell_type": "code",
   "execution_count": 8,
   "id": "90076eec",
   "metadata": {
    "editable": true,
    "slideshow": {
     "slide_type": ""
    },
    "tags": []
   },
   "outputs": [],
   "source": [
    "train_file = '/work/data/splits/splits_0.05/train.json'\n",
    "val_file = '/work/data/splits/splits_0.05/val.json'\n",
    "test_file = '/work/data/splits/splits_0.05/test.json'\n",
    "import os\n",
    "\n",
    "path_to_save = '/work/data/models2_6'\n",
    "os.system(f'mkdir -p {path_to_save}')\n",
    "path_to_res = '/work/data/results/2_6_2023_tp_graph_5re.txt'\n",
    "neurons = 64"
   ]
  },
  {
   "cell_type": "markdown",
   "id": "313113c0",
   "metadata": {},
   "source": [
    "import"
   ]
  },
  {
   "cell_type": "code",
   "execution_count": 9,
   "id": "1e457128",
   "metadata": {},
   "outputs": [
    {
     "name": "stdout",
     "output_type": "stream",
     "text": [
      "The autoreload extension is already loaded. To reload it, use:\n",
      "  %reload_ext autoreload\n"
     ]
    }
   ],
   "source": [
    "%load_ext autoreload\n",
    "%autoreload 2\n",
    "import json\n",
    "import dgl\n",
    "from sklearn.metrics import f1_score\n",
    "import torch as th\n",
    "import dgl.nn.pytorch as dglnn\n",
    "import torch.nn as nn\n",
    "from dgl.dataloading import GraphDataLoader\n",
    "import torch.nn.functional as F\n",
    "import networkx as nx\n",
    "import warnings\n",
    "from feature_extraction.base_featurizer import BaseFeaturizer\n",
    "import torch\n",
    "from graph_construction.tps_graph import create_dummy_dgl_graph, tps_graph\n",
    "import numpy as np\n",
    "\n",
    "from dgl_classifier.trainer import GraphDataset,snap_pred, tps_to_dgl, get_clasification_vec,\\\n",
    "tps_graph_const, extract_data, runner\n",
    "\n",
    "\n",
    "import warnings\n",
    "\n",
    "from preprocessing.utils import load_BGPS_from_json\n",
    "warnings.filterwarnings('ignore', category=UserWarning, message='TypedStorage is deprecated')"
   ]
  },
  {
   "cell_type": "code",
   "execution_count": 10,
   "id": "88ee7fe0",
   "metadata": {},
   "outputs": [],
   "source": [
    "#seed\n",
    "dgl.seed(1223)"
   ]
  },
  {
   "cell_type": "markdown",
   "id": "0439ecf4",
   "metadata": {},
   "source": [
    "Model"
   ]
  },
  {
   "cell_type": "code",
   "execution_count": 11,
   "id": "52f52381",
   "metadata": {},
   "outputs": [],
   "source": [
    "class Classifier(nn.Module):\n",
    "    def __init__(self, in_dim, hidden_dim, n_classes):\n",
    "        super(Classifier, self).__init__()\n",
    "        self.conv1 = dglnn.RelGraphConv(in_dim, hidden_dim, 8)\n",
    "        #self.conv1 = dglnn.GraphConv(in_dim, hidden_ˇdim)\n",
    "        self.conv2 = dglnn.RelGraphConv(hidden_dim, hidden_dim, 8)\n",
    "        #self.conv2 = dglnn.GraphConv(hidden_dim, hidden_dim)\n",
    "        self.classify = nn.Linear(hidden_dim, n_classes)\n",
    "\n",
    "    def forward(self, g, h, rel_types):\n",
    "        # Apply graph convolution and activation.\n",
    "        h = F.relu(self.conv1(g, h, rel_types))\n",
    "        h = F.relu(self.conv2(g, h, rel_types))\n",
    "        with g.local_scope():\n",
    "            g.ndata['node_features'] = h\n",
    "            # Calculate graph representation by average readout.\n",
    "            hg = dgl.mean_nodes(g, 'node_features')\n",
    "            return F.softmax( self.classify(hg), dim=1)\n",
    "model = Classifier(113, 20, 2)"
   ]
  },
  {
   "cell_type": "markdown",
   "id": "c10098d4",
   "metadata": {},
   "source": [
    "hyperparameters"
   ]
  },
  {
   "cell_type": "code",
   "execution_count": 12,
   "id": "e5812089",
   "metadata": {
    "editable": true,
    "slideshow": {
     "slide_type": ""
    },
    "tags": []
   },
   "outputs": [],
   "source": [
    "early_stop =100\n",
    "model = Classifier(113, neurons, 2)\n",
    "lr = 0.01\n",
    "wd = 5e-4\n",
    "epochs = 100"
   ]
  },
  {
   "cell_type": "code",
   "execution_count": 13,
   "id": "f9ae22ea",
   "metadata": {
    "scrolled": true
   },
   "outputs": [
    {
     "name": "stdout",
     "output_type": "stream",
     "text": [
      "# of catesian products: 0\n",
      "# of catesian products: 0\n",
      "# of catesian products: 0\n",
      "# of predicate feats not in validation 113\n",
      "# of predicate feats not in test 7\n",
      "Training dataset size 286\n",
      "Validation dataset size 96\n",
      "Test dataset size 96\n"
     ]
    }
   ],
   "source": [
    "train_dataloader, val_dataloader, test_dataloader = extract_data(train_file, val_file, test_file, community_no=30, batch_size = 50, verbose=True)"
   ]
  },
  {
   "cell_type": "code",
   "execution_count": 14,
   "id": "1d542c94",
   "metadata": {
    "editable": true,
    "slideshow": {
     "slide_type": ""
    },
    "tags": []
   },
   "outputs": [
    {
     "name": "stdout",
     "output_type": "stream",
     "text": [
      "Epoch 1\n",
      "--------------------------------------------------------------\n"
     ]
    },
    {
     "ename": "RuntimeError",
     "evalue": "mat1 and mat2 shapes cannot be multiplied (50x113 and 64x2)",
     "output_type": "error",
     "traceback": [
      "\u001b[0;31m---------------------------------------------------------------------------\u001b[0m",
      "\u001b[0;31mRuntimeError\u001b[0m                              Traceback (most recent call last)",
      "Cell \u001b[0;32mIn[14], line 1\u001b[0m\n\u001b[0;32m----> 1\u001b[0m best_model_path \u001b[38;5;241m=\u001b[39m \u001b[43mrunner\u001b[49m\u001b[43m(\u001b[49m\u001b[43mtrain_dataloader\u001b[49m\u001b[43m,\u001b[49m\u001b[43mval_dataloader\u001b[49m\u001b[43m,\u001b[49m\u001b[43mtest_dataloader\u001b[49m\u001b[43m,\u001b[49m\u001b[43mmodel\u001b[49m\u001b[43m,\u001b[49m\u001b[43m \u001b[49m\u001b[43mearly_stop\u001b[49m\u001b[43m,\u001b[49m\u001b[43m \u001b[49m\u001b[43mlr\u001b[49m\u001b[43m,\u001b[49m\u001b[43m \u001b[49m\u001b[43mwd\u001b[49m\u001b[43m,\u001b[49m\u001b[43m \u001b[49m\u001b[43mepochs\u001b[49m\u001b[43m,\u001b[49m\u001b[43m \u001b[49m\u001b[43mpath_to_res\u001b[49m\u001b[43m,\u001b[49m\u001b[43m \u001b[49m\u001b[43mpath_to_save\u001b[49m\u001b[38;5;241;43m=\u001b[39;49m\u001b[43mpath_to_save\u001b[49m\u001b[43m)\u001b[49m\n\u001b[1;32m      2\u001b[0m (\u001b[38;5;124m\"\u001b[39m\u001b[38;5;124m\"\u001b[39m)\n",
      "File \u001b[0;32m/work/dgl_classifier/trainer.py:224\u001b[0m, in \u001b[0;36mrunner\u001b[0;34m(train_dataloader, val_dataloader, test_dataloader, model, early_stop, lr, wd, epochs, result_path, path_to_save)\u001b[0m\n\u001b[1;32m    222\u001b[0m feats \u001b[38;5;241m=\u001b[39m batched_graph\u001b[38;5;241m.\u001b[39mndata[\u001b[38;5;124m'\u001b[39m\u001b[38;5;124mnode_features\u001b[39m\u001b[38;5;124m'\u001b[39m]\n\u001b[1;32m    223\u001b[0m edge_types \u001b[38;5;241m=\u001b[39m batched_graph\u001b[38;5;241m.\u001b[39medata[\u001b[38;5;124m'\u001b[39m\u001b[38;5;124mrel_type\u001b[39m\u001b[38;5;124m'\u001b[39m]\n\u001b[0;32m--> 224\u001b[0m logits \u001b[38;5;241m=\u001b[39m \u001b[43mmodel\u001b[49m\u001b[43m(\u001b[49m\u001b[43mbatched_graph\u001b[49m\u001b[43m,\u001b[49m\u001b[43m \u001b[49m\u001b[43mfeats\u001b[49m\u001b[43m,\u001b[49m\u001b[43m \u001b[49m\u001b[43medge_types\u001b[49m\u001b[43m)\u001b[49m\n\u001b[1;32m    225\u001b[0m loss \u001b[38;5;241m=\u001b[39m F\u001b[38;5;241m.\u001b[39mcross_entropy(logits, labels)\n\u001b[1;32m    226\u001b[0m \u001b[38;5;66;03m#loss = F.mse_loss(logits,labels)\u001b[39;00m\n\u001b[1;32m    227\u001b[0m \u001b[38;5;66;03m#cross_entropy(logits, labels)\u001b[39;00m\n",
      "File \u001b[0;32m/usr/local/lib/python3.10/dist-packages/torch/nn/modules/module.py:1501\u001b[0m, in \u001b[0;36mModule._call_impl\u001b[0;34m(self, *args, **kwargs)\u001b[0m\n\u001b[1;32m   1496\u001b[0m \u001b[38;5;66;03m# If we don't have any hooks, we want to skip the rest of the logic in\u001b[39;00m\n\u001b[1;32m   1497\u001b[0m \u001b[38;5;66;03m# this function, and just call forward.\u001b[39;00m\n\u001b[1;32m   1498\u001b[0m \u001b[38;5;28;01mif\u001b[39;00m \u001b[38;5;129;01mnot\u001b[39;00m (\u001b[38;5;28mself\u001b[39m\u001b[38;5;241m.\u001b[39m_backward_hooks \u001b[38;5;129;01mor\u001b[39;00m \u001b[38;5;28mself\u001b[39m\u001b[38;5;241m.\u001b[39m_backward_pre_hooks \u001b[38;5;129;01mor\u001b[39;00m \u001b[38;5;28mself\u001b[39m\u001b[38;5;241m.\u001b[39m_forward_hooks \u001b[38;5;129;01mor\u001b[39;00m \u001b[38;5;28mself\u001b[39m\u001b[38;5;241m.\u001b[39m_forward_pre_hooks\n\u001b[1;32m   1499\u001b[0m         \u001b[38;5;129;01mor\u001b[39;00m _global_backward_pre_hooks \u001b[38;5;129;01mor\u001b[39;00m _global_backward_hooks\n\u001b[1;32m   1500\u001b[0m         \u001b[38;5;129;01mor\u001b[39;00m _global_forward_hooks \u001b[38;5;129;01mor\u001b[39;00m _global_forward_pre_hooks):\n\u001b[0;32m-> 1501\u001b[0m     \u001b[38;5;28;01mreturn\u001b[39;00m \u001b[43mforward_call\u001b[49m\u001b[43m(\u001b[49m\u001b[38;5;241;43m*\u001b[39;49m\u001b[43margs\u001b[49m\u001b[43m,\u001b[49m\u001b[43m \u001b[49m\u001b[38;5;241;43m*\u001b[39;49m\u001b[38;5;241;43m*\u001b[39;49m\u001b[43mkwargs\u001b[49m\u001b[43m)\u001b[49m\n\u001b[1;32m   1502\u001b[0m \u001b[38;5;66;03m# Do not call functions when jit is used\u001b[39;00m\n\u001b[1;32m   1503\u001b[0m full_backward_hooks, non_full_backward_hooks \u001b[38;5;241m=\u001b[39m [], []\n",
      "Cell \u001b[0;32mIn[11], line 18\u001b[0m, in \u001b[0;36mClassifier.forward\u001b[0;34m(self, g, h, rel_types)\u001b[0m\n\u001b[1;32m     16\u001b[0m \u001b[38;5;66;03m# Calculate graph representation by average readout.\u001b[39;00m\n\u001b[1;32m     17\u001b[0m hg \u001b[38;5;241m=\u001b[39m dgl\u001b[38;5;241m.\u001b[39mmean_nodes(g, \u001b[38;5;124m'\u001b[39m\u001b[38;5;124mnode_features\u001b[39m\u001b[38;5;124m'\u001b[39m)\n\u001b[0;32m---> 18\u001b[0m \u001b[38;5;28;01mreturn\u001b[39;00m F\u001b[38;5;241m.\u001b[39msoftmax( \u001b[38;5;28;43mself\u001b[39;49m\u001b[38;5;241;43m.\u001b[39;49m\u001b[43mclassify\u001b[49m\u001b[43m(\u001b[49m\u001b[43mhg\u001b[49m\u001b[43m)\u001b[49m, dim\u001b[38;5;241m=\u001b[39m\u001b[38;5;241m1\u001b[39m)\n",
      "File \u001b[0;32m/usr/local/lib/python3.10/dist-packages/torch/nn/modules/module.py:1501\u001b[0m, in \u001b[0;36mModule._call_impl\u001b[0;34m(self, *args, **kwargs)\u001b[0m\n\u001b[1;32m   1496\u001b[0m \u001b[38;5;66;03m# If we don't have any hooks, we want to skip the rest of the logic in\u001b[39;00m\n\u001b[1;32m   1497\u001b[0m \u001b[38;5;66;03m# this function, and just call forward.\u001b[39;00m\n\u001b[1;32m   1498\u001b[0m \u001b[38;5;28;01mif\u001b[39;00m \u001b[38;5;129;01mnot\u001b[39;00m (\u001b[38;5;28mself\u001b[39m\u001b[38;5;241m.\u001b[39m_backward_hooks \u001b[38;5;129;01mor\u001b[39;00m \u001b[38;5;28mself\u001b[39m\u001b[38;5;241m.\u001b[39m_backward_pre_hooks \u001b[38;5;129;01mor\u001b[39;00m \u001b[38;5;28mself\u001b[39m\u001b[38;5;241m.\u001b[39m_forward_hooks \u001b[38;5;129;01mor\u001b[39;00m \u001b[38;5;28mself\u001b[39m\u001b[38;5;241m.\u001b[39m_forward_pre_hooks\n\u001b[1;32m   1499\u001b[0m         \u001b[38;5;129;01mor\u001b[39;00m _global_backward_pre_hooks \u001b[38;5;129;01mor\u001b[39;00m _global_backward_hooks\n\u001b[1;32m   1500\u001b[0m         \u001b[38;5;129;01mor\u001b[39;00m _global_forward_hooks \u001b[38;5;129;01mor\u001b[39;00m _global_forward_pre_hooks):\n\u001b[0;32m-> 1501\u001b[0m     \u001b[38;5;28;01mreturn\u001b[39;00m \u001b[43mforward_call\u001b[49m\u001b[43m(\u001b[49m\u001b[38;5;241;43m*\u001b[39;49m\u001b[43margs\u001b[49m\u001b[43m,\u001b[49m\u001b[43m \u001b[49m\u001b[38;5;241;43m*\u001b[39;49m\u001b[38;5;241;43m*\u001b[39;49m\u001b[43mkwargs\u001b[49m\u001b[43m)\u001b[49m\n\u001b[1;32m   1502\u001b[0m \u001b[38;5;66;03m# Do not call functions when jit is used\u001b[39;00m\n\u001b[1;32m   1503\u001b[0m full_backward_hooks, non_full_backward_hooks \u001b[38;5;241m=\u001b[39m [], []\n",
      "File \u001b[0;32m/usr/local/lib/python3.10/dist-packages/torch/nn/modules/linear.py:114\u001b[0m, in \u001b[0;36mLinear.forward\u001b[0;34m(self, input)\u001b[0m\n\u001b[1;32m    113\u001b[0m \u001b[38;5;28;01mdef\u001b[39;00m \u001b[38;5;21mforward\u001b[39m(\u001b[38;5;28mself\u001b[39m, \u001b[38;5;28minput\u001b[39m: Tensor) \u001b[38;5;241m-\u001b[39m\u001b[38;5;241m>\u001b[39m Tensor:\n\u001b[0;32m--> 114\u001b[0m     \u001b[38;5;28;01mreturn\u001b[39;00m \u001b[43mF\u001b[49m\u001b[38;5;241;43m.\u001b[39;49m\u001b[43mlinear\u001b[49m\u001b[43m(\u001b[49m\u001b[38;5;28;43minput\u001b[39;49m\u001b[43m,\u001b[49m\u001b[43m \u001b[49m\u001b[38;5;28;43mself\u001b[39;49m\u001b[38;5;241;43m.\u001b[39;49m\u001b[43mweight\u001b[49m\u001b[43m,\u001b[49m\u001b[43m \u001b[49m\u001b[38;5;28;43mself\u001b[39;49m\u001b[38;5;241;43m.\u001b[39;49m\u001b[43mbias\u001b[49m\u001b[43m)\u001b[49m\n",
      "\u001b[0;31mRuntimeError\u001b[0m: mat1 and mat2 shapes cannot be multiplied (50x113 and 64x2)"
     ]
    }
   ],
   "source": [
    "best_model_path = runner(train_dataloader,val_dataloader,test_dataloader,model, early_stop, lr, wd, epochs, path_to_res, path_to_save=path_to_save)\n",
    ";"
   ]
  },
  {
   "cell_type": "code",
   "execution_count": null,
   "id": "71514a10",
   "metadata": {},
   "outputs": [],
   "source": [
    "import json"
   ]
  },
  {
   "cell_type": "code",
   "execution_count": null,
   "id": "d2b7c830",
   "metadata": {},
   "outputs": [],
   "source": [
    "results = json.load(open(path_to_res))"
   ]
  },
  {
   "cell_type": "code",
   "execution_count": null,
   "id": "ee8f5fae-abe8-4b99-aab9-ecdd5dd77590",
   "metadata": {},
   "outputs": [],
   "source": [
    "#print('best f1', np.max(results['val_f1']), np.argmax(results['val_f1']))\n",
    "print('best f1 val', results['val_f1'][np.argmax(results['val_f1'])])\n",
    "print('corr f1 train', results['train_f1'][np.argmax(results['val_f1'])])\n",
    "print('corr f1 test', results['test_f1'][np.argmax(results['val_f1'])])\n",
    "#print('best f1 train', np.max(results['train_f1']), np.argmax(results['train_f1']))"
   ]
  },
  {
   "cell_type": "code",
   "execution_count": null,
   "id": "565aec1a-5e67-4fc2-8174-5571dc48a949",
   "metadata": {},
   "outputs": [],
   "source": [
    "import matplotlib.pyplot as plt"
   ]
  },
  {
   "cell_type": "code",
   "execution_count": null,
   "id": "97406397-6835-4eef-b780-3c2d7ed522c1",
   "metadata": {},
   "outputs": [],
   "source": [
    "plt.title('F1 score plot 5% RE threshold')\n",
    "plt.ylabel('F1')\n",
    "plt.xlabel('Epochs')\n",
    "plt.plot(results['train_f1'],'-g', label='Train F1')\n",
    "plt.plot(results['val_f1'],'-b', label='Val F1')\n",
    "plt.legend(loc='upper left')\n",
    "plt.ylim([0.0,1.0])"
   ]
  },
  {
   "cell_type": "code",
   "execution_count": null,
   "id": "fd752c7e-4851-409c-a60d-a43b639c3884",
   "metadata": {},
   "outputs": [],
   "source": [
    "list(results.keys())"
   ]
  },
  {
   "cell_type": "code",
   "execution_count": null,
   "id": "a2733a0f-a8cd-404e-90f1-f595d75820d3",
   "metadata": {},
   "outputs": [],
   "source": [
    "plt.title('Precision score plot 5% RE threshold')\n",
    "plt.ylabel('Precision')\n",
    "plt.xlabel('Epochs')\n",
    "plt.plot(results['train_prec'],'-g', label='Train Precision')\n",
    "plt.plot(results['val_prec'],'-b', label='Val Precision')\n",
    "plt.legend(loc='upper left')\n",
    "plt.ylim([0.0,1.0])"
   ]
  },
  {
   "cell_type": "code",
   "execution_count": null,
   "id": "baa85d11-5851-4aea-9874-4210e806ed19",
   "metadata": {},
   "outputs": [],
   "source": [
    "plt.title('Recall score plot 5% RE threshold')\n",
    "plt.ylabel('Recall')\n",
    "plt.xlabel('Epochs')\n",
    "plt.plot(results['train_recall'],'-g', label='Train Recall')\n",
    "plt.plot(results['val_recall'],'-b', label='Val Recall')\n",
    "plt.legend(loc='upper left')\n",
    "plt.ylim([0.0,1.0])"
   ]
  },
  {
   "cell_type": "code",
   "execution_count": null,
   "id": "9c1e6a97-1c23-45b4-8b63-054db36ad1a4",
   "metadata": {},
   "outputs": [],
   "source": [
    "import torch\n",
    "model = torch.load(best_model_path)\n",
    "model.eval()\n",
    "model"
   ]
  },
  {
   "cell_type": "code",
   "execution_count": null,
   "id": "3a7afb09-b963-4368-987e-a3b4bf8e2f03",
   "metadata": {},
   "outputs": [],
   "source": [
    "from dgl_classifier. trainer import predict2samples\n",
    "print(train_file)\n",
    "train_data, val_data,test_data = predict2samples(model,train_file, val_file, test_file, community_no=10, verbose=True, clust_verbose=False, clust_load_path='/work/data/confs/May2/pred_clust.json')"
   ]
  },
  {
   "cell_type": "code",
   "execution_count": null,
   "id": "10717af4-0afb-4292-9292-0f4ee4b11902",
   "metadata": {},
   "outputs": [],
   "source": [
    "for k in train_data.keys():\n",
    "    print(train_data[k])\n",
    "    break"
   ]
  },
  {
   "cell_type": "code",
   "execution_count": null,
   "id": "5f224c13-bb07-40fb-8817-f3317bc46233",
   "metadata": {},
   "outputs": [],
   "source": [
    "from dgl_classifier.post import *\n",
    "train_rt, avg_train = avg_runtime(train_data)\n",
    "_,_, avg_train_jena,avg_train_blf = avg_runtime_type(train_data)\n",
    "val_rt, avg_val = avg_runtime(val_data)\n",
    "_,_, avg_val_jena,avg_val_blf = avg_runtime_type(val_data)\n",
    "test_rt, avg_test = avg_runtime(test_data)\n",
    "_,_, avg_test_jena,avg_test_blf = avg_runtime_type(test_data)"
   ]
  },
  {
   "cell_type": "code",
   "execution_count": null,
   "id": "672dfe51-9433-4d76-8e40-62130404c25a",
   "metadata": {},
   "outputs": [],
   "source": []
  },
  {
   "cell_type": "code",
   "execution_count": null,
   "id": "a407b481-ad6f-48f7-95bb-c3560fa05598",
   "metadata": {},
   "outputs": [],
   "source": [
    "print(avg_train, avg_train_jena, avg_train_blf)\n",
    "print(avg_val, avg_val_jena, avg_val_blf)\n",
    "print(avg_test, avg_test_jena, avg_test_blf)"
   ]
  },
  {
   "cell_type": "code",
   "execution_count": null,
   "id": "856c862d-92fc-4bb4-80c7-028edec07dac",
   "metadata": {
    "editable": true,
    "slideshow": {
     "slide_type": ""
    },
    "tags": []
   },
   "outputs": [],
   "source": []
  }
 ],
 "metadata": {
  "kernelspec": {
   "display_name": "Python 3 (ipykernel)",
   "language": "python",
   "name": "python3"
  },
  "language_info": {
   "codemirror_mode": {
    "name": "ipython",
    "version": 3
   },
   "file_extension": ".py",
   "mimetype": "text/x-python",
   "name": "python",
   "nbconvert_exporter": "python",
   "pygments_lexer": "ipython3",
   "version": "3.10.7"
  }
 },
 "nbformat": 4,
 "nbformat_minor": 5
}
