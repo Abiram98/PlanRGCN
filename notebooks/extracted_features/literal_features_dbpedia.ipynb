{
 "cells": [
  {
   "cell_type": "markdown",
   "metadata": {},
   "source": [
    "# Literal Features Wikidata Analysis"
   ]
  },
  {
   "cell_type": "markdown",
   "metadata": {},
   "source": [
    "## Missing Batches"
   ]
  },
  {
   "cell_type": "code",
   "execution_count": 1,
   "metadata": {},
   "outputs": [],
   "source": [
    "import pandas as pd\n",
    "import numpy as np\n",
    "import matplotlib.pyplot as plt\n",
    "import seaborn as sns\n",
    "import os\n",
    "import json\n",
    "import importlib\n",
    "import rdflib.plugins.sparql.parser as parser\n",
    "import feature_extraction.literal_utils as lit_util\n",
    "importlib.reload(lit_util)\n",
    "LiteralStatQueries = lit_util.LiteralStatQueries"
   ]
  },
  {
   "cell_type": "code",
   "execution_count": 2,
   "metadata": {},
   "outputs": [
    {
     "data": {
      "text/plain": [
       "(5119, 5243)"
      ]
     },
     "execution_count": 2,
     "metadata": {},
     "output_type": "execute_result"
    }
   ],
   "source": [
    "path_to_batches= '/data/planrgcn_features/extracted_features_dbpedia2016/literals_stat/batches'\n",
    "path_to_lits = '/data/planrgcn_features/extracted_features_dbpedia2016/literals_stat/batches_response_stats/freq'\n",
    "batch_files = os.listdir(path_to_batches)\n",
    "freq_files = os.listdir(path_to_lits)\n",
    "len(freq_files), len(batch_files)"
   ]
  },
  {
   "cell_type": "code",
   "execution_count": 4,
   "metadata": {},
   "outputs": [
    {
     "data": {
      "text/plain": [
       "124"
      ]
     },
     "execution_count": 4,
     "metadata": {},
     "output_type": "execute_result"
    }
   ],
   "source": [
    "freq_files[0], batch_files[0]\n",
    "freq_processed = [int(x.split('_')[1].split('.')[0]) for x in freq_files]\n",
    "unprocessed_batches = [x for x in batch_files if int(x.split('_')[3].split('.')[0]) not in freq_processed]\n",
    "len(unprocessed_batches)"
   ]
  },
  {
   "cell_type": "code",
   "execution_count": 5,
   "metadata": {},
   "outputs": [
    {
     "data": {
      "text/plain": [
       "['pred_in_batch_4276.json',\n",
       " 'pred_in_batch_4277.json',\n",
       " 'pred_in_batch_4287.json',\n",
       " 'pred_in_batch_4301.json',\n",
       " 'pred_in_batch_4313.json',\n",
       " 'pred_in_batch_4318.json',\n",
       " 'pred_in_batch_4341.json',\n",
       " 'pred_in_batch_4353.json',\n",
       " 'pred_in_batch_4360.json',\n",
       " 'pred_in_batch_4363.json',\n",
       " 'pred_in_batch_4377.json',\n",
       " 'pred_in_batch_4423.json',\n",
       " 'pred_in_batch_4425.json',\n",
       " 'pred_in_batch_4451.json',\n",
       " 'pred_in_batch_4473.json',\n",
       " 'pred_in_batch_4476.json',\n",
       " 'pred_in_batch_4483.json',\n",
       " 'pred_in_batch_4498.json',\n",
       " 'pred_in_batch_4499.json',\n",
       " 'pred_in_batch_4501.json',\n",
       " 'pred_in_batch_4503.json',\n",
       " 'pred_in_batch_4506.json',\n",
       " 'pred_in_batch_4511.json',\n",
       " 'pred_in_batch_4532.json',\n",
       " 'pred_in_batch_4546.json',\n",
       " 'pred_in_batch_4549.json',\n",
       " 'pred_in_batch_4550.json',\n",
       " 'pred_in_batch_4560.json',\n",
       " 'pred_in_batch_4566.json',\n",
       " 'pred_in_batch_4578.json',\n",
       " 'pred_in_batch_4580.json',\n",
       " 'pred_in_batch_4589.json',\n",
       " 'pred_in_batch_4607.json',\n",
       " 'pred_in_batch_4638.json',\n",
       " 'pred_in_batch_4642.json',\n",
       " 'pred_in_batch_4648.json',\n",
       " 'pred_in_batch_4656.json',\n",
       " 'pred_in_batch_4659.json',\n",
       " 'pred_in_batch_4662.json',\n",
       " 'pred_in_batch_4665.json',\n",
       " 'pred_in_batch_4673.json',\n",
       " 'pred_in_batch_4677.json',\n",
       " 'pred_in_batch_4686.json',\n",
       " 'pred_in_batch_4701.json',\n",
       " 'pred_in_batch_4703.json',\n",
       " 'pred_in_batch_4708.json',\n",
       " 'pred_in_batch_4711.json',\n",
       " 'pred_in_batch_4719.json',\n",
       " 'pred_in_batch_4721.json',\n",
       " 'pred_in_batch_4736.json',\n",
       " 'pred_in_batch_4744.json',\n",
       " 'pred_in_batch_4748.json',\n",
       " 'pred_in_batch_4753.json',\n",
       " 'pred_in_batch_4756.json',\n",
       " 'pred_in_batch_4762.json',\n",
       " 'pred_in_batch_4768.json',\n",
       " 'pred_in_batch_4772.json',\n",
       " 'pred_in_batch_4783.json',\n",
       " 'pred_in_batch_4791.json',\n",
       " 'pred_in_batch_4799.json',\n",
       " 'pred_in_batch_4804.json',\n",
       " 'pred_in_batch_4805.json',\n",
       " 'pred_in_batch_4810.json',\n",
       " 'pred_in_batch_4811.json',\n",
       " 'pred_in_batch_4818.json',\n",
       " 'pred_in_batch_4821.json',\n",
       " 'pred_in_batch_4823.json',\n",
       " 'pred_in_batch_4830.json',\n",
       " 'pred_in_batch_4832.json',\n",
       " 'pred_in_batch_4835.json',\n",
       " 'pred_in_batch_4836.json',\n",
       " 'pred_in_batch_4837.json',\n",
       " 'pred_in_batch_4838.json',\n",
       " 'pred_in_batch_4844.json',\n",
       " 'pred_in_batch_4847.json',\n",
       " 'pred_in_batch_4853.json',\n",
       " 'pred_in_batch_4855.json',\n",
       " 'pred_in_batch_4870.json',\n",
       " 'pred_in_batch_4881.json',\n",
       " 'pred_in_batch_4892.json',\n",
       " 'pred_in_batch_4893.json',\n",
       " 'pred_in_batch_4896.json',\n",
       " 'pred_in_batch_4898.json',\n",
       " 'pred_in_batch_4899.json',\n",
       " 'pred_in_batch_4900.json',\n",
       " 'pred_in_batch_4901.json',\n",
       " 'pred_in_batch_4911.json',\n",
       " 'pred_in_batch_4916.json',\n",
       " 'pred_in_batch_4919.json',\n",
       " 'pred_in_batch_4920.json',\n",
       " 'pred_in_batch_4944.json',\n",
       " 'pred_in_batch_4945.json',\n",
       " 'pred_in_batch_4961.json',\n",
       " 'pred_in_batch_4966.json',\n",
       " 'pred_in_batch_4970.json',\n",
       " 'pred_in_batch_4981.json',\n",
       " 'pred_in_batch_4991.json',\n",
       " 'pred_in_batch_5013.json',\n",
       " 'pred_in_batch_5016.json',\n",
       " 'pred_in_batch_5029.json',\n",
       " 'pred_in_batch_5032.json',\n",
       " 'pred_in_batch_5054.json',\n",
       " 'pred_in_batch_5056.json',\n",
       " 'pred_in_batch_5061.json',\n",
       " 'pred_in_batch_5063.json',\n",
       " 'pred_in_batch_5065.json',\n",
       " 'pred_in_batch_5069.json',\n",
       " 'pred_in_batch_5070.json',\n",
       " 'pred_in_batch_5074.json',\n",
       " 'pred_in_batch_5077.json',\n",
       " 'pred_in_batch_5089.json',\n",
       " 'pred_in_batch_5101.json',\n",
       " 'pred_in_batch_5104.json',\n",
       " 'pred_in_batch_5107.json',\n",
       " 'pred_in_batch_5151.json',\n",
       " 'pred_in_batch_5165.json',\n",
       " 'pred_in_batch_5175.json',\n",
       " 'pred_in_batch_5181.json',\n",
       " 'pred_in_batch_5188.json',\n",
       " 'pred_in_batch_5197.json',\n",
       " 'pred_in_batch_5218.json',\n",
       " 'pred_in_batch_5228.json',\n",
       " 'pred_in_batch_5238.json',\n",
       " 'pred_in_batch_5243.json']"
      ]
     },
     "execution_count": 5,
     "metadata": {},
     "output_type": "execute_result"
    }
   ],
   "source": [
    "unprocessed_batches = sorted(unprocessed_batches, key= lambda x: int(x.split('_')[3].split('.')[0]))\n",
    "unprocessed_batches"
   ]
  },
  {
   "cell_type": "code",
   "execution_count": 8,
   "metadata": {},
   "outputs": [
    {
     "data": {
      "text/plain": [
       "[[',', 'literal'],\n",
       " ['1806', 'literal'],\n",
       " ['1851', 'literal'],\n",
       " ['1860', 'literal'],\n",
       " ['1862', 'literal'],\n",
       " ['1865', 'literal'],\n",
       " ['1874', 'literal'],\n",
       " ['1881', 'literal'],\n",
       " ['1887', 'literal'],\n",
       " ['1896', 'literal'],\n",
       " ['1899', 'literal'],\n",
       " ['1901', 'literal'],\n",
       " ['1902', 'literal'],\n",
       " ['1903', 'literal'],\n",
       " ['1904', 'literal'],\n",
       " ['1906', 'literal'],\n",
       " ['1909', 'literal'],\n",
       " ['1917', 'literal'],\n",
       " ['1920', 'literal'],\n",
       " ['1922', 'literal'],\n",
       " ['1923', 'literal'],\n",
       " ['1925', 'literal'],\n",
       " ['1926', 'literal'],\n",
       " ['1928', 'literal'],\n",
       " ['1929', 'literal'],\n",
       " ['1930', 'literal'],\n",
       " ['1932', 'literal'],\n",
       " ['1934', 'literal'],\n",
       " ['1935', 'literal'],\n",
       " ['1936', 'literal'],\n",
       " ['1937', 'literal'],\n",
       " ['1938', 'literal'],\n",
       " ['1939', 'literal'],\n",
       " ['1941', 'literal'],\n",
       " ['1942', 'literal'],\n",
       " ['1943', 'literal'],\n",
       " ['1944', 'literal'],\n",
       " ['1945', 'literal'],\n",
       " ['1947', 'literal'],\n",
       " ['1948', 'literal'],\n",
       " ['1949', 'literal'],\n",
       " ['1950', 'literal'],\n",
       " ['1951', 'literal'],\n",
       " ['1952', 'literal'],\n",
       " ['1953', 'literal'],\n",
       " ['1954', 'literal'],\n",
       " ['1955', 'literal'],\n",
       " ['1956', 'literal'],\n",
       " ['1957', 'literal'],\n",
       " ['1958', 'literal'],\n",
       " ['1959', 'literal'],\n",
       " ['1960', 'literal'],\n",
       " ['1961', 'literal'],\n",
       " ['1962', 'literal'],\n",
       " ['1963', 'literal'],\n",
       " ['1964', 'literal'],\n",
       " ['1965', 'literal'],\n",
       " ['1966', 'literal'],\n",
       " ['1967', 'literal'],\n",
       " ['1968', 'literal'],\n",
       " ['1969', 'literal'],\n",
       " ['1970', 'literal'],\n",
       " ['1971', 'literal'],\n",
       " ['1972', 'literal'],\n",
       " ['1973', 'literal'],\n",
       " ['1974', 'literal'],\n",
       " ['1975', 'literal'],\n",
       " ['1976', 'literal'],\n",
       " ['1977', 'literal'],\n",
       " ['1978', 'literal'],\n",
       " ['1979', 'literal'],\n",
       " ['1980', 'literal'],\n",
       " ['1981', 'literal'],\n",
       " ['1982', 'literal'],\n",
       " ['1983', 'literal'],\n",
       " ['1984', 'literal'],\n",
       " ['1985', 'literal'],\n",
       " ['1986', 'literal'],\n",
       " ['1987', 'literal'],\n",
       " ['1988', 'literal'],\n",
       " ['1989', 'literal'],\n",
       " ['1990', 'literal'],\n",
       " ['1991', 'literal'],\n",
       " ['1992', 'literal'],\n",
       " ['1993', 'literal'],\n",
       " ['1994', 'literal'],\n",
       " ['1995', 'literal'],\n",
       " ['1996', 'literal'],\n",
       " ['1997', 'literal'],\n",
       " ['1998', 'literal'],\n",
       " ['1999', 'literal'],\n",
       " ['2000', 'literal'],\n",
       " ['2001', 'literal'],\n",
       " ['2002', 'literal'],\n",
       " ['2003', 'literal'],\n",
       " ['2004', 'literal'],\n",
       " ['2005', 'literal'],\n",
       " ['2006', 'literal'],\n",
       " ['2007', 'literal'],\n",
       " ['2008', 'literal'],\n",
       " ['2009', 'literal'],\n",
       " ['2010', 'literal'],\n",
       " ['2011', 'literal'],\n",
       " ['2012', 'literal'],\n",
       " ['2013', 'literal'],\n",
       " ['2014', 'literal'],\n",
       " ['2015', 'literal'],\n",
       " ['2016', 'literal'],\n",
       " ['1748', 'literal'],\n",
       " ['1832', 'literal'],\n",
       " ['Charles de Gaulle', 'literal'],\n",
       " ['1663', 'literal'],\n",
       " ['1747', 'literal'],\n",
       " ['802', 'literal'],\n",
       " ['Knesset', 'literal'],\n",
       " ['par', 'literal'],\n",
       " ['Jules Méline', 'literal'],\n",
       " ['Octobre 2015', 'literal'],\n",
       " ['Juillet 2012', 'literal'],\n",
       " ['Avril 1920', 'literal'],\n",
       " ['Janvier1987', 'literal'],\n",
       " ['parGrégoire XVI', 'literal'],\n",
       " ['parPie IX', 'literal'],\n",
       " ['parPie VII', 'literal'],\n",
       " ['1765(1831dans l’empire russe)', 'literal'],\n",
       " ['23 février1748', 'literal'],\n",
       " ['parLéon XIII', 'literal'],\n",
       " ['parPie X', 'literal'],\n",
       " [',Louis-Napoléon Bonaparte', 'literal'],\n",
       " ['1981 puis relance en 2008.', 'literal'],\n",
       " ['2002 (définitivement arrêté en 2012)', 'literal'],\n",
       " ['1984.', 'literal'],\n",
       " ['2015(Magritte du meilleur film flamand)', 'literal'],\n",
       " ['parEmma de Waldeck-Pyrmont', 'literal'],\n",
       " ['2012(Magritte du meilleur film flamand en coproduction)', 'literal'],\n",
       " ['parNapoléon Bonaparte', 'literal'],\n",
       " [\"(sous le nom d'Ordre national du Dahomey)\", 'literal'],\n",
       " ['2010pour Miss France Sourde', 'literal'],\n",
       " [', décret officiel deBoris Eltsine', 'literal'],\n",
       " ['17 août1943', 'literal'],\n",
       " ['1861par le sultan Abdülaziz', 'literal'],\n",
       " ['parPaul  de Russie', 'literal'],\n",
       " ['parCharles IV d’Espagne', 'literal'],\n",
       " ['28 novembre1814', 'literal'],\n",
       " ['5 avril 1999', 'literal'],\n",
       " ['parCharles XIII de Suède', 'literal'],\n",
       " ['1774parMarie-Thérèse', 'literal'],\n",
       " ['1922puis1977', 'literal'],\n",
       " ['pour la décoration civile, etpour la décoration militaire', 'literal'],\n",
       " ['1975puis1992', 'literal'],\n",
       " ['30 avril 1921', 'literal'],\n",
       " ['1926puis1949, et enfin1977', 'literal'],\n",
       " ['1996(longs métrages)', 'literal'],\n",
       " ['2002(courts métrages)', 'literal'],\n",
       " ['21 mai1946', 'literal'],\n",
       " ['31 mars 2011', 'literal'],\n",
       " ['Charles XV de Suède', 'literal'],\n",
       " ['Jeudi21 octobre2010', 'literal'],\n",
       " ['médaille :', 'literal'],\n",
       " ['Août 1977', 'literal'],\n",
       " [\"1979à20072009à aujourd'hui\", 'literal'],\n",
       " ['2002-2004', 'literal'],\n",
       " ['1831 parNicolas  de Russie', 'literal'],\n",
       " ['1928(trophée actuel)', 'literal'],\n",
       " ['1561, àFlorence', 'literal'],\n",
       " ['1930(trophée Jules Rimet)', 'literal'],\n",
       " ['1974(trophée actuel)', 'literal'],\n",
       " ['1980 (pour 1979)', 'literal'],\n",
       " ['1982 (pour 1981)', 'literal'],\n",
       " ['parThérèse de Saxe-Hildburghausen', 'literal'],\n",
       " ['pour la croix unique', 'literal'],\n",
       " ['pour la spécifique de la guerre 1939-1945', 'literal'],\n",
       " ['1852par le sultanAbdülmecit', 'literal'],\n",
       " ['parGeorges', 'literal'],\n",
       " ['1992-2000', 'literal'],\n",
       " ['2003(1951)', 'literal'],\n",
       " ['parCharles III', 'literal'],\n",
       " ['parJean XXII', 'literal'],\n",
       " ['parJosip Broz Tito', 'literal'],\n",
       " ['1960-1974,1983', 'literal'],\n",
       " ['(révisée le)', 'literal'],\n",
       " ['11 avril 1956', 'literal'],\n",
       " ['1943, premier lauréat en1946', 'literal'],\n",
       " ['21 août1847', 'literal'],\n",
       " ['21 janvier1904', 'literal'],\n",
       " ['parElpidio Quirino', 'literal'],\n",
       " ['parFerdinand VII', 'literal'],\n",
       " ['parÉlisabeth II du Royaume-Uni', 'literal'],\n",
       " ['réorganisationparPie X', 'literal'],\n",
       " ['United States Congress Joint Committee on the Conduct of the War',\n",
       "  'literal'],\n",
       " ['Egyptian Grammar: Being an Introduction to the Study of Hieroglyphs',\n",
       "  'literal'],\n",
       " ['European Day of Remembrance for Victims of Stalinism and Nazism',\n",
       "  'literal'],\n",
       " ['List of countries where Arabic is an official language', 'literal'],\n",
       " ['Azerbaijan Voluntary Military Patriotism Technical Sport Society',\n",
       "  'literal'],\n",
       " ['National Olympic Committee and Sports Confederation of Denmark', 'literal'],\n",
       " ['Royal Anthropological Institute of Great Britain and Ireland', 'literal'],\n",
       " ['\"Wild Bill\" Hickok', 'literal'],\n",
       " ['#', 'literal'],\n",
       " [\"'Ndrangheta\", 'literal'],\n",
       " ['Thirteenth Amendment to the United States Constitution', 'literal']]"
      ]
     },
     "execution_count": 8,
     "metadata": {},
     "output_type": "execute_result"
    }
   ],
   "source": [
    "batch1 = json.load(open(f'{path_to_batches}/{unprocessed_batches[0]}'))\n",
    "batch1"
   ]
  },
  {
   "cell_type": "code",
   "execution_count": 18,
   "metadata": {},
   "outputs": [
    {
     "data": {
      "text/plain": [
       "(1, 199)"
      ]
     },
     "execution_count": 18,
     "metadata": {},
     "output_type": "execute_result"
    }
   ],
   "source": [
    "def get_erroneuos_lits(batch):\n",
    "    illegal_terms = []\n",
    "    legal_terms = []\n",
    "    for i in batch:\n",
    "        if i[1] == \"literal\":\n",
    "            query1 = f\"\"\"SELECT * WHERE {{ ?s ?p \\\"{i[0]}\\\"}}\"\"\"\n",
    "        else:\n",
    "            query1 = f\"\"\"SELECT * WHERE {{ ?s ?p {i[0]}}}\"\"\"\n",
    "        try:\n",
    "            parser.parseQuery(query1)\n",
    "        except Exception:\n",
    "            illegal_terms.append(i)\n",
    "        else:\n",
    "            legal_terms.append(i)\n",
    "    return illegal_terms, legal_terms\n",
    "illegal_lits, legal_terms = get_erroneuos_lits(batch1)\n",
    "    \n",
    "len(illegal_lits), len(legal_terms)"
   ]
  },
  {
   "cell_type": "code",
   "execution_count": 13,
   "metadata": {},
   "outputs": [
    {
     "data": {
      "text/plain": [
       "[['\"Wild Bill\" Hickok', 'literal']]"
      ]
     },
     "execution_count": 13,
     "metadata": {},
     "output_type": "execute_result"
    }
   ],
   "source": [
    "illegal_lits[:5]"
   ]
  },
  {
   "cell_type": "code",
   "execution_count": 19,
   "metadata": {},
   "outputs": [
    {
     "data": {
      "text/plain": [
       "[[',', 'literal'],\n",
       " ['1806', 'literal'],\n",
       " ['1851', 'literal'],\n",
       " ['1860', 'literal'],\n",
       " ['1862', 'literal']]"
      ]
     },
     "execution_count": 19,
     "metadata": {},
     "output_type": "execute_result"
    }
   ],
   "source": [
    "legal_terms[:5]"
   ]
  },
  {
   "cell_type": "code",
   "execution_count": null,
   "metadata": {},
   "outputs": [],
   "source": [
    "len(illegal_lits)"
   ]
  },
  {
   "cell_type": "code",
   "execution_count": null,
   "metadata": {},
   "outputs": [],
   "source": [
    "parser.parseQuery(query1)"
   ]
  },
  {
   "cell_type": "code",
   "execution_count": null,
   "metadata": {},
   "outputs": [],
   "source": [
    "\n",
    "test = \"\"\"\n",
    "SELECT ?e (COUNT( *) AS ?entities) WHERE {\n",
    "            VALUES (?e) { (\"568030\")(\"139460\")(\"302530\")(\"970820\")(\"553640\")(\"554500\")(\"575900\")(\"575390\")(\"585450\")(\"558605\")(\"881310\")(\"573240\")(\"585850\")(\"587575\")(\"611920\")(\"569795\")(\"538230\")(\"275855\")(\"662870\")(\"768150\")(\"575370\")(\"396032\")(\"561575\")(\"988430\")(\"964975\")(\"371360\")(\"920230\")(\"566650\")(\"772645\")(\"702905\")(\"921855\")(\"605075\")(\"517480\")(\"987975\")(\"579130\")(\"pour le président d'une organisation, utilisez Q1255921\")(\"for the president of an organization, use Q1255921\")(\"组织的最高领导人请改用Q1255921\")(\"植物の属名はQ2309085、代表的な栽培種はQ1135236を使用。\")(\"Use Q16039690 for the London Underground station\")(\"伦敦地铁车站请使用Q16039690\")(\"倫敦地鐵車站請使用Q16039690\")(\"for Maria as a male name see Q25413386\")(\"Avoid using with \\\"relative\\\" (P1038), use \\\"sibling\\\" (P3373) instead.\")(\"note the item for the (Italian) male given name\")(\"Use Q795322 for the London Underground station\")(\"伦敦地铁车站请使用Q795322\")(\"倫敦地鐵車站請使用Q795322\")(\"Use Q3090826 for the London Underground station\")(\"伦敦地铁车站请使用Q3090826\")(\"倫敦地鐵車站請使用Q3090826\")(\"只用于性别属性P21\")(\"brukes som verdi for P106 beskjeftigelse\")(\"do not move identifiers that don't disambiguate the two persons to an arbitrary item\")(\"Ange församling/distrikt om möjligt där personen föds\")(\"가장 구체적인 장소만 값으로 기재합니다. 즉, 태어난 도시만 알려졌으면 해당 도시 항목을 입력하지만, 태어난 병원이나 장소도 알려졌으면 도시 대신 해당 병원/장소 항목을 값으로 입력합니다.\")(\"Solmente le entitate territorial administrative le plus local debe esser specificate, sed per favor verifica que ille entitate etiam ha un P131 que indica le proxime nivello superior.\")(\"Det er kun den laveste administrative enhed som skal angives. Men enheden over skal også have en værdi for P131.\")(\"Vous avez seulement besoin d'ajouter l'entité administrative juste au dessus et vérifier que celle ci est bien elle aussi reliée au-dessus par P131\")(\"이 속성을 추가할 땐 가장 낮은 단계의 행정 구역 항목만 추가하세요. 그 항목이 이 P131을 가지고 있는지, 계속 P131의 항목을 거슬러 올라가다보면 최상위 행정 구역 항목이 나오는지도 확인해주세요. 또한, 행정 구역이 아닌 값을 쓰고 싶거나, 사건이 일어난 장소를 쓰고 싶다면 '위치'(P276) 속성을 대신 써주세요.\")(\"só se precisa achegar a entidade territorial inmediatamente superior, pero é necesario verificar que o elemento co que se liga xa estea ben ligado á súa vez co nivel inmediatamente superior facendo uso da propiedade P131\")(\"您只需要添加管理相關項的最低級行政單位，但請確保作為值的項也擁有P131，且連結到上級行政單位項中。\")(\"Es sollte nur die unterste Verwaltungsebene angegeben werden, diese sollte aber per P131 mit der nächst höheren Ebene verknüpft sein. Für statistische Gebietseinheiten P276 verwenden.\")(\"該当する中で最も詳細な行政区画の項目のみを指定します。その際、指定した項目が当プロパティP131を有していることを、繰り返し確認してください（町字→町村→郡→都道府県、町字→行政区→政令市→道府県など）。\")(\"Додайте найбільш локальну адміністративну територію (території), але переконайтесь, що той елемент також має P131, і т.д.\")(\"sólo se debe añadir la  entidad territorial más local, pero compruebe que ese elemento también tiene un P131, con el siguiente nivel, y así sucesivamente.\")(\"Anda hanya perlu menambahkan wilayah paling kecil, namun harap cek apakah butir tersebut juga mempunyai atribut P131 untuk tingkat wilayah berikutnya, dan begitu seterusnya\")(\"Stačí vyplnit administrativní jednotku nejnižší vyšší úrovně, ujistěte se však, že i tato jednotka má řádně vyplněnu vlastnost P131,\")(\"Alleen de laagste bestuurlijke eenheid toevoegen; en ervoor zorg dragen dat dit item ook een P131 bevat zodat er een correcte reeks ontstaat.\")(\"Add the most local admin territory/territories, but check that item also has a P131, with the next level, and so on.\")(\"Det er kun den laveste administrative enheten som skal angis. Men enheten over skal også ha verdi  for  P131.\")(\"您只需要添加管理相关项的最低级行政单位，但请确保作为值的项也拥有P131，且连接到上级行政单位项中。\")(\"Wystarczy dodać jednostkę najniższego rzędu (miejscowość lub jej część), ale upewnij się, że posiada ona zdefiniowaną właściwość P131 (jednostkę wyższego rzędu).\")(\"You only need to add the most local admin territory, but check that item also has a P131, with the next level, and so on.\")(\"For building and structures, rather use architect (P84) or structural engineer (P631).\")(\"Bruker betydningsfull hendelse P793 som verdi\")(\"usar cola propiedá P21 sexu o xéneru. Pa grupos masculinos usar con subclase de (P279)\")(\"usar con la propiedad P21 sexo o género. Para grupos masculinos usar con subclase de (P279)\")(\"use with Property:P21 sex or gender. For groups of males use with subclass of (P279)\")(\"与属性P21（性别）一起使用。一群男性的情况请改用上级分类（P279）\")(\"usar coa propiedade P21 sexo.Para grupos masculinos usar coa subclase de (P279)\")(\"template for articles under construction in the article namespace, but it welcomes everybody to edit as well (compare with Q5617064)\")(\"根據各站業務量，營運進款、客運業務、貨運業務、運轉及行車業務及其他因素分別評分，按總分數多寡核定等級。車站等級查定標準每五年調整乙次為原則，查定分數高於51分者升等。\")(\"Gebruik dit niet voor claims, gebruik Q2039348 met een begindatum en een einddatum.\")(\"Don't use this for claims, use Q2039348 with a start time and an end time.\")(\"Usa \\\"destinazione terminale\\\" (P5051) per i servizi di trasporto pubblico anziché \\\"direzione\\\"\")(\"相邻车站方向的终点站请改用“行车方向”（P5051）\")(\"Usar \\\"towards\\\" (P5051) en lugar de esta propiedad para indicar la estación terminal en la dirección de la estación adyacente\")(\"Use \\\"towards\\\" (P5051) instead to indicate the terminal station in the direction of an adjacent station.\")(\"終着駅を隣接駅の方向として示す場合は、「方面」（P5051）を使用してください。\")(\"Utilisez plutôt \\\"vers\\\" (P5051) pour indiquer la station terminale en direction d'une station adjacente.\")(\"相鄰車站方向的終點站請改用「行車方向」（P5051）\")(\"Should not be used for claims in enzyme items.\")(\"to add a street number, use P670 as qualifier\")(\"użyj kwalifikatora P670, aby dodać numer domu\")(\"Pour ajouter le numéro, utiliser P670 (numéro de voirie) en qualificateur\")(\"für die Hausnummer, verwende P670 als Qualifikator\")(\"要添加街道数，请使用P670作为限定符\")(\"道路方式の住所表記に、住居番号 (P670)を修飾子に組み合わせて使用します。\")(\"vērtībām nevajadzētu izmantot nozīmju atdalīšanas lapas vai uzvārdus\")(\"values used with the property shouldn't link disambiguations nor family names\")(\"значення, що використовуються з властивістю, не повинні посилатися на сторінки значень і прізвища\")(\"يجب ألَّا ترتبط القيمة المُستخدمة لهذه الخاصيَّة بصفحات توضيح أو صفحات اسم عائلة\")(\"此属性不应链接到消歧义页及姓氏项\")(\"elementer som bruker dette emnet skal ikke  brukes for andre betydninger eller familienavn\")(\"треба використовувати як кваліфікатор для \\\"розпадається на\\\" (P816)\")(\"should be used as a qualifier for \\decays to\\\\\" [[Property:P816]]\\\"\")(\"doit être utilisé comme qualificatif pour \\\"se désintègre spontanément en\\\" ( P816)\")(\"Kan brukes som kvalifikator for \\tildelte  utmerkelser\\ i  [[Egenskap:P166]] for personer eller organisasjoner\")(\"Can be used in statements on items that describe awards or titles\")(\"Kan brukes som  påstand for egenskaper som beskriver utmerkelser eller titler\")(\"For authority control (authors, works etc.) please use the property [https://www.wikidata.org/wiki/Property:P269 SUDOC authorities (P269)]\")(\"Can be used as qualifier for \\award received\\\\\" [[Property:P166]] for persons or organisation\\\"\")(\"לשימוש בקביעות על פריטים המתארים פרס או תואר\")(\"לשימוש כמבחין במאפיין P166 - \\\"מוענק על ידי\\\" לאדם או לאירגון\")(\"P1387 (political alignment) indicates general position in the political spectrum, whereas P1142 (political ideology) links to an arbitrary ideology which may be more specific.\")(\"Moon\")(\"For a conviction that was subsequently reversed, mark as deprecated rank (with deprecation reason {{Q|Q5420623}}), and also add {{P|P7781}}.\")(\"note the separate item for the (German) female given name\")(\"Pode ser usado para qualquer série lógica; os valores podem incluir, por exemplo, 6; 3,5; 1b; 3-6; C4. Deve ser usado somente para séries em que todos os elementos tenham valor igual ou semelhante; use \\\"classificação\\\" (P1352) para indicar a classificação (valor / importância...) dos elementos que requerem ordenação.\")(\"Can be used for any logical series; values can include e.g. 6; 3.5; 1b; 3–6; C4. Should be used only for series where all elements have equal or similar value; use \\\"ranking\\\" (P1352) to indicate the rank (value/importance...) of elements requiring gradation.\")(\"可用于任意逻辑序列；值可以包括例如6；3.5；1b；3~6；C4。只应用于所有元素拥有相同或类似值的系列；使用“排名”（P1352）指明要求阶段元素的排序（值/重要度...）\")(\"note the item for the female given name\")(\"See also \\\"mascot character\\\", Q386208\")(\"Voir aussi \\\"personnage de mascotte\\\" (Q386208)\")(\"equal to [[Special:TrackingCategories]]\")(\"Equivalent to Q30 for alternate-script articles in multiple-script languages. Please do not add a link here unless your wiki already has an article listed at Q30\")(\"For use with source indicator P459 when adding statements with P735\")(\"for humans use Q21070568\")(\"Usar con unidá de tiempu; por casu, «añu» (Q577)\")(\"À utiliser avec une unité de temps tel que « année » (Q577).\")(\"Використовувати з одиницею часу, наприклад, 'рік' (Q577)\")(\"Incluír unidade de tempo, por exemplo «ano» (Q577)\")(\"Benutzung mit Zeiteinheit, bspw. „Jahr“ (Q577)\")(\"Incluir unidad de tiempo, p. ej. «año» (Q577)\")(\"Use with unit of time, sample: year (Q577).\")(\"Использовать с некоторым количеством времени, например, 1 год.\")(\"使用时间单位，例如年（Q577）\")(\"use as value for P2302 (property constraint)\")(\"úsese como valor para P2302 (restricción de propiedad)\")(\"úsese como valor para P2302 (restrición de propiedade)\")(\"用作P2302（属性约束）的值\")(\"preferably use sub-properties\")(\"utiliser de préférence des sous-propriétés\")(\"vorzugsweise Untereigenschaften verwenden\")(\"és preferible emprar alguna de les subpropietats\")(\"\\\"#\\\" চিহ্ন যোগ করবেন না\")(\"do not include the \\\"#\\\" symbol\")(\"ne aldonu la simbolon \\\"#\\\"\")(\"ne pas inclure le symbole #\")(\"nie dodawaj symbolu \\\"#\\\"\")(\"nie poprzedzaj znakiem \\\"#\\\"\")(\"no incluir el símbolo «#»\")(\"non aggiungere il simbolo \\\"#\\\"\")(\"non incluír o símbolo «#»\")(\"não adicionar o símbolo '#'\")(\"ohne Doppelkreuz (#)\")(\"tanda pagar tidak perlu disertakan\")(\"undlad at inkludere \\\"#\\\" symbolet\")(\"zonder het #-teken\")(\"не дадаваць сыбмаль \\\"#\\\"\")(\"не додавати символ \\\"#\\\"\")(\"シャープ記号を含めてはいけません\")(\"請勿包含井號「#」\")(\"请不要包含井号“#”\")(\"This identifier should NOT be used on items about singles or songs\")(\"This property should be used on items representing musical artists, musical compositions or audio tracks. For musical compositions with more than one identifier (i.e. with cover versions), the original should have preferred rank.\")(\"P2668 için bir değer olarak kullanılır.\")(\"a usar como valor pa P2668\")(\"a usar como valor para P2668\")(\"a usar como valor para P2668\")(\"als Wert für P2668 verwenden\")(\"als waarde voor P2668 gebruiken\")(\"de folosit ca valoare pentru P2668 (română)\")(\"for brug med P2668\")(\"for bruk med P2668\")(\"to be used as a value for P2668\")(\"à utiliser comme valeur pour P2668\")(\"χρησιμοποιείται ως τιμή για την ιδιότητα P2668\")(\"用作P2668的值\")(\"use qualifiers for specialized VAT-rates\")(\"使用限定符“适用部分”（P518）来指定某一值适用于某一性别还是两性。\")(\"Use qualifier \\\"applies to part\\\" (P518), to specify if it applies only to males (Q6581097), females (Q6581072) or both genders (Q27177113).\")(\"Utiliser un qualificateur si l'âge dépend du sexe.\")(\"das qualifizierte Team oder die qualifizierte Person kann mittels P1346 hinzugefügt werden\")(\"감독(P57), 촬영 감독(P344), 출연한 배우(P161)처럼 특정 역할을 다룬 속성이 있는 경우 이 속성에 쓰지마시고 그 속성을 쓰세요.\")(\"η προκριθείσα ομάδα ή το προκριθέντα άτομο μπορεί να προστεθεί με τη χρήση της ιδιότητας P1346\")(\"the qualified team or person can be added using P1346\")(\"use the most specific item which can be sourced\")(\"Use only when the subject's full \\\"date of birth\\\" (P569) isn't known.\")(\"Usar solamente cuando la «fecha de nacimiento» (P569) es desconocida\")(\"Csak akkor használandó, amikor a teljes születési dátum (P569) nem ismert.\")(\"Nur zu benutzen, wenn das vollständige Geburtsdatum (P569) mit Jahr nicht bekannt ist.\")(\"gunakan hanya apabila tarikh lengkap hari kelahiran tidak diketahui\")(\"Usar soamente cando a «data de nacemento» (P569) é descoñecida.\")(\"Використовувати лише тоді, коли повна \\\"дата народження\\\" (P569) суб'єкта невідома.\")(\"태어난 연도가 없거나 기록되지 않은 인물에 한해 사용하는 속성입니다. 태어난 연도가 있는 경우 P569(태어난 날)을 대신 사용해 주세요.\")(\"Hanya gunakan jika \\\"tanggal lahir\\\" (P569) subjek tidak diketahui\")(\"element stosowany jako wartość dla kwalifikatora P1480\")(\"please add article URL\")}\n",
    "        ?s ?p2 ?e .\n",
    "        }\n",
    "        GROUP BY ?e\n",
    "\"\"\"\n",
    "line_no = 2\n",
    "columns = 6218\n",
    "test.splitlines()[line_no][columns:]"
   ]
  },
  {
   "cell_type": "code",
   "execution_count": null,
   "metadata": {},
   "outputs": [],
   "source": [
    "test = '(\"should be used as a qualifier for \\decays to\\\\\" [[Property:P816]]\\\"\")'\n",
    "print(test.replace('\\\\\\\\', '\\\\'))"
   ]
  },
  {
   "cell_type": "code",
   "execution_count": null,
   "metadata": {},
   "outputs": [],
   "source": []
  }
 ],
 "metadata": {
  "kernelspec": {
   "display_name": "Python 3 (ipykernel)",
   "language": "python",
   "name": "python3"
  },
  "language_info": {
   "codemirror_mode": {
    "name": "ipython",
    "version": 3
   },
   "file_extension": ".py",
   "mimetype": "text/x-python",
   "name": "python",
   "nbconvert_exporter": "python",
   "pygments_lexer": "ipython3",
   "version": "3.10.12"
  }
 },
 "nbformat": 4,
 "nbformat_minor": 4
}
