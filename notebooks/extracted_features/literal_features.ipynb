{
 "cells": [
  {
   "cell_type": "markdown",
   "metadata": {},
   "source": [
    "# Literal Features Wikidata Analysis"
   ]
  },
  {
   "cell_type": "markdown",
   "metadata": {},
   "source": [
    "## Missing Batches"
   ]
  },
  {
   "cell_type": "code",
   "execution_count": 2,
   "metadata": {},
   "outputs": [],
   "source": [
    "import pandas as pd\n",
    "import numpy as np\n",
    "import matplotlib.pyplot as plt\n",
    "import seaborn as sns\n",
    "import os\n",
    "import json\n",
    "import importlib\n",
    "import rdflib.plugins.sparql.parser as parser\n",
    "import feature_extraction.literal_utils as lit_util\n",
    "importlib.reload(lit_util)\n",
    "LiteralStatQueries = lit_util.LiteralStatQueries"
   ]
  },
  {
   "cell_type": "code",
   "execution_count": 3,
   "metadata": {},
   "outputs": [
    {
     "data": {
      "text/plain": [
       "(5227, 5243)"
      ]
     },
     "execution_count": 3,
     "metadata": {},
     "output_type": "execute_result"
    }
   ],
   "source": [
    "path_to_batches= '/data/planrgcn_features/extracted_features_wd/literals_stat/batches'\n",
    "path_to_lits = '/data/planrgcn_features/extracted_features_wd/literals_stat/batches_response_stats/freq'\n",
    "batch_files = os.listdir(path_to_batches)\n",
    "freq_files = os.listdir(path_to_lits)\n",
    "len(freq_files), len(batch_files)"
   ]
  },
  {
   "cell_type": "code",
   "execution_count": 4,
   "metadata": {},
   "outputs": [
    {
     "data": {
      "text/plain": [
       "16"
      ]
     },
     "execution_count": 4,
     "metadata": {},
     "output_type": "execute_result"
    }
   ],
   "source": [
    "freq_files[0], batch_files[0]\n",
    "freq_processed = [int(x.split('_')[1].split('.')[0]) for x in freq_files]\n",
    "unprocessed_batches = [x for x in batch_files if int(x.split('_')[3].split('.')[0]) not in freq_processed]\n",
    "len(unprocessed_batches)"
   ]
  },
  {
   "cell_type": "code",
   "execution_count": 5,
   "metadata": {},
   "outputs": [
    {
     "data": {
      "text/plain": [
       "['pred_in_batch_2807.json',\n",
       " 'pred_in_batch_2808.json',\n",
       " 'pred_in_batch_2809.json',\n",
       " 'pred_in_batch_2810.json',\n",
       " 'pred_in_batch_2811.json',\n",
       " 'pred_in_batch_2812.json',\n",
       " 'pred_in_batch_2813.json',\n",
       " 'pred_in_batch_2814.json',\n",
       " 'pred_in_batch_3918.json',\n",
       " 'pred_in_batch_4642.json',\n",
       " 'pred_in_batch_4644.json',\n",
       " 'pred_in_batch_4645.json',\n",
       " 'pred_in_batch_4648.json',\n",
       " 'pred_in_batch_4654.json',\n",
       " 'pred_in_batch_4655.json',\n",
       " 'pred_in_batch_5243.json']"
      ]
     },
     "execution_count": 5,
     "metadata": {},
     "output_type": "execute_result"
    }
   ],
   "source": [
    "unprocessed_batches = sorted(unprocessed_batches)\n",
    "unprocessed_batches"
   ]
  },
  {
   "cell_type": "code",
   "execution_count": 6,
   "metadata": {},
   "outputs": [
    {
     "data": {
      "text/plain": [
       "[['568030', 'literal'],\n",
       " ['139460', 'literal'],\n",
       " ['302530', 'literal'],\n",
       " ['970820', 'literal'],\n",
       " ['553640', 'literal'],\n",
       " ['554500', 'literal'],\n",
       " ['575900', 'literal'],\n",
       " ['575390', 'literal'],\n",
       " ['585450', 'literal'],\n",
       " ['558605', 'literal'],\n",
       " ['881310', 'literal'],\n",
       " ['573240', 'literal'],\n",
       " ['585850', 'literal'],\n",
       " ['587575', 'literal'],\n",
       " ['611920', 'literal'],\n",
       " ['569795', 'literal'],\n",
       " ['538230', 'literal'],\n",
       " ['275855', 'literal'],\n",
       " ['662870', 'literal'],\n",
       " ['768150', 'literal'],\n",
       " ['575370', 'literal'],\n",
       " ['396032', 'literal'],\n",
       " ['561575', 'literal'],\n",
       " ['988430', 'literal'],\n",
       " ['964975', 'literal'],\n",
       " ['371360', 'literal'],\n",
       " ['920230', 'literal'],\n",
       " ['566650', 'literal'],\n",
       " ['772645', 'literal'],\n",
       " ['702905', 'literal'],\n",
       " ['921855', 'literal'],\n",
       " ['605075', 'literal'],\n",
       " ['517480', 'literal'],\n",
       " ['987975', 'literal'],\n",
       " ['579130', 'literal'],\n",
       " [\"pour le président d'une organisation, utilisez Q1255921\", 'literal'],\n",
       " ['for the president of an organization, use Q1255921', 'literal'],\n",
       " ['组织的最高领导人请改用Q1255921', 'literal'],\n",
       " ['植物の属名はQ2309085、代表的な栽培種はQ1135236を使用。', 'literal'],\n",
       " ['Use Q16039690 for the London Underground station', 'literal'],\n",
       " ['伦敦地铁车站请使用Q16039690', 'literal'],\n",
       " ['倫敦地鐵車站請使用Q16039690', 'literal'],\n",
       " ['for Maria as a male name see Q25413386', 'literal'],\n",
       " ['Avoid using with \"relative\" (P1038), use \"sibling\" (P3373) instead.',\n",
       "  'literal'],\n",
       " ['note the item for the (Italian) male given name', 'literal'],\n",
       " ['Use Q795322 for the London Underground station', 'literal'],\n",
       " ['伦敦地铁车站请使用Q795322', 'literal'],\n",
       " ['倫敦地鐵車站請使用Q795322', 'literal'],\n",
       " ['Use Q3090826 for the London Underground station', 'literal'],\n",
       " ['伦敦地铁车站请使用Q3090826', 'literal'],\n",
       " ['倫敦地鐵車站請使用Q3090826', 'literal'],\n",
       " ['只用于性别属性P21', 'literal'],\n",
       " ['brukes som verdi for P106 beskjeftigelse', 'literal'],\n",
       " [\"do not move identifiers that don't disambiguate the two persons to an arbitrary item\",\n",
       "  'literal'],\n",
       " ['Ange församling/distrikt om möjligt där personen föds', 'literal'],\n",
       " ['가장 구체적인 장소만 값으로 기재합니다. 즉, 태어난 도시만 알려졌으면 해당 도시 항목을 입력하지만, 태어난 병원이나 장소도 알려졌으면 도시 대신 해당 병원/장소 항목을 값으로 입력합니다.',\n",
       "  'literal'],\n",
       " ['Solmente le entitate territorial administrative le plus local debe esser specificate, sed per favor verifica que ille entitate etiam ha un P131 que indica le proxime nivello superior.',\n",
       "  'literal'],\n",
       " ['Det er kun den laveste administrative enhed som skal angives. Men enheden over skal også have en værdi for P131.',\n",
       "  'literal'],\n",
       " [\"Vous avez seulement besoin d'ajouter l'entité administrative juste au dessus et vérifier que celle ci est bien elle aussi reliée au-dessus par P131\",\n",
       "  'literal'],\n",
       " [\"이 속성을 추가할 땐 가장 낮은 단계의 행정 구역 항목만 추가하세요. 그 항목이 이 P131을 가지고 있는지, 계속 P131의 항목을 거슬러 올라가다보면 최상위 행정 구역 항목이 나오는지도 확인해주세요. 또한, 행정 구역이 아닌 값을 쓰고 싶거나, 사건이 일어난 장소를 쓰고 싶다면 '위치'(P276) 속성을 대신 써주세요.\",\n",
       "  'literal'],\n",
       " ['só se precisa achegar a entidade territorial inmediatamente superior, pero é necesario verificar que o elemento co que se liga xa estea ben ligado á súa vez co nivel inmediatamente superior facendo uso da propiedade P131',\n",
       "  'literal'],\n",
       " ['您只需要添加管理相關項的最低級行政單位，但請確保作為值的項也擁有P131，且連結到上級行政單位項中。', 'literal'],\n",
       " ['Es sollte nur die unterste Verwaltungsebene angegeben werden, diese sollte aber per P131 mit der nächst höheren Ebene verknüpft sein. Für statistische Gebietseinheiten P276 verwenden.',\n",
       "  'literal'],\n",
       " ['該当する中で最も詳細な行政区画の項目のみを指定します。その際、指定した項目が当プロパティP131を有していることを、繰り返し確認してください（町字→町村→郡→都道府県、町字→行政区→政令市→道府県など）。',\n",
       "  'literal'],\n",
       " ['Додайте найбільш локальну адміністративну територію (території), але переконайтесь, що той елемент також має P131, і т.д.',\n",
       "  'literal'],\n",
       " ['sólo se debe añadir la  entidad territorial más local, pero compruebe que ese elemento también tiene un P131, con el siguiente nivel, y así sucesivamente.',\n",
       "  'literal'],\n",
       " ['Anda hanya perlu menambahkan wilayah paling kecil, namun harap cek apakah butir tersebut juga mempunyai atribut P131 untuk tingkat wilayah berikutnya, dan begitu seterusnya',\n",
       "  'literal'],\n",
       " ['Stačí vyplnit administrativní jednotku nejnižší vyšší úrovně, ujistěte se však, že i tato jednotka má řádně vyplněnu vlastnost P131,',\n",
       "  'literal'],\n",
       " ['Alleen de laagste bestuurlijke eenheid toevoegen; en ervoor zorg dragen dat dit item ook een P131 bevat zodat er een correcte reeks ontstaat.',\n",
       "  'literal'],\n",
       " ['Add the most local admin territory/territories, but check that item also has a P131, with the next level, and so on.',\n",
       "  'literal'],\n",
       " ['Det er kun den laveste administrative enheten som skal angis. Men enheten over skal også ha verdi  for  P131.',\n",
       "  'literal'],\n",
       " ['您只需要添加管理相关项的最低级行政单位，但请确保作为值的项也拥有P131，且连接到上级行政单位项中。', 'literal'],\n",
       " ['Wystarczy dodać jednostkę najniższego rzędu (miejscowość lub jej część), ale upewnij się, że posiada ona zdefiniowaną właściwość P131 (jednostkę wyższego rzędu).',\n",
       "  'literal'],\n",
       " ['You only need to add the most local admin territory, but check that item also has a P131, with the next level, and so on.',\n",
       "  'literal'],\n",
       " ['For building and structures, rather use architect (P84) or structural engineer (P631).',\n",
       "  'literal'],\n",
       " ['Bruker betydningsfull hendelse P793 som verdi', 'literal'],\n",
       " ['usar cola propiedá P21 sexu o xéneru. Pa grupos masculinos usar con subclase de (P279)',\n",
       "  'literal'],\n",
       " ['usar con la propiedad P21 sexo o género. Para grupos masculinos usar con subclase de (P279)',\n",
       "  'literal'],\n",
       " ['use with Property:P21 sex or gender. For groups of males use with subclass of (P279)',\n",
       "  'literal'],\n",
       " ['与属性P21（性别）一起使用。一群男性的情况请改用上级分类（P279）', 'literal'],\n",
       " ['usar coa propiedade P21 sexo.Para grupos masculinos usar coa subclase de (P279)',\n",
       "  'literal'],\n",
       " ['template for articles under construction in the article namespace, but it welcomes everybody to edit as well (compare with Q5617064)',\n",
       "  'literal'],\n",
       " ['根據各站業務量，營運進款、客運業務、貨運業務、運轉及行車業務及其他因素分別評分，按總分數多寡核定等級。車站等級查定標準每五年調整乙次為原則，查定分數高於51分者升等。',\n",
       "  'literal'],\n",
       " ['Gebruik dit niet voor claims, gebruik Q2039348 met een begindatum en een einddatum.',\n",
       "  'literal'],\n",
       " [\"Don't use this for claims, use Q2039348 with a start time and an end time.\",\n",
       "  'literal'],\n",
       " ['Usa \"destinazione terminale\" (P5051) per i servizi di trasporto pubblico anziché \"direzione\"',\n",
       "  'literal'],\n",
       " ['相邻车站方向的终点站请改用“行车方向”（P5051）', 'literal'],\n",
       " ['Usar \"towards\" (P5051) en lugar de esta propiedad para indicar la estación terminal en la dirección de la estación adyacente',\n",
       "  'literal'],\n",
       " ['Use \"towards\" (P5051) instead to indicate the terminal station in the direction of an adjacent station.',\n",
       "  'literal'],\n",
       " ['終着駅を隣接駅の方向として示す場合は、「方面」（P5051）を使用してください。', 'literal'],\n",
       " ['Utilisez plutôt \"vers\" (P5051) pour indiquer la station terminale en direction d\\'une station adjacente.',\n",
       "  'literal'],\n",
       " ['相鄰車站方向的終點站請改用「行車方向」（P5051）', 'literal'],\n",
       " ['Should not be used for claims in enzyme items.', 'literal'],\n",
       " ['to add a street number, use P670 as qualifier', 'literal'],\n",
       " ['użyj kwalifikatora P670, aby dodać numer domu', 'literal'],\n",
       " ['Pour ajouter le numéro, utiliser P670 (numéro de voirie) en qualificateur',\n",
       "  'literal'],\n",
       " ['für die Hausnummer, verwende P670 als Qualifikator', 'literal'],\n",
       " ['要添加街道数，请使用P670作为限定符', 'literal'],\n",
       " ['道路方式の住所表記に、住居番号 (P670)を修飾子に組み合わせて使用します。', 'literal'],\n",
       " ['vērtībām nevajadzētu izmantot nozīmju atdalīšanas lapas vai uzvārdus',\n",
       "  'literal'],\n",
       " [\"values used with the property shouldn't link disambiguations nor family names\",\n",
       "  'literal'],\n",
       " ['значення, що використовуються з властивістю, не повинні посилатися на сторінки значень і прізвища',\n",
       "  'literal'],\n",
       " ['يجب ألَّا ترتبط القيمة المُستخدمة لهذه الخاصيَّة بصفحات توضيح أو صفحات اسم عائلة',\n",
       "  'literal'],\n",
       " ['此属性不应链接到消歧义页及姓氏项', 'literal'],\n",
       " ['elementer som bruker dette emnet skal ikke  brukes for andre betydninger eller familienavn',\n",
       "  'literal'],\n",
       " ['треба використовувати як кваліфікатор для \"розпадається на\" (P816)',\n",
       "  'literal'],\n",
       " ['should be used as a qualifier for \\\\decays to\\\\\" [[Property:P816]]\"',\n",
       "  'literal'],\n",
       " ['doit être utilisé comme qualificatif pour \"se désintègre spontanément en\" ( P816)',\n",
       "  'literal'],\n",
       " ['Kan brukes som kvalifikator for \\\\tildelte  utmerkelser\\\\ i  [[Egenskap:P166]] for personer eller organisasjoner',\n",
       "  'literal'],\n",
       " ['Can be used in statements on items that describe awards or titles',\n",
       "  'literal'],\n",
       " ['Kan brukes som  påstand for egenskaper som beskriver utmerkelser eller titler',\n",
       "  'literal'],\n",
       " ['For authority control (authors, works etc.) please use the property [https://www.wikidata.org/wiki/Property:P269 SUDOC authorities (P269)]',\n",
       "  'literal'],\n",
       " ['Can be used as qualifier for \\\\award received\\\\\" [[Property:P166]] for persons or organisation\"',\n",
       "  'literal'],\n",
       " ['לשימוש בקביעות על פריטים המתארים פרס או תואר', 'literal'],\n",
       " ['לשימוש כמבחין במאפיין P166 - \"מוענק על ידי\" לאדם או לאירגון', 'literal'],\n",
       " ['P1387 (political alignment) indicates general position in the political spectrum, whereas P1142 (political ideology) links to an arbitrary ideology which may be more specific.',\n",
       "  'literal'],\n",
       " ['Moon', 'literal'],\n",
       " ['For a conviction that was subsequently reversed, mark as deprecated rank (with deprecation reason {{Q|Q5420623}}), and also add {{P|P7781}}.',\n",
       "  'literal'],\n",
       " ['note the separate item for the (German) female given name', 'literal'],\n",
       " ['Pode ser usado para qualquer série lógica; os valores podem incluir, por exemplo, 6; 3,5; 1b; 3-6; C4. Deve ser usado somente para séries em que todos os elementos tenham valor igual ou semelhante; use \"classificação\" (P1352) para indicar a classificação (valor / importância...) dos elementos que requerem ordenação.',\n",
       "  'literal'],\n",
       " ['Can be used for any logical series; values can include e.g. 6; 3.5; 1b; 3–6; C4. Should be used only for series where all elements have equal or similar value; use \"ranking\" (P1352) to indicate the rank (value/importance...) of elements requiring gradation.',\n",
       "  'literal'],\n",
       " ['可用于任意逻辑序列；值可以包括例如6；3.5；1b；3~6；C4。只应用于所有元素拥有相同或类似值的系列；使用“排名”（P1352）指明要求阶段元素的排序（值/重要度...）',\n",
       "  'literal'],\n",
       " ['note the item for the female given name', 'literal'],\n",
       " ['See also \"mascot character\", Q386208', 'literal'],\n",
       " ['Voir aussi \"personnage de mascotte\" (Q386208)', 'literal'],\n",
       " ['equal to [[Special:TrackingCategories]]', 'literal'],\n",
       " ['Equivalent to Q30 for alternate-script articles in multiple-script languages. Please do not add a link here unless your wiki already has an article listed at Q30',\n",
       "  'literal'],\n",
       " ['For use with source indicator P459 when adding statements with P735',\n",
       "  'literal'],\n",
       " ['for humans use Q21070568', 'literal'],\n",
       " ['Usar con unidá de tiempu; por casu, «añu» (Q577)', 'literal'],\n",
       " ['À utiliser avec une unité de temps tel que « année » (Q577).', 'literal'],\n",
       " [\"Використовувати з одиницею часу, наприклад, 'рік' (Q577)\", 'literal'],\n",
       " ['Incluír unidade de tempo, por exemplo «ano» (Q577)', 'literal'],\n",
       " ['Benutzung mit Zeiteinheit, bspw. „Jahr“ (Q577)', 'literal'],\n",
       " ['Incluir unidad de tiempo, p. ej. «año» (Q577)', 'literal'],\n",
       " ['Use with unit of time, sample: year (Q577).', 'literal'],\n",
       " ['Использовать с некоторым количеством времени, например, 1 год.', 'literal'],\n",
       " ['使用时间单位，例如年（Q577）', 'literal'],\n",
       " ['use as value for P2302 (property constraint)', 'literal'],\n",
       " ['úsese como valor para P2302 (restricción de propiedad)', 'literal'],\n",
       " ['úsese como valor para P2302 (restrición de propiedade)', 'literal'],\n",
       " ['用作P2302（属性约束）的值', 'literal'],\n",
       " ['preferably use sub-properties', 'literal'],\n",
       " ['utiliser de préférence des sous-propriétés', 'literal'],\n",
       " ['vorzugsweise Untereigenschaften verwenden', 'literal'],\n",
       " ['és preferible emprar alguna de les subpropietats', 'literal'],\n",
       " ['\"#\" চিহ্ন যোগ করবেন না', 'literal'],\n",
       " ['do not include the \"#\" symbol', 'literal'],\n",
       " ['ne aldonu la simbolon \"#\"', 'literal'],\n",
       " ['ne pas inclure le symbole #', 'literal'],\n",
       " ['nie dodawaj symbolu \"#\"', 'literal'],\n",
       " ['nie poprzedzaj znakiem \"#\"', 'literal'],\n",
       " ['no incluir el símbolo «#»', 'literal'],\n",
       " ['non aggiungere il simbolo \"#\"', 'literal'],\n",
       " ['non incluír o símbolo «#»', 'literal'],\n",
       " [\"não adicionar o símbolo '#'\", 'literal'],\n",
       " ['ohne Doppelkreuz (#)', 'literal'],\n",
       " ['tanda pagar tidak perlu disertakan', 'literal'],\n",
       " ['undlad at inkludere \"#\" symbolet', 'literal'],\n",
       " ['zonder het #-teken', 'literal'],\n",
       " ['не дадаваць сыбмаль \"#\"', 'literal'],\n",
       " ['не додавати символ \"#\"', 'literal'],\n",
       " ['シャープ記号を含めてはいけません', 'literal'],\n",
       " ['請勿包含井號「#」', 'literal'],\n",
       " ['请不要包含井号“#”', 'literal'],\n",
       " ['This identifier should NOT be used on items about singles or songs',\n",
       "  'literal'],\n",
       " ['This property should be used on items representing musical artists, musical compositions or audio tracks. For musical compositions with more than one identifier (i.e. with cover versions), the original should have preferred rank.',\n",
       "  'literal'],\n",
       " ['P2668 için bir değer olarak kullanılır.', 'literal'],\n",
       " ['a usar como valor pa P2668', 'literal'],\n",
       " ['a usar como valor para P2668', 'literal'],\n",
       " ['a usar como valor para P2668', 'literal'],\n",
       " ['als Wert für P2668 verwenden', 'literal'],\n",
       " ['als waarde voor P2668 gebruiken', 'literal'],\n",
       " ['de folosit ca valoare pentru P2668 (română)', 'literal'],\n",
       " ['for brug med P2668', 'literal'],\n",
       " ['for bruk med P2668', 'literal'],\n",
       " ['to be used as a value for P2668', 'literal'],\n",
       " ['à utiliser comme valeur pour P2668', 'literal'],\n",
       " ['χρησιμοποιείται ως τιμή για την ιδιότητα P2668', 'literal'],\n",
       " ['用作P2668的值', 'literal'],\n",
       " ['use qualifiers for specialized VAT-rates', 'literal'],\n",
       " ['使用限定符“适用部分”（P518）来指定某一值适用于某一性别还是两性。', 'literal'],\n",
       " ['Use qualifier \"applies to part\" (P518), to specify if it applies only to males (Q6581097), females (Q6581072) or both genders (Q27177113).',\n",
       "  'literal'],\n",
       " [\"Utiliser un qualificateur si l'âge dépend du sexe.\", 'literal'],\n",
       " ['das qualifizierte Team oder die qualifizierte Person kann mittels P1346 hinzugefügt werden',\n",
       "  'literal'],\n",
       " ['감독(P57), 촬영 감독(P344), 출연한 배우(P161)처럼 특정 역할을 다룬 속성이 있는 경우 이 속성에 쓰지마시고 그 속성을 쓰세요.',\n",
       "  'literal'],\n",
       " ['η προκριθείσα ομάδα ή το προκριθέντα άτομο μπορεί να προστεθεί με τη χρήση της ιδιότητας P1346',\n",
       "  'literal'],\n",
       " ['the qualified team or person can be added using P1346', 'literal'],\n",
       " ['use the most specific item which can be sourced', 'literal'],\n",
       " ['Use only when the subject\\'s full \"date of birth\" (P569) isn\\'t known.',\n",
       "  'literal'],\n",
       " ['Usar solamente cuando la «fecha de nacimiento» (P569) es desconocida',\n",
       "  'literal'],\n",
       " ['Csak akkor használandó, amikor a teljes születési dátum (P569) nem ismert.',\n",
       "  'literal'],\n",
       " ['Nur zu benutzen, wenn das vollständige Geburtsdatum (P569) mit Jahr nicht bekannt ist.',\n",
       "  'literal'],\n",
       " ['gunakan hanya apabila tarikh lengkap hari kelahiran tidak diketahui',\n",
       "  'literal'],\n",
       " ['Usar soamente cando a «data de nacemento» (P569) é descoñecida.',\n",
       "  'literal'],\n",
       " ['Використовувати лише тоді, коли повна \"дата народження\" (P569) суб\\'єкта невідома.',\n",
       "  'literal'],\n",
       " ['태어난 연도가 없거나 기록되지 않은 인물에 한해 사용하는 속성입니다. 태어난 연도가 있는 경우 P569(태어난 날)을 대신 사용해 주세요.',\n",
       "  'literal'],\n",
       " ['Hanya gunakan jika \"tanggal lahir\" (P569) subjek tidak diketahui',\n",
       "  'literal'],\n",
       " ['element stosowany jako wartość dla kwalifikatora P1480', 'literal'],\n",
       " ['please add article URL', 'literal']]"
      ]
     },
     "execution_count": 6,
     "metadata": {},
     "output_type": "execute_result"
    }
   ],
   "source": [
    "batch1 = json.load(open(f'{path_to_batches}/{unprocessed_batches[0]}'))\n",
    "batch1"
   ]
  },
  {
   "cell_type": "code",
   "execution_count": 7,
   "metadata": {},
   "outputs": [
    {
     "data": {
      "text/plain": [
       "313"
      ]
     },
     "execution_count": 7,
     "metadata": {},
     "output_type": "execute_result"
    }
   ],
   "source": [
    "def get_erroneuos_lits(batch):\n",
    "    illegal_terms = []\n",
    "    for i in batch:\n",
    "        if i[1] == \"literal\":\n",
    "            query1 = f\"\"\"SELECT * WHERE {{ ?s ?p \\\"{i[0]}\\\"}}\"\"\"\n",
    "        else:\n",
    "            query1 = f\"\"\"SELECT * WHERE {{ ?s ?p {i[0]}}}\"\"\"\n",
    "        try:\n",
    "            parser.parseQuery(query1)\n",
    "        except Exception:\n",
    "            illegal_terms.append(i)\n",
    "    return illegal_terms\n",
    "illegal_lits = []\n",
    "for i in unprocessed_batches:\n",
    "    batch_i = json.load(open(f'{path_to_batches}/{i}'))\n",
    "    illegal_lits.extend(get_erroneuos_lits(batch_i))\n",
    "    \n",
    "len(illegal_lits)"
   ]
  },
  {
   "cell_type": "code",
   "execution_count": 10,
   "metadata": {},
   "outputs": [
    {
     "data": {
      "text/plain": [
       "[['Avoid using with \"relative\" (P1038), use \"sibling\" (P3373) instead.',\n",
       "  'literal'],\n",
       " ['Usa \"destinazione terminale\" (P5051) per i servizi di trasporto pubblico anziché \"direzione\"',\n",
       "  'literal'],\n",
       " ['Usar \"towards\" (P5051) en lugar de esta propiedad para indicar la estación terminal en la dirección de la estación adyacente',\n",
       "  'literal'],\n",
       " ['Use \"towards\" (P5051) instead to indicate the terminal station in the direction of an adjacent station.',\n",
       "  'literal'],\n",
       " ['Utilisez plutôt \"vers\" (P5051) pour indiquer la station terminale en direction d\\'une station adjacente.',\n",
       "  'literal']]"
      ]
     },
     "execution_count": 10,
     "metadata": {},
     "output_type": "execute_result"
    }
   ],
   "source": [
    "illegal_lits[:5]"
   ]
  },
  {
   "cell_type": "code",
   "execution_count": 11,
   "metadata": {},
   "outputs": [
    {
     "data": {
      "text/plain": [
       "313"
      ]
     },
     "execution_count": 11,
     "metadata": {},
     "output_type": "execute_result"
    }
   ],
   "source": [
    "len(illegal_lits)"
   ]
  },
  {
   "cell_type": "code",
   "execution_count": 12,
   "metadata": {},
   "outputs": [
    {
     "ename": "NameError",
     "evalue": "name 'query1' is not defined",
     "output_type": "error",
     "traceback": [
      "\u001b[0;31m---------------------------------------------------------------------------\u001b[0m",
      "\u001b[0;31mNameError\u001b[0m                                 Traceback (most recent call last)",
      "Cell \u001b[0;32mIn[12], line 1\u001b[0m\n\u001b[0;32m----> 1\u001b[0m parser\u001b[38;5;241m.\u001b[39mparseQuery(\u001b[43mquery1\u001b[49m)\n",
      "\u001b[0;31mNameError\u001b[0m: name 'query1' is not defined"
     ]
    }
   ],
   "source": [
    "parser.parseQuery(query1)"
   ]
  },
  {
   "cell_type": "code",
   "execution_count": 49,
   "metadata": {},
   "outputs": [
    {
     "data": {
      "text/plain": [
       "'perty:P816]]\"\")(\"doit être utilisé comme qualificatif pour \"se désintègre spontanément en\" ( P816)\")(\"Kan brukes som kvalifikator for \\tildelte  utmerkelser\\\\ i  [[Egenskap:P166]] for personer eller organisasjoner\")(\"Can be used in statements on items that describe awards or titles\")(\"Kan brukes som  påstand for egenskaper som beskriver utmerkelser eller titler\")(\"For authority control (authors, works etc.) please use the property [https://www.wikidata.org/wiki/Property:P269 SUDOC authorities (P269)]\")(\"Can be used as qualifier for \\x07ward received\\\\\" [[Property:P166]] for persons or organisation\"\")(\"לשימוש בקביעות על פריטים המתארים פרס או תואר\")(\"לשימוש כמבחין במאפיין P166 - \"מוענק על ידי\" לאדם או לאירגון\")(\"P1387 (political alignment) indicates general position in the political spectrum, whereas P1142 (political ideology) links to an arbitrary ideology which may be more specific.\")(\"Moon\")(\"For a conviction that was subsequently reversed, mark as deprecated rank (with deprecation reason {{Q|Q5420623}}), and also add {{P|P7781}}.\")(\"note the separate item for the (German) female given name\")(\"Pode ser usado para qualquer série lógica; os valores podem incluir, por exemplo, 6; 3,5; 1b; 3-6; C4. Deve ser usado somente para séries em que todos os elementos tenham valor igual ou semelhante; use \"classificação\" (P1352) para indicar a classificação (valor / importância...) dos elementos que requerem ordenação.\")(\"Can be used for any logical series; values can include e.g. 6; 3.5; 1b; 3–6; C4. Should be used only for series where all elements have equal or similar value; use \"ranking\" (P1352) to indicate the rank (value/importance...) of elements requiring gradation.\")(\"可用于任意逻辑序列；值可以包括例如6；3.5；1b；3~6；C4。只应用于所有元素拥有相同或类似值的系列；使用“排名”（P1352）指明要求阶段元素的排序（值/重要度...）\")(\"note the item for the female given name\")(\"See also \"mascot character\", Q386208\")(\"Voir aussi \"personnage de mascotte\" (Q386208)\")(\"equal to [[Special:TrackingCategories]]\")(\"Equivalent to Q30 for alternate-script articles in multiple-script languages. Please do not add a link here unless your wiki already has an article listed at Q30\")(\"For use with source indicator P459 when adding statements with P735\")(\"for humans use Q21070568\")(\"Usar con unidá de tiempu; por casu, «añu» (Q577)\")(\"À utiliser avec une unité de temps tel que « année » (Q577).\")(\"Використовувати з одиницею часу, наприклад, \\'рік\\' (Q577)\")(\"Incluír unidade de tempo, por exemplo «ano» (Q577)\")(\"Benutzung mit Zeiteinheit, bspw. „Jahr“ (Q577)\")(\"Incluir unidad de tiempo, p. ej. «año» (Q577)\")(\"Use with unit of time, sample: year (Q577).\")(\"Использовать с некоторым количеством времени, например, 1 год.\")(\"使用时间单位，例如年（Q577）\")(\"use as value for P2302 (property constraint)\")(\"úsese como valor para P2302 (restricción de propiedad)\")(\"úsese como valor para P2302 (restrición de propiedade)\")(\"用作P2302（属性约束）的值\")(\"preferably use sub-properties\")(\"utiliser de préférence des sous-propriétés\")(\"vorzugsweise Untereigenschaften verwenden\")(\"és preferible emprar alguna de les subpropietats\")(\"\"#\" চিহ্ন যোগ করবেন না\")(\"do not include the \"#\" symbol\")(\"ne aldonu la simbolon \"#\"\")(\"ne pas inclure le symbole #\")(\"nie dodawaj symbolu \"#\"\")(\"nie poprzedzaj znakiem \"#\"\")(\"no incluir el símbolo «#»\")(\"non aggiungere il simbolo \"#\"\")(\"non incluír o símbolo «#»\")(\"não adicionar o símbolo \\'#\\'\")(\"ohne Doppelkreuz (#)\")(\"tanda pagar tidak perlu disertakan\")(\"undlad at inkludere \"#\" symbolet\")(\"zonder het #-teken\")(\"не дадаваць сыбмаль \"#\"\")(\"не додавати символ \"#\"\")(\"シャープ記号を含めてはいけません\")(\"請勿包含井號「#」\")(\"请不要包含井号“#”\")(\"This identifier should NOT be used on items about singles or songs\")(\"This property should be used on items representing musical artists, musical compositions or audio tracks. For musical compositions with more than one identifier (i.e. with cover versions), the original should have preferred rank.\")(\"P2668 için bir değer olarak kullanılır.\")(\"a usar como valor pa P2668\")(\"a usar como valor para P2668\")(\"a usar como valor para P2668\")(\"als Wert für P2668 verwenden\")(\"als waarde voor P2668 gebruiken\")(\"de folosit ca valoare pentru P2668 (română)\")(\"for brug med P2668\")(\"for bruk med P2668\")(\"to be used as a value for P2668\")(\"à utiliser comme valeur pour P2668\")(\"χρησιμοποιείται ως τιμή για την ιδιότητα P2668\")(\"用作P2668的值\")(\"use qualifiers for specialized VAT-rates\")(\"使用限定符“适用部分”（P518）来指定某一值适用于某一性别还是两性。\")(\"Use qualifier \"applies to part\" (P518), to specify if it applies only to males (Q6581097), females (Q6581072) or both genders (Q27177113).\")(\"Utiliser un qualificateur si l\\'âge dépend du sexe.\")(\"das qualifizierte Team oder die qualifizierte Person kann mittels P1346 hinzugefügt werden\")(\"감독(P57), 촬영 감독(P344), 출연한 배우(P161)처럼 특정 역할을 다룬 속성이 있는 경우 이 속성에 쓰지마시고 그 속성을 쓰세요.\")(\"η προκριθείσα ομάδα ή το προκριθέντα άτομο μπορεί να προστεθεί με τη χρήση της ιδιότητας P1346\")(\"the qualified team or person can be added using P1346\")(\"use the most specific item which can be sourced\")(\"Use only when the subject\\'s full \"date of birth\" (P569) isn\\'t known.\")(\"Usar solamente cuando la «fecha de nacimiento» (P569) es desconocida\")(\"Csak akkor használandó, amikor a teljes születési dátum (P569) nem ismert.\")(\"Nur zu benutzen, wenn das vollständige Geburtsdatum (P569) mit Jahr nicht bekannt ist.\")(\"gunakan hanya apabila tarikh lengkap hari kelahiran tidak diketahui\")(\"Usar soamente cando a «data de nacemento» (P569) é descoñecida.\")(\"Використовувати лише тоді, коли повна \"дата народження\" (P569) суб\\'єкта невідома.\")(\"태어난 연도가 없거나 기록되지 않은 인물에 한해 사용하는 속성입니다. 태어난 연도가 있는 경우 P569(태어난 날)을 대신 사용해 주세요.\")(\"Hanya gunakan jika \"tanggal lahir\" (P569) subjek tidak diketahui\")(\"element stosowany jako wartość dla kwalifikatora P1480\")(\"please add article URL\")}'"
      ]
     },
     "execution_count": 49,
     "metadata": {},
     "output_type": "execute_result"
    }
   ],
   "source": [
    "\n",
    "test = \"\"\"\n",
    "SELECT ?e (COUNT( *) AS ?entities) WHERE {\n",
    "            VALUES (?e) { (\"568030\")(\"139460\")(\"302530\")(\"970820\")(\"553640\")(\"554500\")(\"575900\")(\"575390\")(\"585450\")(\"558605\")(\"881310\")(\"573240\")(\"585850\")(\"587575\")(\"611920\")(\"569795\")(\"538230\")(\"275855\")(\"662870\")(\"768150\")(\"575370\")(\"396032\")(\"561575\")(\"988430\")(\"964975\")(\"371360\")(\"920230\")(\"566650\")(\"772645\")(\"702905\")(\"921855\")(\"605075\")(\"517480\")(\"987975\")(\"579130\")(\"pour le président d'une organisation, utilisez Q1255921\")(\"for the president of an organization, use Q1255921\")(\"组织的最高领导人请改用Q1255921\")(\"植物の属名はQ2309085、代表的な栽培種はQ1135236を使用。\")(\"Use Q16039690 for the London Underground station\")(\"伦敦地铁车站请使用Q16039690\")(\"倫敦地鐵車站請使用Q16039690\")(\"for Maria as a male name see Q25413386\")(\"Avoid using with \\\"relative\\\" (P1038), use \\\"sibling\\\" (P3373) instead.\")(\"note the item for the (Italian) male given name\")(\"Use Q795322 for the London Underground station\")(\"伦敦地铁车站请使用Q795322\")(\"倫敦地鐵車站請使用Q795322\")(\"Use Q3090826 for the London Underground station\")(\"伦敦地铁车站请使用Q3090826\")(\"倫敦地鐵車站請使用Q3090826\")(\"只用于性别属性P21\")(\"brukes som verdi for P106 beskjeftigelse\")(\"do not move identifiers that don't disambiguate the two persons to an arbitrary item\")(\"Ange församling/distrikt om möjligt där personen föds\")(\"가장 구체적인 장소만 값으로 기재합니다. 즉, 태어난 도시만 알려졌으면 해당 도시 항목을 입력하지만, 태어난 병원이나 장소도 알려졌으면 도시 대신 해당 병원/장소 항목을 값으로 입력합니다.\")(\"Solmente le entitate territorial administrative le plus local debe esser specificate, sed per favor verifica que ille entitate etiam ha un P131 que indica le proxime nivello superior.\")(\"Det er kun den laveste administrative enhed som skal angives. Men enheden over skal også have en værdi for P131.\")(\"Vous avez seulement besoin d'ajouter l'entité administrative juste au dessus et vérifier que celle ci est bien elle aussi reliée au-dessus par P131\")(\"이 속성을 추가할 땐 가장 낮은 단계의 행정 구역 항목만 추가하세요. 그 항목이 이 P131을 가지고 있는지, 계속 P131의 항목을 거슬러 올라가다보면 최상위 행정 구역 항목이 나오는지도 확인해주세요. 또한, 행정 구역이 아닌 값을 쓰고 싶거나, 사건이 일어난 장소를 쓰고 싶다면 '위치'(P276) 속성을 대신 써주세요.\")(\"só se precisa achegar a entidade territorial inmediatamente superior, pero é necesario verificar que o elemento co que se liga xa estea ben ligado á súa vez co nivel inmediatamente superior facendo uso da propiedade P131\")(\"您只需要添加管理相關項的最低級行政單位，但請確保作為值的項也擁有P131，且連結到上級行政單位項中。\")(\"Es sollte nur die unterste Verwaltungsebene angegeben werden, diese sollte aber per P131 mit der nächst höheren Ebene verknüpft sein. Für statistische Gebietseinheiten P276 verwenden.\")(\"該当する中で最も詳細な行政区画の項目のみを指定します。その際、指定した項目が当プロパティP131を有していることを、繰り返し確認してください（町字→町村→郡→都道府県、町字→行政区→政令市→道府県など）。\")(\"Додайте найбільш локальну адміністративну територію (території), але переконайтесь, що той елемент також має P131, і т.д.\")(\"sólo se debe añadir la  entidad territorial más local, pero compruebe que ese elemento también tiene un P131, con el siguiente nivel, y así sucesivamente.\")(\"Anda hanya perlu menambahkan wilayah paling kecil, namun harap cek apakah butir tersebut juga mempunyai atribut P131 untuk tingkat wilayah berikutnya, dan begitu seterusnya\")(\"Stačí vyplnit administrativní jednotku nejnižší vyšší úrovně, ujistěte se však, že i tato jednotka má řádně vyplněnu vlastnost P131,\")(\"Alleen de laagste bestuurlijke eenheid toevoegen; en ervoor zorg dragen dat dit item ook een P131 bevat zodat er een correcte reeks ontstaat.\")(\"Add the most local admin territory/territories, but check that item also has a P131, with the next level, and so on.\")(\"Det er kun den laveste administrative enheten som skal angis. Men enheten over skal også ha verdi  for  P131.\")(\"您只需要添加管理相关项的最低级行政单位，但请确保作为值的项也拥有P131，且连接到上级行政单位项中。\")(\"Wystarczy dodać jednostkę najniższego rzędu (miejscowość lub jej część), ale upewnij się, że posiada ona zdefiniowaną właściwość P131 (jednostkę wyższego rzędu).\")(\"You only need to add the most local admin territory, but check that item also has a P131, with the next level, and so on.\")(\"For building and structures, rather use architect (P84) or structural engineer (P631).\")(\"Bruker betydningsfull hendelse P793 som verdi\")(\"usar cola propiedá P21 sexu o xéneru. Pa grupos masculinos usar con subclase de (P279)\")(\"usar con la propiedad P21 sexo o género. Para grupos masculinos usar con subclase de (P279)\")(\"use with Property:P21 sex or gender. For groups of males use with subclass of (P279)\")(\"与属性P21（性别）一起使用。一群男性的情况请改用上级分类（P279）\")(\"usar coa propiedade P21 sexo.Para grupos masculinos usar coa subclase de (P279)\")(\"template for articles under construction in the article namespace, but it welcomes everybody to edit as well (compare with Q5617064)\")(\"根據各站業務量，營運進款、客運業務、貨運業務、運轉及行車業務及其他因素分別評分，按總分數多寡核定等級。車站等級查定標準每五年調整乙次為原則，查定分數高於51分者升等。\")(\"Gebruik dit niet voor claims, gebruik Q2039348 met een begindatum en een einddatum.\")(\"Don't use this for claims, use Q2039348 with a start time and an end time.\")(\"Usa \\\"destinazione terminale\\\" (P5051) per i servizi di trasporto pubblico anziché \\\"direzione\\\"\")(\"相邻车站方向的终点站请改用“行车方向”（P5051）\")(\"Usar \\\"towards\\\" (P5051) en lugar de esta propiedad para indicar la estación terminal en la dirección de la estación adyacente\")(\"Use \\\"towards\\\" (P5051) instead to indicate the terminal station in the direction of an adjacent station.\")(\"終着駅を隣接駅の方向として示す場合は、「方面」（P5051）を使用してください。\")(\"Utilisez plutôt \\\"vers\\\" (P5051) pour indiquer la station terminale en direction d'une station adjacente.\")(\"相鄰車站方向的終點站請改用「行車方向」（P5051）\")(\"Should not be used for claims in enzyme items.\")(\"to add a street number, use P670 as qualifier\")(\"użyj kwalifikatora P670, aby dodać numer domu\")(\"Pour ajouter le numéro, utiliser P670 (numéro de voirie) en qualificateur\")(\"für die Hausnummer, verwende P670 als Qualifikator\")(\"要添加街道数，请使用P670作为限定符\")(\"道路方式の住所表記に、住居番号 (P670)を修飾子に組み合わせて使用します。\")(\"vērtībām nevajadzētu izmantot nozīmju atdalīšanas lapas vai uzvārdus\")(\"values used with the property shouldn't link disambiguations nor family names\")(\"значення, що використовуються з властивістю, не повинні посилатися на сторінки значень і прізвища\")(\"يجب ألَّا ترتبط القيمة المُستخدمة لهذه الخاصيَّة بصفحات توضيح أو صفحات اسم عائلة\")(\"此属性不应链接到消歧义页及姓氏项\")(\"elementer som bruker dette emnet skal ikke  brukes for andre betydninger eller familienavn\")(\"треба використовувати як кваліфікатор для \\\"розпадається на\\\" (P816)\")(\"should be used as a qualifier for \\decays to\\\\\" [[Property:P816]]\\\"\")(\"doit être utilisé comme qualificatif pour \\\"se désintègre spontanément en\\\" ( P816)\")(\"Kan brukes som kvalifikator for \\tildelte  utmerkelser\\ i  [[Egenskap:P166]] for personer eller organisasjoner\")(\"Can be used in statements on items that describe awards or titles\")(\"Kan brukes som  påstand for egenskaper som beskriver utmerkelser eller titler\")(\"For authority control (authors, works etc.) please use the property [https://www.wikidata.org/wiki/Property:P269 SUDOC authorities (P269)]\")(\"Can be used as qualifier for \\award received\\\\\" [[Property:P166]] for persons or organisation\\\"\")(\"לשימוש בקביעות על פריטים המתארים פרס או תואר\")(\"לשימוש כמבחין במאפיין P166 - \\\"מוענק על ידי\\\" לאדם או לאירגון\")(\"P1387 (political alignment) indicates general position in the political spectrum, whereas P1142 (political ideology) links to an arbitrary ideology which may be more specific.\")(\"Moon\")(\"For a conviction that was subsequently reversed, mark as deprecated rank (with deprecation reason {{Q|Q5420623}}), and also add {{P|P7781}}.\")(\"note the separate item for the (German) female given name\")(\"Pode ser usado para qualquer série lógica; os valores podem incluir, por exemplo, 6; 3,5; 1b; 3-6; C4. Deve ser usado somente para séries em que todos os elementos tenham valor igual ou semelhante; use \\\"classificação\\\" (P1352) para indicar a classificação (valor / importância...) dos elementos que requerem ordenação.\")(\"Can be used for any logical series; values can include e.g. 6; 3.5; 1b; 3–6; C4. Should be used only for series where all elements have equal or similar value; use \\\"ranking\\\" (P1352) to indicate the rank (value/importance...) of elements requiring gradation.\")(\"可用于任意逻辑序列；值可以包括例如6；3.5；1b；3~6；C4。只应用于所有元素拥有相同或类似值的系列；使用“排名”（P1352）指明要求阶段元素的排序（值/重要度...）\")(\"note the item for the female given name\")(\"See also \\\"mascot character\\\", Q386208\")(\"Voir aussi \\\"personnage de mascotte\\\" (Q386208)\")(\"equal to [[Special:TrackingCategories]]\")(\"Equivalent to Q30 for alternate-script articles in multiple-script languages. Please do not add a link here unless your wiki already has an article listed at Q30\")(\"For use with source indicator P459 when adding statements with P735\")(\"for humans use Q21070568\")(\"Usar con unidá de tiempu; por casu, «añu» (Q577)\")(\"À utiliser avec une unité de temps tel que « année » (Q577).\")(\"Використовувати з одиницею часу, наприклад, 'рік' (Q577)\")(\"Incluír unidade de tempo, por exemplo «ano» (Q577)\")(\"Benutzung mit Zeiteinheit, bspw. „Jahr“ (Q577)\")(\"Incluir unidad de tiempo, p. ej. «año» (Q577)\")(\"Use with unit of time, sample: year (Q577).\")(\"Использовать с некоторым количеством времени, например, 1 год.\")(\"使用时间单位，例如年（Q577）\")(\"use as value for P2302 (property constraint)\")(\"úsese como valor para P2302 (restricción de propiedad)\")(\"úsese como valor para P2302 (restrición de propiedade)\")(\"用作P2302（属性约束）的值\")(\"preferably use sub-properties\")(\"utiliser de préférence des sous-propriétés\")(\"vorzugsweise Untereigenschaften verwenden\")(\"és preferible emprar alguna de les subpropietats\")(\"\\\"#\\\" চিহ্ন যোগ করবেন না\")(\"do not include the \\\"#\\\" symbol\")(\"ne aldonu la simbolon \\\"#\\\"\")(\"ne pas inclure le symbole #\")(\"nie dodawaj symbolu \\\"#\\\"\")(\"nie poprzedzaj znakiem \\\"#\\\"\")(\"no incluir el símbolo «#»\")(\"non aggiungere il simbolo \\\"#\\\"\")(\"non incluír o símbolo «#»\")(\"não adicionar o símbolo '#'\")(\"ohne Doppelkreuz (#)\")(\"tanda pagar tidak perlu disertakan\")(\"undlad at inkludere \\\"#\\\" symbolet\")(\"zonder het #-teken\")(\"не дадаваць сыбмаль \\\"#\\\"\")(\"не додавати символ \\\"#\\\"\")(\"シャープ記号を含めてはいけません\")(\"請勿包含井號「#」\")(\"请不要包含井号“#”\")(\"This identifier should NOT be used on items about singles or songs\")(\"This property should be used on items representing musical artists, musical compositions or audio tracks. For musical compositions with more than one identifier (i.e. with cover versions), the original should have preferred rank.\")(\"P2668 için bir değer olarak kullanılır.\")(\"a usar como valor pa P2668\")(\"a usar como valor para P2668\")(\"a usar como valor para P2668\")(\"als Wert für P2668 verwenden\")(\"als waarde voor P2668 gebruiken\")(\"de folosit ca valoare pentru P2668 (română)\")(\"for brug med P2668\")(\"for bruk med P2668\")(\"to be used as a value for P2668\")(\"à utiliser comme valeur pour P2668\")(\"χρησιμοποιείται ως τιμή για την ιδιότητα P2668\")(\"用作P2668的值\")(\"use qualifiers for specialized VAT-rates\")(\"使用限定符“适用部分”（P518）来指定某一值适用于某一性别还是两性。\")(\"Use qualifier \\\"applies to part\\\" (P518), to specify if it applies only to males (Q6581097), females (Q6581072) or both genders (Q27177113).\")(\"Utiliser un qualificateur si l'âge dépend du sexe.\")(\"das qualifizierte Team oder die qualifizierte Person kann mittels P1346 hinzugefügt werden\")(\"감독(P57), 촬영 감독(P344), 출연한 배우(P161)처럼 특정 역할을 다룬 속성이 있는 경우 이 속성에 쓰지마시고 그 속성을 쓰세요.\")(\"η προκριθείσα ομάδα ή το προκριθέντα άτομο μπορεί να προστεθεί με τη χρήση της ιδιότητας P1346\")(\"the qualified team or person can be added using P1346\")(\"use the most specific item which can be sourced\")(\"Use only when the subject's full \\\"date of birth\\\" (P569) isn't known.\")(\"Usar solamente cuando la «fecha de nacimiento» (P569) es desconocida\")(\"Csak akkor használandó, amikor a teljes születési dátum (P569) nem ismert.\")(\"Nur zu benutzen, wenn das vollständige Geburtsdatum (P569) mit Jahr nicht bekannt ist.\")(\"gunakan hanya apabila tarikh lengkap hari kelahiran tidak diketahui\")(\"Usar soamente cando a «data de nacemento» (P569) é descoñecida.\")(\"Використовувати лише тоді, коли повна \\\"дата народження\\\" (P569) суб'єкта невідома.\")(\"태어난 연도가 없거나 기록되지 않은 인물에 한해 사용하는 속성입니다. 태어난 연도가 있는 경우 P569(태어난 날)을 대신 사용해 주세요.\")(\"Hanya gunakan jika \\\"tanggal lahir\\\" (P569) subjek tidak diketahui\")(\"element stosowany jako wartość dla kwalifikatora P1480\")(\"please add article URL\")}\n",
    "        ?s ?p2 ?e .\n",
    "        }\n",
    "        GROUP BY ?e\n",
    "\"\"\"\n",
    "line_no = 2\n",
    "columns = 6218\n",
    "test.splitlines()[line_no][columns:]"
   ]
  },
  {
   "cell_type": "code",
   "execution_count": 46,
   "metadata": {},
   "outputs": [
    {
     "name": "stdout",
     "output_type": "stream",
     "text": [
      "(\"should be used as a qualifier for \\decays to\\\" [[Property:P816]]\"\")\n"
     ]
    }
   ],
   "source": [
    "test = '(\"should be used as a qualifier for \\decays to\\\\\" [[Property:P816]]\\\"\")'\n",
    "print(test.replace('\\\\\\\\', '\\\\'))"
   ]
  },
  {
   "cell_type": "code",
   "execution_count": null,
   "metadata": {},
   "outputs": [],
   "source": []
  }
 ],
 "metadata": {
  "kernelspec": {
   "display_name": "Python 3 (ipykernel)",
   "language": "python",
   "name": "python3"
  },
  "language_info": {
   "codemirror_mode": {
    "name": "ipython",
    "version": 3
   },
   "file_extension": ".py",
   "mimetype": "text/x-python",
   "name": "python",
   "nbconvert_exporter": "python",
   "pygments_lexer": "ipython3",
   "version": "3.10.12"
  }
 },
 "nbformat": 4,
 "nbformat_minor": 4
}
